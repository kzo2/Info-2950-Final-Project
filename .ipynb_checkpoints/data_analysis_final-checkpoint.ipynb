{
 "cells": [
  {
   "cell_type": "markdown",
   "metadata": {},
   "source": [
    "<h1> Has Quarantine Changed Our Queues? </h1>\n",
    "Understanding the impact of COVID-19 Quarantine on our Spotify streaming <br>\n",
    "\n",
    " ANDERS JENSEN, Cornell University <br> \n",
    " KAELA OLSEN, Cornell University <br>\n",
    "\n",
    "<h4> May 22nd, 2020 <br>\n",
    "Info 2950: Intro to Data Science </h4>"
   ]
  },
  {
   "cell_type": "markdown",
   "metadata": {},
   "source": [
    "<h2> Introduction </h2>\n",
    "\n",
    "<p>In the span of a few months, the global economy and livelihoods of everyday people completely shut down due to the worldwide spread of COVID-19. Many researchers investigate potentially harmful psychological effects of this experience. Longer quarantine duration is starting to show links to frustration, boredom, and depression, in addition to the financial losses many families are enduring. These hypotheses are speculative, and more research must assess the effect quarantine is having on people’s mental health.</p> \n",
    "\n",
    "<p>Even before this pandemic, a standard outlet for people to release some stress was music. Listening to music is often soothing for people under any circumstances. Further, access to music has become extremely easy. Spotify is the largest subscription music streaming service with 170 million users, providing premium audio quality at 320kbps, higher than any competitor, including Apple music.</p> \n",
    "\n",
    "<p> Even before this pandemic, a common outlet for people to release some stress was music. Listening to music is often soothing for people under any circumstances. Further, access to music has become extremely easy. Spotify is the largest subscription music streaming service with 170 million users, providing premium audio quality at 320kbps, higher than any competitor, including Apple music.</p> \n",
    "\n",
    "\n",
    "<h4>Research Questions:</h4> \n",
    "\n",
    "This research study analyzes COVID-19 quarantine's effect on people's music choices, using Spotify to track these changes. By interpreting songs' specific audio features, we can illustrate how this quarantine affects people's mental well-being. Has the quarantine made people listen to more sad and depressing music? Or, are people listening to uplifting music? How has the pandemic affected what type of music to which we listened?\n",
    "\n",
    "\n",
    "<h4>Main Findings:</h4> \n",
    "\n",
    "The audio features of the quarantine dataset varied in several ways from the 2019 dataset. The music we are listening to in isolation had 9.09% less energy, 4.53% less valence, and a 2.31% slower tempo. Acoustic (+10.86%) and speechy (+14.32%) music were more common, while the percentage of explicit songs nearly doubled (+88.36). Meanwhile, danceability, key, and mode had small, hard to explain changes, leaving room for further investigation.\n",
    "\n",
    "To understand how statistically significant our data is, we implemented two tests: permutation tests (or randomization tests), and a two-sample t-test for sample means. Our null hypothesis, for all variables, was that there was no difference between the means for our 2019 songs sample and our Quarantine songs sample. If our null hypothesis is correct, then the permuted (randomized) data sets should give roughly the same test-statistic as our real data. The ranking of our real test-statistic among the shuffled test statistics gives a p-value, which we compared to our t-test of sample means p-value.\n",
    "\n",
    "Through the above process, we confirmed that statistically significant evidence suggests people's music choices have changed during quarantine through this process. Let us see how."
   ]
  },
  {
   "cell_type": "markdown",
   "metadata": {},
   "source": [
    "<h2> Data Description </h2>\n",
    "<br>\n",
    "Spotify is an audio streaming platform that provides easy access to over 50 million tracks, allowing users to filter by artist, album, or genre, and create unique playlists to complement their music taste. Individuals who create an account on Spotify agree to share their listening data with the public. However, users fail to notice the data collection process: precisely what, how, why, and when data is collected. User data improves algorithms that offer music recommendations to users, while providing opportunities for research on Spotify's data. The creation of this dataset was made possible by Spotify's Web API, through which web developers can access catalog data for the creation of apps or software.\n",
    "\n",
    "Various processes influenced what data was observed and recorded. The first factor is whether a playlist was public or not, as we only collected data on public playlists. Secondly, we filtered \"quarantine\" playlists based on if their title and playlist description contained \"quarantine,\" and our \"2019\" playlists with the term \"2019.\" However, this could have been altered by using \"Coronavirus\" or \"COVID\" instead of \"quarantine.\" However, the addition of terms would overload our dataset, so we only used \"quarantine.\" Another process that influenced data observation was the search limitations on Spotify, which only allowed users to receive two thousand results per search with Spotify API, limiting the number of data points we could record and analyze.\n",
    "\n",
    "The preprocessing that Spotify did was pairing each playlist and each song with a Uniform Resource Identifier (URI). Spotify matches each URI with the playlist name, and within each playlist unit, lists each track and its relevant data. Through accessing the URI's, we can see the data paired for each.\n",
    "\n",
    "After searching \"quarantine\"- and \"2019\"-containing playlists, we extracted the playlist names, URIs, and track numbers, loading it into playlists.csv. Then, for each playlist URI, we used Spotipy's playlist_tracks() to extract each track's URI. Once we had the list of raw track data, we created a function called filter_data(), which used Spotipy's track() to access the name, popularity, release date, and explicitness of each song, and then Spotipy's audio_features() function to access variables like \"danceability,\" \"energy,\" \"key,\" and \"loudness,\" loading them into two CSV files: tracks.csv and tracks_2019.csv. In both datasets, each observation (row) represents a song from in a playlist with either \"quarantine\" or \"2019\" in the title or description, respectively. There were 24 columns for each song, including the URI, the release date, and several audio features.\n",
    "\n",
    "Our Source data is in our Github folder under the name \"datascraping_quar.ipynb\" for our quarantine song data and \"datascraping_2019.ipynb\" for our 2019 song data."
   ]
  },
  {
   "cell_type": "markdown",
   "metadata": {},
   "source": [
    "<h2> Data Analysis </h2>\n",
    "<p> To begin, let's take a look at the two data sets: Quarantine Songs, and 2019 Songs. </p>"
   ]
  },
  {
   "cell_type": "markdown",
   "metadata": {},
   "source": [
    "<h3> Quarantine Songs: </h3>"
   ]
  },
  {
   "cell_type": "code",
   "execution_count": 1,
   "metadata": {},
   "outputs": [],
   "source": [
    "#import python libraries\n",
    "import numpy as np\n",
    "import pandas as pd\n",
    "from matplotlib import pyplot as plt\n",
    "from sklearn.linear_model import LinearRegression\n",
    "from scipy.stats import spearmanr, t"
   ]
  },
  {
   "cell_type": "code",
   "execution_count": 2,
   "metadata": {},
   "outputs": [
    {
     "data": {
      "text/html": [
       "<div>\n",
       "<style scoped>\n",
       "    .dataframe tbody tr th:only-of-type {\n",
       "        vertical-align: middle;\n",
       "    }\n",
       "\n",
       "    .dataframe tbody tr th {\n",
       "        vertical-align: top;\n",
       "    }\n",
       "\n",
       "    .dataframe thead th {\n",
       "        text-align: right;\n",
       "    }\n",
       "</style>\n",
       "<table border=\"1\" class=\"dataframe\">\n",
       "  <thead>\n",
       "    <tr style=\"text-align: right;\">\n",
       "      <th></th>\n",
       "      <th>Unnamed: 0</th>\n",
       "      <th>uri</th>\n",
       "      <th>count</th>\n",
       "      <th>name</th>\n",
       "      <th>release_date</th>\n",
       "      <th>popularity</th>\n",
       "      <th>explicit</th>\n",
       "      <th>danceability</th>\n",
       "      <th>energy</th>\n",
       "      <th>key</th>\n",
       "      <th>...</th>\n",
       "      <th>instrumentalness</th>\n",
       "      <th>liveness</th>\n",
       "      <th>valence</th>\n",
       "      <th>tempo</th>\n",
       "      <th>type</th>\n",
       "      <th>id</th>\n",
       "      <th>track_href</th>\n",
       "      <th>analysis_url</th>\n",
       "      <th>duration_ms</th>\n",
       "      <th>time_signature</th>\n",
       "    </tr>\n",
       "  </thead>\n",
       "  <tbody>\n",
       "    <tr>\n",
       "      <td>119</td>\n",
       "      <td>221</td>\n",
       "      <td>spotify:track:127QTOFJsJQp5LbJbu3A1y</td>\n",
       "      <td>176</td>\n",
       "      <td>Toosie Slide</td>\n",
       "      <td>2020-04-03</td>\n",
       "      <td>99</td>\n",
       "      <td>True</td>\n",
       "      <td>0.834</td>\n",
       "      <td>0.454</td>\n",
       "      <td>1</td>\n",
       "      <td>...</td>\n",
       "      <td>0.000006</td>\n",
       "      <td>0.1140</td>\n",
       "      <td>0.837</td>\n",
       "      <td>81.618</td>\n",
       "      <td>audio_features</td>\n",
       "      <td>127QTOFJsJQp5LbJbu3A1y</td>\n",
       "      <td>https://api.spotify.com/v1/tracks/127QTOFJsJQp...</td>\n",
       "      <td>https://api.spotify.com/v1/audio-analysis/127Q...</td>\n",
       "      <td>247059</td>\n",
       "      <td>4</td>\n",
       "    </tr>\n",
       "    <tr>\n",
       "      <td>146</td>\n",
       "      <td>259</td>\n",
       "      <td>spotify:track:1Cv1YLb4q0RzL6pybtaMLo</td>\n",
       "      <td>172</td>\n",
       "      <td>Sunday Best</td>\n",
       "      <td>2019-01-06</td>\n",
       "      <td>96</td>\n",
       "      <td>False</td>\n",
       "      <td>0.878</td>\n",
       "      <td>0.525</td>\n",
       "      <td>5</td>\n",
       "      <td>...</td>\n",
       "      <td>0.000000</td>\n",
       "      <td>0.0714</td>\n",
       "      <td>0.694</td>\n",
       "      <td>112.022</td>\n",
       "      <td>audio_features</td>\n",
       "      <td>1Cv1YLb4q0RzL6pybtaMLo</td>\n",
       "      <td>https://api.spotify.com/v1/tracks/1Cv1YLb4q0Rz...</td>\n",
       "      <td>https://api.spotify.com/v1/audio-analysis/1Cv1...</td>\n",
       "      <td>158571</td>\n",
       "      <td>4</td>\n",
       "    </tr>\n",
       "    <tr>\n",
       "      <td>1002</td>\n",
       "      <td>2564</td>\n",
       "      <td>spotify:track:7eJMfftS33KTjuF7lTsMCx</td>\n",
       "      <td>155</td>\n",
       "      <td>death bed (coffee for your head) (feat. beabad...</td>\n",
       "      <td>2020-02-08</td>\n",
       "      <td>99</td>\n",
       "      <td>False</td>\n",
       "      <td>0.726</td>\n",
       "      <td>0.431</td>\n",
       "      <td>8</td>\n",
       "      <td>...</td>\n",
       "      <td>0.000000</td>\n",
       "      <td>0.6960</td>\n",
       "      <td>0.348</td>\n",
       "      <td>144.026</td>\n",
       "      <td>audio_features</td>\n",
       "      <td>7eJMfftS33KTjuF7lTsMCx</td>\n",
       "      <td>https://api.spotify.com/v1/tracks/7eJMfftS33KT...</td>\n",
       "      <td>https://api.spotify.com/v1/audio-analysis/7eJM...</td>\n",
       "      <td>173333</td>\n",
       "      <td>4</td>\n",
       "    </tr>\n",
       "    <tr>\n",
       "      <td>116</td>\n",
       "      <td>218</td>\n",
       "      <td>spotify:track:6WrI0LAC5M1Rw2MnX2ZvEg</td>\n",
       "      <td>151</td>\n",
       "      <td>Don't Start Now</td>\n",
       "      <td>2019-10-31</td>\n",
       "      <td>97</td>\n",
       "      <td>False</td>\n",
       "      <td>0.794</td>\n",
       "      <td>0.793</td>\n",
       "      <td>11</td>\n",
       "      <td>...</td>\n",
       "      <td>0.000000</td>\n",
       "      <td>0.0952</td>\n",
       "      <td>0.677</td>\n",
       "      <td>123.941</td>\n",
       "      <td>audio_features</td>\n",
       "      <td>6WrI0LAC5M1Rw2MnX2ZvEg</td>\n",
       "      <td>https://api.spotify.com/v1/tracks/6WrI0LAC5M1R...</td>\n",
       "      <td>https://api.spotify.com/v1/audio-analysis/6WrI...</td>\n",
       "      <td>183290</td>\n",
       "      <td>4</td>\n",
       "    </tr>\n",
       "    <tr>\n",
       "      <td>1006</td>\n",
       "      <td>2569</td>\n",
       "      <td>spotify:track:0nbXyq5TXYPCO7pr3N8S4I</td>\n",
       "      <td>147</td>\n",
       "      <td>The Box</td>\n",
       "      <td>2019-12-06</td>\n",
       "      <td>99</td>\n",
       "      <td>True</td>\n",
       "      <td>0.896</td>\n",
       "      <td>0.586</td>\n",
       "      <td>10</td>\n",
       "      <td>...</td>\n",
       "      <td>0.000000</td>\n",
       "      <td>0.7900</td>\n",
       "      <td>0.642</td>\n",
       "      <td>116.971</td>\n",
       "      <td>audio_features</td>\n",
       "      <td>0nbXyq5TXYPCO7pr3N8S4I</td>\n",
       "      <td>https://api.spotify.com/v1/tracks/0nbXyq5TXYPC...</td>\n",
       "      <td>https://api.spotify.com/v1/audio-analysis/0nbX...</td>\n",
       "      <td>196653</td>\n",
       "      <td>4</td>\n",
       "    </tr>\n",
       "    <tr>\n",
       "      <td>1753</td>\n",
       "      <td>6284</td>\n",
       "      <td>spotify:track:0VjIjW4GlUZAMYd2vXMi3b</td>\n",
       "      <td>139</td>\n",
       "      <td>Blinding Lights</td>\n",
       "      <td>2020-03-20</td>\n",
       "      <td>100</td>\n",
       "      <td>False</td>\n",
       "      <td>0.514</td>\n",
       "      <td>0.730</td>\n",
       "      <td>1</td>\n",
       "      <td>...</td>\n",
       "      <td>0.000095</td>\n",
       "      <td>0.0897</td>\n",
       "      <td>0.334</td>\n",
       "      <td>171.005</td>\n",
       "      <td>audio_features</td>\n",
       "      <td>0VjIjW4GlUZAMYd2vXMi3b</td>\n",
       "      <td>https://api.spotify.com/v1/tracks/0VjIjW4GlUZA...</td>\n",
       "      <td>https://api.spotify.com/v1/audio-analysis/0VjI...</td>\n",
       "      <td>200040</td>\n",
       "      <td>4</td>\n",
       "    </tr>\n",
       "    <tr>\n",
       "      <td>118</td>\n",
       "      <td>220</td>\n",
       "      <td>spotify:track:0sf12qNH5qcw8qpgymFOqD</td>\n",
       "      <td>136</td>\n",
       "      <td>Blinding Lights</td>\n",
       "      <td>2019-11-29</td>\n",
       "      <td>93</td>\n",
       "      <td>False</td>\n",
       "      <td>0.513</td>\n",
       "      <td>0.796</td>\n",
       "      <td>1</td>\n",
       "      <td>...</td>\n",
       "      <td>0.000209</td>\n",
       "      <td>0.0938</td>\n",
       "      <td>0.345</td>\n",
       "      <td>171.017</td>\n",
       "      <td>audio_features</td>\n",
       "      <td>0sf12qNH5qcw8qpgymFOqD</td>\n",
       "      <td>https://api.spotify.com/v1/tracks/0sf12qNH5qcw...</td>\n",
       "      <td>https://api.spotify.com/v1/audio-analysis/0sf1...</td>\n",
       "      <td>201573</td>\n",
       "      <td>4</td>\n",
       "    </tr>\n",
       "    <tr>\n",
       "      <td>144</td>\n",
       "      <td>257</td>\n",
       "      <td>spotify:track:3Dv1eDb0MEgF93GpLXlucZ</td>\n",
       "      <td>133</td>\n",
       "      <td>Say So</td>\n",
       "      <td>2019-11-07</td>\n",
       "      <td>97</td>\n",
       "      <td>True</td>\n",
       "      <td>0.787</td>\n",
       "      <td>0.673</td>\n",
       "      <td>11</td>\n",
       "      <td>...</td>\n",
       "      <td>0.000004</td>\n",
       "      <td>0.0904</td>\n",
       "      <td>0.786</td>\n",
       "      <td>110.962</td>\n",
       "      <td>audio_features</td>\n",
       "      <td>3Dv1eDb0MEgF93GpLXlucZ</td>\n",
       "      <td>https://api.spotify.com/v1/tracks/3Dv1eDb0MEgF...</td>\n",
       "      <td>https://api.spotify.com/v1/audio-analysis/3Dv1...</td>\n",
       "      <td>237893</td>\n",
       "      <td>4</td>\n",
       "    </tr>\n",
       "    <tr>\n",
       "      <td>846</td>\n",
       "      <td>1723</td>\n",
       "      <td>spotify:track:6K4t31amVTZDgR3sKmwUJJ</td>\n",
       "      <td>132</td>\n",
       "      <td>The Less I Know The Better</td>\n",
       "      <td>2015-07-17</td>\n",
       "      <td>86</td>\n",
       "      <td>True</td>\n",
       "      <td>0.640</td>\n",
       "      <td>0.740</td>\n",
       "      <td>4</td>\n",
       "      <td>...</td>\n",
       "      <td>0.006780</td>\n",
       "      <td>0.1670</td>\n",
       "      <td>0.785</td>\n",
       "      <td>116.879</td>\n",
       "      <td>audio_features</td>\n",
       "      <td>6K4t31amVTZDgR3sKmwUJJ</td>\n",
       "      <td>https://api.spotify.com/v1/tracks/6K4t31amVTZD...</td>\n",
       "      <td>https://api.spotify.com/v1/audio-analysis/6K4t...</td>\n",
       "      <td>216320</td>\n",
       "      <td>4</td>\n",
       "    </tr>\n",
       "    <tr>\n",
       "      <td>433</td>\n",
       "      <td>809</td>\n",
       "      <td>spotify:track:4nK5YrxbMGZstTLbvj6Gxw</td>\n",
       "      <td>130</td>\n",
       "      <td>Supalonely</td>\n",
       "      <td>2019-11-15</td>\n",
       "      <td>95</td>\n",
       "      <td>True</td>\n",
       "      <td>0.863</td>\n",
       "      <td>0.631</td>\n",
       "      <td>7</td>\n",
       "      <td>...</td>\n",
       "      <td>0.000030</td>\n",
       "      <td>0.1230</td>\n",
       "      <td>0.817</td>\n",
       "      <td>128.977</td>\n",
       "      <td>audio_features</td>\n",
       "      <td>4nK5YrxbMGZstTLbvj6Gxw</td>\n",
       "      <td>https://api.spotify.com/v1/tracks/4nK5YrxbMGZs...</td>\n",
       "      <td>https://api.spotify.com/v1/audio-analysis/4nK5...</td>\n",
       "      <td>223480</td>\n",
       "      <td>4</td>\n",
       "    </tr>\n",
       "  </tbody>\n",
       "</table>\n",
       "<p>10 rows × 24 columns</p>\n",
       "</div>"
      ],
      "text/plain": [
       "      Unnamed: 0                                   uri  count  \\\n",
       "119          221  spotify:track:127QTOFJsJQp5LbJbu3A1y    176   \n",
       "146          259  spotify:track:1Cv1YLb4q0RzL6pybtaMLo    172   \n",
       "1002        2564  spotify:track:7eJMfftS33KTjuF7lTsMCx    155   \n",
       "116          218  spotify:track:6WrI0LAC5M1Rw2MnX2ZvEg    151   \n",
       "1006        2569  spotify:track:0nbXyq5TXYPCO7pr3N8S4I    147   \n",
       "1753        6284  spotify:track:0VjIjW4GlUZAMYd2vXMi3b    139   \n",
       "118          220  spotify:track:0sf12qNH5qcw8qpgymFOqD    136   \n",
       "144          257  spotify:track:3Dv1eDb0MEgF93GpLXlucZ    133   \n",
       "846         1723  spotify:track:6K4t31amVTZDgR3sKmwUJJ    132   \n",
       "433          809  spotify:track:4nK5YrxbMGZstTLbvj6Gxw    130   \n",
       "\n",
       "                                                   name release_date  \\\n",
       "119                                        Toosie Slide   2020-04-03   \n",
       "146                                         Sunday Best   2019-01-06   \n",
       "1002  death bed (coffee for your head) (feat. beabad...   2020-02-08   \n",
       "116                                     Don't Start Now   2019-10-31   \n",
       "1006                                            The Box   2019-12-06   \n",
       "1753                                    Blinding Lights   2020-03-20   \n",
       "118                                     Blinding Lights   2019-11-29   \n",
       "144                                              Say So   2019-11-07   \n",
       "846                          The Less I Know The Better   2015-07-17   \n",
       "433                                          Supalonely   2019-11-15   \n",
       "\n",
       "      popularity  explicit  danceability  energy  key  ...  instrumentalness  \\\n",
       "119           99      True         0.834   0.454    1  ...          0.000006   \n",
       "146           96     False         0.878   0.525    5  ...          0.000000   \n",
       "1002          99     False         0.726   0.431    8  ...          0.000000   \n",
       "116           97     False         0.794   0.793   11  ...          0.000000   \n",
       "1006          99      True         0.896   0.586   10  ...          0.000000   \n",
       "1753         100     False         0.514   0.730    1  ...          0.000095   \n",
       "118           93     False         0.513   0.796    1  ...          0.000209   \n",
       "144           97      True         0.787   0.673   11  ...          0.000004   \n",
       "846           86      True         0.640   0.740    4  ...          0.006780   \n",
       "433           95      True         0.863   0.631    7  ...          0.000030   \n",
       "\n",
       "      liveness  valence    tempo            type                      id  \\\n",
       "119     0.1140    0.837   81.618  audio_features  127QTOFJsJQp5LbJbu3A1y   \n",
       "146     0.0714    0.694  112.022  audio_features  1Cv1YLb4q0RzL6pybtaMLo   \n",
       "1002    0.6960    0.348  144.026  audio_features  7eJMfftS33KTjuF7lTsMCx   \n",
       "116     0.0952    0.677  123.941  audio_features  6WrI0LAC5M1Rw2MnX2ZvEg   \n",
       "1006    0.7900    0.642  116.971  audio_features  0nbXyq5TXYPCO7pr3N8S4I   \n",
       "1753    0.0897    0.334  171.005  audio_features  0VjIjW4GlUZAMYd2vXMi3b   \n",
       "118     0.0938    0.345  171.017  audio_features  0sf12qNH5qcw8qpgymFOqD   \n",
       "144     0.0904    0.786  110.962  audio_features  3Dv1eDb0MEgF93GpLXlucZ   \n",
       "846     0.1670    0.785  116.879  audio_features  6K4t31amVTZDgR3sKmwUJJ   \n",
       "433     0.1230    0.817  128.977  audio_features  4nK5YrxbMGZstTLbvj6Gxw   \n",
       "\n",
       "                                             track_href  \\\n",
       "119   https://api.spotify.com/v1/tracks/127QTOFJsJQp...   \n",
       "146   https://api.spotify.com/v1/tracks/1Cv1YLb4q0Rz...   \n",
       "1002  https://api.spotify.com/v1/tracks/7eJMfftS33KT...   \n",
       "116   https://api.spotify.com/v1/tracks/6WrI0LAC5M1R...   \n",
       "1006  https://api.spotify.com/v1/tracks/0nbXyq5TXYPC...   \n",
       "1753  https://api.spotify.com/v1/tracks/0VjIjW4GlUZA...   \n",
       "118   https://api.spotify.com/v1/tracks/0sf12qNH5qcw...   \n",
       "144   https://api.spotify.com/v1/tracks/3Dv1eDb0MEgF...   \n",
       "846   https://api.spotify.com/v1/tracks/6K4t31amVTZD...   \n",
       "433   https://api.spotify.com/v1/tracks/4nK5YrxbMGZs...   \n",
       "\n",
       "                                           analysis_url duration_ms  \\\n",
       "119   https://api.spotify.com/v1/audio-analysis/127Q...      247059   \n",
       "146   https://api.spotify.com/v1/audio-analysis/1Cv1...      158571   \n",
       "1002  https://api.spotify.com/v1/audio-analysis/7eJM...      173333   \n",
       "116   https://api.spotify.com/v1/audio-analysis/6WrI...      183290   \n",
       "1006  https://api.spotify.com/v1/audio-analysis/0nbX...      196653   \n",
       "1753  https://api.spotify.com/v1/audio-analysis/0VjI...      200040   \n",
       "118   https://api.spotify.com/v1/audio-analysis/0sf1...      201573   \n",
       "144   https://api.spotify.com/v1/audio-analysis/3Dv1...      237893   \n",
       "846   https://api.spotify.com/v1/audio-analysis/6K4t...      216320   \n",
       "433   https://api.spotify.com/v1/audio-analysis/4nK5...      223480   \n",
       "\n",
       "     time_signature  \n",
       "119               4  \n",
       "146               4  \n",
       "1002              4  \n",
       "116               4  \n",
       "1006              4  \n",
       "1753              4  \n",
       "118               4  \n",
       "144               4  \n",
       "846               4  \n",
       "433               4  \n",
       "\n",
       "[10 rows x 24 columns]"
      ]
     },
     "execution_count": 2,
     "metadata": {},
     "output_type": "execute_result"
    }
   ],
   "source": [
    "tracks_quar = pd.read_csv(\"tracks_list.csv\")\n",
    "#shows a snippet of 20 songs sorted by appearances\n",
    "tracks_quar.sort_values(by=['count'], ascending=False)[:10]"
   ]
  },
  {
   "cell_type": "markdown",
   "metadata": {},
   "source": [
    "<h3> 2019 Tracks: </h3>"
   ]
  },
  {
   "cell_type": "code",
   "execution_count": 3,
   "metadata": {},
   "outputs": [
    {
     "data": {
      "text/html": [
       "<div>\n",
       "<style scoped>\n",
       "    .dataframe tbody tr th:only-of-type {\n",
       "        vertical-align: middle;\n",
       "    }\n",
       "\n",
       "    .dataframe tbody tr th {\n",
       "        vertical-align: top;\n",
       "    }\n",
       "\n",
       "    .dataframe thead th {\n",
       "        text-align: right;\n",
       "    }\n",
       "</style>\n",
       "<table border=\"1\" class=\"dataframe\">\n",
       "  <thead>\n",
       "    <tr style=\"text-align: right;\">\n",
       "      <th></th>\n",
       "      <th>Unnamed: 0</th>\n",
       "      <th>acousticness</th>\n",
       "      <th>analysis_url</th>\n",
       "      <th>count</th>\n",
       "      <th>danceability</th>\n",
       "      <th>duration_ms</th>\n",
       "      <th>energy</th>\n",
       "      <th>explicit</th>\n",
       "      <th>id</th>\n",
       "      <th>instrumentalness</th>\n",
       "      <th>...</th>\n",
       "      <th>name</th>\n",
       "      <th>popularity</th>\n",
       "      <th>release_date</th>\n",
       "      <th>speechiness</th>\n",
       "      <th>tempo</th>\n",
       "      <th>time_signature</th>\n",
       "      <th>track_href</th>\n",
       "      <th>type</th>\n",
       "      <th>uri</th>\n",
       "      <th>valence</th>\n",
       "    </tr>\n",
       "  </thead>\n",
       "  <tbody>\n",
       "    <tr>\n",
       "      <td>937</td>\n",
       "      <td>1650</td>\n",
       "      <td>0.3280</td>\n",
       "      <td>https://api.spotify.com/v1/audio-analysis/2Fxm...</td>\n",
       "      <td>183</td>\n",
       "      <td>0.701</td>\n",
       "      <td>194088</td>\n",
       "      <td>0.425</td>\n",
       "      <td>False</td>\n",
       "      <td>2Fxmhks0bxGSBdJ92vM42m</td>\n",
       "      <td>0.130000</td>\n",
       "      <td>...</td>\n",
       "      <td>bad guy</td>\n",
       "      <td>92</td>\n",
       "      <td>2019-03-29</td>\n",
       "      <td>0.3750</td>\n",
       "      <td>135.128</td>\n",
       "      <td>4</td>\n",
       "      <td>https://api.spotify.com/v1/tracks/2Fxmhks0bxGS...</td>\n",
       "      <td>audio_features</td>\n",
       "      <td>spotify:track:2Fxmhks0bxGSBdJ92vM42m</td>\n",
       "      <td>0.562</td>\n",
       "    </tr>\n",
       "    <tr>\n",
       "      <td>803</td>\n",
       "      <td>1415</td>\n",
       "      <td>0.0370</td>\n",
       "      <td>https://api.spotify.com/v1/audio-analysis/0TK2...</td>\n",
       "      <td>149</td>\n",
       "      <td>0.759</td>\n",
       "      <td>190960</td>\n",
       "      <td>0.540</td>\n",
       "      <td>False</td>\n",
       "      <td>0TK2YIli7K1leLovkQiNik</td>\n",
       "      <td>0.000000</td>\n",
       "      <td>...</td>\n",
       "      <td>Señorita</td>\n",
       "      <td>88</td>\n",
       "      <td>2019-06-21</td>\n",
       "      <td>0.0287</td>\n",
       "      <td>116.947</td>\n",
       "      <td>4</td>\n",
       "      <td>https://api.spotify.com/v1/tracks/0TK2YIli7K1l...</td>\n",
       "      <td>audio_features</td>\n",
       "      <td>spotify:track:0TK2YIli7K1leLovkQiNik</td>\n",
       "      <td>0.750</td>\n",
       "    </tr>\n",
       "    <tr>\n",
       "      <td>1570</td>\n",
       "      <td>3059</td>\n",
       "      <td>0.1100</td>\n",
       "      <td>https://api.spotify.com/v1/audio-analysis/5w9c...</td>\n",
       "      <td>146</td>\n",
       "      <td>0.737</td>\n",
       "      <td>193227</td>\n",
       "      <td>0.860</td>\n",
       "      <td>False</td>\n",
       "      <td>5w9c2J52mkdntKOmRLeM2m</td>\n",
       "      <td>0.000002</td>\n",
       "      <td>...</td>\n",
       "      <td>Con Calma</td>\n",
       "      <td>83</td>\n",
       "      <td>2019-01-24</td>\n",
       "      <td>0.0593</td>\n",
       "      <td>93.989</td>\n",
       "      <td>4</td>\n",
       "      <td>https://api.spotify.com/v1/tracks/5w9c2J52mkdn...</td>\n",
       "      <td>audio_features</td>\n",
       "      <td>spotify:track:5w9c2J52mkdntKOmRLeM2m</td>\n",
       "      <td>0.656</td>\n",
       "    </tr>\n",
       "    <tr>\n",
       "      <td>1408</td>\n",
       "      <td>2475</td>\n",
       "      <td>0.0846</td>\n",
       "      <td>https://api.spotify.com/v1/audio-analysis/2ksO...</td>\n",
       "      <td>140</td>\n",
       "      <td>0.786</td>\n",
       "      <td>301714</td>\n",
       "      <td>0.808</td>\n",
       "      <td>False</td>\n",
       "      <td>2ksOAxtIxY8yElEWw8RhgK</td>\n",
       "      <td>0.000289</td>\n",
       "      <td>...</td>\n",
       "      <td>China</td>\n",
       "      <td>86</td>\n",
       "      <td>2019-07-19</td>\n",
       "      <td>0.0882</td>\n",
       "      <td>105.027</td>\n",
       "      <td>4</td>\n",
       "      <td>https://api.spotify.com/v1/tracks/2ksOAxtIxY8y...</td>\n",
       "      <td>audio_features</td>\n",
       "      <td>spotify:track:2ksOAxtIxY8yElEWw8RhgK</td>\n",
       "      <td>0.609</td>\n",
       "    </tr>\n",
       "    <tr>\n",
       "      <td>1571</td>\n",
       "      <td>3060</td>\n",
       "      <td>0.3900</td>\n",
       "      <td>https://api.spotify.com/v1/audio-analysis/2qG5...</td>\n",
       "      <td>130</td>\n",
       "      <td>0.882</td>\n",
       "      <td>161627</td>\n",
       "      <td>0.689</td>\n",
       "      <td>False</td>\n",
       "      <td>2qG5sZ7Si6sdK74qLxedYM</td>\n",
       "      <td>0.003250</td>\n",
       "      <td>...</td>\n",
       "      <td>Con Altura</td>\n",
       "      <td>82</td>\n",
       "      <td>2019-03-28</td>\n",
       "      <td>0.1240</td>\n",
       "      <td>97.963</td>\n",
       "      <td>4</td>\n",
       "      <td>https://api.spotify.com/v1/tracks/2qG5sZ7Si6sd...</td>\n",
       "      <td>audio_features</td>\n",
       "      <td>spotify:track:2qG5sZ7Si6sdK74qLxedYM</td>\n",
       "      <td>0.746</td>\n",
       "    </tr>\n",
       "    <tr>\n",
       "      <td>1407</td>\n",
       "      <td>2473</td>\n",
       "      <td>0.0334</td>\n",
       "      <td>https://api.spotify.com/v1/audio-analysis/6cy3...</td>\n",
       "      <td>128</td>\n",
       "      <td>0.721</td>\n",
       "      <td>221714</td>\n",
       "      <td>0.716</td>\n",
       "      <td>True</td>\n",
       "      <td>6cy3ki60hLwimwIje7tALf</td>\n",
       "      <td>0.000840</td>\n",
       "      <td>...</td>\n",
       "      <td>RITMO (Bad Boys For Life)</td>\n",
       "      <td>89</td>\n",
       "      <td>2019-10-12</td>\n",
       "      <td>0.0657</td>\n",
       "      <td>104.994</td>\n",
       "      <td>4</td>\n",
       "      <td>https://api.spotify.com/v1/tracks/6cy3ki60hLwi...</td>\n",
       "      <td>audio_features</td>\n",
       "      <td>spotify:track:6cy3ki60hLwimwIje7tALf</td>\n",
       "      <td>0.667</td>\n",
       "    </tr>\n",
       "    <tr>\n",
       "      <td>1757</td>\n",
       "      <td>3571</td>\n",
       "      <td>0.0125</td>\n",
       "      <td>https://api.spotify.com/v1/audio-analysis/6WrI...</td>\n",
       "      <td>111</td>\n",
       "      <td>0.794</td>\n",
       "      <td>183290</td>\n",
       "      <td>0.793</td>\n",
       "      <td>False</td>\n",
       "      <td>6WrI0LAC5M1Rw2MnX2ZvEg</td>\n",
       "      <td>0.000000</td>\n",
       "      <td>...</td>\n",
       "      <td>Don't Start Now</td>\n",
       "      <td>94</td>\n",
       "      <td>2019-10-31</td>\n",
       "      <td>0.0842</td>\n",
       "      <td>123.941</td>\n",
       "      <td>4</td>\n",
       "      <td>https://api.spotify.com/v1/tracks/6WrI0LAC5M1R...</td>\n",
       "      <td>audio_features</td>\n",
       "      <td>spotify:track:6WrI0LAC5M1Rw2MnX2ZvEg</td>\n",
       "      <td>0.677</td>\n",
       "    </tr>\n",
       "    <tr>\n",
       "      <td>1374</td>\n",
       "      <td>2416</td>\n",
       "      <td>0.2950</td>\n",
       "      <td>https://api.spotify.com/v1/audio-analysis/7k4t...</td>\n",
       "      <td>110</td>\n",
       "      <td>0.803</td>\n",
       "      <td>200960</td>\n",
       "      <td>0.715</td>\n",
       "      <td>False</td>\n",
       "      <td>7k4t7uLgtOxPwTpFmtJNTY</td>\n",
       "      <td>0.000134</td>\n",
       "      <td>...</td>\n",
       "      <td>Tusa</td>\n",
       "      <td>93</td>\n",
       "      <td>2019-11-07</td>\n",
       "      <td>0.2980</td>\n",
       "      <td>101.085</td>\n",
       "      <td>4</td>\n",
       "      <td>https://api.spotify.com/v1/tracks/7k4t7uLgtOxP...</td>\n",
       "      <td>audio_features</td>\n",
       "      <td>spotify:track:7k4t7uLgtOxPwTpFmtJNTY</td>\n",
       "      <td>0.574</td>\n",
       "    </tr>\n",
       "    <tr>\n",
       "      <td>832</td>\n",
       "      <td>1463</td>\n",
       "      <td>0.0912</td>\n",
       "      <td>https://api.spotify.com/v1/audio-analysis/3HVW...</td>\n",
       "      <td>110</td>\n",
       "      <td>0.798</td>\n",
       "      <td>219947</td>\n",
       "      <td>0.675</td>\n",
       "      <td>False</td>\n",
       "      <td>3HVWdVOQ0ZA45FuZGSfvns</td>\n",
       "      <td>0.000000</td>\n",
       "      <td>...</td>\n",
       "      <td>I Don't Care (with Justin Bieber)</td>\n",
       "      <td>86</td>\n",
       "      <td>2019-05-10</td>\n",
       "      <td>0.0442</td>\n",
       "      <td>101.956</td>\n",
       "      <td>4</td>\n",
       "      <td>https://api.spotify.com/v1/tracks/3HVWdVOQ0ZA4...</td>\n",
       "      <td>audio_features</td>\n",
       "      <td>spotify:track:3HVWdVOQ0ZA45FuZGSfvns</td>\n",
       "      <td>0.842</td>\n",
       "    </tr>\n",
       "    <tr>\n",
       "      <td>1421</td>\n",
       "      <td>2496</td>\n",
       "      <td>0.6000</td>\n",
       "      <td>https://api.spotify.com/v1/audio-analysis/2TH6...</td>\n",
       "      <td>110</td>\n",
       "      <td>0.610</td>\n",
       "      <td>250534</td>\n",
       "      <td>0.624</td>\n",
       "      <td>True</td>\n",
       "      <td>2TH65lNHgvLxCKXM3apjxI</td>\n",
       "      <td>0.000002</td>\n",
       "      <td>...</td>\n",
       "      <td>Callaita</td>\n",
       "      <td>86</td>\n",
       "      <td>2019-05-31</td>\n",
       "      <td>0.3090</td>\n",
       "      <td>176.169</td>\n",
       "      <td>4</td>\n",
       "      <td>https://api.spotify.com/v1/tracks/2TH65lNHgvLx...</td>\n",
       "      <td>audio_features</td>\n",
       "      <td>spotify:track:2TH65lNHgvLxCKXM3apjxI</td>\n",
       "      <td>0.244</td>\n",
       "    </tr>\n",
       "  </tbody>\n",
       "</table>\n",
       "<p>10 rows × 24 columns</p>\n",
       "</div>"
      ],
      "text/plain": [
       "      Unnamed: 0  acousticness  \\\n",
       "937         1650        0.3280   \n",
       "803         1415        0.0370   \n",
       "1570        3059        0.1100   \n",
       "1408        2475        0.0846   \n",
       "1571        3060        0.3900   \n",
       "1407        2473        0.0334   \n",
       "1757        3571        0.0125   \n",
       "1374        2416        0.2950   \n",
       "832         1463        0.0912   \n",
       "1421        2496        0.6000   \n",
       "\n",
       "                                           analysis_url  count  danceability  \\\n",
       "937   https://api.spotify.com/v1/audio-analysis/2Fxm...    183         0.701   \n",
       "803   https://api.spotify.com/v1/audio-analysis/0TK2...    149         0.759   \n",
       "1570  https://api.spotify.com/v1/audio-analysis/5w9c...    146         0.737   \n",
       "1408  https://api.spotify.com/v1/audio-analysis/2ksO...    140         0.786   \n",
       "1571  https://api.spotify.com/v1/audio-analysis/2qG5...    130         0.882   \n",
       "1407  https://api.spotify.com/v1/audio-analysis/6cy3...    128         0.721   \n",
       "1757  https://api.spotify.com/v1/audio-analysis/6WrI...    111         0.794   \n",
       "1374  https://api.spotify.com/v1/audio-analysis/7k4t...    110         0.803   \n",
       "832   https://api.spotify.com/v1/audio-analysis/3HVW...    110         0.798   \n",
       "1421  https://api.spotify.com/v1/audio-analysis/2TH6...    110         0.610   \n",
       "\n",
       "      duration_ms  energy  explicit                      id  instrumentalness  \\\n",
       "937        194088   0.425     False  2Fxmhks0bxGSBdJ92vM42m          0.130000   \n",
       "803        190960   0.540     False  0TK2YIli7K1leLovkQiNik          0.000000   \n",
       "1570       193227   0.860     False  5w9c2J52mkdntKOmRLeM2m          0.000002   \n",
       "1408       301714   0.808     False  2ksOAxtIxY8yElEWw8RhgK          0.000289   \n",
       "1571       161627   0.689     False  2qG5sZ7Si6sdK74qLxedYM          0.003250   \n",
       "1407       221714   0.716      True  6cy3ki60hLwimwIje7tALf          0.000840   \n",
       "1757       183290   0.793     False  6WrI0LAC5M1Rw2MnX2ZvEg          0.000000   \n",
       "1374       200960   0.715     False  7k4t7uLgtOxPwTpFmtJNTY          0.000134   \n",
       "832        219947   0.675     False  3HVWdVOQ0ZA45FuZGSfvns          0.000000   \n",
       "1421       250534   0.624      True  2TH65lNHgvLxCKXM3apjxI          0.000002   \n",
       "\n",
       "      ...                               name  popularity  release_date  \\\n",
       "937   ...                            bad guy          92    2019-03-29   \n",
       "803   ...                           Señorita          88    2019-06-21   \n",
       "1570  ...                          Con Calma          83    2019-01-24   \n",
       "1408  ...                              China          86    2019-07-19   \n",
       "1571  ...                         Con Altura          82    2019-03-28   \n",
       "1407  ...          RITMO (Bad Boys For Life)          89    2019-10-12   \n",
       "1757  ...                    Don't Start Now          94    2019-10-31   \n",
       "1374  ...                               Tusa          93    2019-11-07   \n",
       "832   ...  I Don't Care (with Justin Bieber)          86    2019-05-10   \n",
       "1421  ...                           Callaita          86    2019-05-31   \n",
       "\n",
       "      speechiness    tempo  time_signature  \\\n",
       "937        0.3750  135.128               4   \n",
       "803        0.0287  116.947               4   \n",
       "1570       0.0593   93.989               4   \n",
       "1408       0.0882  105.027               4   \n",
       "1571       0.1240   97.963               4   \n",
       "1407       0.0657  104.994               4   \n",
       "1757       0.0842  123.941               4   \n",
       "1374       0.2980  101.085               4   \n",
       "832        0.0442  101.956               4   \n",
       "1421       0.3090  176.169               4   \n",
       "\n",
       "                                             track_href            type  \\\n",
       "937   https://api.spotify.com/v1/tracks/2Fxmhks0bxGS...  audio_features   \n",
       "803   https://api.spotify.com/v1/tracks/0TK2YIli7K1l...  audio_features   \n",
       "1570  https://api.spotify.com/v1/tracks/5w9c2J52mkdn...  audio_features   \n",
       "1408  https://api.spotify.com/v1/tracks/2ksOAxtIxY8y...  audio_features   \n",
       "1571  https://api.spotify.com/v1/tracks/2qG5sZ7Si6sd...  audio_features   \n",
       "1407  https://api.spotify.com/v1/tracks/6cy3ki60hLwi...  audio_features   \n",
       "1757  https://api.spotify.com/v1/tracks/6WrI0LAC5M1R...  audio_features   \n",
       "1374  https://api.spotify.com/v1/tracks/7k4t7uLgtOxP...  audio_features   \n",
       "832   https://api.spotify.com/v1/tracks/3HVWdVOQ0ZA4...  audio_features   \n",
       "1421  https://api.spotify.com/v1/tracks/2TH65lNHgvLx...  audio_features   \n",
       "\n",
       "                                       uri  valence  \n",
       "937   spotify:track:2Fxmhks0bxGSBdJ92vM42m    0.562  \n",
       "803   spotify:track:0TK2YIli7K1leLovkQiNik    0.750  \n",
       "1570  spotify:track:5w9c2J52mkdntKOmRLeM2m    0.656  \n",
       "1408  spotify:track:2ksOAxtIxY8yElEWw8RhgK    0.609  \n",
       "1571  spotify:track:2qG5sZ7Si6sdK74qLxedYM    0.746  \n",
       "1407  spotify:track:6cy3ki60hLwimwIje7tALf    0.667  \n",
       "1757  spotify:track:6WrI0LAC5M1Rw2MnX2ZvEg    0.677  \n",
       "1374  spotify:track:7k4t7uLgtOxPwTpFmtJNTY    0.574  \n",
       "832   spotify:track:3HVWdVOQ0ZA45FuZGSfvns    0.842  \n",
       "1421  spotify:track:2TH65lNHgvLxCKXM3apjxI    0.244  \n",
       "\n",
       "[10 rows x 24 columns]"
      ]
     },
     "execution_count": 3,
     "metadata": {},
     "output_type": "execute_result"
    }
   ],
   "source": [
    "tracks_2019 = pd.read_csv(\"tracks_list_2019.csv\")\n",
    "tracks_2019.sort_values(by=['count'], ascending=False)[:10]"
   ]
  },
  {
   "cell_type": "markdown",
   "metadata": {},
   "source": [
    "Now that we have a sense for these two datasets, let's compare the two."
   ]
  },
  {
   "cell_type": "markdown",
   "metadata": {},
   "source": [
    "<h2> I. Describing Music: Qualitative Audio Features</h2>\n",
    "\n",
    "<p>Spotify provides audio analysis for all tracks in Spotify's Catalog, broken into features that describe a song's structure and musical content (like rhythm, pitch, timbre, etc). Each element's score is denoted by an integer or float. We will analyze 10 key audio features in detail, and compare the scores of these audio features between our sample of quarantine songs and 2019 (pre-COVID) songs. Let’s start with four characteristics we consider <em> straightforward </em> and <em>qualitative</em>:</p>\n",
    " \n",
    "1. **Popularity** - The popularity of a song is the most complex feature in this section, but Spotify still assigns this feature an integer value between 0 and 100. The popularity is calculated by an algorithm based mainly on the number and the recency of a track’s plays. \n",
    " \n",
    "2. **Explicitness**  - Spotify labels a song as explicit if the lyrics or content meet a list of criteria considered unsuitable for children (i.e. strong language and references to violence or sexualized behavior). This audio feature gives explicit songs a score of 1 and non-explicit songs a 0. \n",
    " \n",
    "3. **Key** - The estimated overall key of the track. This audio feature maps pitches using standard pitch class   notation. For example, 0 = C, 1 = C♯/D♭, 2 = D, and so on. \n",
    " \n",
    "4. **Mode** - Mode refers to the mode of a track (major or minor), the type of scale from which its melodic content is derived. Major is represented by 1 and minor is represented by a 0 score."
   ]
  },
  {
   "cell_type": "markdown",
   "metadata": {},
   "source": [
    "<h3> 1. Popularity </h3>"
   ]
  },
  {
   "cell_type": "markdown",
   "metadata": {},
   "source": [
    "<p> Does popularity impact the number appearences in quarantine playlists? To answer this question, we will see if there is a correlation between a track's popularity level, and the number of times that song appears in the data set. </p>"
   ]
  },
  {
   "cell_type": "code",
   "execution_count": 4,
   "metadata": {},
   "outputs": [
    {
     "data": {
      "image/png": "[encoded data removed]",
      "text/plain": [
       "<Figure size 432x288 with 1 Axes>"
      ]
     },
     "metadata": {
      "needs_background": "light"
     },
     "output_type": "display_data"
    }
   ],
   "source": [
    "plt.scatter(tracks_quar['popularity'], tracks_quar['count'], marker = 'o', color = 'green')\n",
    "\n",
    "plt.xlabel(\"Popularity (scale of 0 to 100)\")\n",
    "plt.ylabel(\"Number of Appearances\")\n",
    "plt.title(\"Quarantine Songs: Does Popularity Level impact Appearances?\")\n",
    "plt.show()"
   ]
  },
  {
   "cell_type": "markdown",
   "metadata": {},
   "source": [
    "<p> There seems to be a clear positive relationship with these two variables. However, it doesn't seem exactly linear. We are interested in understanding the strength of correlation between these two variables. We'll use a variant called rank correlation, where each element of a vector has a rank. </p>\n",
    "\n",
    "<p>Rank correlation (or Spearman correlation) is very similar to regular correlation (also called Pearson correlation), but it is more robust to relationships that aren't linear. Pearson correlation is to rank correlation as mean is to median."
   ]
  },
  {
   "cell_type": "code",
   "execution_count": 5,
   "metadata": {},
   "outputs": [
    {
     "name": "stdout",
     "output_type": "stream",
     "text": [
      "Comparing Correlations for Popularity and Appearances\n",
      "Correlation: 0.2644\n",
      "Correlation of ranks: 0.4717\n"
     ]
    }
   ],
   "source": [
    "print(\"Comparing Correlations for Popularity and Appearances\")\n",
    "\n",
    "corrcoef = np.corrcoef(tracks_quar['popularity'], tracks_quar['count'])[0][1]\n",
    "rank_corrcoef = np.corrcoef(tracks_quar['popularity'].rank(), tracks_quar['count'].rank())[0][1]\n",
    "\n",
    "print('Correlation: {:.4f}'.format(corrcoef))\n",
    "print('Correlation of ranks: {:.4f}'.format(rank_corrcoef))"
   ]
  },
  {
   "cell_type": "markdown",
   "metadata": {},
   "source": [
    "As we can see, the correlation of ranks is much higher than the linear correlation. This makes sense, as we previously noted that the data is not exactly linear. By comparing the ranks, we can see how the more popular a song is in comparison to the rest of the songs, the more likely it is to be ranked higher in its number of appearances in our quarantine playlists."
   ]
  },
  {
   "cell_type": "markdown",
   "metadata": {},
   "source": [
    "<h4> Popularity Conclusion </h4>\n",
    "\n",
    "<p>From the graphical visualization, it is clear that there is a positive relationship between popularity and the number of appearances in playlists. These two variables are clearly interconnected, as the more popular a song is, the wider its audience, the more well-known it is, and the more likely it is to appear in any one person's playlist. The correlation is quite small because there is clear curvature in the graph. As such, the Spearman R of rank correlation is much higher than the standard linear correlation. Through understanding of the data's context and the graphical representation of the data, popularity clearly impacts the number of appearances in our quarantine tracks.</p>"
   ]
  },
  {
   "cell_type": "markdown",
   "metadata": {},
   "source": [
    "---"
   ]
  },
  {
   "cell_type": "markdown",
   "metadata": {},
   "source": [
    "<h3>2.  Explicitness </h3>"
   ]
  },
  {
   "cell_type": "code",
   "execution_count": 6,
   "metadata": {},
   "outputs": [],
   "source": [
    "#function that creates pie chart for the explicit variable\n",
    "def explicit_pie(dataset, data_name):\n",
    "    count = 0\n",
    "    for i in dataset['explicit']:\n",
    "        if i == 1:\n",
    "            count += 1\n",
    "    percent_explicit = count/len(dataset['explicit'])\n",
    "    \n",
    "    explicit =  (percent_explicit*100)\n",
    "    clean = (1-percent_explicit)*100\n",
    "    \n",
    "    labels = 'Explicit', 'Clean'\n",
    "    fig1, ax1 = plt.subplots()\n",
    "    \n",
    "    ax1.pie([explicit, clean], \n",
    "            explode = (0, 0.1), \n",
    "            autopct='%1.1f%%', \n",
    "            colors = ['#1DB954', 'darkgrey'],\n",
    "            shadow=True, \n",
    "            startangle=90)\n",
    "\n",
    "    ax1.axis('equal')  # Equal aspect ratio ensures that pie is drawn as a circle.\n",
    "    \n",
    "    plt.legend(labels, loc=\"best\")\n",
    "    plt.title(\"What proportion of \" + data_name + \" were explicit?\")\n",
    "    plt.show()\n",
    "    \n",
    "    #explicit_breakdown = {'explicit': explicit, 'clean': clean}\n",
    "    explicit_breakdown = [explicit, clean]\n",
    "    return explicit_breakdown"
   ]
  },
  {
   "cell_type": "code",
   "execution_count": 7,
   "metadata": {},
   "outputs": [
    {
     "data": {
      "image/png": "[encoded data removed]",
      "text/plain": [
       "<Figure size 432x288 with 1 Axes>"
      ]
     },
     "metadata": {},
     "output_type": "display_data"
    }
   ],
   "source": [
    "#2019 Tracks\n",
    "explicit_2019 = explicit_pie(tracks_2019, '2019 Tracks')"
   ]
  },
  {
   "cell_type": "code",
   "execution_count": 8,
   "metadata": {},
   "outputs": [
    {
     "data": {
      "image/png": "[encoded data removed]",
      "text/plain": [
       "<Figure size 432x288 with 1 Axes>"
      ]
     },
     "metadata": {},
     "output_type": "display_data"
    }
   ],
   "source": [
    "#Quarantine Tracks\n",
    "explicit_quarantine = explicit_pie(tracks_quar, \"Quarantine Tracks\")"
   ]
  },
  {
   "cell_type": "code",
   "execution_count": 9,
   "metadata": {},
   "outputs": [],
   "source": [
    "#reusable function for bar chart creation, comparing a variable across two data sets\n",
    "def bar_chart(data_2019, data_quar, title, ticks):\n",
    "    \n",
    "    bars2019 = data_2019 #green\n",
    "    barsquar = data_quar #gray\n",
    "    \n",
    "    barWidth = 0.3\n",
    "    r1 = np.arange(len(bars2019))\n",
    "    r2 = [x + barWidth for x in r1]\n",
    "    \n",
    "    plt.bar(r1, bars2019, color='#1DB954', width=barWidth, edgecolor='white', label='2019')\n",
    "    plt.bar(r2, barsquar, color='darkgrey', width=barWidth, edgecolor='white', label='Quarantine')\n",
    "    \n",
    "    plt.xlabel('Tracks')\n",
    "    plt.ylabel('Percentage of Total')\n",
    "    plt.title(title)\n",
    "    plt.xticks([r + 0.15 for r in range(len(bars2019))], ticks)\n",
    "    \n",
    "    plt.legend()\n",
    "    plt.show()"
   ]
  },
  {
   "cell_type": "code",
   "execution_count": 10,
   "metadata": {},
   "outputs": [
    {
     "data": {
      "image/png": "[encoded data removed]",
      "text/plain": [
       "<Figure size 432x288 with 1 Axes>"
      ]
     },
     "metadata": {
      "needs_background": "light"
     },
     "output_type": "display_data"
    }
   ],
   "source": [
    "#Bar Chart comparison across 2019 and Quarantine Data\n",
    "bar_chart(explicit_2019, explicit_quarantine, title = \"Explicitness Comparison\", ticks = ['Explicit', 'Clean'])"
   ]
  },
  {
   "cell_type": "code",
   "execution_count": 11,
   "metadata": {},
   "outputs": [],
   "source": [
    "def print_percentages(feature, primary_feature):\n",
    "    print(\"Proportion of 2019 songs that are \"+str(primary_feature)+\":  \")\n",
    "    print('{:.4f}'.format(np.mean(tracks_2019[feature])))\n",
    "    \n",
    "    print(\"Proportion of Quarantine songs that are \"+str(primary_feature)+\":  \") \n",
    "    print('{:.4f}'.format(np.mean(tracks_quar[feature])))\n",
    "    \n",
    "    print()\n",
    "    print(\"Difference in proportions from 2019 to Quarantine:\")\n",
    "    print('{:.4f}'.format(np.mean(tracks_quar[feature])-np.mean(tracks_2019[feature])))\n",
    "\n",
    "    print(\"Percent change from 2019 to Quarantine:\")\n",
    "    print('{:.2%}'.format((np.mean(tracks_quar[feature])-np.mean(tracks_2019[feature]))/np.mean(tracks_2019[feature])))"
   ]
  },
  {
   "cell_type": "code",
   "execution_count": 12,
   "metadata": {},
   "outputs": [
    {
     "name": "stdout",
     "output_type": "stream",
     "text": [
      "Proportion of 2019 songs that are Explicit:  \n",
      "0.1631\n",
      "Proportion of Quarantine songs that are Explicit:  \n",
      "0.3071\n",
      "\n",
      "Difference in proportions from 2019 to Quarantine:\n",
      "0.1441\n",
      "Percent change from 2019 to Quarantine:\n",
      "88.36%\n"
     ]
    }
   ],
   "source": [
    "print_percentages('explicit', primary_feature = 'Explicit')"
   ]
  },
  {
   "cell_type": "markdown",
   "metadata": {},
   "source": [
    "<h4> Evaluation of Significance: Explicitness </h4> \n",
    "\n",
    "The difference in the proportion of explict songs is the key test-statistic for us. We want to hold onto this for future reference, so we are going to create a function that returns the difference in the proportions of our two samples."
   ]
  },
  {
   "cell_type": "code",
   "execution_count": 13,
   "metadata": {},
   "outputs": [],
   "source": [
    "def sample_difference(feature):\n",
    "    _quarantine = np.mean(tracks_quar[feature])\n",
    "    _2019 = np.mean(tracks_2019[feature])\n",
    "    difference = _quarantine-_2019\n",
    "    return round(difference, 6)"
   ]
  },
  {
   "cell_type": "code",
   "execution_count": 14,
   "metadata": {},
   "outputs": [
    {
     "data": {
      "text/plain": [
       "0.144075"
      ]
     },
     "execution_count": 14,
     "metadata": {},
     "output_type": "execute_result"
    }
   ],
   "source": [
    "sample_difference('explicit')"
   ]
  },
  {
   "cell_type": "markdown",
   "metadata": {},
   "source": [
    "This means the proportion of explicit songs increased by 0.14% of songs from the 2019 dataset to the Quarantine dataset. Next, we must test its statistical significance."
   ]
  },
  {
   "cell_type": "markdown",
   "metadata": {},
   "source": [
    "To understand the breakdown between 2019 songs and Quarantine songs, we need to make a single dataframe, where the two datasets are concatenated, and include a new column called \"quarantine\", where a song's row has a \"0\" if the song is from the 2019 dataset, and a \"1\" if the song is from the Quarantine dataset. We do this with concatenate_df( )."
   ]
  },
  {
   "cell_type": "code",
   "execution_count": 15,
   "metadata": {},
   "outputs": [],
   "source": [
    "def concatenate_df():\n",
    "    #creating a list of zeros for each song in 2019 tracks\n",
    "    zero_list = []\n",
    "    for x in range(len(tracks_2019)):\n",
    "        zero_list.append(0)\n",
    "    \n",
    "    #creating a list of ones for each song in quarantine tracks\n",
    "    one_list = []\n",
    "    for x in range(len(tracks_quar)):\n",
    "        one_list.append(1)  \n",
    "\n",
    "    #adding these lists as a column to respective dataframes\n",
    "    df_quarantine = tracks_quar.assign(quarantine = one_list)\n",
    "    df_2019 = tracks_2019.assign(quarantine = zero_list)\n",
    "    \n",
    "    #concatenating the two dataframes\n",
    "    new = pd.concat([df_quarantine, df_2019], sort=False)\n",
    "    \n",
    "    #turning explicit column from True / False to 1 / 0\n",
    "    new[\"explicit\"] = new[\"explicit\"].astype(int)\n",
    "    return new"
   ]
  },
  {
   "cell_type": "code",
   "execution_count": 16,
   "metadata": {},
   "outputs": [],
   "source": [
    "#creating a new dataframe that combines the 2019 and quarantine datasets\n",
    "new = concatenate_df()"
   ]
  },
  {
   "cell_type": "markdown",
   "metadata": {},
   "source": [
    "For all our audio features, we will want to know if our differences between our sample means are statistically significant, against a null hypothesis being that there is none. To test our null hypothesis, we need to see if changing the explanatory variable has an effect on the outcome variable. If our null hypothesis is true, then shuffling the explanatory variable, a 2019 or Quarantine song, would have no effect on the outcome.\n",
    "\n",
    "Now that we have the concatenated dataframe, we can shuffle the \"quarantine\" colummn, and thus shuffle the explanatory variable, to see if it influences the shuffled data-set's outcome variable. \n",
    "\n",
    "We do this through the permuted_diff_list() function, essentially reassigning the 'quarantine or not quarantine' explanatory variable values to each outcome value. Then, finds the mean value for the shuffled samples, finding the difference between the two sample means. It does this experiment 500 times, performing the permutation for 500 trials, and returns the list of 500 differences of means for the permuted samples."
   ]
  },
  {
   "cell_type": "code",
   "execution_count": 17,
   "metadata": {},
   "outputs": [],
   "source": [
    "#returns a list of the permuted differences for 500 trials for the parameter *feature*\n",
    "def permuted_diff_list(feature):\n",
    "    \n",
    "    trials = 500\n",
    "    diff_list = []\n",
    "    for x in range(trials):\n",
    "        \n",
    "        new['quarantine'] = np.random.permutation(new[\"quarantine\"].copy())\n",
    "\n",
    "        list_2019 = [] # when 0 means 2019 songs\n",
    "        list_quar = [] # when 1 means quarantine songs\n",
    "\n",
    "        for i in range(len(new)):\n",
    "            if new['quarantine'].iloc[i] == 0:\n",
    "                list_2019.append(new[feature].iloc[i])\n",
    "            else:\n",
    "                list_quar.append(new[feature].iloc[i])\n",
    "                \n",
    "        diff_list.append(np.mean(list_2019) - np.mean(list_quar))\n",
    "        \n",
    "    return diff_list"
   ]
  },
  {
   "cell_type": "code",
   "execution_count": 18,
   "metadata": {},
   "outputs": [],
   "source": [
    "explicit_data = permuted_diff_list(feature = 'explicit')"
   ]
  },
  {
   "cell_type": "markdown",
   "metadata": {},
   "source": [
    "Now that we have run the permutation 500 times, we can plot the distribution of differences of sample means from our 500 permutations, and compare it to the actual difference of sample means from our real data."
   ]
  },
  {
   "cell_type": "code",
   "execution_count": 19,
   "metadata": {},
   "outputs": [],
   "source": [
    "#https://stackoverflow.com/questions/16180946/drawing-average-line-in-histogram-matplotlib\n",
    "def plot_permuted_diff(feature, data, sample):    \n",
    "    plt.hist(data, bins=50)\n",
    "    plt.title(\"Differences In \"+str(feature)+\" Means From 500 Permutations\")\n",
    "    plt.axvline(sample, color='#1DB954', linewidth=1)\n",
    "    plt.text(sample, 17 ,'  {:.4f}'.format(sample), color='#1DB954')\n",
    "    plt.xlabel('Differences')\n",
    "    plt.ylabel('Count')\n",
    "    plt.show()\n",
    "    \n",
    "    print(\"The green line represents the difference in our sample means.\")"
   ]
  },
  {
   "cell_type": "code",
   "execution_count": 20,
   "metadata": {},
   "outputs": [
    {
     "data": {
      "image/png": "[encoded data removed]",
      "text/plain": [
       "<Figure size 432x288 with 1 Axes>"
      ]
     },
     "metadata": {
      "needs_background": "light"
     },
     "output_type": "display_data"
    },
    {
     "name": "stdout",
     "output_type": "stream",
     "text": [
      "The green line represents the difference in our sample means.\n",
      "The difference in means of our data:  0.144075\n"
     ]
    }
   ],
   "source": [
    "plot_permuted_diff(feature = 'explicit', data = explicit_data, sample = sample_difference('explicit'))\n",
    "print(\"The difference in means of our data: \", sample_difference('explicit'))"
   ]
  },
  {
   "cell_type": "markdown",
   "metadata": {},
   "source": [
    "Clearly, the difference in means found in our data is very far from the distribution of permuted differences. Thus, the difference in the proportion of songs that are explicit from 2019 to Quarantine definitely appear significant. Let's see what it's p-value is. We can find the p-value by comparing our test statistic to the distribution of permutated differences, by the ranking of the real test-statistic for our data among the shuffled test-statistic gave us our p-value, which we compared to an alpha-level of 0.05."
   ]
  },
  {
   "cell_type": "code",
   "execution_count": 21,
   "metadata": {},
   "outputs": [],
   "source": [
    "def permutation_p_value(data, feature):\n",
    "    trials = 500\n",
    "    count = 0\n",
    "    for d in data:\n",
    "        if d > abs(sample_difference(feature)):\n",
    "            count += 1\n",
    "    p_value = format((count/trials), '.8f')\n",
    "\n",
    "    print(\"Permutation Test Results\")\n",
    "    print(\".....\")\n",
    "    print(\"p_value: \", p_value)"
   ]
  },
  {
   "cell_type": "code",
   "execution_count": 22,
   "metadata": {},
   "outputs": [
    {
     "name": "stdout",
     "output_type": "stream",
     "text": [
      "Permutation Test Results\n",
      ".....\n",
      "p_value:  0.00000000\n"
     ]
    }
   ],
   "source": [
    "permutation_p_value(data = explicit_data, feature = 'explicit')"
   ]
  },
  {
   "cell_type": "markdown",
   "metadata": {},
   "source": [
    "Clearly, this is an extremely low p-value. Given our null hypothesis (that there is no difference in means) is true, there is a 0% chance we would see these results due to random variation. This p-value is well below our alpha-level of 0.05. Thus, we reject the null hypothesis that there is no difference in means, and accept the alternative, that there is a difference. "
   ]
  },
  {
   "cell_type": "markdown",
   "metadata": {},
   "source": [
    "Let's double check this p-value with the results of a t-test for two sample means. The function below performs a two-sample t-test with an alpha level of 0.05, and prints the key test results. "
   ]
  },
  {
   "cell_type": "code",
   "execution_count": 23,
   "metadata": {},
   "outputs": [],
   "source": [
    "def t_test_means(feature):\n",
    "    \n",
    "    alpha = 0.05\n",
    "    \n",
    "    #sample size\n",
    "    n_2019 = len(tracks_2019[feature])\n",
    "    n_quar = len(tracks_quar[feature])\n",
    "    \n",
    "    #standard error\n",
    "    se_2019 = tracks_2019[feature].std()/np.sqrt(n_2019)\n",
    "    se_quar = tracks_quar[feature].std()/np.sqrt(n_quar)\n",
    "    \n",
    "    #standard error of differences\n",
    "    sed = np.sqrt(se_2019**2 + se_quar**2)\n",
    "    \n",
    "    #t-statistic\n",
    "    t_stat =(np.mean(tracks_2019[feature])-np.mean(tracks_quar[feature]))/sed\n",
    "    \n",
    "    #degrees of freedom\n",
    "    df = n_2019 + n_quar - 2\n",
    "\n",
    "    #critical value using scipy ppf (percent point function)\n",
    "    cv = t.ppf(1.0-alpha,df)\n",
    "\n",
    "    #p-value using scipy cdf (cumulative distribution function) for t-distribution \n",
    "    p = (1-t.cdf(abs(t_stat), df))**2\n",
    "    \n",
    "    print(\"T-Test Results\")\n",
    "    print(\".....\")\n",
    "    print(\"T-Statistic: \" +str(t_stat))\n",
    "    print(\"Degress of Freedom: \" +str(df))\n",
    "    print(\"Critical Value: \" +str(cv))\n",
    "    print(\"p-value: {:.8f}\".format(p))"
   ]
  },
  {
   "cell_type": "code",
   "execution_count": 24,
   "metadata": {},
   "outputs": [
    {
     "name": "stdout",
     "output_type": "stream",
     "text": [
      "T-Test Results\n",
      ".....\n",
      "T-Statistic: -22.100686565206274\n",
      "Degress of Freedom: 16240\n",
      "Critical Value: 1.6449474604860919\n",
      "p-value: 0.00000000\n"
     ]
    }
   ],
   "source": [
    "t_test_means('explicit')"
   ]
  },
  {
   "cell_type": "markdown",
   "metadata": {},
   "source": [
    "<em> Note: We will use this statistical significance testing process in each of the folloring audio feature sections. </em>"
   ]
  },
  {
   "cell_type": "markdown",
   "metadata": {},
   "source": [
    "<h4> An Explicit Conclusion? </h4>\n",
    "\n",
    "<p> There is a clear change in the proportion of explicit content people are listening to during quarantine. Only  16.3% of the 2019 songs featured explicit content, nearly doubling to 30.7% during quarantine (a 14% difference in proportions). As explained during the significance tests, it's almost impossible this was merely due to random chance. </p>\n",
    "\n",
    "<p> In sum, explicit music has almost doubled... and we thought people were being clean during quarantine!\n",
    "Jokes aside, this is an interesting conclusion to start with, but we will need more audio features to fully draw out how this pandemic influences our music choices. </p>"
   ]
  },
  {
   "cell_type": "markdown",
   "metadata": {},
   "source": [
    "---"
   ]
  },
  {
   "cell_type": "markdown",
   "metadata": {},
   "source": [
    "<h3> 3. Key </h3> "
   ]
  },
  {
   "cell_type": "code",
   "execution_count": 25,
   "metadata": {},
   "outputs": [],
   "source": [
    "#Counts the number of songs with each key, returns the percentage of total\n",
    "def key_breakdown(dataset):\n",
    "    count_0 = 0\n",
    "    count_1 = 0\n",
    "    count_2 = 0\n",
    "    count_3 = 0\n",
    "    count_4 = 0\n",
    "    count_5 = 0\n",
    "    count_6 = 0\n",
    "    count_7 = 0\n",
    "    count_8 = 0\n",
    "    count_9 = 0\n",
    "    count_10 = 0\n",
    "    count_11 = 0\n",
    "    for i in dataset['key']:\n",
    "        if i == 0:\n",
    "            count_0 += 1\n",
    "        if i == 1:\n",
    "            count_1 += 1\n",
    "        if i == 2:\n",
    "            count_2 += 1\n",
    "        if i == 3:\n",
    "            count_3 += 1\n",
    "        if i == 4:\n",
    "            count_4 += 1\n",
    "        if i == 5:\n",
    "            count_5 += 1\n",
    "        if i == 6:\n",
    "            count_6 += 1\n",
    "        if i == 7:\n",
    "            count_7 += 1\n",
    "        if i == 8:\n",
    "            count_8 += 1\n",
    "        if i == 9:\n",
    "            count_9 += 1\n",
    "        if i == 10:\n",
    "            count_10 += 1\n",
    "        if i == 11:\n",
    "            count_11 += 1\n",
    "    key_counts = [count_0, count_1, count_2, count_3, count_4, count_5, count_6, count_7, count_8, count_9, count_10, count_11]\n",
    "    \n",
    "    key_percentage = []\n",
    "    for count in key_counts:\n",
    "        key_perc = (count/len(dataset['key']))*100\n",
    "        key_percentage.append(key_perc)\n",
    "    \n",
    "    return key_percentage"
   ]
  },
  {
   "cell_type": "code",
   "execution_count": 26,
   "metadata": {},
   "outputs": [],
   "source": [
    "#Creates a pie chart for the keys\n",
    "def key_pie(key_breakdown, data_name):\n",
    "    \n",
    "    labels = 'C', 'C♯/D♭', 'D', 'D♯/E♭', 'E', 'F', 'F#/G♭', 'G', 'G♯/A♭', 'A', 'A♯/B♭', 'B'\n",
    "    fig1, ax1 = plt.subplots()\n",
    "\n",
    "    ax1.pie(key_breakdown, \n",
    "            explode= (0, 0, 0, 0, 0, 0, 0, 0, 0, 0, 0, 0), \n",
    "            colors = [\"#FFD699\", \"#FFB266\", \"#FFFF99\", \"#CCFF99\", \"#99FFFF\", \"#9933FF\", \"#009999\", \"#99CCFF\", \"#FF99CC\", \"#FF0077\", \"#FFFF00\", \"#E0E0E0\", \"#999FF\"], \n",
    "            autopct='%1.0f%%',\n",
    "            shadow=True, \n",
    "            startangle=90)\n",
    "    \n",
    "    ax1.axis('equal')  # Equal aspect ratio ensures that pie is drawn as a circle.\n",
    "    plt.legend(labels, loc=\"best\")\n",
    "    plt.title(\"What proportion of \" + data_name + \" were which keys?\")\n",
    "    plt.show()"
   ]
  },
  {
   "cell_type": "code",
   "execution_count": 27,
   "metadata": {},
   "outputs": [
    {
     "data": {
      "image/png": "[encoded data removed]",
      "text/plain": [
       "<Figure size 432x288 with 1 Axes>"
      ]
     },
     "metadata": {},
     "output_type": "display_data"
    }
   ],
   "source": [
    "#Quarantine Tracks\n",
    "key_pie(key_breakdown(tracks_quar), \"Quarantine Tracks\")"
   ]
  },
  {
   "cell_type": "code",
   "execution_count": 28,
   "metadata": {},
   "outputs": [
    {
     "data": {
      "image/png": "[encoded data removed]",
      "text/plain": [
       "<Figure size 432x288 with 1 Axes>"
      ]
     },
     "metadata": {},
     "output_type": "display_data"
    }
   ],
   "source": [
    "#2019 Tracks\n",
    "key_pie(key_breakdown(tracks_2019), \"2019 Tracks\")"
   ]
  },
  {
   "cell_type": "code",
   "execution_count": 29,
   "metadata": {},
   "outputs": [
    {
     "data": {
      "image/png": "[encoded data removed]",
      "text/plain": [
       "<Figure size 432x288 with 1 Axes>"
      ]
     },
     "metadata": {
      "needs_background": "light"
     },
     "output_type": "display_data"
    }
   ],
   "source": [
    "#Bar chart comparing across 2019 and Quarantine Data\n",
    "bar_chart(key_breakdown(tracks_quar), key_breakdown(tracks_2019), title = \"Keys Comparison\", ticks = ['C', 'C♯/D♭', 'D', 'D♯/E♭', 'E', 'F', 'F#/G♭', 'G', 'G♯/A♭', 'A', 'A♯/B♭', 'B'])"
   ]
  },
  {
   "cell_type": "markdown",
   "metadata": {},
   "source": [
    "<h4> Conclusion: Key Takaways </h4>\n",
    "\n",
    "<p> The pie charts illustrates a few things. First, in both quarantine and 2019 datasets, the most popular Key's were C, and C♯/D♭, accounting for a combined 35% of the dataset. That said, the somewhat even distribution of the chart indicates that the key of a song does not have a <em> dramatic </em> effect on the song's success. In other words, there is no one key that dominates music. Stay away from D# though...\n",
    "    \n",
    "<p> More importantly, we see almost no change in the two datasets, illustrating that the quarantine has little effect on the key to which songs are written. As this categorical variable shows little change, we do not think proving the significance of these differences is as informative. This wasn't the <em> key </em> to our research, unfortunately.</p>"
   ]
  },
  {
   "cell_type": "markdown",
   "metadata": {},
   "source": [
    "---"
   ]
  },
  {
   "cell_type": "markdown",
   "metadata": {},
   "source": [
    "<h3>4. Mode </h3>"
   ]
  },
  {
   "cell_type": "code",
   "execution_count": 30,
   "metadata": {},
   "outputs": [],
   "source": [
    "def mode_counter(dataset, data_name):\n",
    "    print(data_name)\n",
    "    #Major keys are denoted as 1, Minor keys denoted as 0\n",
    "    #Could combine this function with pie chart function\n",
    "    count_major = 0\n",
    "    count_minor = 0\n",
    "    for i in dataset['mode']:\n",
    "        if i == 1:\n",
    "            count_major += 1\n",
    "        if i == 0:\n",
    "            count_minor += 1\n",
    "    \n",
    "    print(\"count_major: \", count_major)\n",
    "    print(\"count_minor: \", count_minor)\n",
    "    \n",
    "    percent_major = count_major/len(dataset['mode'])\n",
    "    print('percent_major: ','{:.2%}'.format(percent_major))\n",
    "    \n",
    "    mode_breakdown = [count_major/len(dataset['mode']), count_minor/len(dataset['mode'])]\n",
    "    \n",
    "    return mode_breakdown"
   ]
  },
  {
   "cell_type": "code",
   "execution_count": 31,
   "metadata": {},
   "outputs": [],
   "source": [
    "def mode_pie(breakdown, data_name):\n",
    "    labels = 'Major', 'Minor'\n",
    "    sizes = breakdown\n",
    "    \n",
    "    fig1, ax1 = plt.subplots()\n",
    "    ax1.pie(sizes, \n",
    "            explode = (0.1, 0),  \n",
    "            autopct = '%1.1f%%', \n",
    "            colors = ['#1DB954', 'darkgrey'],\n",
    "            shadow = True, \n",
    "            startangle=90)\n",
    "    \n",
    "    plt.legend(labels, loc=\"best\")\n",
    "    ax1.axis('equal')  # Equal aspect ratio ensures that pie is drawn as a circle.\n",
    "    plt.title(data_name + \": Major or Minor?\")\n",
    "    plt.show()"
   ]
  },
  {
   "cell_type": "code",
   "execution_count": 32,
   "metadata": {},
   "outputs": [
    {
     "name": "stdout",
     "output_type": "stream",
     "text": [
      "Quarantine Tracks\n",
      "count_major:  5576\n",
      "count_minor:  3368\n",
      "percent_major:  62.34%\n"
     ]
    },
    {
     "data": {
      "image/png": "[encoded data removed]",
      "text/plain": [
       "<Figure size 432x288 with 1 Axes>"
      ]
     },
     "metadata": {},
     "output_type": "display_data"
    }
   ],
   "source": [
    "#Quarantine Tracks\n",
    "mode_breakdown_quarantine = mode_counter(tracks_quar, \"Quarantine Tracks\")\n",
    "mode_pie(mode_breakdown_quarantine,\"Quarantine Tracks\")"
   ]
  },
  {
   "cell_type": "code",
   "execution_count": 33,
   "metadata": {},
   "outputs": [
    {
     "name": "stdout",
     "output_type": "stream",
     "text": [
      "2019 Tracks\n",
      "count_major:  4398\n",
      "count_minor:  2900\n",
      "percent_major:  60.26%\n"
     ]
    },
    {
     "data": {
      "image/png": "[encoded data removed]",
      "text/plain": [
       "<Figure size 432x288 with 1 Axes>"
      ]
     },
     "metadata": {},
     "output_type": "display_data"
    }
   ],
   "source": [
    "#2019 Tracks\n",
    "mode_breakdown_2019 = mode_counter(tracks_2019, \"2019 Tracks\")\n",
    "mode_pie(mode_breakdown_2019, \"2019 Tracks\")"
   ]
  },
  {
   "cell_type": "code",
   "execution_count": 34,
   "metadata": {
    "scrolled": true
   },
   "outputs": [
    {
     "data": {
      "image/png": "[encoded data removed]",
      "text/plain": [
       "<Figure size 432x288 with 1 Axes>"
      ]
     },
     "metadata": {
      "needs_background": "light"
     },
     "output_type": "display_data"
    }
   ],
   "source": [
    "#Bar chart comparing across 2019 and Quarantine Data\n",
    "bar_chart(mode_breakdown_2019, mode_breakdown_quarantine, title = \"Mode Comparison\", ticks = [\"Major\", \"Minor\"] )"
   ]
  },
  {
   "cell_type": "code",
   "execution_count": 35,
   "metadata": {},
   "outputs": [
    {
     "name": "stdout",
     "output_type": "stream",
     "text": [
      "Proportion of 2019 songs that are Major:  \n",
      "0.6026\n",
      "Proportion of Quarantine songs that are Major:  \n",
      "0.6234\n",
      "\n",
      "Difference in proportions from 2019 to Quarantine:\n",
      "0.0208\n",
      "Percent change from 2019 to Quarantine:\n",
      "3.45%\n"
     ]
    }
   ],
   "source": [
    "print_percentages('mode', 'Major')"
   ]
  },
  {
   "cell_type": "markdown",
   "metadata": {},
   "source": [
    "<h4> Evaluation of Significance: Mode </h4> "
   ]
  },
  {
   "cell_type": "code",
   "execution_count": 85,
   "metadata": {},
   "outputs": [
    {
     "name": "stdout",
     "output_type": "stream",
     "text": [
      "The difference in mean mode between Quarantine and 2019 songs:\n",
      "0.020804\n"
     ]
    }
   ],
   "source": [
    "print(\"The difference in mean mode between Quarantine and 2019 songs:\")\n",
    "print(sample_difference('mode'))"
   ]
  },
  {
   "cell_type": "code",
   "execution_count": 37,
   "metadata": {},
   "outputs": [],
   "source": [
    "mode_data = permuted_diff_list(feature = 'mode')"
   ]
  },
  {
   "cell_type": "code",
   "execution_count": 38,
   "metadata": {},
   "outputs": [
    {
     "data": {
      "image/png": "[encoded data removed]",
      "text/plain": [
       "<Figure size 432x288 with 1 Axes>"
      ]
     },
     "metadata": {
      "needs_background": "light"
     },
     "output_type": "display_data"
    },
    {
     "name": "stdout",
     "output_type": "stream",
     "text": [
      "The green line represents the difference in our sample means.\n",
      "The difference in means of our data:  0.020804\n"
     ]
    }
   ],
   "source": [
    "plot_permuted_diff(feature = 'mode', data = mode_data, sample = sample_difference('mode'))\n",
    "print(\"The difference in means of our data: \", sample_difference('mode'))"
   ]
  },
  {
   "cell_type": "code",
   "execution_count": 39,
   "metadata": {},
   "outputs": [
    {
     "name": "stdout",
     "output_type": "stream",
     "text": [
      "Permutation Test Results\n",
      ".....\n",
      "p_value:  0.00200000\n"
     ]
    }
   ],
   "source": [
    "permutation_p_value(data = mode_data, feature = 'mode')"
   ]
  },
  {
   "cell_type": "code",
   "execution_count": 40,
   "metadata": {},
   "outputs": [
    {
     "name": "stdout",
     "output_type": "stream",
     "text": [
      "T-Test Results\n",
      ".....\n",
      "T-Statistic: -2.706863775370696\n",
      "Degress of Freedom: 16240\n",
      "Critical Value: 1.6449474604860919\n",
      "p-value: 0.00001156\n"
     ]
    }
   ],
   "source": [
    "t_test_means(feature = 'mode')"
   ]
  },
  {
   "cell_type": "markdown",
   "metadata": {},
   "source": [
    "<h4> Conclusion: Does Mood Affect the Mode? </h4>\n",
    "<p> The Quarantine dataset had a 0.0208 higher average mode than the 2019's tracks. As we counted songs that were in Minor as 0, and Major in 1, the proportion of songs that were in Major changed by 0.02 from the 2019 to the Quarantine datset. To put it simply, the quaranatine songs were cheerier. This is encouraging, indicating music might be improving people's mood during this difficult time. The simulations provided a P-value of 0.002, while the T-test provided an even smaller P-value approaching 0.000012. As our datasets are both massive (8000+ songs), a 2% change in mode is statistically significant, and meaningful. "
   ]
  },
  {
   "cell_type": "markdown",
   "metadata": {},
   "source": [
    "---\n",
    "---"
   ]
  },
  {
   "cell_type": "markdown",
   "metadata": {},
   "source": [
    "<h2> II. Describing Music: Quantitative Audio Features </h2>"
   ]
  },
  {
   "cell_type": "markdown",
   "metadata": {},
   "source": [
    "Next, we will analyze six complex audio features that Spotify denotes as floats, providing a sort of road map for each song. These remaining, quantitative, features include: \n",
    " \n",
    "5. **Energy** - The energy of a song represents a perceptual measure of intensity and activity, including dynamic range, perceived loudness, timbre, onset rate, and general entropy. Typically, energetic tracks feel fast, loud, and noisy. For example, death metal has high energy, while a Bach prelude scores low on the scale. \n",
    "  \n",
    "6. **Danceability** - This audio feature is similar to energy, describing how suitable a track is for dancing based on a combination of musical elements including tempo, rhythm stability, beat strength, and overall regularity.\n",
    " \n",
    "7. **Valence** - A song's valence score describes the musical positiveness conveyed by a track. Tracks with high valence sound more positive (e.g. happy, cheerful, euphoric), while tracks with low valence sound more negative (e.g. sad, depressed, angry).\n",
    " \n",
    "8. **Acousticness** -  This is a confidence measure that determines whether a track is acoustic. Scores range from 0.0 to 1.0, providing a spectrum of musical range in between. \n",
    " \n",
    "9. **Speechiness** - This feature detects the presence of spoken words in a track, especially useful in separating rap-music and genres with a high-concentration of speech/vocals from other types of music, such as classical. Tracks of this nature receive a score close to 1.0. \n",
    " \n",
    "10. **Tempo** - Finally, tempo is the speed or pace of a given song, derived directly from the average beat duration, in beats per minute."
   ]
  },
  {
   "cell_type": "markdown",
   "metadata": {},
   "source": [
    "<h3> 5. Energy </h3>"
   ]
  },
  {
   "cell_type": "code",
   "execution_count": 41,
   "metadata": {},
   "outputs": [],
   "source": [
    "#creates a box plot that compares one feature across quarantine tracks and 2019 tracks\n",
    "def box_plot_comparisons(feature):\n",
    "    \n",
    "    x = tracks_2019[feature]\n",
    "    y = tracks_quar[feature] \n",
    "    \n",
    "    data_to_plot = x, y\n",
    "    fig = plt.figure(1, figsize=(8, 7))\n",
    "    ax = fig.add_subplot(111)\n",
    "    bp = ax.boxplot(data_to_plot)\n",
    "    bp = ax.boxplot(data_to_plot, patch_artist=True)\n",
    "    \n",
    "    for box in bp['boxes']:\n",
    "        box.set( color='black', linewidth=2)\n",
    "        box.set( facecolor = '#1DB954' )\n",
    "    \n",
    "    for whisker in bp['whiskers']:\n",
    "        whisker.set(color='black', linewidth=2)\n",
    "    \n",
    "    for cap in bp['caps']:\n",
    "        cap.set(color='black', linewidth=2)\n",
    "    \n",
    "    for median in bp['medians']:\n",
    "        median.set(color='#b2df8a', linewidth=2)\n",
    "    \n",
    "    for flier in bp['fliers']:\n",
    "        flier.set(marker='o', color='#e7298a', alpha=0.5)\n",
    "    \n",
    "    ax.set_xticklabels(['2019 Tracks', 'Quarantine Songs'])\n",
    "    plt.title(feature + \": Quarantine vs. 2019\")\n",
    "    plt.ylabel(\"Scale\")\n",
    "    plt.show()"
   ]
  },
  {
   "cell_type": "code",
   "execution_count": 42,
   "metadata": {},
   "outputs": [
    {
     "data": {
      "image/png": "[encoded data removed]",
      "text/plain": [
       "<Figure size 576x504 with 1 Axes>"
      ]
     },
     "metadata": {
      "needs_background": "light"
     },
     "output_type": "display_data"
    }
   ],
   "source": [
    "box_plot_comparisons('energy')"
   ]
  },
  {
   "cell_type": "code",
   "execution_count": 43,
   "metadata": {},
   "outputs": [],
   "source": [
    "def print_means(feature):\n",
    "    print(\"Mean \"+str(feature)+\" value for 2019:  \")\n",
    "    print('{:.4f}'.format(np.mean(tracks_2019[feature])))\n",
    "    \n",
    "    print(\"Mean \"+str(feature)+\" value for Quarantine:  \") \n",
    "    print('{:.4f}'.format(np.mean(tracks_quar[feature])))\n",
    "    \n",
    "    print()\n",
    "    print(\"Difference in means from 2019 to Quarantine:\")\n",
    "    print('{:.4f}'.format(np.mean(tracks_quar[feature])-np.mean(tracks_2019[feature])))\n",
    "    \n",
    "    print(\"Percent change from 2019 mean to Quarantine mean:\")\n",
    "    percent_change = (np.mean(tracks_quar[feature])-np.mean(tracks_2019[feature]))/np.mean(tracks_2019[feature])\n",
    "    print('{:.2%}'.format(percent_change))"
   ]
  },
  {
   "cell_type": "code",
   "execution_count": 44,
   "metadata": {},
   "outputs": [
    {
     "name": "stdout",
     "output_type": "stream",
     "text": [
      "Mean energy value for 2019:  \n",
      "0.7014\n",
      "Mean energy value for Quarantine:  \n",
      "0.6376\n",
      "\n",
      "Difference in means from 2019 to Quarantine:\n",
      "-0.0637\n",
      "Percent change from 2019 mean to Quarantine mean:\n",
      "-9.09%\n"
     ]
    }
   ],
   "source": [
    "print_means('energy')"
   ]
  },
  {
   "cell_type": "markdown",
   "metadata": {},
   "source": [
    "<h4> Evaluation of Significance: Energy </h4> "
   ]
  },
  {
   "cell_type": "code",
   "execution_count": 45,
   "metadata": {},
   "outputs": [],
   "source": [
    "energy_data = permuted_diff_list(feature = 'energy')"
   ]
  },
  {
   "cell_type": "code",
   "execution_count": 46,
   "metadata": {},
   "outputs": [
    {
     "data": {
      "image/png": "[encoded data removed]",
      "text/plain": [
       "<Figure size 432x288 with 1 Axes>"
      ]
     },
     "metadata": {
      "needs_background": "light"
     },
     "output_type": "display_data"
    },
    {
     "name": "stdout",
     "output_type": "stream",
     "text": [
      "The green line represents the difference in our sample means.\n",
      "The difference in means of our data:  -0.063739\n"
     ]
    }
   ],
   "source": [
    "plot_permuted_diff(feature = 'energy', data = energy_data, sample = sample_difference('energy'))\n",
    "print(\"The difference in means of our data: \", sample_difference('energy'))"
   ]
  },
  {
   "cell_type": "code",
   "execution_count": 47,
   "metadata": {},
   "outputs": [
    {
     "name": "stdout",
     "output_type": "stream",
     "text": [
      "Permutation Test Results\n",
      ".....\n",
      "p_value:  0.00000000\n"
     ]
    }
   ],
   "source": [
    "permutation_p_value(data = energy_data, feature = 'energy')"
   ]
  },
  {
   "cell_type": "code",
   "execution_count": 48,
   "metadata": {},
   "outputs": [
    {
     "name": "stdout",
     "output_type": "stream",
     "text": [
      "T-Test Results\n",
      ".....\n",
      "T-Statistic: 22.17580623566197\n",
      "Degress of Freedom: 16240\n",
      "Critical Value: 1.6449474604860919\n",
      "p-value: 0.00000000\n"
     ]
    }
   ],
   "source": [
    "t_test_means(feature = 'energy')"
   ]
  },
  {
   "cell_type": "markdown",
   "metadata": {},
   "source": [
    "<h4> Conclusion: Effect on Energy </h4>\n",
    "    \n",
    "<p> The average energy of Quarantine songs decreased by approximately 0.0637 from 2019 songs -- a drop in overall loudness, timbre, onset rate, and general entropy potentially induced by the closing of bars, clubs, venues, and house parties. Our simulations provided a p-value approaching 0.000000..., and our t-test provided the same. A 0.637 difference in means is certainly statistically significant, further guiding our conclusions about the effect of isolation on music choice. </p>"
   ]
  },
  {
   "cell_type": "markdown",
   "metadata": {},
   "source": [
    "---"
   ]
  },
  {
   "cell_type": "markdown",
   "metadata": {},
   "source": [
    "<h3> 6. Danceability </h3>"
   ]
  },
  {
   "cell_type": "code",
   "execution_count": 49,
   "metadata": {
    "scrolled": true
   },
   "outputs": [
    {
     "data": {
      "image/png": "[encoded data removed]",
      "text/plain": [
       "<Figure size 576x504 with 1 Axes>"
      ]
     },
     "metadata": {
      "needs_background": "light"
     },
     "output_type": "display_data"
    }
   ],
   "source": [
    "box_plot_comparisons('danceability')"
   ]
  },
  {
   "cell_type": "code",
   "execution_count": 50,
   "metadata": {},
   "outputs": [
    {
     "name": "stdout",
     "output_type": "stream",
     "text": [
      "Mean danceability value for 2019:  \n",
      "0.6489\n",
      "Mean danceability value for Quarantine:  \n",
      "0.6566\n",
      "\n",
      "Difference in means from 2019 to Quarantine:\n",
      "0.0077\n",
      "Percent change from 2019 mean to Quarantine mean:\n",
      "1.18%\n"
     ]
    }
   ],
   "source": [
    "print_means('danceability')"
   ]
  },
  {
   "cell_type": "markdown",
   "metadata": {},
   "source": [
    "<h4> Evaluation of Significance: Danceability </h4> "
   ]
  },
  {
   "cell_type": "code",
   "execution_count": 51,
   "metadata": {},
   "outputs": [
    {
     "name": "stdout",
     "output_type": "stream",
     "text": [
      "The difference in mean danceability between Quarantine and 2019 songs:\n",
      "0.007651\n"
     ]
    }
   ],
   "source": [
    "print(\"The difference in mean danceability between Quarantine and 2019 songs:\")\n",
    "print(sample_difference('danceability'))"
   ]
  },
  {
   "cell_type": "code",
   "execution_count": 52,
   "metadata": {},
   "outputs": [],
   "source": [
    "danceability_data = permuted_diff_list(feature = 'danceability')"
   ]
  },
  {
   "cell_type": "code",
   "execution_count": 53,
   "metadata": {},
   "outputs": [
    {
     "data": {
      "image/png": "[encoded data removed]",
      "text/plain": [
       "<Figure size 432x288 with 1 Axes>"
      ]
     },
     "metadata": {
      "needs_background": "light"
     },
     "output_type": "display_data"
    },
    {
     "name": "stdout",
     "output_type": "stream",
     "text": [
      "The green line represents the difference in our sample means.\n",
      "The difference in means of our data:  0.007651\n"
     ]
    }
   ],
   "source": [
    "plot_permuted_diff(feature = 'danceability', data = danceability_data, sample = sample_difference('danceability'))\n",
    "print(\"The difference in means of our data: \", sample_difference('danceability'))"
   ]
  },
  {
   "cell_type": "code",
   "execution_count": 54,
   "metadata": {},
   "outputs": [
    {
     "name": "stdout",
     "output_type": "stream",
     "text": [
      "Permutation Test Results\n",
      ".....\n",
      "p_value:  0.00000000\n"
     ]
    }
   ],
   "source": [
    "permutation_p_value(data = danceability_data, feature = 'danceability')"
   ]
  },
  {
   "cell_type": "code",
   "execution_count": 55,
   "metadata": {},
   "outputs": [
    {
     "name": "stdout",
     "output_type": "stream",
     "text": [
      "T-Test Results\n",
      ".....\n",
      "T-Statistic: -3.171799097435241\n",
      "Degress of Freedom: 16240\n",
      "Critical Value: 1.6449474604860919\n",
      "p-value: 0.00000058\n"
     ]
    }
   ],
   "source": [
    "t_test_means(feature = 'danceability')"
   ]
  },
  {
   "cell_type": "markdown",
   "metadata": {},
   "source": [
    "<h4> Conclusion: Are we dancing at home? </h4>\n",
    "<p> The average danceability score actually <em> increased </em> by 0.0077. While this is the smallest change we've seen thus far, our analysis proved statistically significant, yielding a 5.8 x 10e-7 p-value. Both p-values from our permutations and t-test came extremely close to 0. Music suitable to dancing appears to be just as appealing alone as when with others. Maybe, without fearing judgement from our peers, people are finally breaking out some moves in the privacy of their homes."
   ]
  },
  {
   "cell_type": "markdown",
   "metadata": {},
   "source": [
    "---"
   ]
  },
  {
   "cell_type": "markdown",
   "metadata": {},
   "source": [
    "<h3> 7. Valence </h3>"
   ]
  },
  {
   "cell_type": "code",
   "execution_count": 56,
   "metadata": {
    "scrolled": true
   },
   "outputs": [
    {
     "data": {
      "image/png": "[encoded data removed]",
      "text/plain": [
       "<Figure size 576x504 with 1 Axes>"
      ]
     },
     "metadata": {
      "needs_background": "light"
     },
     "output_type": "display_data"
    }
   ],
   "source": [
    "box_plot_comparisons('valence')"
   ]
  },
  {
   "cell_type": "code",
   "execution_count": 57,
   "metadata": {},
   "outputs": [
    {
     "name": "stdout",
     "output_type": "stream",
     "text": [
      "Mean valence value for 2019:  \n",
      "0.5529\n",
      "Mean valence value for Quarantine:  \n",
      "0.5278\n",
      "\n",
      "Difference in means from 2019 to Quarantine:\n",
      "-0.0250\n",
      "Percent change from 2019 mean to Quarantine mean:\n",
      "-4.53%\n"
     ]
    }
   ],
   "source": [
    "print_means('valence')"
   ]
  },
  {
   "cell_type": "markdown",
   "metadata": {},
   "source": [
    "<h4> Evaluation of Significance: Valence </h4> "
   ]
  },
  {
   "cell_type": "code",
   "execution_count": 58,
   "metadata": {},
   "outputs": [
    {
     "name": "stdout",
     "output_type": "stream",
     "text": [
      "The difference in mean valence between Quarantine and 2019 songs:\n",
      "-0.025037\n"
     ]
    }
   ],
   "source": [
    "print(\"The difference in mean valence between Quarantine and 2019 songs:\")\n",
    "print(sample_difference('valence'))"
   ]
  },
  {
   "cell_type": "code",
   "execution_count": 59,
   "metadata": {},
   "outputs": [],
   "source": [
    "valence_data = permuted_diff_list(feature = 'valence')"
   ]
  },
  {
   "cell_type": "code",
   "execution_count": 60,
   "metadata": {},
   "outputs": [
    {
     "data": {
      "image/png": "[encoded data removed]",
      "text/plain": [
       "<Figure size 432x288 with 1 Axes>"
      ]
     },
     "metadata": {
      "needs_background": "light"
     },
     "output_type": "display_data"
    },
    {
     "name": "stdout",
     "output_type": "stream",
     "text": [
      "The green line represents the difference in our sample means.\n",
      "The difference in means of our data:  -0.025037\n"
     ]
    }
   ],
   "source": [
    "plot_permuted_diff(feature = 'valence', data = valence_data, sample = sample_difference('valence'))\n",
    "print(\"The difference in means of our data: \", sample_difference('valence'))"
   ]
  },
  {
   "cell_type": "code",
   "execution_count": 61,
   "metadata": {},
   "outputs": [
    {
     "name": "stdout",
     "output_type": "stream",
     "text": [
      "Permutation Test Results\n",
      ".....\n",
      "p_value:  0.00000000\n"
     ]
    }
   ],
   "source": [
    "permutation_p_value(data = valence_data, feature = 'valence')"
   ]
  },
  {
   "cell_type": "code",
   "execution_count": 62,
   "metadata": {},
   "outputs": [
    {
     "name": "stdout",
     "output_type": "stream",
     "text": [
      "T-Test Results\n",
      ".....\n",
      "T-Statistic: 6.7228745306290945\n",
      "Degress of Freedom: 16240\n",
      "Critical Value: 1.6449474604860919\n",
      "p-value: 0.00000000\n"
     ]
    }
   ],
   "source": [
    "t_test_means(feature = 'valence')"
   ]
  },
  {
   "cell_type": "markdown",
   "metadata": {},
   "source": [
    "<h4> Conclusion: Is there value in valence? </h4>\n",
    "<p> The mean acousticness in 2019 songs decreased by 0.0250 on a 0 to 1 scale, going from 0.5529 down to 0.5278 mean valence in Quarantine songs. Further, with both p-values approaching 0.000000, it is clear that a percentage decrease of this size is certainly statistically significant."
   ]
  },
  {
   "cell_type": "markdown",
   "metadata": {},
   "source": [
    "---"
   ]
  },
  {
   "cell_type": "markdown",
   "metadata": {},
   "source": [
    "<h3> 8. Acousticness </h3>"
   ]
  },
  {
   "cell_type": "code",
   "execution_count": 63,
   "metadata": {
    "scrolled": true
   },
   "outputs": [
    {
     "data": {
      "image/png": "[encoded data removed]",
      "text/plain": [
       "<Figure size 576x504 with 1 Axes>"
      ]
     },
     "metadata": {
      "needs_background": "light"
     },
     "output_type": "display_data"
    }
   ],
   "source": [
    "box_plot_comparisons('acousticness')"
   ]
  },
  {
   "cell_type": "code",
   "execution_count": 64,
   "metadata": {},
   "outputs": [
    {
     "name": "stdout",
     "output_type": "stream",
     "text": [
      "Mean acousticness value for 2019:  \n",
      "0.2017\n",
      "Mean acousticness value for Quarantine:  \n",
      "0.2236\n",
      "\n",
      "Difference in means from 2019 to Quarantine:\n",
      "0.0219\n",
      "Percent change from 2019 mean to Quarantine mean:\n",
      "10.86%\n"
     ]
    }
   ],
   "source": [
    "print_means('acousticness')"
   ]
  },
  {
   "cell_type": "markdown",
   "metadata": {},
   "source": [
    "<h4> Evaluation of Significance: Acousticness </h4> "
   ]
  },
  {
   "cell_type": "code",
   "execution_count": 65,
   "metadata": {},
   "outputs": [
    {
     "name": "stdout",
     "output_type": "stream",
     "text": [
      "The difference in mean acousticness between Quarantine and 2019 songs:\n",
      "0.021897\n"
     ]
    }
   ],
   "source": [
    "print(\"The difference in mean acousticness between Quarantine and 2019 songs:\")\n",
    "print(sample_difference('acousticness'))"
   ]
  },
  {
   "cell_type": "code",
   "execution_count": 66,
   "metadata": {},
   "outputs": [],
   "source": [
    "acousticness_data = permuted_diff_list(feature = 'acousticness')"
   ]
  },
  {
   "cell_type": "code",
   "execution_count": 67,
   "metadata": {},
   "outputs": [
    {
     "data": {
      "image/png": "[encoded data removed]",
      "text/plain": [
       "<Figure size 432x288 with 1 Axes>"
      ]
     },
     "metadata": {
      "needs_background": "light"
     },
     "output_type": "display_data"
    },
    {
     "name": "stdout",
     "output_type": "stream",
     "text": [
      "The green line represents the difference in our sample means.\n",
      "The difference in means of our data:  0.021897\n"
     ]
    }
   ],
   "source": [
    "plot_permuted_diff(feature = 'acousticness', data = acousticness_data, sample = sample_difference('acousticness'))\n",
    "print(\"The difference in means of our data: \", sample_difference('acousticness'))"
   ]
  },
  {
   "cell_type": "code",
   "execution_count": 68,
   "metadata": {},
   "outputs": [
    {
     "name": "stdout",
     "output_type": "stream",
     "text": [
      "Permutation Test Results\n",
      ".....\n",
      "p_value:  0.00000000\n"
     ]
    }
   ],
   "source": [
    "permutation_p_value(data = acousticness_data, feature = 'acousticness')"
   ]
  },
  {
   "cell_type": "code",
   "execution_count": 69,
   "metadata": {},
   "outputs": [
    {
     "name": "stdout",
     "output_type": "stream",
     "text": [
      "T-Test Results\n",
      ".....\n",
      "T-Statistic: -5.763163457395098\n",
      "Degress of Freedom: 16240\n",
      "Critical Value: 1.6449474604860919\n",
      "p-value: 0.00000000\n"
     ]
    }
   ],
   "source": [
    "t_test_means(feature = 'acousticness')"
   ]
  },
  {
   "cell_type": "markdown",
   "metadata": {},
   "source": [
    "<h4> Conclusion: How are the acoustics during quarantine? </h4>\n",
    "<p>  The Quarantine sample mean decreased by 0.022, a 10.86% increase from the 2019 sample mean. Given both p-values (simulation and T-test) approached 0, this is a statistically significant change. It is hard to place a reason for this change, perhaps acoustic music is less comforting during a a dreary time? "
   ]
  },
  {
   "cell_type": "markdown",
   "metadata": {},
   "source": [
    "---"
   ]
  },
  {
   "cell_type": "markdown",
   "metadata": {},
   "source": [
    "<h3> 9. Speechiness </h3>"
   ]
  },
  {
   "cell_type": "code",
   "execution_count": 70,
   "metadata": {
    "scrolled": false
   },
   "outputs": [
    {
     "data": {
      "image/png": "[encoded data removed]",
      "text/plain": [
       "<Figure size 576x504 with 1 Axes>"
      ]
     },
     "metadata": {
      "needs_background": "light"
     },
     "output_type": "display_data"
    }
   ],
   "source": [
    "box_plot_comparisons('speechiness')"
   ]
  },
  {
   "cell_type": "code",
   "execution_count": 71,
   "metadata": {},
   "outputs": [
    {
     "name": "stdout",
     "output_type": "stream",
     "text": [
      "Mean speechiness value for 2019:  \n",
      "0.0926\n",
      "Mean speechiness value for Quarantine:  \n",
      "0.1059\n",
      "\n",
      "Difference in means from 2019 to Quarantine:\n",
      "0.0133\n",
      "Percent change from 2019 mean to Quarantine mean:\n",
      "14.32%\n"
     ]
    }
   ],
   "source": [
    "print_means('speechiness')"
   ]
  },
  {
   "cell_type": "markdown",
   "metadata": {},
   "source": [
    "<h4> Evaluation of Significance: Speechiness </h4> "
   ]
  },
  {
   "cell_type": "code",
   "execution_count": 72,
   "metadata": {},
   "outputs": [
    {
     "name": "stdout",
     "output_type": "stream",
     "text": [
      "The difference in mean speechiness between Quarantine and 2019 songs:\n",
      "0.01326\n"
     ]
    }
   ],
   "source": [
    "print(\"The difference in mean speechiness between Quarantine and 2019 songs:\")\n",
    "print(sample_difference('speechiness'))"
   ]
  },
  {
   "cell_type": "code",
   "execution_count": 73,
   "metadata": {},
   "outputs": [],
   "source": [
    "speechiness_data = permuted_diff_list(feature = 'speechiness')"
   ]
  },
  {
   "cell_type": "code",
   "execution_count": 74,
   "metadata": {},
   "outputs": [
    {
     "data": {
      "image/png": "[encoded data removed]",
      "text/plain": [
       "<Figure size 432x288 with 1 Axes>"
      ]
     },
     "metadata": {
      "needs_background": "light"
     },
     "output_type": "display_data"
    },
    {
     "name": "stdout",
     "output_type": "stream",
     "text": [
      "The green line represents the difference in our sample means.\n",
      "The difference in means of our data:  0.01326\n"
     ]
    }
   ],
   "source": [
    "plot_permuted_diff(feature = 'speechiness', data = speechiness_data, sample = sample_difference('speechiness'))\n",
    "print(\"The difference in means of our data: \", sample_difference('speechiness'))"
   ]
  },
  {
   "cell_type": "code",
   "execution_count": 75,
   "metadata": {},
   "outputs": [
    {
     "name": "stdout",
     "output_type": "stream",
     "text": [
      "Permutation Test Results\n",
      ".....\n",
      "p_value:  0.00000000\n"
     ]
    }
   ],
   "source": [
    "permutation_p_value(data = speechiness_data, feature = 'speechiness')"
   ]
  },
  {
   "cell_type": "code",
   "execution_count": 76,
   "metadata": {},
   "outputs": [
    {
     "name": "stdout",
     "output_type": "stream",
     "text": [
      "T-Test Results\n",
      ".....\n",
      "T-Statistic: -8.65856334502017\n",
      "Degress of Freedom: 16240\n",
      "Critical Value: 1.6449474604860919\n",
      "p-value: 0.00000000\n"
     ]
    }
   ],
   "source": [
    "t_test_means(feature = 'speechiness')"
   ]
  },
  {
   "cell_type": "markdown",
   "metadata": {},
   "source": [
    "<h4> Conclusion: Hard to <em> rap </em> our head around this one... </h4>\n",
    "<p> The mean speechiness value for 2019, 0.0926, increased by 14.32% in the Quarantine sample, to 0.1059. While the fractional (0.0133) difference seems slight, one must remember the mere size of our sample size. As both p-values were approximately 0, it is again almost impossible this was due to random chance. Admittedly, the change is not as significant as we've seen with other audio features, but it can't be ignored. People are listening to music with slightly more words. Lyrics, like poetry, often inspire and motivate us - and maybe we are turning to rap music for answers? Our final thoughts will provide a thorough explanation of this theme."
   ]
  },
  {
   "cell_type": "markdown",
   "metadata": {},
   "source": [
    "---"
   ]
  },
  {
   "cell_type": "markdown",
   "metadata": {},
   "source": [
    "<h3> 10. Tempo </h3>"
   ]
  },
  {
   "cell_type": "code",
   "execution_count": 77,
   "metadata": {
    "scrolled": true
   },
   "outputs": [
    {
     "data": {
      "image/png": "[encoded data removed]",
      "text/plain": [
       "<Figure size 576x504 with 1 Axes>"
      ]
     },
     "metadata": {
      "needs_background": "light"
     },
     "output_type": "display_data"
    }
   ],
   "source": [
    "box_plot_comparisons('tempo')"
   ]
  },
  {
   "cell_type": "code",
   "execution_count": 78,
   "metadata": {},
   "outputs": [
    {
     "name": "stdout",
     "output_type": "stream",
     "text": [
      "Mean tempo value for 2019:  \n",
      "123.1222\n",
      "Mean tempo value for Quarantine:  \n",
      "120.2803\n",
      "\n",
      "Difference in means from 2019 to Quarantine:\n",
      "-2.8419\n",
      "Percent change from 2019 mean to Quarantine mean:\n",
      "-2.31%\n"
     ]
    }
   ],
   "source": [
    "print_means('tempo')"
   ]
  },
  {
   "cell_type": "markdown",
   "metadata": {},
   "source": [
    "<h4> Evaluation of Significance: Tempo </h4> "
   ]
  },
  {
   "cell_type": "code",
   "execution_count": 79,
   "metadata": {},
   "outputs": [
    {
     "name": "stdout",
     "output_type": "stream",
     "text": [
      "The difference in mean tempo between Quarantine and 2019 songs:\n",
      "-2.841892\n"
     ]
    }
   ],
   "source": [
    "print(\"The difference in mean tempo between Quarantine and 2019 songs:\")\n",
    "print(sample_difference('tempo'))"
   ]
  },
  {
   "cell_type": "code",
   "execution_count": 80,
   "metadata": {},
   "outputs": [],
   "source": [
    "tempo_data = permuted_diff_list(feature = 'tempo')"
   ]
  },
  {
   "cell_type": "code",
   "execution_count": 81,
   "metadata": {},
   "outputs": [
    {
     "data": {
      "image/png": "[encoded data removed]",
      "text/plain": [
       "<Figure size 432x288 with 1 Axes>"
      ]
     },
     "metadata": {
      "needs_background": "light"
     },
     "output_type": "display_data"
    },
    {
     "name": "stdout",
     "output_type": "stream",
     "text": [
      "The green line represents the difference in our sample means.\n",
      "The difference in means of our data:  -2.841892\n"
     ]
    }
   ],
   "source": [
    "plot_permuted_diff(feature = 'tempo', data = tempo_data, sample = sample_difference('tempo'))\n",
    "print(\"The difference in means of our data: \", sample_difference('tempo'))"
   ]
  },
  {
   "cell_type": "code",
   "execution_count": 82,
   "metadata": {},
   "outputs": [
    {
     "name": "stdout",
     "output_type": "stream",
     "text": [
      "Permutation Test Results\n",
      ".....\n",
      "p_value:  0.00000000\n"
     ]
    }
   ],
   "source": [
    "permutation_p_value(data = tempo_data, feature = 'tempo')"
   ]
  },
  {
   "cell_type": "code",
   "execution_count": 83,
   "metadata": {},
   "outputs": [
    {
     "name": "stdout",
     "output_type": "stream",
     "text": [
      "T-Test Results\n",
      ".....\n",
      "T-Statistic: 6.36062944442041\n",
      "Degress of Freedom: 16240\n",
      "Critical Value: 1.6449474604860919\n",
      "p-value: 0.00000000\n"
     ]
    }
   ],
   "source": [
    "t_test_means(feature = 'tempo')"
   ]
  },
  {
   "cell_type": "markdown",
   "metadata": {},
   "source": [
    "<h4> Conclusion on Tempo: Could quarantine fo any slower? </h4>\n",
    "<p> As predicted, the average tempo of the Quarantine songs decreased from 2019, by 2.84 beats per second. A change of this size is certainly statistically significant, yielding p-scores approximately equal to 0 on the simulation and t-test. While the tempo does not exactly correlate with mood, this supports the thoery that people listen to sadder, slower, less energetic music while sitting at home. Of course, not all of the audio features supported this theme, but tempo clearly does. "
   ]
  },
  {
   "cell_type": "markdown",
   "metadata": {},
   "source": [
    "---\n",
    "---"
   ]
  },
  {
   "cell_type": "markdown",
   "metadata": {},
   "source": [
    "<h2> Concluding Thoughts </h2>"
   ]
  },
  {
   "cell_type": "markdown",
   "metadata": {},
   "source": [
    "<p>How has our music streaming changed since quarantine? Each of the ten different audio features we’ve analyzed offered unique insight into our listening choices, and the analysis of our streaming data has illustrated exactly how these choices fluctuated.</p>\n",
    "\n",
    "<p>The most notable and statistically significant discovery of the quantitative audio features was the decrease in energy. As for our categorical variables, the proportion of the songs that we listen to that are explicit has grown by 14.41% since 2019; a statistically significant difference that forces us to wonder why people are choosing to listen to more explicit songs than before. Other variables like speechiness and acousticness had small increases, while tempo and valence had smaller decreases, allowing us to make inferences about why quarantine is affecting these features.</p>\n",
    "\n",
    "<p>While most of these differences in sample means seem somewhat fractional, given the considerable sample size, they hold significant weight. We are confident, due to the strength of our statistical significance evaluations, that differences in sample means and proportions for each audio feature reflect the actual listening choices of people in quarantine. However, we are less confident in our causation explanations. For example, danceability’s slight increase does not seem logical. Likewise, the proportion of songs with a significant mode increased. If we had analyzed datasets from 2018, 2017, 2016, and even 2015, we would better understand the variability of features like danceability from year to year, explaining these seemingly nonsensical increases.</p>\n",
    "\n",
    "<p>Another improvement of this research opportunity would be to analyze what genres and radio stations people are listening to more often. Our analysis only looked at self-made playlists, rather than streaming fluctuations in music genres, podcasts, or individual artists. The amount of people listening to these unique platform channels is always fluctuating, providing ample room for further research.</p>\n",
    "\n",
    "<p>This research project has been a rewarding and challenging journey, providing hands-on experience in both API web scraping and analyzing complex data. We are proud of our work, and grateful to the caring support-system INFO 2950 provides to make it all possible.</p>"
   ]
  },
  {
   "cell_type": "markdown",
   "metadata": {},
   "source": [
    "<h3> Source Code </h3>\n",
    "\n",
    "- GitHub Repository: \n",
    "    https://github.com/kzo2/Info-2950-Final-Project"
   ]
  },
  {
   "cell_type": "markdown",
   "metadata": {},
   "source": [
    "<h3> Acknowledgements </h3>\n",
    "\n",
    "- The Spotify Web API Reference Documentation:\n",
    "https://developer.spotify.com/documentation/web-api/ \n",
    "- Bar Charts: https://python-graph-gallery.com/11-grouped-barplot/\n",
    "- Boxplots: http://blog.bharatbhole.com/creating-boxplots-with-matplotlib/\n",
    "- T-Tests: https://docs.scipy.org/doc/scipy/reference/generated/scipy.stats.t.html, https://towardsdatascience.com/inferential-statistics-series-t-test-using-numpy-2718f8f9bf2f\n",
    "- Professor David Mimno and the entire INFO 2950 Teaching Staff!"
   ]
  }
 ],
 "metadata": {
  "kernelspec": {
   "display_name": "Python 3",
   "language": "python",
   "name": "python3"
  },
  "language_info": {
   "codemirror_mode": {
    "name": "ipython",
    "version": 3
   },
   "file_extension": ".py",
   "mimetype": "text/x-python",
   "name": "python",
   "nbconvert_exporter": "python",
   "pygments_lexer": "ipython3",
   "version": "3.7.4"
  }
 },
 "nbformat": 4,
 "nbformat_minor": 2
}
