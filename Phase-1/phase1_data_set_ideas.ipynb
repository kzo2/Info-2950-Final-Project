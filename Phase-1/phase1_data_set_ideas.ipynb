{
 "cells": [
  {
   "cell_type": "markdown",
   "metadata": {},
   "source": [
    "<h2> Data Set Ideas for Phase 1 </h2>\n",
    "\n",
    "<h3> Anders Jensen and Kaela Olsen </h3>\n",
    "\n",
    "\n",
    "**<em> Idea 1: Tuition, Student Wealth, and Admissions Rates in US Universities </em>** <br>\n",
    "There are between 5,000-6,000 universities and colleges in the United States, we will be taking our data individually from each one\n",
    "Potential Research Questions:\n",
    "How does median family income affect the admissions rate of a school\n",
    "Tuition: What is the correlation between tuition and admissions rate and/or ranking?\n",
    "\n",
    "**Dataset Required:** Tuition, from the top 1000-2,000 schools, Median family incomes from some number of universities. We can find this information easily from googling each school, however tedious. <br>\n",
    "We will try to find a dataset that has all this information already, and for public universities, we’d imagine there would be such datasets readily available.<br>\n",
    "\n",
    "**<em> Idea 2: Unemployment and Domestic Violence during COVID-19 Quarantine </em>** <br>\n",
    "How has high unemployment rates in history correlated to the number of reported domestic violence cases? Did domestic violence increase during the past month during quarantine in proportionally with the unemployment rate? How much of the domestic violence can be contributed to unemployment? <br>\n",
    "\n",
    "**Dataset required:** Numbers on the amount of domestic violence cases per capita across the country for each day of the past month, Number of unemployment applications filed each day (short term), Number of  unemployment applications filed each year. This information is most likely available through health organizations and government agencies. \n",
    "\n",
    "**<em> Idea 3: Music/Netflix streaming during COVID-19 Quarantine </em>**  <br> \n",
    "From March 21st-April 21st, when the NYS put non essential businesses on lockdown, how did the types of music streamed on Spotify, or shows/TV streamed on Netlix change or shift? <br>\n",
    "\n",
    "Spotify:\n",
    "Were people listening to more happy music or sad music?\n",
    "Did different age demographics listen to music?\n",
    "Did people listen to more podcasts, mindfulness podcasts, etc.?\n",
    "\n",
    "Netflix: \n",
    "What kinds of TV and movies are seeing the most salient surges of viewership since the beginning of quarantine?\n",
    "This could tell us about what kinds of content we like to consume during times of uncertainty, instability, and isolation. <br>\n",
    "\n",
    "**Dataset required:** Spotify data from amount of plays per song per music genre, and data points for each day. Would also be cool if each “play” was linked to a location so we could isolate specific locations and the changes within those locations vis-a-vis music genre played. Data on the amount of streams per episode per show on Netflix, broken down by genre, for each day of the past month or even for the past two months, so we can compare the quarantine-streams data to the non-quarantine-stream data. Spotify releases a variety of data on streams. Netflix does not have datasets on their website but their streaming data may be available online via API’s. "
   ]
  }
 ],
 "metadata": {
  "kernelspec": {
   "display_name": "Python 3",
   "language": "python",
   "name": "python3"
  },
  "language_info": {
   "codemirror_mode": {
    "name": "ipython",
    "version": 3
   },
   "file_extension": ".py",
   "mimetype": "text/x-python",
   "name": "python",
   "nbconvert_exporter": "python",
   "pygments_lexer": "ipython3",
   "version": "3.6.8"
  }
 },
 "nbformat": 4,
 "nbformat_minor": 2
}
