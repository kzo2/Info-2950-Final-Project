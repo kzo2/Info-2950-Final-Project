{
 "cells": [
  {
   "cell_type": "markdown",
   "metadata": {},
   "source": [
    "<h1> Has Quarantine Changed Our Queues? </h1>\n",
    "Understanding the impact of COVID-19 Quarantine on our Spotify streaming <br>\n",
    "\n",
    " ANDERS JENSEN, Cornell University <br> \n",
    " KAELA OLSEN, Cornell University <br>\n",
    "\n",
    "<h4> May 5th, 2020 <br>\n",
    "Info 2950: Intro to Data Science </h4>"
   ]
  },
  {
   "cell_type": "markdown",
   "metadata": {},
   "source": [
    "<h2> Introduction </h2>\n",
    "\n",
    "<p> In the span of a few months, the global economy, and more importantly, livelihoods of everyday people, completely shut down due to the world-wide spread of COVID-19. Quarantine has looked different for everyone, but isolating oneself at home for a long period of time is certainly boring and tedious. Many researchers are investigating potentially negative, psychological effects of this experience. Longer quarantine duration is being linked to frustration, boredom, and depression, in addition to the financial losses many families are enduring. These hypotheses are speculative, and it’s imperative that more research is done to assess the effect quarantine is having on people’s mental health.</p> \n",
    "\n",
    "<p> Before this pandemic, a common outlet for people to release some stress was to turn to music. Listening to music is often soothing for people under any circumstances, and has become a routine part of the day. Further, access to music has become extremely easy. Spotify is the largest subscription music streaming service with 170 million users, providing premium audio quality at 320kbps, higher than any competitor, including Apple music.</p> \n",
    "\n",
    "\n",
    "<h4>Research Questions:</h4> For the purpose of this research study, we would like to analyze the effect that the COVID-19 quarantine has had on people's music choices, and use Spotify as a way to track the changes. By analyzing the specific audio features of the songs people are listening to while isolated, we can illustrate how this quarantine has affected the mental well-being of everyday people. Has the quarantine made people listen to more sad and depressing music? Or, rather, are people listening to more uplifting music? How has the pandemic affected what type of music we are listening to? Is dance music less popular?\n",
    "\n",
    "<h4>Main Findings:</h4> The audio features of the quarantine dataset varied in a number of ways from the 2019 dataset. The music we are listening to in isolation had 9.09% less energy, 4.53% less valence, and a 2.31% slower tempo. Acoustic (+10.86%) and speechy (+14.32%) music was more common, while the percentage of explicit songs nearly doubled (+88.36). Meanwhile, danceability, key, and modality had small, hard to explain changes, leaving much room for inference.\n",
    "\n",
    "To understand how statistically significant our data is, we implemented two tests: permutation tests (also known as randomization tests), and a two sample t-test for sample means. Our null hypothesis, for all variables, was that there was no difference between the means for our 2019 songs sample and a Quarantine songs sample. If our null hypothesis is true, then the permuted (randomized) data sets should give roughly the same test-statistic as our real data. The ranking of our real test-statistic among the shuffled test statistics gives a p-value, which we compared to our p-value found through a t-test of sample means.\n",
    "\n",
    "In summary, there is statistically significant evidence to suggest that people's music choices have changed during the quarantine."
   ]
  },
  {
   "cell_type": "markdown",
   "metadata": {},
   "source": [
    "<h2> Data Description </h2>\n",
    "<br>\n",
    "This dataset was created to measure the effect that COVID-19 quarantine has had on people's music choices. Further, by analyzing the specific characteristics of the songs extracted, we will illustrate how this quarantine has affected the mental well-being of everyday people. \n",
    "\n",
    "Spotify funded the creation of the dataset. Spotify is an audio streaming platform that provides easy access to over 50 million tracks, allowing users to filter by artist, album, or genre, as well as create unique playlists to complement their music taste. Individuals who create an account on Spotify (and potentially purchase Spotify premium for unlimited free downloads) agree to share their listening data with the public. \n",
    "\n",
    "However, most users themselves fail to notice the detail at which their data is collected. Despite the app’s transparency, users are unaware of or fail to notice the exact details of the data collection process: precisely what, how, why, and when data is being collected. \n",
    "\n",
    "This collected user data is used to improve algorithms that offer music recommendations to users, but also provides an opportunity for research on user data. To that end, the creation of this dataset was made possible by Spotify's Web API, through which web developers can access catalog data for the creation of apps, software, ect.\n",
    "\n",
    "There are various processes that influenced what data was observed and recorded. The first factor is whether a playlist was public or not, as we only collected data on public playlists. Secondly, we filtered “quarantine” playlists based on if their title and playlist description contained \"quarantine,\" and our “2019” playlists with the term “2019.” However, this could have been altered by using \"Coronavirus\" or \"COVID\" instead of “quarantine.” However, the addition of terms would overload our dataset, so we only used “quarantine.” Another process that influenced data observation was the search limitations on Spotify, which only lets users receive two thousand results per search with Spotify API, limiting the number of data points we could record and analyze. \n",
    "\n",
    "The preprocessing that Spotify did was pairing each playlist and each song with a Uniform Resource Identifier (URI). Spotify matches each URI with the playlist name, and within each playlist unit, lists each track and its relevant data. Through accessing the URI’s, we can see the data paired for each. \n",
    "\n",
    "After searching “quarantine”- and “2019”-containing playlists, we extracted the playlist names, URIs, and track numbers, loading it into playlists.csv. Then, for each playlist URI, we used Spotipy’s playlist_tracks() to extract each track’s URI. Once we had the list of raw track data, we created a function called filter_data(), which used Spotipy’s track() to access the name, popularity, release date, and explicitness of each song, and then Spotipy's audio_features() function to access variables like \"danceability,\" \"energy,\" \"key,\" and \"loudness\", loading them into two csv files:  tracks.csv and tracks_2019.csv. In both datasets, each observation (row) represents a song that was contained in a playlists with either the keyword “quarantine” or “2019” in the title or description, respectively. There were 24 columns for each song, including the URI, the release date, and several audio features.\n",
    "\n",
    "Our Source data can be found in our Github folder under the name “datascraping.ipynb”"
   ]
  },
  {
   "cell_type": "markdown",
   "metadata": {},
   "source": [
    "<h2> Housekeeping </h2>\n",
    "<p> For the sake of readability and ease of use, we are going to implement our imports and functions first. This way, the function code does not jumble to data analysis. "
   ]
  },
  {
   "cell_type": "code",
   "execution_count": 1,
   "metadata": {},
   "outputs": [],
   "source": [
    "#import python libraries\n",
    "import numpy as np\n",
    "import pandas as pd\n",
    "from matplotlib import pyplot as plt\n",
    "from sklearn.linear_model import LinearRegression\n",
    "from scipy.stats import spearmanr, t"
   ]
  },
  {
   "cell_type": "code",
   "execution_count": 2,
   "metadata": {},
   "outputs": [],
   "source": [
    "# def pie(breakdown, feature, data_name, labels, colors):\n",
    "#     fig1, ax1 = plt.subplots()\n",
    "#     ax1.pie(breakdown, \n",
    "#             explode = (0.1, 0),  \n",
    "#             autopct = '%1.1f%%', \n",
    "#             colors = colors,\n",
    "#             shadow = True, \n",
    "#             startangle=90)\n",
    "    \n",
    "#     plt.legend(labels, loc=\"best\")\n",
    "#     ax1.axis('equal')  # Equal aspect ratio ensures that pie is drawn as a circle.\n",
    "#     plt.title(data_name + feature)\n",
    "#     plt.show()"
   ]
  },
  {
   "cell_type": "code",
   "execution_count": 3,
   "metadata": {},
   "outputs": [],
   "source": [
    "# labels = ['Major', 'Minor']\n",
    "# colors = ['#1DB954', 'darkgrey']\n",
    "# #breakdown = modality_breakdown_2019\n",
    "# feature = 'mode'\n",
    "# data_name = '2019'\n",
    "# #pie(breakdown, feature, data_name, labels, colors)"
   ]
  },
  {
   "cell_type": "markdown",
   "metadata": {},
   "source": [
    "<h2> Data Analysis </h2>\n",
    "<p> To begin, let's take a look at the two data sets that will be compared for the subsequent analysis. </p>"
   ]
  },
  {
   "cell_type": "markdown",
   "metadata": {},
   "source": [
    "<h4> Quarantine Tracks: </h4>"
   ]
  },
  {
   "cell_type": "code",
   "execution_count": 4,
   "metadata": {},
   "outputs": [
    {
     "data": {
      "text/html": [
       "<div>\n",
       "<style scoped>\n",
       "    .dataframe tbody tr th:only-of-type {\n",
       "        vertical-align: middle;\n",
       "    }\n",
       "\n",
       "    .dataframe tbody tr th {\n",
       "        vertical-align: top;\n",
       "    }\n",
       "\n",
       "    .dataframe thead th {\n",
       "        text-align: right;\n",
       "    }\n",
       "</style>\n",
       "<table border=\"1\" class=\"dataframe\">\n",
       "  <thead>\n",
       "    <tr style=\"text-align: right;\">\n",
       "      <th></th>\n",
       "      <th>Unnamed: 0</th>\n",
       "      <th>uri</th>\n",
       "      <th>count</th>\n",
       "      <th>name</th>\n",
       "      <th>release_date</th>\n",
       "      <th>popularity</th>\n",
       "      <th>explicit</th>\n",
       "      <th>danceability</th>\n",
       "      <th>energy</th>\n",
       "      <th>key</th>\n",
       "      <th>...</th>\n",
       "      <th>instrumentalness</th>\n",
       "      <th>liveness</th>\n",
       "      <th>valence</th>\n",
       "      <th>tempo</th>\n",
       "      <th>type</th>\n",
       "      <th>id</th>\n",
       "      <th>track_href</th>\n",
       "      <th>analysis_url</th>\n",
       "      <th>duration_ms</th>\n",
       "      <th>time_signature</th>\n",
       "    </tr>\n",
       "  </thead>\n",
       "  <tbody>\n",
       "    <tr>\n",
       "      <td>119</td>\n",
       "      <td>221</td>\n",
       "      <td>spotify:track:127QTOFJsJQp5LbJbu3A1y</td>\n",
       "      <td>176</td>\n",
       "      <td>Toosie Slide</td>\n",
       "      <td>2020-04-03</td>\n",
       "      <td>99</td>\n",
       "      <td>True</td>\n",
       "      <td>0.834</td>\n",
       "      <td>0.454</td>\n",
       "      <td>1</td>\n",
       "      <td>...</td>\n",
       "      <td>0.000006</td>\n",
       "      <td>0.1140</td>\n",
       "      <td>0.837</td>\n",
       "      <td>81.618</td>\n",
       "      <td>audio_features</td>\n",
       "      <td>127QTOFJsJQp5LbJbu3A1y</td>\n",
       "      <td>https://api.spotify.com/v1/tracks/127QTOFJsJQp...</td>\n",
       "      <td>https://api.spotify.com/v1/audio-analysis/127Q...</td>\n",
       "      <td>247059</td>\n",
       "      <td>4</td>\n",
       "    </tr>\n",
       "    <tr>\n",
       "      <td>146</td>\n",
       "      <td>259</td>\n",
       "      <td>spotify:track:1Cv1YLb4q0RzL6pybtaMLo</td>\n",
       "      <td>172</td>\n",
       "      <td>Sunday Best</td>\n",
       "      <td>2019-01-06</td>\n",
       "      <td>96</td>\n",
       "      <td>False</td>\n",
       "      <td>0.878</td>\n",
       "      <td>0.525</td>\n",
       "      <td>5</td>\n",
       "      <td>...</td>\n",
       "      <td>0.000000</td>\n",
       "      <td>0.0714</td>\n",
       "      <td>0.694</td>\n",
       "      <td>112.022</td>\n",
       "      <td>audio_features</td>\n",
       "      <td>1Cv1YLb4q0RzL6pybtaMLo</td>\n",
       "      <td>https://api.spotify.com/v1/tracks/1Cv1YLb4q0Rz...</td>\n",
       "      <td>https://api.spotify.com/v1/audio-analysis/1Cv1...</td>\n",
       "      <td>158571</td>\n",
       "      <td>4</td>\n",
       "    </tr>\n",
       "    <tr>\n",
       "      <td>1002</td>\n",
       "      <td>2564</td>\n",
       "      <td>spotify:track:7eJMfftS33KTjuF7lTsMCx</td>\n",
       "      <td>155</td>\n",
       "      <td>death bed (coffee for your head) (feat. beabad...</td>\n",
       "      <td>2020-02-08</td>\n",
       "      <td>99</td>\n",
       "      <td>False</td>\n",
       "      <td>0.726</td>\n",
       "      <td>0.431</td>\n",
       "      <td>8</td>\n",
       "      <td>...</td>\n",
       "      <td>0.000000</td>\n",
       "      <td>0.6960</td>\n",
       "      <td>0.348</td>\n",
       "      <td>144.026</td>\n",
       "      <td>audio_features</td>\n",
       "      <td>7eJMfftS33KTjuF7lTsMCx</td>\n",
       "      <td>https://api.spotify.com/v1/tracks/7eJMfftS33KT...</td>\n",
       "      <td>https://api.spotify.com/v1/audio-analysis/7eJM...</td>\n",
       "      <td>173333</td>\n",
       "      <td>4</td>\n",
       "    </tr>\n",
       "    <tr>\n",
       "      <td>116</td>\n",
       "      <td>218</td>\n",
       "      <td>spotify:track:6WrI0LAC5M1Rw2MnX2ZvEg</td>\n",
       "      <td>151</td>\n",
       "      <td>Don't Start Now</td>\n",
       "      <td>2019-10-31</td>\n",
       "      <td>97</td>\n",
       "      <td>False</td>\n",
       "      <td>0.794</td>\n",
       "      <td>0.793</td>\n",
       "      <td>11</td>\n",
       "      <td>...</td>\n",
       "      <td>0.000000</td>\n",
       "      <td>0.0952</td>\n",
       "      <td>0.677</td>\n",
       "      <td>123.941</td>\n",
       "      <td>audio_features</td>\n",
       "      <td>6WrI0LAC5M1Rw2MnX2ZvEg</td>\n",
       "      <td>https://api.spotify.com/v1/tracks/6WrI0LAC5M1R...</td>\n",
       "      <td>https://api.spotify.com/v1/audio-analysis/6WrI...</td>\n",
       "      <td>183290</td>\n",
       "      <td>4</td>\n",
       "    </tr>\n",
       "    <tr>\n",
       "      <td>1006</td>\n",
       "      <td>2569</td>\n",
       "      <td>spotify:track:0nbXyq5TXYPCO7pr3N8S4I</td>\n",
       "      <td>147</td>\n",
       "      <td>The Box</td>\n",
       "      <td>2019-12-06</td>\n",
       "      <td>99</td>\n",
       "      <td>True</td>\n",
       "      <td>0.896</td>\n",
       "      <td>0.586</td>\n",
       "      <td>10</td>\n",
       "      <td>...</td>\n",
       "      <td>0.000000</td>\n",
       "      <td>0.7900</td>\n",
       "      <td>0.642</td>\n",
       "      <td>116.971</td>\n",
       "      <td>audio_features</td>\n",
       "      <td>0nbXyq5TXYPCO7pr3N8S4I</td>\n",
       "      <td>https://api.spotify.com/v1/tracks/0nbXyq5TXYPC...</td>\n",
       "      <td>https://api.spotify.com/v1/audio-analysis/0nbX...</td>\n",
       "      <td>196653</td>\n",
       "      <td>4</td>\n",
       "    </tr>\n",
       "    <tr>\n",
       "      <td>1753</td>\n",
       "      <td>6284</td>\n",
       "      <td>spotify:track:0VjIjW4GlUZAMYd2vXMi3b</td>\n",
       "      <td>139</td>\n",
       "      <td>Blinding Lights</td>\n",
       "      <td>2020-03-20</td>\n",
       "      <td>100</td>\n",
       "      <td>False</td>\n",
       "      <td>0.514</td>\n",
       "      <td>0.730</td>\n",
       "      <td>1</td>\n",
       "      <td>...</td>\n",
       "      <td>0.000095</td>\n",
       "      <td>0.0897</td>\n",
       "      <td>0.334</td>\n",
       "      <td>171.005</td>\n",
       "      <td>audio_features</td>\n",
       "      <td>0VjIjW4GlUZAMYd2vXMi3b</td>\n",
       "      <td>https://api.spotify.com/v1/tracks/0VjIjW4GlUZA...</td>\n",
       "      <td>https://api.spotify.com/v1/audio-analysis/0VjI...</td>\n",
       "      <td>200040</td>\n",
       "      <td>4</td>\n",
       "    </tr>\n",
       "    <tr>\n",
       "      <td>118</td>\n",
       "      <td>220</td>\n",
       "      <td>spotify:track:0sf12qNH5qcw8qpgymFOqD</td>\n",
       "      <td>136</td>\n",
       "      <td>Blinding Lights</td>\n",
       "      <td>2019-11-29</td>\n",
       "      <td>93</td>\n",
       "      <td>False</td>\n",
       "      <td>0.513</td>\n",
       "      <td>0.796</td>\n",
       "      <td>1</td>\n",
       "      <td>...</td>\n",
       "      <td>0.000209</td>\n",
       "      <td>0.0938</td>\n",
       "      <td>0.345</td>\n",
       "      <td>171.017</td>\n",
       "      <td>audio_features</td>\n",
       "      <td>0sf12qNH5qcw8qpgymFOqD</td>\n",
       "      <td>https://api.spotify.com/v1/tracks/0sf12qNH5qcw...</td>\n",
       "      <td>https://api.spotify.com/v1/audio-analysis/0sf1...</td>\n",
       "      <td>201573</td>\n",
       "      <td>4</td>\n",
       "    </tr>\n",
       "    <tr>\n",
       "      <td>144</td>\n",
       "      <td>257</td>\n",
       "      <td>spotify:track:3Dv1eDb0MEgF93GpLXlucZ</td>\n",
       "      <td>133</td>\n",
       "      <td>Say So</td>\n",
       "      <td>2019-11-07</td>\n",
       "      <td>97</td>\n",
       "      <td>True</td>\n",
       "      <td>0.787</td>\n",
       "      <td>0.673</td>\n",
       "      <td>11</td>\n",
       "      <td>...</td>\n",
       "      <td>0.000004</td>\n",
       "      <td>0.0904</td>\n",
       "      <td>0.786</td>\n",
       "      <td>110.962</td>\n",
       "      <td>audio_features</td>\n",
       "      <td>3Dv1eDb0MEgF93GpLXlucZ</td>\n",
       "      <td>https://api.spotify.com/v1/tracks/3Dv1eDb0MEgF...</td>\n",
       "      <td>https://api.spotify.com/v1/audio-analysis/3Dv1...</td>\n",
       "      <td>237893</td>\n",
       "      <td>4</td>\n",
       "    </tr>\n",
       "    <tr>\n",
       "      <td>846</td>\n",
       "      <td>1723</td>\n",
       "      <td>spotify:track:6K4t31amVTZDgR3sKmwUJJ</td>\n",
       "      <td>132</td>\n",
       "      <td>The Less I Know The Better</td>\n",
       "      <td>2015-07-17</td>\n",
       "      <td>86</td>\n",
       "      <td>True</td>\n",
       "      <td>0.640</td>\n",
       "      <td>0.740</td>\n",
       "      <td>4</td>\n",
       "      <td>...</td>\n",
       "      <td>0.006780</td>\n",
       "      <td>0.1670</td>\n",
       "      <td>0.785</td>\n",
       "      <td>116.879</td>\n",
       "      <td>audio_features</td>\n",
       "      <td>6K4t31amVTZDgR3sKmwUJJ</td>\n",
       "      <td>https://api.spotify.com/v1/tracks/6K4t31amVTZD...</td>\n",
       "      <td>https://api.spotify.com/v1/audio-analysis/6K4t...</td>\n",
       "      <td>216320</td>\n",
       "      <td>4</td>\n",
       "    </tr>\n",
       "    <tr>\n",
       "      <td>433</td>\n",
       "      <td>809</td>\n",
       "      <td>spotify:track:4nK5YrxbMGZstTLbvj6Gxw</td>\n",
       "      <td>130</td>\n",
       "      <td>Supalonely</td>\n",
       "      <td>2019-11-15</td>\n",
       "      <td>95</td>\n",
       "      <td>True</td>\n",
       "      <td>0.863</td>\n",
       "      <td>0.631</td>\n",
       "      <td>7</td>\n",
       "      <td>...</td>\n",
       "      <td>0.000030</td>\n",
       "      <td>0.1230</td>\n",
       "      <td>0.817</td>\n",
       "      <td>128.977</td>\n",
       "      <td>audio_features</td>\n",
       "      <td>4nK5YrxbMGZstTLbvj6Gxw</td>\n",
       "      <td>https://api.spotify.com/v1/tracks/4nK5YrxbMGZs...</td>\n",
       "      <td>https://api.spotify.com/v1/audio-analysis/4nK5...</td>\n",
       "      <td>223480</td>\n",
       "      <td>4</td>\n",
       "    </tr>\n",
       "    <tr>\n",
       "      <td>0</td>\n",
       "      <td>0</td>\n",
       "      <td>spotify:track:6I9VzXrHxO9rA9A5euc8Ak</td>\n",
       "      <td>120</td>\n",
       "      <td>Toxic</td>\n",
       "      <td>2003-11-13</td>\n",
       "      <td>80</td>\n",
       "      <td>False</td>\n",
       "      <td>0.774</td>\n",
       "      <td>0.838</td>\n",
       "      <td>5</td>\n",
       "      <td>...</td>\n",
       "      <td>0.025000</td>\n",
       "      <td>0.2420</td>\n",
       "      <td>0.924</td>\n",
       "      <td>143.040</td>\n",
       "      <td>audio_features</td>\n",
       "      <td>6I9VzXrHxO9rA9A5euc8Ak</td>\n",
       "      <td>https://api.spotify.com/v1/tracks/6I9VzXrHxO9r...</td>\n",
       "      <td>https://api.spotify.com/v1/audio-analysis/6I9V...</td>\n",
       "      <td>198800</td>\n",
       "      <td>4</td>\n",
       "    </tr>\n",
       "    <tr>\n",
       "      <td>470</td>\n",
       "      <td>872</td>\n",
       "      <td>spotify:track:24Yi9hE78yPEbZ4kxyoXAI</td>\n",
       "      <td>116</td>\n",
       "      <td>Roses - Imanbek Remix</td>\n",
       "      <td>2019-10-09</td>\n",
       "      <td>98</td>\n",
       "      <td>True</td>\n",
       "      <td>0.770</td>\n",
       "      <td>0.724</td>\n",
       "      <td>8</td>\n",
       "      <td>...</td>\n",
       "      <td>0.010700</td>\n",
       "      <td>0.3530</td>\n",
       "      <td>0.898</td>\n",
       "      <td>121.975</td>\n",
       "      <td>audio_features</td>\n",
       "      <td>24Yi9hE78yPEbZ4kxyoXAI</td>\n",
       "      <td>https://api.spotify.com/v1/tracks/24Yi9hE78yPE...</td>\n",
       "      <td>https://api.spotify.com/v1/audio-analysis/24Yi...</td>\n",
       "      <td>176840</td>\n",
       "      <td>4</td>\n",
       "    </tr>\n",
       "    <tr>\n",
       "      <td>2172</td>\n",
       "      <td>7930</td>\n",
       "      <td>spotify:track:6wJYhPfqk3KGhHRG76WzOh</td>\n",
       "      <td>115</td>\n",
       "      <td>Blueberry Faygo</td>\n",
       "      <td>2020-02-07</td>\n",
       "      <td>95</td>\n",
       "      <td>True</td>\n",
       "      <td>0.774</td>\n",
       "      <td>0.554</td>\n",
       "      <td>0</td>\n",
       "      <td>...</td>\n",
       "      <td>0.000000</td>\n",
       "      <td>0.1320</td>\n",
       "      <td>0.349</td>\n",
       "      <td>99.034</td>\n",
       "      <td>audio_features</td>\n",
       "      <td>6wJYhPfqk3KGhHRG76WzOh</td>\n",
       "      <td>https://api.spotify.com/v1/tracks/6wJYhPfqk3KG...</td>\n",
       "      <td>https://api.spotify.com/v1/audio-analysis/6wJY...</td>\n",
       "      <td>162547</td>\n",
       "      <td>4</td>\n",
       "    </tr>\n",
       "    <tr>\n",
       "      <td>2</td>\n",
       "      <td>3</td>\n",
       "      <td>spotify:track:2xLMifQCjDGFmkHkpNLD9h</td>\n",
       "      <td>111</td>\n",
       "      <td>SICKO MODE</td>\n",
       "      <td>2018-08-03</td>\n",
       "      <td>92</td>\n",
       "      <td>True</td>\n",
       "      <td>0.834</td>\n",
       "      <td>0.730</td>\n",
       "      <td>8</td>\n",
       "      <td>...</td>\n",
       "      <td>0.000000</td>\n",
       "      <td>0.1240</td>\n",
       "      <td>0.446</td>\n",
       "      <td>155.008</td>\n",
       "      <td>audio_features</td>\n",
       "      <td>2xLMifQCjDGFmkHkpNLD9h</td>\n",
       "      <td>https://api.spotify.com/v1/tracks/2xLMifQCjDGF...</td>\n",
       "      <td>https://api.spotify.com/v1/audio-analysis/2xLM...</td>\n",
       "      <td>312820</td>\n",
       "      <td>4</td>\n",
       "    </tr>\n",
       "    <tr>\n",
       "      <td>1008</td>\n",
       "      <td>2571</td>\n",
       "      <td>spotify:track:5yY9lUy8nbvjM1Uyo1Uqoc</td>\n",
       "      <td>110</td>\n",
       "      <td>Life Is Good (feat. Drake)</td>\n",
       "      <td>2020-01-10</td>\n",
       "      <td>94</td>\n",
       "      <td>True</td>\n",
       "      <td>0.676</td>\n",
       "      <td>0.609</td>\n",
       "      <td>2</td>\n",
       "      <td>...</td>\n",
       "      <td>0.000000</td>\n",
       "      <td>0.1520</td>\n",
       "      <td>0.508</td>\n",
       "      <td>142.037</td>\n",
       "      <td>audio_features</td>\n",
       "      <td>5yY9lUy8nbvjM1Uyo1Uqoc</td>\n",
       "      <td>https://api.spotify.com/v1/tracks/5yY9lUy8nbvj...</td>\n",
       "      <td>https://api.spotify.com/v1/audio-analysis/5yY9...</td>\n",
       "      <td>237735</td>\n",
       "      <td>4</td>\n",
       "    </tr>\n",
       "    <tr>\n",
       "      <td>3166</td>\n",
       "      <td>11308</td>\n",
       "      <td>spotify:track:0GO8y8jQk1PkHzS31d699N</td>\n",
       "      <td>106</td>\n",
       "      <td>Tongue Tied</td>\n",
       "      <td>2011-09-02</td>\n",
       "      <td>81</td>\n",
       "      <td>False</td>\n",
       "      <td>0.560</td>\n",
       "      <td>0.936</td>\n",
       "      <td>3</td>\n",
       "      <td>...</td>\n",
       "      <td>0.000000</td>\n",
       "      <td>0.1610</td>\n",
       "      <td>0.371</td>\n",
       "      <td>112.960</td>\n",
       "      <td>audio_features</td>\n",
       "      <td>0GO8y8jQk1PkHzS31d699N</td>\n",
       "      <td>https://api.spotify.com/v1/tracks/0GO8y8jQk1Pk...</td>\n",
       "      <td>https://api.spotify.com/v1/audio-analysis/0GO8...</td>\n",
       "      <td>218013</td>\n",
       "      <td>4</td>\n",
       "    </tr>\n",
       "    <tr>\n",
       "      <td>296</td>\n",
       "      <td>550</td>\n",
       "      <td>spotify:track:7aiClxsDWFRQ0Kzk5KI5ku</td>\n",
       "      <td>105</td>\n",
       "      <td>hot girl bummer</td>\n",
       "      <td>2019-08-23</td>\n",
       "      <td>90</td>\n",
       "      <td>True</td>\n",
       "      <td>0.778</td>\n",
       "      <td>0.559</td>\n",
       "      <td>6</td>\n",
       "      <td>...</td>\n",
       "      <td>0.000000</td>\n",
       "      <td>0.3990</td>\n",
       "      <td>0.678</td>\n",
       "      <td>129.989</td>\n",
       "      <td>audio_features</td>\n",
       "      <td>7aiClxsDWFRQ0Kzk5KI5ku</td>\n",
       "      <td>https://api.spotify.com/v1/tracks/7aiClxsDWFRQ...</td>\n",
       "      <td>https://api.spotify.com/v1/audio-analysis/7aiC...</td>\n",
       "      <td>185093</td>\n",
       "      <td>1</td>\n",
       "    </tr>\n",
       "    <tr>\n",
       "      <td>569</td>\n",
       "      <td>1061</td>\n",
       "      <td>spotify:track:55CHeLEfn5iJ0IIkgaa4si</td>\n",
       "      <td>101</td>\n",
       "      <td>Savage</td>\n",
       "      <td>2020-03-06</td>\n",
       "      <td>94</td>\n",
       "      <td>True</td>\n",
       "      <td>0.843</td>\n",
       "      <td>0.741</td>\n",
       "      <td>11</td>\n",
       "      <td>...</td>\n",
       "      <td>0.000000</td>\n",
       "      <td>0.0960</td>\n",
       "      <td>0.680</td>\n",
       "      <td>168.983</td>\n",
       "      <td>audio_features</td>\n",
       "      <td>55CHeLEfn5iJ0IIkgaa4si</td>\n",
       "      <td>https://api.spotify.com/v1/tracks/55CHeLEfn5iJ...</td>\n",
       "      <td>https://api.spotify.com/v1/audio-analysis/55CH...</td>\n",
       "      <td>155497</td>\n",
       "      <td>4</td>\n",
       "    </tr>\n",
       "    <tr>\n",
       "      <td>39</td>\n",
       "      <td>63</td>\n",
       "      <td>spotify:track:1B75hgRqe7A4fwee3g3Wmu</td>\n",
       "      <td>96</td>\n",
       "      <td>U Can't Touch This</td>\n",
       "      <td>1990-02-20</td>\n",
       "      <td>74</td>\n",
       "      <td>False</td>\n",
       "      <td>0.867</td>\n",
       "      <td>0.517</td>\n",
       "      <td>11</td>\n",
       "      <td>...</td>\n",
       "      <td>0.000339</td>\n",
       "      <td>0.0864</td>\n",
       "      <td>0.866</td>\n",
       "      <td>133.148</td>\n",
       "      <td>audio_features</td>\n",
       "      <td>1B75hgRqe7A4fwee3g3Wmu</td>\n",
       "      <td>https://api.spotify.com/v1/tracks/1B75hgRqe7A4...</td>\n",
       "      <td>https://api.spotify.com/v1/audio-analysis/1B75...</td>\n",
       "      <td>257360</td>\n",
       "      <td>4</td>\n",
       "    </tr>\n",
       "    <tr>\n",
       "      <td>1199</td>\n",
       "      <td>3234</td>\n",
       "      <td>spotify:track:5hVghJ4KaYES3BFUATCYn0</td>\n",
       "      <td>95</td>\n",
       "      <td>EARFQUAKE</td>\n",
       "      <td>2019-05-17</td>\n",
       "      <td>84</td>\n",
       "      <td>True</td>\n",
       "      <td>0.554</td>\n",
       "      <td>0.498</td>\n",
       "      <td>9</td>\n",
       "      <td>...</td>\n",
       "      <td>0.000006</td>\n",
       "      <td>0.7950</td>\n",
       "      <td>0.413</td>\n",
       "      <td>79.635</td>\n",
       "      <td>audio_features</td>\n",
       "      <td>5hVghJ4KaYES3BFUATCYn0</td>\n",
       "      <td>https://api.spotify.com/v1/tracks/5hVghJ4KaYES...</td>\n",
       "      <td>https://api.spotify.com/v1/audio-analysis/5hVg...</td>\n",
       "      <td>190067</td>\n",
       "      <td>4</td>\n",
       "    </tr>\n",
       "  </tbody>\n",
       "</table>\n",
       "<p>20 rows × 24 columns</p>\n",
       "</div>"
      ],
      "text/plain": [
       "      Unnamed: 0                                   uri  count  \\\n",
       "119          221  spotify:track:127QTOFJsJQp5LbJbu3A1y    176   \n",
       "146          259  spotify:track:1Cv1YLb4q0RzL6pybtaMLo    172   \n",
       "1002        2564  spotify:track:7eJMfftS33KTjuF7lTsMCx    155   \n",
       "116          218  spotify:track:6WrI0LAC5M1Rw2MnX2ZvEg    151   \n",
       "1006        2569  spotify:track:0nbXyq5TXYPCO7pr3N8S4I    147   \n",
       "1753        6284  spotify:track:0VjIjW4GlUZAMYd2vXMi3b    139   \n",
       "118          220  spotify:track:0sf12qNH5qcw8qpgymFOqD    136   \n",
       "144          257  spotify:track:3Dv1eDb0MEgF93GpLXlucZ    133   \n",
       "846         1723  spotify:track:6K4t31amVTZDgR3sKmwUJJ    132   \n",
       "433          809  spotify:track:4nK5YrxbMGZstTLbvj6Gxw    130   \n",
       "0              0  spotify:track:6I9VzXrHxO9rA9A5euc8Ak    120   \n",
       "470          872  spotify:track:24Yi9hE78yPEbZ4kxyoXAI    116   \n",
       "2172        7930  spotify:track:6wJYhPfqk3KGhHRG76WzOh    115   \n",
       "2              3  spotify:track:2xLMifQCjDGFmkHkpNLD9h    111   \n",
       "1008        2571  spotify:track:5yY9lUy8nbvjM1Uyo1Uqoc    110   \n",
       "3166       11308  spotify:track:0GO8y8jQk1PkHzS31d699N    106   \n",
       "296          550  spotify:track:7aiClxsDWFRQ0Kzk5KI5ku    105   \n",
       "569         1061  spotify:track:55CHeLEfn5iJ0IIkgaa4si    101   \n",
       "39            63  spotify:track:1B75hgRqe7A4fwee3g3Wmu     96   \n",
       "1199        3234  spotify:track:5hVghJ4KaYES3BFUATCYn0     95   \n",
       "\n",
       "                                                   name release_date  \\\n",
       "119                                        Toosie Slide   2020-04-03   \n",
       "146                                         Sunday Best   2019-01-06   \n",
       "1002  death bed (coffee for your head) (feat. beabad...   2020-02-08   \n",
       "116                                     Don't Start Now   2019-10-31   \n",
       "1006                                            The Box   2019-12-06   \n",
       "1753                                    Blinding Lights   2020-03-20   \n",
       "118                                     Blinding Lights   2019-11-29   \n",
       "144                                              Say So   2019-11-07   \n",
       "846                          The Less I Know The Better   2015-07-17   \n",
       "433                                          Supalonely   2019-11-15   \n",
       "0                                                 Toxic   2003-11-13   \n",
       "470                               Roses - Imanbek Remix   2019-10-09   \n",
       "2172                                    Blueberry Faygo   2020-02-07   \n",
       "2                                            SICKO MODE   2018-08-03   \n",
       "1008                         Life Is Good (feat. Drake)   2020-01-10   \n",
       "3166                                        Tongue Tied   2011-09-02   \n",
       "296                                     hot girl bummer   2019-08-23   \n",
       "569                                              Savage   2020-03-06   \n",
       "39                                   U Can't Touch This   1990-02-20   \n",
       "1199                                          EARFQUAKE   2019-05-17   \n",
       "\n",
       "      popularity  explicit  danceability  energy  key  ...  instrumentalness  \\\n",
       "119           99      True         0.834   0.454    1  ...          0.000006   \n",
       "146           96     False         0.878   0.525    5  ...          0.000000   \n",
       "1002          99     False         0.726   0.431    8  ...          0.000000   \n",
       "116           97     False         0.794   0.793   11  ...          0.000000   \n",
       "1006          99      True         0.896   0.586   10  ...          0.000000   \n",
       "1753         100     False         0.514   0.730    1  ...          0.000095   \n",
       "118           93     False         0.513   0.796    1  ...          0.000209   \n",
       "144           97      True         0.787   0.673   11  ...          0.000004   \n",
       "846           86      True         0.640   0.740    4  ...          0.006780   \n",
       "433           95      True         0.863   0.631    7  ...          0.000030   \n",
       "0             80     False         0.774   0.838    5  ...          0.025000   \n",
       "470           98      True         0.770   0.724    8  ...          0.010700   \n",
       "2172          95      True         0.774   0.554    0  ...          0.000000   \n",
       "2             92      True         0.834   0.730    8  ...          0.000000   \n",
       "1008          94      True         0.676   0.609    2  ...          0.000000   \n",
       "3166          81     False         0.560   0.936    3  ...          0.000000   \n",
       "296           90      True         0.778   0.559    6  ...          0.000000   \n",
       "569           94      True         0.843   0.741   11  ...          0.000000   \n",
       "39            74     False         0.867   0.517   11  ...          0.000339   \n",
       "1199          84      True         0.554   0.498    9  ...          0.000006   \n",
       "\n",
       "      liveness  valence    tempo            type                      id  \\\n",
       "119     0.1140    0.837   81.618  audio_features  127QTOFJsJQp5LbJbu3A1y   \n",
       "146     0.0714    0.694  112.022  audio_features  1Cv1YLb4q0RzL6pybtaMLo   \n",
       "1002    0.6960    0.348  144.026  audio_features  7eJMfftS33KTjuF7lTsMCx   \n",
       "116     0.0952    0.677  123.941  audio_features  6WrI0LAC5M1Rw2MnX2ZvEg   \n",
       "1006    0.7900    0.642  116.971  audio_features  0nbXyq5TXYPCO7pr3N8S4I   \n",
       "1753    0.0897    0.334  171.005  audio_features  0VjIjW4GlUZAMYd2vXMi3b   \n",
       "118     0.0938    0.345  171.017  audio_features  0sf12qNH5qcw8qpgymFOqD   \n",
       "144     0.0904    0.786  110.962  audio_features  3Dv1eDb0MEgF93GpLXlucZ   \n",
       "846     0.1670    0.785  116.879  audio_features  6K4t31amVTZDgR3sKmwUJJ   \n",
       "433     0.1230    0.817  128.977  audio_features  4nK5YrxbMGZstTLbvj6Gxw   \n",
       "0       0.2420    0.924  143.040  audio_features  6I9VzXrHxO9rA9A5euc8Ak   \n",
       "470     0.3530    0.898  121.975  audio_features  24Yi9hE78yPEbZ4kxyoXAI   \n",
       "2172    0.1320    0.349   99.034  audio_features  6wJYhPfqk3KGhHRG76WzOh   \n",
       "2       0.1240    0.446  155.008  audio_features  2xLMifQCjDGFmkHkpNLD9h   \n",
       "1008    0.1520    0.508  142.037  audio_features  5yY9lUy8nbvjM1Uyo1Uqoc   \n",
       "3166    0.1610    0.371  112.960  audio_features  0GO8y8jQk1PkHzS31d699N   \n",
       "296     0.3990    0.678  129.989  audio_features  7aiClxsDWFRQ0Kzk5KI5ku   \n",
       "569     0.0960    0.680  168.983  audio_features  55CHeLEfn5iJ0IIkgaa4si   \n",
       "39      0.0864    0.866  133.148  audio_features  1B75hgRqe7A4fwee3g3Wmu   \n",
       "1199    0.7950    0.413   79.635  audio_features  5hVghJ4KaYES3BFUATCYn0   \n",
       "\n",
       "                                             track_href  \\\n",
       "119   https://api.spotify.com/v1/tracks/127QTOFJsJQp...   \n",
       "146   https://api.spotify.com/v1/tracks/1Cv1YLb4q0Rz...   \n",
       "1002  https://api.spotify.com/v1/tracks/7eJMfftS33KT...   \n",
       "116   https://api.spotify.com/v1/tracks/6WrI0LAC5M1R...   \n",
       "1006  https://api.spotify.com/v1/tracks/0nbXyq5TXYPC...   \n",
       "1753  https://api.spotify.com/v1/tracks/0VjIjW4GlUZA...   \n",
       "118   https://api.spotify.com/v1/tracks/0sf12qNH5qcw...   \n",
       "144   https://api.spotify.com/v1/tracks/3Dv1eDb0MEgF...   \n",
       "846   https://api.spotify.com/v1/tracks/6K4t31amVTZD...   \n",
       "433   https://api.spotify.com/v1/tracks/4nK5YrxbMGZs...   \n",
       "0     https://api.spotify.com/v1/tracks/6I9VzXrHxO9r...   \n",
       "470   https://api.spotify.com/v1/tracks/24Yi9hE78yPE...   \n",
       "2172  https://api.spotify.com/v1/tracks/6wJYhPfqk3KG...   \n",
       "2     https://api.spotify.com/v1/tracks/2xLMifQCjDGF...   \n",
       "1008  https://api.spotify.com/v1/tracks/5yY9lUy8nbvj...   \n",
       "3166  https://api.spotify.com/v1/tracks/0GO8y8jQk1Pk...   \n",
       "296   https://api.spotify.com/v1/tracks/7aiClxsDWFRQ...   \n",
       "569   https://api.spotify.com/v1/tracks/55CHeLEfn5iJ...   \n",
       "39    https://api.spotify.com/v1/tracks/1B75hgRqe7A4...   \n",
       "1199  https://api.spotify.com/v1/tracks/5hVghJ4KaYES...   \n",
       "\n",
       "                                           analysis_url duration_ms  \\\n",
       "119   https://api.spotify.com/v1/audio-analysis/127Q...      247059   \n",
       "146   https://api.spotify.com/v1/audio-analysis/1Cv1...      158571   \n",
       "1002  https://api.spotify.com/v1/audio-analysis/7eJM...      173333   \n",
       "116   https://api.spotify.com/v1/audio-analysis/6WrI...      183290   \n",
       "1006  https://api.spotify.com/v1/audio-analysis/0nbX...      196653   \n",
       "1753  https://api.spotify.com/v1/audio-analysis/0VjI...      200040   \n",
       "118   https://api.spotify.com/v1/audio-analysis/0sf1...      201573   \n",
       "144   https://api.spotify.com/v1/audio-analysis/3Dv1...      237893   \n",
       "846   https://api.spotify.com/v1/audio-analysis/6K4t...      216320   \n",
       "433   https://api.spotify.com/v1/audio-analysis/4nK5...      223480   \n",
       "0     https://api.spotify.com/v1/audio-analysis/6I9V...      198800   \n",
       "470   https://api.spotify.com/v1/audio-analysis/24Yi...      176840   \n",
       "2172  https://api.spotify.com/v1/audio-analysis/6wJY...      162547   \n",
       "2     https://api.spotify.com/v1/audio-analysis/2xLM...      312820   \n",
       "1008  https://api.spotify.com/v1/audio-analysis/5yY9...      237735   \n",
       "3166  https://api.spotify.com/v1/audio-analysis/0GO8...      218013   \n",
       "296   https://api.spotify.com/v1/audio-analysis/7aiC...      185093   \n",
       "569   https://api.spotify.com/v1/audio-analysis/55CH...      155497   \n",
       "39    https://api.spotify.com/v1/audio-analysis/1B75...      257360   \n",
       "1199  https://api.spotify.com/v1/audio-analysis/5hVg...      190067   \n",
       "\n",
       "     time_signature  \n",
       "119               4  \n",
       "146               4  \n",
       "1002              4  \n",
       "116               4  \n",
       "1006              4  \n",
       "1753              4  \n",
       "118               4  \n",
       "144               4  \n",
       "846               4  \n",
       "433               4  \n",
       "0                 4  \n",
       "470               4  \n",
       "2172              4  \n",
       "2                 4  \n",
       "1008              4  \n",
       "3166              4  \n",
       "296               1  \n",
       "569               4  \n",
       "39                4  \n",
       "1199              4  \n",
       "\n",
       "[20 rows x 24 columns]"
      ]
     },
     "execution_count": 4,
     "metadata": {},
     "output_type": "execute_result"
    }
   ],
   "source": [
    "tracks_quar = pd.read_csv(\"tracks_list.csv\")\n",
    "#shows a snipit of the data set (20 songs), sorted by appearances\n",
    "tracks_quar.sort_values(by=['count'], ascending=False)[:20]"
   ]
  },
  {
   "cell_type": "markdown",
   "metadata": {},
   "source": [
    "---"
   ]
  },
  {
   "cell_type": "markdown",
   "metadata": {},
   "source": [
    "<h4> Tracks from 2019: </h4>"
   ]
  },
  {
   "cell_type": "code",
   "execution_count": 7,
   "metadata": {},
   "outputs": [
    {
     "data": {
      "text/html": [
       "<div>\n",
       "<style scoped>\n",
       "    .dataframe tbody tr th:only-of-type {\n",
       "        vertical-align: middle;\n",
       "    }\n",
       "\n",
       "    .dataframe tbody tr th {\n",
       "        vertical-align: top;\n",
       "    }\n",
       "\n",
       "    .dataframe thead th {\n",
       "        text-align: right;\n",
       "    }\n",
       "</style>\n",
       "<table border=\"1\" class=\"dataframe\">\n",
       "  <thead>\n",
       "    <tr style=\"text-align: right;\">\n",
       "      <th></th>\n",
       "      <th>Unnamed: 0</th>\n",
       "      <th>acousticness</th>\n",
       "      <th>analysis_url</th>\n",
       "      <th>count</th>\n",
       "      <th>danceability</th>\n",
       "      <th>duration_ms</th>\n",
       "      <th>energy</th>\n",
       "      <th>explicit</th>\n",
       "      <th>id</th>\n",
       "      <th>instrumentalness</th>\n",
       "      <th>...</th>\n",
       "      <th>name</th>\n",
       "      <th>popularity</th>\n",
       "      <th>release_date</th>\n",
       "      <th>speechiness</th>\n",
       "      <th>tempo</th>\n",
       "      <th>time_signature</th>\n",
       "      <th>track_href</th>\n",
       "      <th>type</th>\n",
       "      <th>uri</th>\n",
       "      <th>valence</th>\n",
       "    </tr>\n",
       "  </thead>\n",
       "  <tbody>\n",
       "    <tr>\n",
       "      <td>937</td>\n",
       "      <td>1650</td>\n",
       "      <td>0.32800</td>\n",
       "      <td>https://api.spotify.com/v1/audio-analysis/2Fxm...</td>\n",
       "      <td>183</td>\n",
       "      <td>0.701</td>\n",
       "      <td>194088</td>\n",
       "      <td>0.425</td>\n",
       "      <td>False</td>\n",
       "      <td>2Fxmhks0bxGSBdJ92vM42m</td>\n",
       "      <td>0.130000</td>\n",
       "      <td>...</td>\n",
       "      <td>bad guy</td>\n",
       "      <td>92</td>\n",
       "      <td>2019-03-29</td>\n",
       "      <td>0.3750</td>\n",
       "      <td>135.128</td>\n",
       "      <td>4</td>\n",
       "      <td>https://api.spotify.com/v1/tracks/2Fxmhks0bxGS...</td>\n",
       "      <td>audio_features</td>\n",
       "      <td>spotify:track:2Fxmhks0bxGSBdJ92vM42m</td>\n",
       "      <td>0.562</td>\n",
       "    </tr>\n",
       "    <tr>\n",
       "      <td>803</td>\n",
       "      <td>1415</td>\n",
       "      <td>0.03700</td>\n",
       "      <td>https://api.spotify.com/v1/audio-analysis/0TK2...</td>\n",
       "      <td>149</td>\n",
       "      <td>0.759</td>\n",
       "      <td>190960</td>\n",
       "      <td>0.540</td>\n",
       "      <td>False</td>\n",
       "      <td>0TK2YIli7K1leLovkQiNik</td>\n",
       "      <td>0.000000</td>\n",
       "      <td>...</td>\n",
       "      <td>Señorita</td>\n",
       "      <td>88</td>\n",
       "      <td>2019-06-21</td>\n",
       "      <td>0.0287</td>\n",
       "      <td>116.947</td>\n",
       "      <td>4</td>\n",
       "      <td>https://api.spotify.com/v1/tracks/0TK2YIli7K1l...</td>\n",
       "      <td>audio_features</td>\n",
       "      <td>spotify:track:0TK2YIli7K1leLovkQiNik</td>\n",
       "      <td>0.750</td>\n",
       "    </tr>\n",
       "    <tr>\n",
       "      <td>1570</td>\n",
       "      <td>3059</td>\n",
       "      <td>0.11000</td>\n",
       "      <td>https://api.spotify.com/v1/audio-analysis/5w9c...</td>\n",
       "      <td>146</td>\n",
       "      <td>0.737</td>\n",
       "      <td>193227</td>\n",
       "      <td>0.860</td>\n",
       "      <td>False</td>\n",
       "      <td>5w9c2J52mkdntKOmRLeM2m</td>\n",
       "      <td>0.000002</td>\n",
       "      <td>...</td>\n",
       "      <td>Con Calma</td>\n",
       "      <td>83</td>\n",
       "      <td>2019-01-24</td>\n",
       "      <td>0.0593</td>\n",
       "      <td>93.989</td>\n",
       "      <td>4</td>\n",
       "      <td>https://api.spotify.com/v1/tracks/5w9c2J52mkdn...</td>\n",
       "      <td>audio_features</td>\n",
       "      <td>spotify:track:5w9c2J52mkdntKOmRLeM2m</td>\n",
       "      <td>0.656</td>\n",
       "    </tr>\n",
       "    <tr>\n",
       "      <td>1408</td>\n",
       "      <td>2475</td>\n",
       "      <td>0.08460</td>\n",
       "      <td>https://api.spotify.com/v1/audio-analysis/2ksO...</td>\n",
       "      <td>140</td>\n",
       "      <td>0.786</td>\n",
       "      <td>301714</td>\n",
       "      <td>0.808</td>\n",
       "      <td>False</td>\n",
       "      <td>2ksOAxtIxY8yElEWw8RhgK</td>\n",
       "      <td>0.000289</td>\n",
       "      <td>...</td>\n",
       "      <td>China</td>\n",
       "      <td>86</td>\n",
       "      <td>2019-07-19</td>\n",
       "      <td>0.0882</td>\n",
       "      <td>105.027</td>\n",
       "      <td>4</td>\n",
       "      <td>https://api.spotify.com/v1/tracks/2ksOAxtIxY8y...</td>\n",
       "      <td>audio_features</td>\n",
       "      <td>spotify:track:2ksOAxtIxY8yElEWw8RhgK</td>\n",
       "      <td>0.609</td>\n",
       "    </tr>\n",
       "    <tr>\n",
       "      <td>1571</td>\n",
       "      <td>3060</td>\n",
       "      <td>0.39000</td>\n",
       "      <td>https://api.spotify.com/v1/audio-analysis/2qG5...</td>\n",
       "      <td>130</td>\n",
       "      <td>0.882</td>\n",
       "      <td>161627</td>\n",
       "      <td>0.689</td>\n",
       "      <td>False</td>\n",
       "      <td>2qG5sZ7Si6sdK74qLxedYM</td>\n",
       "      <td>0.003250</td>\n",
       "      <td>...</td>\n",
       "      <td>Con Altura</td>\n",
       "      <td>82</td>\n",
       "      <td>2019-03-28</td>\n",
       "      <td>0.1240</td>\n",
       "      <td>97.963</td>\n",
       "      <td>4</td>\n",
       "      <td>https://api.spotify.com/v1/tracks/2qG5sZ7Si6sd...</td>\n",
       "      <td>audio_features</td>\n",
       "      <td>spotify:track:2qG5sZ7Si6sdK74qLxedYM</td>\n",
       "      <td>0.746</td>\n",
       "    </tr>\n",
       "    <tr>\n",
       "      <td>1407</td>\n",
       "      <td>2473</td>\n",
       "      <td>0.03340</td>\n",
       "      <td>https://api.spotify.com/v1/audio-analysis/6cy3...</td>\n",
       "      <td>128</td>\n",
       "      <td>0.721</td>\n",
       "      <td>221714</td>\n",
       "      <td>0.716</td>\n",
       "      <td>True</td>\n",
       "      <td>6cy3ki60hLwimwIje7tALf</td>\n",
       "      <td>0.000840</td>\n",
       "      <td>...</td>\n",
       "      <td>RITMO (Bad Boys For Life)</td>\n",
       "      <td>89</td>\n",
       "      <td>2019-10-12</td>\n",
       "      <td>0.0657</td>\n",
       "      <td>104.994</td>\n",
       "      <td>4</td>\n",
       "      <td>https://api.spotify.com/v1/tracks/6cy3ki60hLwi...</td>\n",
       "      <td>audio_features</td>\n",
       "      <td>spotify:track:6cy3ki60hLwimwIje7tALf</td>\n",
       "      <td>0.667</td>\n",
       "    </tr>\n",
       "    <tr>\n",
       "      <td>1757</td>\n",
       "      <td>3571</td>\n",
       "      <td>0.01250</td>\n",
       "      <td>https://api.spotify.com/v1/audio-analysis/6WrI...</td>\n",
       "      <td>111</td>\n",
       "      <td>0.794</td>\n",
       "      <td>183290</td>\n",
       "      <td>0.793</td>\n",
       "      <td>False</td>\n",
       "      <td>6WrI0LAC5M1Rw2MnX2ZvEg</td>\n",
       "      <td>0.000000</td>\n",
       "      <td>...</td>\n",
       "      <td>Don't Start Now</td>\n",
       "      <td>94</td>\n",
       "      <td>2019-10-31</td>\n",
       "      <td>0.0842</td>\n",
       "      <td>123.941</td>\n",
       "      <td>4</td>\n",
       "      <td>https://api.spotify.com/v1/tracks/6WrI0LAC5M1R...</td>\n",
       "      <td>audio_features</td>\n",
       "      <td>spotify:track:6WrI0LAC5M1Rw2MnX2ZvEg</td>\n",
       "      <td>0.677</td>\n",
       "    </tr>\n",
       "    <tr>\n",
       "      <td>1374</td>\n",
       "      <td>2416</td>\n",
       "      <td>0.29500</td>\n",
       "      <td>https://api.spotify.com/v1/audio-analysis/7k4t...</td>\n",
       "      <td>110</td>\n",
       "      <td>0.803</td>\n",
       "      <td>200960</td>\n",
       "      <td>0.715</td>\n",
       "      <td>False</td>\n",
       "      <td>7k4t7uLgtOxPwTpFmtJNTY</td>\n",
       "      <td>0.000134</td>\n",
       "      <td>...</td>\n",
       "      <td>Tusa</td>\n",
       "      <td>93</td>\n",
       "      <td>2019-11-07</td>\n",
       "      <td>0.2980</td>\n",
       "      <td>101.085</td>\n",
       "      <td>4</td>\n",
       "      <td>https://api.spotify.com/v1/tracks/7k4t7uLgtOxP...</td>\n",
       "      <td>audio_features</td>\n",
       "      <td>spotify:track:7k4t7uLgtOxPwTpFmtJNTY</td>\n",
       "      <td>0.574</td>\n",
       "    </tr>\n",
       "    <tr>\n",
       "      <td>832</td>\n",
       "      <td>1463</td>\n",
       "      <td>0.09120</td>\n",
       "      <td>https://api.spotify.com/v1/audio-analysis/3HVW...</td>\n",
       "      <td>110</td>\n",
       "      <td>0.798</td>\n",
       "      <td>219947</td>\n",
       "      <td>0.675</td>\n",
       "      <td>False</td>\n",
       "      <td>3HVWdVOQ0ZA45FuZGSfvns</td>\n",
       "      <td>0.000000</td>\n",
       "      <td>...</td>\n",
       "      <td>I Don't Care (with Justin Bieber)</td>\n",
       "      <td>86</td>\n",
       "      <td>2019-05-10</td>\n",
       "      <td>0.0442</td>\n",
       "      <td>101.956</td>\n",
       "      <td>4</td>\n",
       "      <td>https://api.spotify.com/v1/tracks/3HVWdVOQ0ZA4...</td>\n",
       "      <td>audio_features</td>\n",
       "      <td>spotify:track:3HVWdVOQ0ZA45FuZGSfvns</td>\n",
       "      <td>0.842</td>\n",
       "    </tr>\n",
       "    <tr>\n",
       "      <td>1421</td>\n",
       "      <td>2496</td>\n",
       "      <td>0.60000</td>\n",
       "      <td>https://api.spotify.com/v1/audio-analysis/2TH6...</td>\n",
       "      <td>110</td>\n",
       "      <td>0.610</td>\n",
       "      <td>250534</td>\n",
       "      <td>0.624</td>\n",
       "      <td>True</td>\n",
       "      <td>2TH65lNHgvLxCKXM3apjxI</td>\n",
       "      <td>0.000002</td>\n",
       "      <td>...</td>\n",
       "      <td>Callaita</td>\n",
       "      <td>86</td>\n",
       "      <td>2019-05-31</td>\n",
       "      <td>0.3090</td>\n",
       "      <td>176.169</td>\n",
       "      <td>4</td>\n",
       "      <td>https://api.spotify.com/v1/tracks/2TH65lNHgvLx...</td>\n",
       "      <td>audio_features</td>\n",
       "      <td>spotify:track:2TH65lNHgvLxCKXM3apjxI</td>\n",
       "      <td>0.244</td>\n",
       "    </tr>\n",
       "    <tr>\n",
       "      <td>1575</td>\n",
       "      <td>3064</td>\n",
       "      <td>0.32300</td>\n",
       "      <td>https://api.spotify.com/v1/audio-analysis/5iwz...</td>\n",
       "      <td>109</td>\n",
       "      <td>0.826</td>\n",
       "      <td>238200</td>\n",
       "      <td>0.773</td>\n",
       "      <td>False</td>\n",
       "      <td>5iwz1NiezX7WWjnCgY5TH4</td>\n",
       "      <td>0.000000</td>\n",
       "      <td>...</td>\n",
       "      <td>Calma - Remix</td>\n",
       "      <td>83</td>\n",
       "      <td>2018-10-05</td>\n",
       "      <td>0.0524</td>\n",
       "      <td>126.899</td>\n",
       "      <td>4</td>\n",
       "      <td>https://api.spotify.com/v1/tracks/5iwz1NiezX7W...</td>\n",
       "      <td>audio_features</td>\n",
       "      <td>spotify:track:5iwz1NiezX7WWjnCgY5TH4</td>\n",
       "      <td>0.761</td>\n",
       "    </tr>\n",
       "    <tr>\n",
       "      <td>1758</td>\n",
       "      <td>3572</td>\n",
       "      <td>0.00147</td>\n",
       "      <td>https://api.spotify.com/v1/audio-analysis/0sf1...</td>\n",
       "      <td>98</td>\n",
       "      <td>0.513</td>\n",
       "      <td>201573</td>\n",
       "      <td>0.796</td>\n",
       "      <td>False</td>\n",
       "      <td>0sf12qNH5qcw8qpgymFOqD</td>\n",
       "      <td>0.000209</td>\n",
       "      <td>...</td>\n",
       "      <td>Blinding Lights</td>\n",
       "      <td>86</td>\n",
       "      <td>2019-11-29</td>\n",
       "      <td>0.0629</td>\n",
       "      <td>171.017</td>\n",
       "      <td>4</td>\n",
       "      <td>https://api.spotify.com/v1/tracks/0sf12qNH5qcw...</td>\n",
       "      <td>audio_features</td>\n",
       "      <td>spotify:track:0sf12qNH5qcw8qpgymFOqD</td>\n",
       "      <td>0.345</td>\n",
       "    </tr>\n",
       "    <tr>\n",
       "      <td>750</td>\n",
       "      <td>1334</td>\n",
       "      <td>0.83700</td>\n",
       "      <td>https://api.spotify.com/v1/audio-analysis/2b8f...</td>\n",
       "      <td>95</td>\n",
       "      <td>0.764</td>\n",
       "      <td>189486</td>\n",
       "      <td>0.320</td>\n",
       "      <td>False</td>\n",
       "      <td>2b8fOow8UzyDFAE27YhOZM</td>\n",
       "      <td>0.000000</td>\n",
       "      <td>...</td>\n",
       "      <td>Memories</td>\n",
       "      <td>92</td>\n",
       "      <td>2019-09-20</td>\n",
       "      <td>0.0546</td>\n",
       "      <td>91.019</td>\n",
       "      <td>4</td>\n",
       "      <td>https://api.spotify.com/v1/tracks/2b8fOow8UzyD...</td>\n",
       "      <td>audio_features</td>\n",
       "      <td>spotify:track:2b8fOow8UzyDFAE27YhOZM</td>\n",
       "      <td>0.575</td>\n",
       "    </tr>\n",
       "    <tr>\n",
       "      <td>1642</td>\n",
       "      <td>3151</td>\n",
       "      <td>0.15200</td>\n",
       "      <td>https://api.spotify.com/v1/audio-analysis/0fea...</td>\n",
       "      <td>94</td>\n",
       "      <td>0.754</td>\n",
       "      <td>242573</td>\n",
       "      <td>0.646</td>\n",
       "      <td>False</td>\n",
       "      <td>0fea68AdmYNygeTGI4RC18</td>\n",
       "      <td>0.000018</td>\n",
       "      <td>...</td>\n",
       "      <td>LA CANCIÓN</td>\n",
       "      <td>86</td>\n",
       "      <td>2019-06-28</td>\n",
       "      <td>0.3170</td>\n",
       "      <td>176.089</td>\n",
       "      <td>4</td>\n",
       "      <td>https://api.spotify.com/v1/tracks/0fea68AdmYNy...</td>\n",
       "      <td>audio_features</td>\n",
       "      <td>spotify:track:0fea68AdmYNygeTGI4RC18</td>\n",
       "      <td>0.429</td>\n",
       "    </tr>\n",
       "    <tr>\n",
       "      <td>1586</td>\n",
       "      <td>3075</td>\n",
       "      <td>0.46200</td>\n",
       "      <td>https://api.spotify.com/v1/audio-analysis/7BlB...</td>\n",
       "      <td>88</td>\n",
       "      <td>0.780</td>\n",
       "      <td>201040</td>\n",
       "      <td>0.759</td>\n",
       "      <td>False</td>\n",
       "      <td>7BlBVFwvbWvcwNcUarQmjk</td>\n",
       "      <td>0.000868</td>\n",
       "      <td>...</td>\n",
       "      <td>Yo x Ti, Tu x Mi</td>\n",
       "      <td>81</td>\n",
       "      <td>2019-08-15</td>\n",
       "      <td>0.2250</td>\n",
       "      <td>91.952</td>\n",
       "      <td>4</td>\n",
       "      <td>https://api.spotify.com/v1/tracks/7BlBVFwvbWvc...</td>\n",
       "      <td>audio_features</td>\n",
       "      <td>spotify:track:7BlBVFwvbWvcwNcUarQmjk</td>\n",
       "      <td>0.579</td>\n",
       "    </tr>\n",
       "    <tr>\n",
       "      <td>1584</td>\n",
       "      <td>3073</td>\n",
       "      <td>0.36100</td>\n",
       "      <td>https://api.spotify.com/v1/audio-analysis/1c0h...</td>\n",
       "      <td>86</td>\n",
       "      <td>0.795</td>\n",
       "      <td>266087</td>\n",
       "      <td>0.783</td>\n",
       "      <td>False</td>\n",
       "      <td>1c0hsvHLELX6y8qymnpLKL</td>\n",
       "      <td>0.000000</td>\n",
       "      <td>...</td>\n",
       "      <td>Soltera - Remix</td>\n",
       "      <td>80</td>\n",
       "      <td>2019-05-10</td>\n",
       "      <td>0.0432</td>\n",
       "      <td>92.016</td>\n",
       "      <td>4</td>\n",
       "      <td>https://api.spotify.com/v1/tracks/1c0hsvHLELX6...</td>\n",
       "      <td>audio_features</td>\n",
       "      <td>spotify:track:1c0hsvHLELX6y8qymnpLKL</td>\n",
       "      <td>0.800</td>\n",
       "    </tr>\n",
       "    <tr>\n",
       "      <td>1844</td>\n",
       "      <td>5714</td>\n",
       "      <td>0.01410</td>\n",
       "      <td>https://api.spotify.com/v1/audio-analysis/116H...</td>\n",
       "      <td>84</td>\n",
       "      <td>0.817</td>\n",
       "      <td>210368</td>\n",
       "      <td>0.539</td>\n",
       "      <td>False</td>\n",
       "      <td>116H0KvKr2Zl4RPuVBruDO</td>\n",
       "      <td>0.000496</td>\n",
       "      <td>...</td>\n",
       "      <td>MIA (feat. Drake)</td>\n",
       "      <td>80</td>\n",
       "      <td>2018-10-11</td>\n",
       "      <td>0.0621</td>\n",
       "      <td>97.062</td>\n",
       "      <td>4</td>\n",
       "      <td>https://api.spotify.com/v1/tracks/116H0KvKr2Zl...</td>\n",
       "      <td>audio_features</td>\n",
       "      <td>spotify:track:116H0KvKr2Zl4RPuVBruDO</td>\n",
       "      <td>0.158</td>\n",
       "    </tr>\n",
       "    <tr>\n",
       "      <td>925</td>\n",
       "      <td>1627</td>\n",
       "      <td>0.19200</td>\n",
       "      <td>https://api.spotify.com/v1/audio-analysis/21jG...</td>\n",
       "      <td>84</td>\n",
       "      <td>0.695</td>\n",
       "      <td>215280</td>\n",
       "      <td>0.762</td>\n",
       "      <td>False</td>\n",
       "      <td>21jGcNKet2qwijlDFuPiPb</td>\n",
       "      <td>0.002440</td>\n",
       "      <td>...</td>\n",
       "      <td>Circles</td>\n",
       "      <td>94</td>\n",
       "      <td>2019-09-06</td>\n",
       "      <td>0.0395</td>\n",
       "      <td>120.042</td>\n",
       "      <td>4</td>\n",
       "      <td>https://api.spotify.com/v1/tracks/21jGcNKet2qw...</td>\n",
       "      <td>audio_features</td>\n",
       "      <td>spotify:track:21jGcNKet2qwijlDFuPiPb</td>\n",
       "      <td>0.553</td>\n",
       "    </tr>\n",
       "    <tr>\n",
       "      <td>1614</td>\n",
       "      <td>3113</td>\n",
       "      <td>0.15700</td>\n",
       "      <td>https://api.spotify.com/v1/audio-analysis/4w8n...</td>\n",
       "      <td>83</td>\n",
       "      <td>0.842</td>\n",
       "      <td>212500</td>\n",
       "      <td>0.801</td>\n",
       "      <td>True</td>\n",
       "      <td>4w8niZpiMy6qz1mntFA5uM</td>\n",
       "      <td>0.000005</td>\n",
       "      <td>...</td>\n",
       "      <td>Taki Taki (with Selena Gomez, Ozuna &amp; Cardi B)</td>\n",
       "      <td>81</td>\n",
       "      <td>2018-09-28</td>\n",
       "      <td>0.2280</td>\n",
       "      <td>95.881</td>\n",
       "      <td>4</td>\n",
       "      <td>https://api.spotify.com/v1/tracks/4w8niZpiMy6q...</td>\n",
       "      <td>audio_features</td>\n",
       "      <td>spotify:track:4w8niZpiMy6qz1mntFA5uM</td>\n",
       "      <td>0.617</td>\n",
       "    </tr>\n",
       "    <tr>\n",
       "      <td>2628</td>\n",
       "      <td>7989</td>\n",
       "      <td>0.06910</td>\n",
       "      <td>https://api.spotify.com/v1/audio-analysis/25sg...</td>\n",
       "      <td>80</td>\n",
       "      <td>0.719</td>\n",
       "      <td>187436</td>\n",
       "      <td>0.704</td>\n",
       "      <td>False</td>\n",
       "      <td>25sgk305KZfyuqVBQIahim</td>\n",
       "      <td>0.000000</td>\n",
       "      <td>...</td>\n",
       "      <td>Sweet but Psycho</td>\n",
       "      <td>85</td>\n",
       "      <td>2018-08-17</td>\n",
       "      <td>0.0476</td>\n",
       "      <td>133.002</td>\n",
       "      <td>4</td>\n",
       "      <td>https://api.spotify.com/v1/tracks/25sgk305KZfy...</td>\n",
       "      <td>audio_features</td>\n",
       "      <td>spotify:track:25sgk305KZfyuqVBQIahim</td>\n",
       "      <td>0.628</td>\n",
       "    </tr>\n",
       "  </tbody>\n",
       "</table>\n",
       "<p>20 rows × 24 columns</p>\n",
       "</div>"
      ],
      "text/plain": [
       "      Unnamed: 0  acousticness  \\\n",
       "937         1650       0.32800   \n",
       "803         1415       0.03700   \n",
       "1570        3059       0.11000   \n",
       "1408        2475       0.08460   \n",
       "1571        3060       0.39000   \n",
       "1407        2473       0.03340   \n",
       "1757        3571       0.01250   \n",
       "1374        2416       0.29500   \n",
       "832         1463       0.09120   \n",
       "1421        2496       0.60000   \n",
       "1575        3064       0.32300   \n",
       "1758        3572       0.00147   \n",
       "750         1334       0.83700   \n",
       "1642        3151       0.15200   \n",
       "1586        3075       0.46200   \n",
       "1584        3073       0.36100   \n",
       "1844        5714       0.01410   \n",
       "925         1627       0.19200   \n",
       "1614        3113       0.15700   \n",
       "2628        7989       0.06910   \n",
       "\n",
       "                                           analysis_url  count  danceability  \\\n",
       "937   https://api.spotify.com/v1/audio-analysis/2Fxm...    183         0.701   \n",
       "803   https://api.spotify.com/v1/audio-analysis/0TK2...    149         0.759   \n",
       "1570  https://api.spotify.com/v1/audio-analysis/5w9c...    146         0.737   \n",
       "1408  https://api.spotify.com/v1/audio-analysis/2ksO...    140         0.786   \n",
       "1571  https://api.spotify.com/v1/audio-analysis/2qG5...    130         0.882   \n",
       "1407  https://api.spotify.com/v1/audio-analysis/6cy3...    128         0.721   \n",
       "1757  https://api.spotify.com/v1/audio-analysis/6WrI...    111         0.794   \n",
       "1374  https://api.spotify.com/v1/audio-analysis/7k4t...    110         0.803   \n",
       "832   https://api.spotify.com/v1/audio-analysis/3HVW...    110         0.798   \n",
       "1421  https://api.spotify.com/v1/audio-analysis/2TH6...    110         0.610   \n",
       "1575  https://api.spotify.com/v1/audio-analysis/5iwz...    109         0.826   \n",
       "1758  https://api.spotify.com/v1/audio-analysis/0sf1...     98         0.513   \n",
       "750   https://api.spotify.com/v1/audio-analysis/2b8f...     95         0.764   \n",
       "1642  https://api.spotify.com/v1/audio-analysis/0fea...     94         0.754   \n",
       "1586  https://api.spotify.com/v1/audio-analysis/7BlB...     88         0.780   \n",
       "1584  https://api.spotify.com/v1/audio-analysis/1c0h...     86         0.795   \n",
       "1844  https://api.spotify.com/v1/audio-analysis/116H...     84         0.817   \n",
       "925   https://api.spotify.com/v1/audio-analysis/21jG...     84         0.695   \n",
       "1614  https://api.spotify.com/v1/audio-analysis/4w8n...     83         0.842   \n",
       "2628  https://api.spotify.com/v1/audio-analysis/25sg...     80         0.719   \n",
       "\n",
       "      duration_ms  energy  explicit                      id  instrumentalness  \\\n",
       "937        194088   0.425     False  2Fxmhks0bxGSBdJ92vM42m          0.130000   \n",
       "803        190960   0.540     False  0TK2YIli7K1leLovkQiNik          0.000000   \n",
       "1570       193227   0.860     False  5w9c2J52mkdntKOmRLeM2m          0.000002   \n",
       "1408       301714   0.808     False  2ksOAxtIxY8yElEWw8RhgK          0.000289   \n",
       "1571       161627   0.689     False  2qG5sZ7Si6sdK74qLxedYM          0.003250   \n",
       "1407       221714   0.716      True  6cy3ki60hLwimwIje7tALf          0.000840   \n",
       "1757       183290   0.793     False  6WrI0LAC5M1Rw2MnX2ZvEg          0.000000   \n",
       "1374       200960   0.715     False  7k4t7uLgtOxPwTpFmtJNTY          0.000134   \n",
       "832        219947   0.675     False  3HVWdVOQ0ZA45FuZGSfvns          0.000000   \n",
       "1421       250534   0.624      True  2TH65lNHgvLxCKXM3apjxI          0.000002   \n",
       "1575       238200   0.773     False  5iwz1NiezX7WWjnCgY5TH4          0.000000   \n",
       "1758       201573   0.796     False  0sf12qNH5qcw8qpgymFOqD          0.000209   \n",
       "750        189486   0.320     False  2b8fOow8UzyDFAE27YhOZM          0.000000   \n",
       "1642       242573   0.646     False  0fea68AdmYNygeTGI4RC18          0.000018   \n",
       "1586       201040   0.759     False  7BlBVFwvbWvcwNcUarQmjk          0.000868   \n",
       "1584       266087   0.783     False  1c0hsvHLELX6y8qymnpLKL          0.000000   \n",
       "1844       210368   0.539     False  116H0KvKr2Zl4RPuVBruDO          0.000496   \n",
       "925        215280   0.762     False  21jGcNKet2qwijlDFuPiPb          0.002440   \n",
       "1614       212500   0.801      True  4w8niZpiMy6qz1mntFA5uM          0.000005   \n",
       "2628       187436   0.704     False  25sgk305KZfyuqVBQIahim          0.000000   \n",
       "\n",
       "      ...                                            name  popularity  \\\n",
       "937   ...                                         bad guy          92   \n",
       "803   ...                                        Señorita          88   \n",
       "1570  ...                                       Con Calma          83   \n",
       "1408  ...                                           China          86   \n",
       "1571  ...                                      Con Altura          82   \n",
       "1407  ...                       RITMO (Bad Boys For Life)          89   \n",
       "1757  ...                                 Don't Start Now          94   \n",
       "1374  ...                                            Tusa          93   \n",
       "832   ...               I Don't Care (with Justin Bieber)          86   \n",
       "1421  ...                                        Callaita          86   \n",
       "1575  ...                                   Calma - Remix          83   \n",
       "1758  ...                                 Blinding Lights          86   \n",
       "750   ...                                        Memories          92   \n",
       "1642  ...                                      LA CANCIÓN          86   \n",
       "1586  ...                                Yo x Ti, Tu x Mi          81   \n",
       "1584  ...                                 Soltera - Remix          80   \n",
       "1844  ...                               MIA (feat. Drake)          80   \n",
       "925   ...                                         Circles          94   \n",
       "1614  ...  Taki Taki (with Selena Gomez, Ozuna & Cardi B)          81   \n",
       "2628  ...                                Sweet but Psycho          85   \n",
       "\n",
       "      release_date  speechiness    tempo  time_signature  \\\n",
       "937     2019-03-29       0.3750  135.128               4   \n",
       "803     2019-06-21       0.0287  116.947               4   \n",
       "1570    2019-01-24       0.0593   93.989               4   \n",
       "1408    2019-07-19       0.0882  105.027               4   \n",
       "1571    2019-03-28       0.1240   97.963               4   \n",
       "1407    2019-10-12       0.0657  104.994               4   \n",
       "1757    2019-10-31       0.0842  123.941               4   \n",
       "1374    2019-11-07       0.2980  101.085               4   \n",
       "832     2019-05-10       0.0442  101.956               4   \n",
       "1421    2019-05-31       0.3090  176.169               4   \n",
       "1575    2018-10-05       0.0524  126.899               4   \n",
       "1758    2019-11-29       0.0629  171.017               4   \n",
       "750     2019-09-20       0.0546   91.019               4   \n",
       "1642    2019-06-28       0.3170  176.089               4   \n",
       "1586    2019-08-15       0.2250   91.952               4   \n",
       "1584    2019-05-10       0.0432   92.016               4   \n",
       "1844    2018-10-11       0.0621   97.062               4   \n",
       "925     2019-09-06       0.0395  120.042               4   \n",
       "1614    2018-09-28       0.2280   95.881               4   \n",
       "2628    2018-08-17       0.0476  133.002               4   \n",
       "\n",
       "                                             track_href            type  \\\n",
       "937   https://api.spotify.com/v1/tracks/2Fxmhks0bxGS...  audio_features   \n",
       "803   https://api.spotify.com/v1/tracks/0TK2YIli7K1l...  audio_features   \n",
       "1570  https://api.spotify.com/v1/tracks/5w9c2J52mkdn...  audio_features   \n",
       "1408  https://api.spotify.com/v1/tracks/2ksOAxtIxY8y...  audio_features   \n",
       "1571  https://api.spotify.com/v1/tracks/2qG5sZ7Si6sd...  audio_features   \n",
       "1407  https://api.spotify.com/v1/tracks/6cy3ki60hLwi...  audio_features   \n",
       "1757  https://api.spotify.com/v1/tracks/6WrI0LAC5M1R...  audio_features   \n",
       "1374  https://api.spotify.com/v1/tracks/7k4t7uLgtOxP...  audio_features   \n",
       "832   https://api.spotify.com/v1/tracks/3HVWdVOQ0ZA4...  audio_features   \n",
       "1421  https://api.spotify.com/v1/tracks/2TH65lNHgvLx...  audio_features   \n",
       "1575  https://api.spotify.com/v1/tracks/5iwz1NiezX7W...  audio_features   \n",
       "1758  https://api.spotify.com/v1/tracks/0sf12qNH5qcw...  audio_features   \n",
       "750   https://api.spotify.com/v1/tracks/2b8fOow8UzyD...  audio_features   \n",
       "1642  https://api.spotify.com/v1/tracks/0fea68AdmYNy...  audio_features   \n",
       "1586  https://api.spotify.com/v1/tracks/7BlBVFwvbWvc...  audio_features   \n",
       "1584  https://api.spotify.com/v1/tracks/1c0hsvHLELX6...  audio_features   \n",
       "1844  https://api.spotify.com/v1/tracks/116H0KvKr2Zl...  audio_features   \n",
       "925   https://api.spotify.com/v1/tracks/21jGcNKet2qw...  audio_features   \n",
       "1614  https://api.spotify.com/v1/tracks/4w8niZpiMy6q...  audio_features   \n",
       "2628  https://api.spotify.com/v1/tracks/25sgk305KZfy...  audio_features   \n",
       "\n",
       "                                       uri  valence  \n",
       "937   spotify:track:2Fxmhks0bxGSBdJ92vM42m    0.562  \n",
       "803   spotify:track:0TK2YIli7K1leLovkQiNik    0.750  \n",
       "1570  spotify:track:5w9c2J52mkdntKOmRLeM2m    0.656  \n",
       "1408  spotify:track:2ksOAxtIxY8yElEWw8RhgK    0.609  \n",
       "1571  spotify:track:2qG5sZ7Si6sdK74qLxedYM    0.746  \n",
       "1407  spotify:track:6cy3ki60hLwimwIje7tALf    0.667  \n",
       "1757  spotify:track:6WrI0LAC5M1Rw2MnX2ZvEg    0.677  \n",
       "1374  spotify:track:7k4t7uLgtOxPwTpFmtJNTY    0.574  \n",
       "832   spotify:track:3HVWdVOQ0ZA45FuZGSfvns    0.842  \n",
       "1421  spotify:track:2TH65lNHgvLxCKXM3apjxI    0.244  \n",
       "1575  spotify:track:5iwz1NiezX7WWjnCgY5TH4    0.761  \n",
       "1758  spotify:track:0sf12qNH5qcw8qpgymFOqD    0.345  \n",
       "750   spotify:track:2b8fOow8UzyDFAE27YhOZM    0.575  \n",
       "1642  spotify:track:0fea68AdmYNygeTGI4RC18    0.429  \n",
       "1586  spotify:track:7BlBVFwvbWvcwNcUarQmjk    0.579  \n",
       "1584  spotify:track:1c0hsvHLELX6y8qymnpLKL    0.800  \n",
       "1844  spotify:track:116H0KvKr2Zl4RPuVBruDO    0.158  \n",
       "925   spotify:track:21jGcNKet2qwijlDFuPiPb    0.553  \n",
       "1614  spotify:track:4w8niZpiMy6qz1mntFA5uM    0.617  \n",
       "2628  spotify:track:25sgk305KZfyuqVBQIahim    0.628  \n",
       "\n",
       "[20 rows x 24 columns]"
      ]
     },
     "execution_count": 7,
     "metadata": {},
     "output_type": "execute_result"
    }
   ],
   "source": [
    "tracks_2019 = pd.read_csv(\"tracks_list_2019.csv\")\n",
    "tracks_2019.sort_values(by=['count'], ascending=False)[:20]"
   ]
  },
  {
   "cell_type": "markdown",
   "metadata": {},
   "source": [
    "<h2> I. Describing Music: Qualitative Audio Features</h2>\n",
    "\n",
    "In order to best understand the music people listen to, Spotify provides audio analysis for all tracks in the Spotify Catalog. The analysis is broken up into certain features that desibe a song's structure and musical content (like rythm, pitch, timbre, etc). Specifically, each element is denoted by an integer or float that scores a certain characteristic of a given song. \n",
    "For the purpose of this research study, we will analyze 10 key audio features in detail, and compare the scores of these audio features from playlists made during quarentine to the top songs in 2019 (before the COVID-19 pandemic began). \n",
    "\n",
    "\n",
    "To start, We will look at four charactersitcs which we consider <em> straightforward </em> and <em>qualitative</em>. In other words, musicians and listeners alike can completely capture these features in a couple words. Note, Spotify scores these featues as integers, while the other six characteristics are scored as floats. The descriptions of each these features are summarized from Spotify's Web API reference guide. Thus, to begin, this initial analysis looks at:\n",
    "\n",
    "1. **Popularity** - The popularity of a song is the most complex feature in this section of analysis, but Spotify still assigns this feature an integer value (specifically, between 0 and 100) and we consider it a qualititative description of a song. The popularity is calculated by an algorithm based mainly on the number of times a track has been played as well as how recent the song has been played. The Spotify Web API reference guide notes that \"generally speaking, songs that are being played a lot now will have a higher popularity than songs that were played a lot in the past.\" We recognize that there is also a score for artist and album popularity, but these are derived independently from track popularity and thus will not affect our subsequent analysis. \n",
    "\n",
    "\n",
    "2. **Explicitness**  - Spotify labels a song as explicit if the lyrics or content of the song meet a list of criteria which is considered unsuitable for childrien (such as strong language and references to violence or sexualized behavior). This audio feature gives explicit songs given a score of 1, while non-epxlicit songs are given a 0, making making analysis straightforward. \n",
    "\n",
    "\n",
    "3. **Key** - The estimated overall key of the track. This audio feature maps picthes using standard pitch class   notation. For example, 0 = C, 1 = C♯/D♭, 2 = D, and so on. If no key was detected, Spotify gives the song a value of -1, but this is a rarity.  \n",
    "\n",
    "\n",
    "4. **Modality** - Modality refers to the mode of a track (major or minor), the type of scale from which its melodic content is derived. Major is represented by 1 and minor is represented by a 0 score."
   ]
  },
  {
   "cell_type": "markdown",
   "metadata": {},
   "source": [
    "<h3><em> Evaluating Statistical Significance</em> </h3>\n",
    "To test our null hypothesis, we need to see if changing the explanatory variable has an effect on the outcome variable. If our null hypothesis is true, then shuffling the explanatory variable, a 2019 or Quarantine song, would have no effect on the outcome. We randomly shuffled the exposures in each trial, using 500 trials for each variable, making up 500 “fake” samples. For each “fake” sample, we found the test statistic for that sample, and graphed the distribution of the trials’ sample differences. Then, the ranking of the real test-statistic for our data among the shuffled test-statistic gave us our p-value, which we compared to an alpha-level of 0.05. To double check our p-value from our permutation tests, we did a t-test and compared the results of the permutation test on differences of sample means."
   ]
  },
  {
   "cell_type": "markdown",
   "metadata": {},
   "source": [
    "<h3> 1. Popularity </h3>"
   ]
  },
  {
   "cell_type": "markdown",
   "metadata": {},
   "source": [
    "<p> One of the first questions about quarantine songs is whether or not the songs' appearances in quarantine playlists is due to pure general popularity on spotify. To understand this, it's helpful to look at the popularity variable. However, while we analyze this variable for our quarantine dataset, doing the same for our top 2019 songs data would not provide fruitful results, as every song it contains is, by definition, extremely popular given the nature of the playlist. Thus, we will take a look solely at the popularity statistics of our quarantine dataset, as this is the data that will guide us to understanding the impact of popularity on the appearances of our quarantine songs. </p>"
   ]
  },
  {
   "cell_type": "markdown",
   "metadata": {},
   "source": [
    "<p> Does popularity impact the number appearences in quarantine playlists? To answer this question, we will see if there is a correlation between a track's popularity level, and the number of times that song appears in the data set. </p>"
   ]
  },
  {
   "cell_type": "code",
   "execution_count": 8,
   "metadata": {},
   "outputs": [
    {
     "data": {
      "image/png": "[encoded data removed]",
      "text/plain": [
       "<Figure size 432x288 with 1 Axes>"
      ]
     },
     "metadata": {
      "needs_background": "light"
     },
     "output_type": "display_data"
    }
   ],
   "source": [
    "plt.scatter(tracks_quar['popularity'], tracks_quar['count'], marker = 'o', color = 'green')\n",
    "\n",
    "plt.xlabel(\"Popularity (scale of 0 to 100)\")\n",
    "plt.ylabel(\"Number of Appearances\")\n",
    "plt.title(\"Quarantine Songs: Does Popularity Level impact Appearances?\")\n",
    "plt.show()"
   ]
  },
  {
   "cell_type": "markdown",
   "metadata": {},
   "source": [
    "<p> There seems to be a clear positive relationship with these two variables. However, it doesn't seem exactly linear. We are interested in understanding the strength of correlation between these two variables. We'll use a variant called rank correlation, where each element of a vector has a rank. </p>\n",
    "\n",
    "<p>Rank correlation (or Spearman correlation) is very similar to regular correlation (also called Pearson correlation), but it is more robust to relationships that aren't linear. Pearson correlation is to rank correlation as mean is to median. In both cases we can replace the actual value in an array with its *rank* in the array. The median is the value that has the mean rank (ie the midpoint), while the rank correlation is the Pearson correlation between the rank of $X_i$ and the rank of $Y_i$. <p>\n",
    "\n",
    "<p>The following code defines datapoints that nearly lie on a line and calculates the slope of a regression line fit to the data. </p>"
   ]
  },
  {
   "cell_type": "code",
   "execution_count": 9,
   "metadata": {},
   "outputs": [
    {
     "name": "stdout",
     "output_type": "stream",
     "text": [
      "Linear model slope: 0.220464\n"
     ]
    }
   ],
   "source": [
    "linear_model = LinearRegression().fit(tracks_quar[['popularity']], tracks_quar[['count']])\n",
    "print(\"Linear model slope: {:.6f}\".format(float(linear_model.coef_[0])))"
   ]
  },
  {
   "cell_type": "markdown",
   "metadata": {},
   "source": [
    "For each 1 point increase in popularity, the number of times the song appears in a quarantine playlist increases by roughly 0.22. Being more popular makes a song more likely to appear in quarantine playlists and thus our dataset of quarantine tracks. Let's see how well the data fits this linear model."
   ]
  },
  {
   "cell_type": "markdown",
   "metadata": {},
   "source": [
    "We can do this by looking at the correlation of:\n",
    "1. the track counts and the track popularity\n",
    "2. the *ranks* of the track counts and the *ranks* of the tracks popularity"
   ]
  },
  {
   "cell_type": "code",
   "execution_count": 10,
   "metadata": {},
   "outputs": [
    {
     "name": "stdout",
     "output_type": "stream",
     "text": [
      "Comparing Correlations for Popularity and Appearances\n",
      "Correlation: 0.2644\n",
      "Correlation of ranks: 0.4717\n"
     ]
    }
   ],
   "source": [
    "print(\"Comparing Correlations for Popularity and Appearances\")\n",
    "\n",
    "corrcoef = np.corrcoef(tracks_quar['popularity'], tracks_quar['count'])[0][1]\n",
    "rank_corrcoef = np.corrcoef(tracks_quar['popularity'].rank(), tracks_quar['count'].rank())[0][1]\n",
    "\n",
    "print('Correlation: {:.4f}'.format(corrcoef))\n",
    "print('Correlation of ranks: {:.4f}'.format(rank_corrcoef))"
   ]
  },
  {
   "cell_type": "markdown",
   "metadata": {},
   "source": [
    "As we can see, the correlation of ranks is much higher than the linear correlation. This makes sense, as we previously noted that the data is not exactly linear. By comparing the ranks, we can see how the more popular a song is in comparison to the rest of the songs, the more likely it is to be ranked higher in its number of appearances in our quarantine playlists."
   ]
  },
  {
   "cell_type": "markdown",
   "metadata": {},
   "source": [
    "<h4> Popularity Conclusion </h4>"
   ]
  },
  {
   "cell_type": "markdown",
   "metadata": {},
   "source": [
    "<p> From the graphical visualization, it is clear that there is a positive relationship between popularity and the number of appearances in playlists. These two variables are clearly interconnected, as the more popular a song is, the wider its audience, the more well-known it is, and the more likely it is to appear in any one person's playlist. However, our correlation is quite small. This could be due to the fact that the data does not quite fit a linear model, as there is clear curvature in the graph. As such, the Spearman R of rank correlation is much higher than the standard linear correlation. Still, the Spearman r is not quite as high as initially expected. Despite this, through understanding of the data's context and the graphical representation of the data, it is concluded that popularity does impact the number of appearances the songs appeared in our quarantine tracks. Onward! </p>"
   ]
  },
  {
   "cell_type": "markdown",
   "metadata": {},
   "source": [
    "---"
   ]
  },
  {
   "cell_type": "markdown",
   "metadata": {},
   "source": [
    "<h3>2.  Explicitness </h3>\n",
    "\n",
    "<p> Let's take a look at how many of the quarantine songs, as well as the 2019 songs, were explicit. </p>\n",
    "<p>**Our Hypothesis:** We do not expect a large difference in the two dataset. Perhaps the quarantine playlists were slightly more explicit, but this would probably be due to chance. </p>"
   ]
  },
  {
   "cell_type": "code",
   "execution_count": 11,
   "metadata": {},
   "outputs": [],
   "source": [
    "#function that creates pie chart for the explicit variable\n",
    "def pie_explicit(dataset, data_name):\n",
    "    count = 0\n",
    "    for i in dataset['explicit']:\n",
    "        if i == 1:\n",
    "            count += 1\n",
    "    percent_explicit = count/len(dataset['explicit'])\n",
    "    \n",
    "    explicit =  (percent_explicit*100)\n",
    "    clean = (1-percent_explicit)*100\n",
    "    \n",
    "    labels = 'Explicit', 'Clean'\n",
    "    fig1, ax1 = plt.subplots()\n",
    "    \n",
    "    ax1.pie([explicit, clean], \n",
    "            explode = (0, 0.1), \n",
    "            autopct='%1.1f%%', \n",
    "            colors = ['#1DB954', 'darkgrey'],\n",
    "            shadow=True, \n",
    "            startangle=90)\n",
    "\n",
    "    ax1.axis('equal')  # Equal aspect ratio ensures that pie is drawn as a circle.\n",
    "    \n",
    "    plt.legend(labels, loc=\"best\")\n",
    "    plt.title(\"What proportion of \" + data_name + \" were explicit?\")\n",
    "    plt.show()\n",
    "    \n",
    "    #explicit_breakdown = {'explicit': explicit, 'clean': clean}\n",
    "    explicit_breakdown = [explicit, clean]\n",
    "    return explicit_breakdown"
   ]
  },
  {
   "cell_type": "code",
   "execution_count": 12,
   "metadata": {},
   "outputs": [
    {
     "data": {
      "image/png": "[encoded data removed]",
      "text/plain": [
       "<Figure size 432x288 with 1 Axes>"
      ]
     },
     "metadata": {},
     "output_type": "display_data"
    }
   ],
   "source": [
    "#2019 Tracks\n",
    "explicit_2019 = pie_explicit(tracks_2019, '2019 Tracks')"
   ]
  },
  {
   "cell_type": "code",
   "execution_count": 13,
   "metadata": {},
   "outputs": [
    {
     "data": {
      "image/png": "[encoded data removed]",
      "text/plain": [
       "<Figure size 432x288 with 1 Axes>"
      ]
     },
     "metadata": {},
     "output_type": "display_data"
    }
   ],
   "source": [
    "#Quarantine Tracks\n",
    "explicit_quarantine = pie_explicit(tracks_quar, \"Quarantine Tracks\")"
   ]
  },
  {
   "cell_type": "code",
   "execution_count": 14,
   "metadata": {},
   "outputs": [],
   "source": [
    "#reusable function for bar chart creation, comparing a variable across two data sets\n",
    "def bar_chart(data_2019, data_quar, title, ticks):\n",
    "    \n",
    "    bars2019 = data_2019 #green\n",
    "    barsquar = data_quar #gray\n",
    "    \n",
    "    barWidth = 0.3\n",
    "    r1 = np.arange(len(bars2019))\n",
    "    r2 = [x + barWidth for x in r1]\n",
    "    \n",
    "    plt.bar(r1, bars2019, color='#1DB954', width=barWidth, edgecolor='white', label='2019')\n",
    "    plt.bar(r2, barsquar, color='darkgrey', width=barWidth, edgecolor='white', label='Quarantine')\n",
    "    \n",
    "    plt.xlabel('Tracks')\n",
    "    plt.ylabel('Percentage of Total')\n",
    "    plt.title(title)\n",
    "    plt.xticks([r + 0.15 for r in range(len(bars2019))], ticks)\n",
    "    \n",
    "    plt.legend()\n",
    "    plt.show()"
   ]
  },
  {
   "cell_type": "code",
   "execution_count": 15,
   "metadata": {},
   "outputs": [
    {
     "data": {
      "image/png": "[encoded data removed]",
      "text/plain": [
       "<Figure size 432x288 with 1 Axes>"
      ]
     },
     "metadata": {
      "needs_background": "light"
     },
     "output_type": "display_data"
    }
   ],
   "source": [
    "#Bar Chart comparison across 2019 and Quarantine Data\n",
    "bar_chart(explicit_2019, explicit_quarantine, title = \"Explicitness Comparison\", ticks = ['Explicit', 'Clean'])"
   ]
  },
  {
   "cell_type": "code",
   "execution_count": 16,
   "metadata": {},
   "outputs": [],
   "source": [
    "def print_percentages(feature, primary_feature):\n",
    "    print(\"Proportion of 2019 songs that are \"+str(primary_feature)+\":  \")\n",
    "    print('{:.4f}'.format(np.mean(tracks_2019[feature])))\n",
    "    \n",
    "    print(\"Proportion of Quarantine songs that are \"+str(primary_feature)+\":  \") \n",
    "    print('{:.4f}'.format(np.mean(tracks_quar[feature])))\n",
    "    \n",
    "    print()\n",
    "    print(\"Difference in proportions from 2019 to Quarantine:\")\n",
    "    print('{:.4f}'.format(np.mean(tracks_quar[feature])-np.mean(tracks_2019[feature])))\n",
    "\n",
    "    print(\"Percent change from 2019 to Quarantine:\")\n",
    "    print('{:.2%}'.format((np.mean(tracks_quar[feature])-np.mean(tracks_2019[feature]))/np.mean(tracks_2019[feature])))"
   ]
  },
  {
   "cell_type": "code",
   "execution_count": 17,
   "metadata": {},
   "outputs": [
    {
     "name": "stdout",
     "output_type": "stream",
     "text": [
      "Proportion of 2019 songs that are Explicit:  \n",
      "0.1631\n",
      "Proportion of Quarantine songs that are Explicit:  \n",
      "0.3071\n",
      "\n",
      "Difference in proportions from 2019 to Quarantine:\n",
      "0.1441\n",
      "Percent change from 2019 to Quarantine:\n",
      "88.36%\n"
     ]
    }
   ],
   "source": [
    "print_percentages('explicit', primary_feature = 'Explicit')"
   ]
  },
  {
   "cell_type": "markdown",
   "metadata": {},
   "source": [
    "The difference in the proportion of explict songs is the key test-statistic for us. We want to hold onto this for future reference, so we are going to create a function that returns the difference in the proportions of our two samples."
   ]
  },
  {
   "cell_type": "code",
   "execution_count": 18,
   "metadata": {},
   "outputs": [],
   "source": [
    "def sample_difference(feature):\n",
    "    _quarantine = np.mean(tracks_quar[feature])\n",
    "    _2019 = np.mean(tracks_2019[feature])\n",
    "    difference = _2019 - _quarantine\n",
    "    return round(difference, 6)"
   ]
  },
  {
   "cell_type": "code",
   "execution_count": 19,
   "metadata": {},
   "outputs": [
    {
     "data": {
      "text/plain": [
       "-0.144075"
      ]
     },
     "execution_count": 19,
     "metadata": {},
     "output_type": "execute_result"
    }
   ],
   "source": [
    "sample_difference('explicit')"
   ]
  },
  {
   "cell_type": "markdown",
   "metadata": {},
   "source": [
    "This means the proportion of explicit songs decreased by 0.14% of songs from the 2019 dataset to the Quarantine dataset. Next, we must test its statistical significance."
   ]
  },
  {
   "cell_type": "markdown",
   "metadata": {},
   "source": [
    "<h4> Evaluation of Significance: Explicitness </h4> "
   ]
  },
  {
   "cell_type": "markdown",
   "metadata": {},
   "source": [
    "To understand the breakdown between 2019 songs and Quarantine songs, we need to make a single dataframe, where the two datasets are concatenated, and include a new column called \"quarantine\", where a song's row has a \"0\" if the song is from the 2019 dataset, and a \"1\" if the song is from the Quarantine dataset. We do this with concatenate_df( )."
   ]
  },
  {
   "cell_type": "code",
   "execution_count": 20,
   "metadata": {},
   "outputs": [],
   "source": [
    "def concatenate_df():\n",
    "    #creating a list of zeros for each song in 2019 tracks\n",
    "    zero_list = []\n",
    "    for x in range(len(tracks_2019)):\n",
    "        zero_list.append(0)\n",
    "    \n",
    "    #creating a list of ones for each song in quarantine tracks\n",
    "    one_list = []\n",
    "    for x in range(len(tracks_quar)):\n",
    "        one_list.append(1)  \n",
    "\n",
    "    #adding these lists as a column to respective dataframes\n",
    "    df_quarantine = tracks_quar.assign(quarantine = one_list)\n",
    "    df_2019 = tracks_2019.assign(quarantine = zero_list)\n",
    "    \n",
    "    #concatenating the two dataframes\n",
    "    new = pd.concat([df_quarantine, df_2019], sort=False)\n",
    "    \n",
    "    #turning explicit column from True / False to 1 / 0\n",
    "    new[\"explicit\"] = new[\"explicit\"].astype(int)\n",
    "    return new"
   ]
  },
  {
   "cell_type": "code",
   "execution_count": 21,
   "metadata": {},
   "outputs": [],
   "source": [
    "#creating a new dataframe that combines the 2019 and quarantine datasets\n",
    "new = concatenate_df()"
   ]
  },
  {
   "cell_type": "markdown",
   "metadata": {},
   "source": [
    "Now that we have the concatenated dataframe, we can shuffle the \"quarantine\" colummn, and thus shuffle the explanatory variable, to see if it influences the shuffled data-set's outcome variable. \n",
    "\n",
    "We do this through the permuted_diff_list() function, which shuffles the explanatory variable (the \"quarantine\" column), essentially reassigning the 'quarantine or not quarantine' explanatory variable values to each outcome value. Then, it reseparates the newly assigned 'quarantine' and 'not quarantine' songs, finds the mean value for each sample, and finds the difference between the two sample means. It does this experiment 500 times, performing the permutation for 500 trials, and returns the list of 500 differences of means for the permuted samples."
   ]
  },
  {
   "cell_type": "code",
   "execution_count": 22,
   "metadata": {},
   "outputs": [],
   "source": [
    "#returns a list of the permuted differences for 500 trials for the parameter *feature*\n",
    "def permuted_diff_list(feature):\n",
    "    \n",
    "    trials = 500\n",
    "    diff_list = []\n",
    "    for x in range(trials):\n",
    "        \n",
    "        new['quarantine'] = np.random.permutation(new[\"quarantine\"].copy())\n",
    "\n",
    "        list_2019 = [] # when 0 means 2019 songs\n",
    "        list_quar = [] # when 1 means quarantine songs\n",
    "\n",
    "        for i in range(len(new)):\n",
    "            if new['quarantine'].iloc[i] == 0:\n",
    "                list_2019.append(new[feature].iloc[i])\n",
    "            else:\n",
    "                list_quar.append(new[feature].iloc[i])\n",
    "                \n",
    "        diff_list.append(np.mean(list_2019) - np.mean(list_quar))\n",
    "        \n",
    "    return diff_list"
   ]
  },
  {
   "cell_type": "code",
   "execution_count": 23,
   "metadata": {},
   "outputs": [],
   "source": [
    "explicit_data = permuted_diff_list(feature = 'explicit')"
   ]
  },
  {
   "cell_type": "markdown",
   "metadata": {},
   "source": [
    "Now that we have run the permutation 500 times, we can plot the distribution of differences of sample means from our 500 permutations, and compare it to the actual difference of sample means from our real data."
   ]
  },
  {
   "cell_type": "code",
   "execution_count": 24,
   "metadata": {},
   "outputs": [],
   "source": [
    "#https://stackoverflow.com/questions/16180946/drawing-average-line-in-histogram-matplotlib\n",
    "def plot_permuted_diff(feature, data, sample):    \n",
    "    plt.hist(data, bins=50)\n",
    "    plt.title(\"Differences In \"+str(feature)+\" Means From 500 Permutations\")\n",
    "    plt.axvline(sample, color='k', linestyle='dashed', linewidth=1)\n",
    "    plt.text(sample,15,'  {:.4f}'.format(sample))\n",
    "    plt.xlabel('Differences')\n",
    "    plt.ylabel('Count')\n",
    "    plt.show()\n",
    "    \n",
    "    print(\"The dashed line represents the difference in our sample means.\")"
   ]
  },
  {
   "cell_type": "code",
   "execution_count": 26,
   "metadata": {},
   "outputs": [
    {
     "data": {
      "image/png": "[encoded data removed]",
      "text/plain": [
       "<Figure size 432x288 with 1 Axes>"
      ]
     },
     "metadata": {
      "needs_background": "light"
     },
     "output_type": "display_data"
    },
    {
     "name": "stdout",
     "output_type": "stream",
     "text": [
      "The dashed line represents the difference in our sample means.\n",
      "The difference in means of our data:  -0.144075\n"
     ]
    }
   ],
   "source": [
    "plot_permuted_diff(feature = 'explicit', data = explicit_data, sample = sample_difference('explicit'))\n",
    "print(\"The difference in means of our data: \", sample_difference('explicit'))"
   ]
  },
  {
   "cell_type": "markdown",
   "metadata": {},
   "source": [
    "Clearly, the difference in means found in our data is very far from the distribution of permuted differences. Thus, the difference in the proportion of songs that are explicit from 2019 to Quarantine definitely appear significant. Let's see what it's p-value is. We can find the p-value by comparing our test statistic to the distribution of permutated differences, by counting its ranking against the shuffled test-statistics, essentially seeing how far outside the distribution it is."
   ]
  },
  {
   "cell_type": "code",
   "execution_count": 27,
   "metadata": {},
   "outputs": [],
   "source": [
    "def permutation_p_value(data, feature):\n",
    "    trials = 500\n",
    "    count = 0\n",
    "    for d in data:\n",
    "        if d > abs(sample_difference(feature)):\n",
    "            count += 1\n",
    "    p_value = format((count/trials), '.8f')\n",
    "\n",
    "    print(\"Permutation Test Results\")\n",
    "    print(\".....\")\n",
    "    print(\"p_value: \", p_value)"
   ]
  },
  {
   "cell_type": "code",
   "execution_count": 28,
   "metadata": {},
   "outputs": [
    {
     "name": "stdout",
     "output_type": "stream",
     "text": [
      "Permutation Test Results\n",
      ".....\n",
      "p_value:  0.00000000\n"
     ]
    }
   ],
   "source": [
    "permutation_p_value(data = explicit_data, feature = 'explicit')"
   ]
  },
  {
   "cell_type": "markdown",
   "metadata": {},
   "source": [
    "Clearly, this is an extremely low p-value. This essentially means that given our null hypothesis (that there is no difference in means) is true, there is a 0% chance we would see these results due to random variation. This p-value is well below our alpha-level of 0.05. Thus, we reject the null hypothesis that there is no difference in means, and accept the alternative, that there is a difference. "
   ]
  },
  {
   "cell_type": "markdown",
   "metadata": {},
   "source": [
    "Let's double check this p-value with the results of a t-test for two sample means. The function below performs a two-sample t-test with an alpha level of 0.05, and prints the key test results. "
   ]
  },
  {
   "cell_type": "code",
   "execution_count": 29,
   "metadata": {},
   "outputs": [],
   "source": [
    "#https://docs.scipy.org/doc/scipy/reference/generated/scipy.stats.t.html\n",
    "#https://towardsdatascience.com/inferential-statistics-series-t-test-using-numpy-2718f8f9bf2f\n",
    "def t_test_means(feature):\n",
    "    \n",
    "    alpha = 0.05\n",
    "    \n",
    "    #sample size\n",
    "    n_2019 = len(tracks_2019[feature])\n",
    "    n_quar = len(tracks_quar[feature])\n",
    "    \n",
    "    #standard error\n",
    "    se_2019 = tracks_2019[feature].std()/np.sqrt(n_2019)\n",
    "    se_quar = tracks_quar[feature].std()/np.sqrt(n_quar)\n",
    "    \n",
    "    #standard error of differences\n",
    "    sed = np.sqrt(se_2019**2 + se_quar**2)\n",
    "    \n",
    "    #t-statistic\n",
    "    t_stat =(np.mean(tracks_2019[feature])-np.mean(tracks_quar[feature]))/sed\n",
    "    \n",
    "    #degrees of freedom\n",
    "    df = n_2019 + n_quar - 2\n",
    "\n",
    "    #critical value using scipy ppf (percent point function)\n",
    "    cv = t.ppf(1.0-alpha,df)\n",
    "\n",
    "    #p-value using scipy cdf (cumulative distribution function) for t-distribution \n",
    "    p = (1-t.cdf(abs(t_stat), df))**2\n",
    "    \n",
    "    print(\"T-Test Results\")\n",
    "    print(\".....\")\n",
    "    print(\"T-Statistic: \" +str(t_stat))\n",
    "    print(\"Degress of Freedom: \" +str(df))\n",
    "    print(\"Critical Value: \" +str(cv))\n",
    "    print(\"p-value: {:.8f}\".format(p))"
   ]
  },
  {
   "cell_type": "code",
   "execution_count": 30,
   "metadata": {},
   "outputs": [
    {
     "name": "stdout",
     "output_type": "stream",
     "text": [
      "T-Test Results\n",
      ".....\n",
      "T-Statistic: -22.100686565206274\n",
      "Degress of Freedom: 16240\n",
      "Critical Value: 1.6449474604860919\n",
      "p-value: 0.00000000\n"
     ]
    }
   ],
   "source": [
    "t_test_means('explicit')"
   ]
  },
  {
   "cell_type": "markdown",
   "metadata": {},
   "source": [
    "Note: We will use this statistical significance test in each of the folloring audio feature sections."
   ]
  },
  {
   "cell_type": "markdown",
   "metadata": {},
   "source": [
    "<h4> An Explicit Conclusion? </h4>\n",
    "<p> Based on the data above, there is a clear change in the amount of explicit content people are listening to during quarantine. Only  16.3% of the 2019 songs featured explicit content, while that nearly doubled to to 30.7% during quarantine (a 14% difference in proportions). Furthermore, this difference is certainly statistically signficant, as both the p_value when running simulations as well as when conducting a T-test yielded a result approaching 0 (0.000000...x). Given the drastic percentage change, it is logical that it was almost impossible that this was due to random chance. </p>\n",
    "\n",
    "\n",
    "<p> In sum, explicit music has almost doubled... and we thought people were being clean during quarantine!\n",
    "Jokes aside, this is an interesting conclusion to start with, but we will need more audio features to fully draw out the effects of this pandemic on our music choices. </p>"
   ]
  },
  {
   "cell_type": "markdown",
   "metadata": {},
   "source": [
    "---"
   ]
  },
  {
   "cell_type": "markdown",
   "metadata": {},
   "source": [
    "<h3> 3. Key </h3> \n",
    "\n",
    "<p> **Our Hypothesis:** We do not expect to see significant change in the keys of songs. The most popular keys are stylistic choices that artists choose based on what sounds best. It is unlikely that quarantine alters our interest in music enough to see significant change in keys. With this prediction in mind, let's take a look... </p> "
   ]
  },
  {
   "cell_type": "code",
   "execution_count": 31,
   "metadata": {},
   "outputs": [],
   "source": [
    "#Counts the number of songs with each key, returns the percentage of total\n",
    "def key_breakdown(dataset):\n",
    "    count_0 = 0\n",
    "    count_1 = 0\n",
    "    count_2 = 0\n",
    "    count_3 = 0\n",
    "    count_4 = 0\n",
    "    count_5 = 0\n",
    "    count_6 = 0\n",
    "    count_7 = 0\n",
    "    count_8 = 0\n",
    "    count_9 = 0\n",
    "    count_10 = 0\n",
    "    count_11 = 0\n",
    "    for i in dataset['key']:\n",
    "        if i == 0:\n",
    "            count_0 += 1\n",
    "        if i == 1:\n",
    "            count_1 += 1\n",
    "        if i == 2:\n",
    "            count_2 += 1\n",
    "        if i == 3:\n",
    "            count_3 += 1\n",
    "        if i == 4:\n",
    "            count_4 += 1\n",
    "        if i == 5:\n",
    "            count_5 += 1\n",
    "        if i == 6:\n",
    "            count_6 += 1\n",
    "        if i == 7:\n",
    "            count_7 += 1\n",
    "        if i == 8:\n",
    "            count_8 += 1\n",
    "        if i == 9:\n",
    "            count_9 += 1\n",
    "        if i == 10:\n",
    "            count_10 += 1\n",
    "        if i == 11:\n",
    "            count_11 += 1\n",
    "    key_counts = [count_0, count_1, count_2, count_3, count_4, count_5, count_6, count_7, count_8, count_9, count_10, count_11]\n",
    "    key_percentage = []\n",
    "    for count in key_counts:\n",
    "        key_perc = (count/len(dataset['key']))*100\n",
    "        key_percentage.append(key_perc)\n",
    "    return key_percentage"
   ]
  },
  {
   "cell_type": "code",
   "execution_count": 38,
   "metadata": {},
   "outputs": [],
   "source": [
    "#Creates a pie chart for the keys\n",
    "def key_pie(key_breakdown, data_name):\n",
    "    \n",
    "    labels = 'C', 'C♯/D♭', 'D', 'D♯/E♭', 'E', 'F', 'F#/G♭', 'G', 'G♯/A♭', 'A', 'A♯/B♭', 'B'\n",
    "    fig1, ax1 = plt.subplots()\n",
    "\n",
    "    ax1.pie(key_breakdown, \n",
    "            explode= (0, 0, 0, 0, 0, 0, 0, 0, 0, 0, 0, 0), \n",
    "            colors = [\"#FFD699\", \"#FFB266\", \"#FFFF99\", \"#CCFF99\", \"#99FFFF\", \"#9933FF\", \"#009999\", \"#99CCFF\", \"#FF99CC\", \"#FF0077\", \"#FFFF00\", \"#E0E0E0\", \"#999FF\"], \n",
    "            autopct='%1.0f%%',\n",
    "            shadow=True, \n",
    "            startangle=90)\n",
    "    \n",
    "    ax1.axis('equal')  # Equal aspect ratio ensures that pie is drawn as a circle.\n",
    "    plt.legend(labels, loc=\"best\")\n",
    "    plt.title(\"What proportion of \" + data_name + \" were which keys?\")\n",
    "    plt.show()"
   ]
  },
  {
   "cell_type": "code",
   "execution_count": 39,
   "metadata": {},
   "outputs": [
    {
     "data": {
      "image/png": "[encoded data removed]",
      "text/plain": [
       "<Figure size 432x288 with 1 Axes>"
      ]
     },
     "metadata": {},
     "output_type": "display_data"
    }
   ],
   "source": [
    "#Quarantine Tracks\n",
    "key_pie(key_breakdown(tracks_quar), \"Quarantine Tracks\")"
   ]
  },
  {
   "cell_type": "code",
   "execution_count": 40,
   "metadata": {},
   "outputs": [
    {
     "data": {
      "image/png": "[encoded data removed]",
      "text/plain": [
       "<Figure size 432x288 with 1 Axes>"
      ]
     },
     "metadata": {},
     "output_type": "display_data"
    }
   ],
   "source": [
    "#2019 Tracks\n",
    "key_pie(key_breakdown(tracks_2019), \"2019 Tracks\")"
   ]
  },
  {
   "cell_type": "code",
   "execution_count": 41,
   "metadata": {},
   "outputs": [
    {
     "data": {
      "image/png": "[encoded data removed]",
      "text/plain": [
       "<Figure size 432x288 with 1 Axes>"
      ]
     },
     "metadata": {
      "needs_background": "light"
     },
     "output_type": "display_data"
    }
   ],
   "source": [
    "#Bar chart comparing across 2019 and Quarantine Data\n",
    "bar_chart(key_breakdown(tracks_quar), key_breakdown(tracks_2019), title = \"Keys Comparison\", ticks = ['C', 'C♯/D♭', 'D', 'D♯/E♭', 'E', 'F', 'F#/G♭', 'G', 'G♯/A♭', 'A', 'A♯/B♭', 'B'])"
   ]
  },
  {
   "cell_type": "markdown",
   "metadata": {},
   "source": [
    "<h4> Conclusion: Key takaways </h4>\n",
    "\n",
    "<p> The pie charts illustrates a few things. First, in both quarantine and 2019 datasets, the most popular Key's were C, and C♯/D♭, accounting for nearly 35% of the entire dataset when combined. That being said, the somewhat even distribution of the chart indicates that the key of a song does not have a <em> dramatic </em> effect on the song's success. In other words, there is no one key that dominates music. Stay away from D# though...\n",
    "    \n",
    "<p> More importantly, we see almost no change in the two datasets, illustrating that the quarantine has little effect on the key to which songs are written. Our hypothesis was correct. This wasn't the <em> key </em> to our research, unfortunately. </p>\n",
    "\n",
    "<p> P.S. We hope our puns lighten up your quarantine! </p>"
   ]
  },
  {
   "cell_type": "markdown",
   "metadata": {},
   "source": [
    "---"
   ]
  },
  {
   "cell_type": "markdown",
   "metadata": {},
   "source": [
    "<h3> Modality </h3>\n",
    "\n",
    "<p>**Our Hypothesis:** We expect that the quarentine playlist featured more songs in minor keys, as the eerie nature of being locked at home might make some people more meloncholy, and thus listen to music associated with being sad. We expect this to be statistically one of the most significant changes of all the audio features. Modality is a good mesausre of the \"happiness\" of a song. This being said, many individuals are finding ways to stay active (especially running) during quarantine. Because running music usually has an upbeat, positive nature, so this may offset the sad nature of self-isolation slightly, but we nonetheless expect modality to decrease.  </p>"
   ]
  },
  {
   "cell_type": "code",
   "execution_count": 42,
   "metadata": {},
   "outputs": [],
   "source": [
    "def mode_counter(dataset, data_name):\n",
    "    print(data_name)\n",
    "    #Major keys are denoted as 1, Minor keys denoted as 0\n",
    "    #Could combine this function with pie chart function\n",
    "    count_major = 0\n",
    "    count_minor = 0\n",
    "    for i in dataset['mode']:\n",
    "        if i == 1:\n",
    "            count_major += 1\n",
    "        if i == 0:\n",
    "            count_minor += 1\n",
    "    \n",
    "    print(\"count_major: \", count_major)\n",
    "    print(\"count_minor: \", count_minor)\n",
    "    \n",
    "    percent_major = count_major/len(dataset['mode'])\n",
    "    print('percent_major: ','{:.2%}'.format(percent_major))\n",
    "    \n",
    "    mode_breakdown = [count_major/len(dataset['mode']), count_minor/len(dataset['mode'])]\n",
    "    \n",
    "    return mode_breakdown"
   ]
  },
  {
   "cell_type": "code",
   "execution_count": 43,
   "metadata": {},
   "outputs": [],
   "source": [
    "def modality_pie(breakdown, data_name):\n",
    "    labels = 'Major', 'Minor'\n",
    "    sizes = breakdown\n",
    "    \n",
    "    fig1, ax1 = plt.subplots()\n",
    "    ax1.pie(sizes, \n",
    "            explode = (0.1, 0),  \n",
    "            autopct = '%1.1f%%', \n",
    "            colors = ['#1DB954', 'darkgrey'],\n",
    "            shadow = True, \n",
    "            startangle=90)\n",
    "    \n",
    "    plt.legend(labels, loc=\"best\")\n",
    "    ax1.axis('equal')  # Equal aspect ratio ensures that pie is drawn as a circle.\n",
    "    plt.title(data_name + \": Major or Minor?\")\n",
    "    plt.show()"
   ]
  },
  {
   "cell_type": "code",
   "execution_count": 44,
   "metadata": {},
   "outputs": [
    {
     "name": "stdout",
     "output_type": "stream",
     "text": [
      "Quarantine Tracks\n",
      "count_major:  5576\n",
      "count_minor:  3368\n",
      "percent_major:  62.34%\n"
     ]
    },
    {
     "data": {
      "image/png": "[encoded data removed]",
      "text/plain": [
       "<Figure size 432x288 with 1 Axes>"
      ]
     },
     "metadata": {},
     "output_type": "display_data"
    }
   ],
   "source": [
    "#Quarantine Tracks\n",
    "modality_breakdown_quarantine = mode_counter(tracks_quar, \"Quarantine Tracks\")\n",
    "modality_pie(modality_breakdown_quarantine,\"Quarantine Tracks\")"
   ]
  },
  {
   "cell_type": "code",
   "execution_count": 45,
   "metadata": {},
   "outputs": [
    {
     "name": "stdout",
     "output_type": "stream",
     "text": [
      "2019 Tracks\n",
      "count_major:  4398\n",
      "count_minor:  2900\n",
      "percent_major:  60.26%\n"
     ]
    },
    {
     "data": {
      "image/png": "[encoded data removed]",
      "text/plain": [
       "<Figure size 432x288 with 1 Axes>"
      ]
     },
     "metadata": {},
     "output_type": "display_data"
    }
   ],
   "source": [
    "#2019 Tracks\n",
    "modality_breakdown_2019 = mode_counter(tracks_2019, \"2019 Tracks\")\n",
    "modality_pie(modality_breakdown_2019, \"2019 Tracks\")"
   ]
  },
  {
   "cell_type": "code",
   "execution_count": 46,
   "metadata": {
    "scrolled": true
   },
   "outputs": [
    {
     "data": {
      "image/png": "[encoded data removed]",
      "text/plain": [
       "<Figure size 432x288 with 1 Axes>"
      ]
     },
     "metadata": {
      "needs_background": "light"
     },
     "output_type": "display_data"
    }
   ],
   "source": [
    "#Bar chart comparing across 2019 and Quarantine Data\n",
    "bar_chart(modality_breakdown_2019, modality_breakdown_quarantine, title = \"Modality Comparison\", ticks = [\"Major\", \"Minor\"] )"
   ]
  },
  {
   "cell_type": "code",
   "execution_count": 47,
   "metadata": {},
   "outputs": [
    {
     "name": "stdout",
     "output_type": "stream",
     "text": [
      "Proportion of 2019 songs that are Major:  \n",
      "0.6026\n",
      "Proportion of Quarantine songs that are Major:  \n",
      "0.6234\n",
      "\n",
      "Difference in proportions from 2019 to Quarantine:\n",
      "0.0208\n",
      "Percent change from 2019 to Quarantine:\n",
      "3.45%\n"
     ]
    }
   ],
   "source": [
    "print_percentages('mode', 'Major')"
   ]
  },
  {
   "cell_type": "markdown",
   "metadata": {},
   "source": [
    "<h4> Evaluation of Significance: Modality </h4> "
   ]
  },
  {
   "cell_type": "code",
   "execution_count": 48,
   "metadata": {},
   "outputs": [
    {
     "name": "stdout",
     "output_type": "stream",
     "text": [
      "The difference in mean modality between Quarantine and 2019 songs:\n",
      "-0.020804\n"
     ]
    }
   ],
   "source": [
    "print(\"The difference in mean modality between Quarantine and 2019 songs:\")\n",
    "print(sample_difference('mode'))"
   ]
  },
  {
   "cell_type": "code",
   "execution_count": 55,
   "metadata": {},
   "outputs": [],
   "source": [
    "modality_data = permuted_diff_list(feature = 'mode')"
   ]
  },
  {
   "cell_type": "code",
   "execution_count": 57,
   "metadata": {},
   "outputs": [
    {
     "data": {
      "image/png": "[encoded data removed]",
      "text/plain": [
       "<Figure size 432x288 with 1 Axes>"
      ]
     },
     "metadata": {
      "needs_background": "light"
     },
     "output_type": "display_data"
    },
    {
     "name": "stdout",
     "output_type": "stream",
     "text": [
      "The dashed line represents the difference in our sample means.\n",
      "The difference in means of our data:  -0.020804\n"
     ]
    }
   ],
   "source": [
    "plot_permuted_diff(feature = 'mode', data = modality_data, sample = sample_difference('mode'))\n",
    "print(\"The difference in means of our data: \", sample_difference('mode'))"
   ]
  },
  {
   "cell_type": "code",
   "execution_count": 59,
   "metadata": {},
   "outputs": [
    {
     "name": "stdout",
     "output_type": "stream",
     "text": [
      "Permutation Test Results\n",
      ".....\n",
      "p_value:  0.00400000\n"
     ]
    }
   ],
   "source": [
    "permutation_p_value(data = modality_data, feature = 'mode')"
   ]
  },
  {
   "cell_type": "code",
   "execution_count": 60,
   "metadata": {},
   "outputs": [
    {
     "name": "stdout",
     "output_type": "stream",
     "text": [
      "T-Test Results\n",
      ".....\n",
      "T-Statistic: -2.706863775370696\n",
      "Degress of Freedom: 16240\n",
      "Critical Value: 1.6449474604860919\n",
      "p-value: 0.00001156\n"
     ]
    }
   ],
   "source": [
    "t_test_means(feature = 'mode')"
   ]
  },
  {
   "cell_type": "markdown",
   "metadata": {},
   "source": [
    "<h4> Conclusion: Does our mood affect the mode? </h4>\n",
    "<p> Our Hypothesis was incorrect. The Quarantine dataset had, in fact, a 0.02 higher average modality than the 2019's tracks. As we counted songs that were in Minor as 0, and Major in 1, the proportion of songs that were in Major changed by 0.02 from the 2019 dataset to the Quarantine datset. To put simply, the quaranatine songs were more cheery. This is encouraging, becuase it indicates that people might be using music to improve their mood during this difficult time, and our predicition about running music might have played a role as well. The simulations provided a P-value of 0.002, while the T-test provided an even smaller P-value approaching 0.0000. Because our dataset is so large (8000+ songs), a 2% change in modality is statistically significant, and meaningfull. "
   ]
  },
  {
   "cell_type": "markdown",
   "metadata": {},
   "source": [
    "---\n",
    "---"
   ]
  },
  {
   "cell_type": "markdown",
   "metadata": {},
   "source": [
    "<h2> II. Describing Music: Quantitative Audio Features </h2>"
   ]
  },
  {
   "cell_type": "markdown",
   "metadata": {},
   "source": [
    "Next, we will analyze six complex audio features that Spotify denotes as floats, providing a sort of road map for each song. These remaining features include: \n",
    "\n",
    "5. **Energy** - According to Spotify's WEB API reference guide the Energy of a song \"represents a perceptual measure of intensity and activity. Typically, energetic tracks feel fast, loud, and noisy. For example, death metal has high energy, while a Bach prelude scores low on the scale. Perceptual features contributing to this attribute include dynamic range, perceived loudness, timbre, onset rate, and general entropy.\" This is an excellent audio feature to analyze because it says something about the listener. \n",
    "\n",
    "  \n",
    "6. **Danceability** - This audio feature is similair to energy, describing \"how suitable a track is for dancing based on a combination of musical elements including tempo, rhythm stability, beat strength, and overall regularity.\" \n",
    "   \n",
    "   \n",
    "7. **Valence** - A song's valence score is \"describing the musical positiveness conveyed by a track. Tracks with high valence sound more positive (e.g. happy, cheerful, euphoric), while tracks with low valence sound more negative (e.g. sad, depressed, angry).\" This feature is particularly useful because it helps us as researchers understand the mood of a listener. While some people enjoy listening to sad music more than others, trend changes are visible when analyzing valence on a sample size of this scale.\n",
    "\n",
    "\n",
    "8. **Acousticness** -  This is a confidence measure that determines whether a track is acoustic. Scores range from 0.0 to 1.0, providing a spectrum of musical range in between. \n",
    "\n",
    "\n",
    "9. **Speechiness** - This feature detects the presence of spoken words in a track. Unlike other categories, this score is especially useful in seperating other forms of audio (talks shows, audio books, poety) from pure musical recordings. Tracks of this nature recive a score close to 1.0. That being said, speechiness is useful in this analysis because it also helps seperate rap-muisc and genres with a high-concentration of speech/vocals from other types of music. The less words in the songs, the closer the speechiness score will get to 0.0\n",
    "\n",
    "\n",
    "10. **Tempo** - Finally, tempo is the speed or pace of a given song, ervied directly from the average beat duration. It is measured in beats per minute (BPM) "
   ]
  },
  {
   "cell_type": "markdown",
   "metadata": {},
   "source": [
    "<h3> 5. Energy </h3>\n",
    "\n",
    "<p>**Our Hypothesis:** We expect that the the average energy score of the quarantine dataset would have dropped from people's 2019 music choices. This aligns with our prediction that quarantine is having a negative impact of people's mental health and that might be visible in our music. There have been less parties, less gatherings, and less reasons to be moving around. In general, the nature of quarantine <em> primes </em> us to beleive energy, much like modality, would have decreased significantly. "
   ]
  },
  {
   "cell_type": "code",
   "execution_count": 61,
   "metadata": {},
   "outputs": [],
   "source": [
    "#creates a box plot that compares one feature across quarantine tracks and 2019 tracks\n",
    "def box_plot_comparisons(feature):\n",
    "    \n",
    "    x = tracks_2019[feature]\n",
    "    y = tracks_quar[feature] \n",
    "    \n",
    "    data_to_plot = x, y\n",
    "    fig = plt.figure(1, figsize=(8, 7))\n",
    "    ax = fig.add_subplot(111)\n",
    "    bp = ax.boxplot(data_to_plot)\n",
    "    bp = ax.boxplot(data_to_plot, patch_artist=True)\n",
    "    \n",
    "    for box in bp['boxes']:\n",
    "        box.set( color='black', linewidth=2)\n",
    "        box.set( facecolor = '#1DB954' )\n",
    "    \n",
    "    for whisker in bp['whiskers']:\n",
    "        whisker.set(color='black', linewidth=2)\n",
    "    \n",
    "    for cap in bp['caps']:\n",
    "        cap.set(color='black', linewidth=2)\n",
    "    \n",
    "    for median in bp['medians']:\n",
    "        median.set(color='#b2df8a', linewidth=2)\n",
    "    \n",
    "    for flier in bp['fliers']:\n",
    "        flier.set(marker='o', color='#e7298a', alpha=0.5)\n",
    "    \n",
    "    ax.set_xticklabels(['2019 Tracks', 'Quarantine Songs'])\n",
    "    plt.title(feature + \": Quarantine vs. 2019\")\n",
    "    plt.ylabel(\"Scale\")\n",
    "    plt.show()"
   ]
  },
  {
   "cell_type": "code",
   "execution_count": 62,
   "metadata": {},
   "outputs": [
    {
     "data": {
      "image/png": "[encoded data removed]",
      "text/plain": [
       "<Figure size 576x504 with 1 Axes>"
      ]
     },
     "metadata": {
      "needs_background": "light"
     },
     "output_type": "display_data"
    }
   ],
   "source": [
    "box_plot_comparisons('energy')"
   ]
  },
  {
   "cell_type": "code",
   "execution_count": 63,
   "metadata": {},
   "outputs": [],
   "source": [
    "def print_means(feature):\n",
    "    print(\"Mean \"+str(feature)+\" value for 2019:  \")\n",
    "    print('{:.4f}'.format(np.mean(tracks_2019[feature])))\n",
    "    \n",
    "    print(\"Mean \"+str(feature)+\" value for Quarantine:  \") \n",
    "    print('{:.4f}'.format(np.mean(tracks_quar[feature])))\n",
    "    \n",
    "    print()\n",
    "    print(\"Difference in means from 2019 to Quarantine:\")\n",
    "    print('{:.4f}'.format(np.mean(tracks_quar[feature])-np.mean(tracks_2019[feature])))\n",
    "    \n",
    "    print(\"Percent change from 2019 mean to Quarantine mean:\")\n",
    "    percent_change = (np.mean(tracks_quar[feature])-np.mean(tracks_2019[feature]))/np.mean(tracks_2019[feature])\n",
    "    print('{:.2%}'.format(percent_change))\n",
    "          "
   ]
  },
  {
   "cell_type": "code",
   "execution_count": 64,
   "metadata": {},
   "outputs": [
    {
     "name": "stdout",
     "output_type": "stream",
     "text": [
      "Mean energy value for 2019:  \n",
      "0.7014\n",
      "Mean energy value for Quarantine:  \n",
      "0.6376\n",
      "\n",
      "Difference in means from 2019 to Quarantine:\n",
      "-0.0637\n",
      "Percent change from 2019 mean to Quarantine mean:\n",
      "-9.09%\n"
     ]
    }
   ],
   "source": [
    "print_means('energy')"
   ]
  },
  {
   "cell_type": "markdown",
   "metadata": {},
   "source": [
    "<h4> Evaluation of Significance: Energy </h4> "
   ]
  },
  {
   "cell_type": "code",
   "execution_count": 65,
   "metadata": {},
   "outputs": [],
   "source": [
    "energy_data = permuted_diff_list(feature = 'energy')"
   ]
  },
  {
   "cell_type": "code",
   "execution_count": 67,
   "metadata": {},
   "outputs": [
    {
     "data": {
      "image/png": "[encoded data removed]",
      "text/plain": [
       "<Figure size 432x288 with 1 Axes>"
      ]
     },
     "metadata": {
      "needs_background": "light"
     },
     "output_type": "display_data"
    },
    {
     "name": "stdout",
     "output_type": "stream",
     "text": [
      "The dashed line represents the difference in our sample means.\n",
      "The difference in means of our data:  0.063739\n"
     ]
    }
   ],
   "source": [
    "plot_permuted_diff(feature = 'energy', data = energy_data, sample = sample_difference('energy'))\n",
    "print(\"The difference in means of our data: \", sample_difference('energy'))"
   ]
  },
  {
   "cell_type": "code",
   "execution_count": 69,
   "metadata": {},
   "outputs": [
    {
     "name": "stdout",
     "output_type": "stream",
     "text": [
      "Permutation Test Results\n",
      ".....\n",
      "p_value:  0.00000000\n"
     ]
    }
   ],
   "source": [
    "permutation_p_value(data = modality_data, feature = 'energy')"
   ]
  },
  {
   "cell_type": "code",
   "execution_count": 70,
   "metadata": {},
   "outputs": [
    {
     "name": "stdout",
     "output_type": "stream",
     "text": [
      "T-Test Results\n",
      ".....\n",
      "T-Statistic: 22.17580623566197\n",
      "Degress of Freedom: 16240\n",
      "Critical Value: 1.6449474604860919\n",
      "p-value: 0.00000000\n"
     ]
    }
   ],
   "source": [
    "t_test_means(feature = 'energy')"
   ]
  },
  {
   "cell_type": "markdown",
   "metadata": {},
   "source": [
    "<h4> Conclusion: Effect on Energy </h4>\n",
    "    \n",
    "<p> Our hypothesis for energy appears to be correct. The average energy of the quarantine dataset decreased by approximately 0.0637 from 2019's data, indicating that the overall loudness, timbre, onset rate, and general entropy of the music was lower. Our simulations provided a p-value approaching 0.000000..., and our t-test provided the same. A 0.637 difference in means is certainly statistically significant, and further guides our conclusions about the effect of isloation on music choice. </p>\n"
   ]
  },
  {
   "cell_type": "markdown",
   "metadata": {},
   "source": [
    "---"
   ]
  },
  {
   "cell_type": "markdown",
   "metadata": {},
   "source": [
    "<h3> 6. Danceability </h3>\n",
    "\n",
    "<p> **Our Hypothesis:** Our Hypothesis for this audio feature is similair to that of energy. Bars, clubs, venues, and house parties have come to an almost complete stop. It is logical that the average danceability score would have decreased in quarantine."
   ]
  },
  {
   "cell_type": "code",
   "execution_count": 71,
   "metadata": {
    "scrolled": true
   },
   "outputs": [
    {
     "data": {
      "image/png": "[encoded data removed]",
      "text/plain": [
       "<Figure size 576x504 with 1 Axes>"
      ]
     },
     "metadata": {
      "needs_background": "light"
     },
     "output_type": "display_data"
    }
   ],
   "source": [
    "box_plot_comparisons('danceability')"
   ]
  },
  {
   "cell_type": "code",
   "execution_count": 72,
   "metadata": {},
   "outputs": [
    {
     "name": "stdout",
     "output_type": "stream",
     "text": [
      "Mean danceability value for 2019:  \n",
      "0.6489\n",
      "Mean danceability value for Quarantine:  \n",
      "0.6566\n",
      "\n",
      "Difference in means from 2019 to Quarantine:\n",
      "0.0077\n",
      "Percent change from 2019 mean to Quarantine mean:\n",
      "1.18%\n"
     ]
    }
   ],
   "source": [
    "print_means('danceability')"
   ]
  },
  {
   "cell_type": "markdown",
   "metadata": {},
   "source": [
    "<h4> Evaluation of Significance: Danceability </h4> "
   ]
  },
  {
   "cell_type": "code",
   "execution_count": 73,
   "metadata": {},
   "outputs": [
    {
     "name": "stdout",
     "output_type": "stream",
     "text": [
      "The difference in mean danceability between Quarantine and 2019 songs:\n",
      "-0.007651\n"
     ]
    }
   ],
   "source": [
    "print(\"The difference in mean danceability between Quarantine and 2019 songs:\")\n",
    "print(sample_difference('danceability'))"
   ]
  },
  {
   "cell_type": "code",
   "execution_count": 76,
   "metadata": {},
   "outputs": [],
   "source": [
    "danceability_data = permuted_diff_list(feature = 'danceability')"
   ]
  },
  {
   "cell_type": "code",
   "execution_count": 77,
   "metadata": {},
   "outputs": [
    {
     "data": {
      "image/png": "[encoded data removed]",
      "text/plain": [
       "<Figure size 432x288 with 1 Axes>"
      ]
     },
     "metadata": {
      "needs_background": "light"
     },
     "output_type": "display_data"
    },
    {
     "name": "stdout",
     "output_type": "stream",
     "text": [
      "The dashed line represents the difference in our sample means.\n",
      "The difference in means of our data:  -0.007651\n"
     ]
    }
   ],
   "source": [
    "plot_permuted_diff(feature = 'danceability', data = danceability_data, sample = sample_difference('danceability'))\n",
    "print(\"The difference in means of our data: \", sample_difference('danceability'))"
   ]
  },
  {
   "cell_type": "code",
   "execution_count": 78,
   "metadata": {},
   "outputs": [
    {
     "name": "stdout",
     "output_type": "stream",
     "text": [
      "Permutation Test Results\n",
      ".....\n",
      "p_value:  0.17200000\n"
     ]
    }
   ],
   "source": [
    "permutation_p_value(data = modality_data, feature = 'danceability')"
   ]
  },
  {
   "cell_type": "code",
   "execution_count": 79,
   "metadata": {},
   "outputs": [
    {
     "name": "stdout",
     "output_type": "stream",
     "text": [
      "T-Test Results\n",
      ".....\n",
      "T-Statistic: -3.171799097435241\n",
      "Degress of Freedom: 16240\n",
      "Critical Value: 1.6449474604860919\n",
      "p-value: 0.00000058\n"
     ]
    }
   ],
   "source": [
    "t_test_means(feature = 'danceability')"
   ]
  },
  {
   "cell_type": "markdown",
   "metadata": {},
   "source": [
    "<h4> Conclusion: Are we dancing at home? </h4>\n",
    "<p> The data shows that the average danceability score actually <em> increased </em> by 0.0077. This is suprising, considering that the average energy scored decreased by 0.0637, as illustrated in the previous section. While this is the smallest change we've seen thus far, the change is still classified as statistically significant, yielding a 0.142 p-value from our simulations and a p-value extremely close to 0 from our T-test. Music suitable to dancing appears to be just as appealing alone as it is when allowed to be others. Maybe, without fearing judgement from our peers, people are finally breaking out some moves in the privacy of their home."
   ]
  },
  {
   "cell_type": "markdown",
   "metadata": {},
   "source": [
    "---"
   ]
  },
  {
   "cell_type": "markdown",
   "metadata": {},
   "source": [
    "<h3> 7. Valence </h3>\n",
    "\n",
    "<p>**Our Hypothesis:** Valence can be considered a somewhat quantitative measure of modality, in the sense that is measures the overall positiveness of a track (while major and minor keys are also associated with positive/negative themes, as well). Thus, like our prediction for modality, the nature of quarantine brings us to predict that valence will decrease significantly."
   ]
  },
  {
   "cell_type": "code",
   "execution_count": 80,
   "metadata": {
    "scrolled": true
   },
   "outputs": [
    {
     "data": {
      "image/png": "[encoded data removed]",
      "text/plain": [
       "<Figure size 576x504 with 1 Axes>"
      ]
     },
     "metadata": {
      "needs_background": "light"
     },
     "output_type": "display_data"
    }
   ],
   "source": [
    "box_plot_comparisons('valence')"
   ]
  },
  {
   "cell_type": "code",
   "execution_count": 81,
   "metadata": {},
   "outputs": [
    {
     "name": "stdout",
     "output_type": "stream",
     "text": [
      "Mean valence value for 2019:  \n",
      "0.5529\n",
      "Mean valence value for Quarantine:  \n",
      "0.5278\n",
      "\n",
      "Difference in means from 2019 to Quarantine:\n",
      "-0.0250\n",
      "Percent change from 2019 mean to Quarantine mean:\n",
      "-4.53%\n"
     ]
    }
   ],
   "source": [
    "print_means('valence')"
   ]
  },
  {
   "cell_type": "markdown",
   "metadata": {},
   "source": [
    "<h4> Evaluation of Significance: Valence </h4> "
   ]
  },
  {
   "cell_type": "code",
   "execution_count": 82,
   "metadata": {},
   "outputs": [
    {
     "name": "stdout",
     "output_type": "stream",
     "text": [
      "The difference in mean valence between Quarantine and 2019 songs:\n",
      "0.025037\n"
     ]
    }
   ],
   "source": [
    "print(\"The difference in mean valence between Quarantine and 2019 songs:\")\n",
    "print(sample_difference('valence'))"
   ]
  },
  {
   "cell_type": "code",
   "execution_count": 83,
   "metadata": {},
   "outputs": [
    {
     "data": {
      "image/png": "[encoded data removed]",
      "text/plain": [
       "<Figure size 432x288 with 1 Axes>"
      ]
     },
     "metadata": {
      "needs_background": "light"
     },
     "output_type": "display_data"
    },
    {
     "name": "stdout",
     "output_type": "stream",
     "text": [
      "The dashed line represents the difference in our sample means.\n",
      "The difference in means of our data:  0.025037\n"
     ]
    }
   ],
   "source": [
    "valence_data = permuted_diff_list(feature = 'valence')\n",
    "plot_permuted_diff(feature = 'valence', data = valence_data, sample = sample_difference('valence'))\n",
    "print(\"The difference in means of our data: \", sample_difference('valence'))"
   ]
  },
  {
   "cell_type": "code",
   "execution_count": 84,
   "metadata": {},
   "outputs": [
    {
     "name": "stdout",
     "output_type": "stream",
     "text": [
      "Permutation Test Results\n",
      ".....\n",
      "p_value:  0.00000000\n"
     ]
    }
   ],
   "source": [
    "permutation_p_value(data = valence_data, feature = 'valence')"
   ]
  },
  {
   "cell_type": "code",
   "execution_count": 85,
   "metadata": {},
   "outputs": [
    {
     "name": "stdout",
     "output_type": "stream",
     "text": [
      "T-Test Results\n",
      ".....\n",
      "T-Statistic: 6.7228745306290945\n",
      "Degress of Freedom: 16240\n",
      "Critical Value: 1.6449474604860919\n",
      "p-value: 0.00000000\n"
     ]
    }
   ],
   "source": [
    "t_test_means(feature = 'valence')"
   ]
  },
  {
   "cell_type": "markdown",
   "metadata": {},
   "source": [
    "<h4> Conclusion: Is there value in valence? </h4>\n",
    "<p> The mean valence for 2019 songs was 0.5529 increased to a mean of 0.0250 for Quarantine songs, signaling that our hypothesis was correct. Further, with p-values both approacing 0.000000 it is clear that a percentage decrease of this size is certaintly statistically significant. Now that we have analyzed both modality and valence, however, it is interesting that more songs were in minor keys, while the valence decreased significantly. We expected these two variables to increase proportionally.  "
   ]
  },
  {
   "cell_type": "markdown",
   "metadata": {},
   "source": [
    "---"
   ]
  },
  {
   "cell_type": "markdown",
   "metadata": {},
   "source": [
    "<h3> 8. Acousticness </h3>\n",
    "\n",
    "<p>**Our Hypothesis:** Accousticness is an audio feature where we do not expect to see much change as a result of the quarantine. Listening to acoustic music is personal, style choice that is not as clear of a mood indicator as energy, valence, or danceability."
   ]
  },
  {
   "cell_type": "code",
   "execution_count": 86,
   "metadata": {
    "scrolled": true
   },
   "outputs": [
    {
     "data": {
      "image/png": "[encoded data removed]",
      "text/plain": [
       "<Figure size 576x504 with 1 Axes>"
      ]
     },
     "metadata": {
      "needs_background": "light"
     },
     "output_type": "display_data"
    }
   ],
   "source": [
    "box_plot_comparisons('acousticness')"
   ]
  },
  {
   "cell_type": "code",
   "execution_count": 87,
   "metadata": {},
   "outputs": [
    {
     "name": "stdout",
     "output_type": "stream",
     "text": [
      "Mean acousticness value for 2019:  \n",
      "0.2017\n",
      "Mean acousticness value for Quarantine:  \n",
      "0.2236\n",
      "\n",
      "Difference in means from 2019 to Quarantine:\n",
      "0.0219\n",
      "Percent change from 2019 mean to Quarantine mean:\n",
      "10.86%\n"
     ]
    }
   ],
   "source": [
    "print_means('acousticness')"
   ]
  },
  {
   "cell_type": "markdown",
   "metadata": {},
   "source": [
    "<h4> Evaluation of Significance: Acousticness </h4> "
   ]
  },
  {
   "cell_type": "code",
   "execution_count": 88,
   "metadata": {},
   "outputs": [
    {
     "name": "stdout",
     "output_type": "stream",
     "text": [
      "The difference in mean acousticness between Quarantine and 2019 songs:\n",
      "-0.021897\n"
     ]
    }
   ],
   "source": [
    "print(\"The difference in mean acousticness between Quarantine and 2019 songs:\")\n",
    "print(sample_difference('acousticness'))"
   ]
  },
  {
   "cell_type": "code",
   "execution_count": 89,
   "metadata": {},
   "outputs": [],
   "source": [
    "acousticness_data = permuted_diff_list(feature = 'acousticness')"
   ]
  },
  {
   "cell_type": "code",
   "execution_count": 90,
   "metadata": {},
   "outputs": [
    {
     "data": {
      "image/png": "[encoded data removed]",
      "text/plain": [
       "<Figure size 432x288 with 1 Axes>"
      ]
     },
     "metadata": {
      "needs_background": "light"
     },
     "output_type": "display_data"
    },
    {
     "name": "stdout",
     "output_type": "stream",
     "text": [
      "The dashed line represents the difference in our sample means.\n",
      "The difference in means of our data:  -0.021897\n"
     ]
    }
   ],
   "source": [
    "plot_permuted_diff(feature = 'acousticness', data = acousticness_data, sample = sample_difference('acousticness'))\n",
    "print(\"The difference in means of our data: \", sample_difference('acousticness'))"
   ]
  },
  {
   "cell_type": "code",
   "execution_count": 91,
   "metadata": {},
   "outputs": [
    {
     "name": "stdout",
     "output_type": "stream",
     "text": [
      "Permutation Test Results\n",
      ".....\n",
      "p_value:  0.00000000\n"
     ]
    }
   ],
   "source": [
    "permutation_p_value(data = acousticness_data, feature = 'acousticness')"
   ]
  },
  {
   "cell_type": "code",
   "execution_count": 92,
   "metadata": {},
   "outputs": [
    {
     "name": "stdout",
     "output_type": "stream",
     "text": [
      "T-Test Results\n",
      ".....\n",
      "T-Statistic: -5.763163457395098\n",
      "Degress of Freedom: 16240\n",
      "Critical Value: 1.6449474604860919\n",
      "p-value: 0.00000000\n"
     ]
    }
   ],
   "source": [
    "t_test_means(feature = 'acousticness')"
   ]
  },
  {
   "cell_type": "markdown",
   "metadata": {},
   "source": [
    "<h4> Conclusion: How are the acoustics during quarantine? </h4>\n",
    "<p> The mean acousticness in 2019 songs decreased by 0.0250 on a 0-1 scale, going from 0.5529 down to 0.5278 mean valence in Quarantine songs. This 4.53% decrease of accousticness in the quarantine dataset from 2019, and given both p-values (simulation and T-test) approached 0, this is a statistically significant change. It is hard to place a reason for this change, perhaps acoustic music is less comforting during a a dreary time? "
   ]
  },
  {
   "cell_type": "markdown",
   "metadata": {},
   "source": [
    "---"
   ]
  },
  {
   "cell_type": "markdown",
   "metadata": {},
   "source": [
    "<h3> 9. Speechiness </h3>\n",
    "\n",
    "<p>**Our Hypothesis:** Speechiness is a audio feature, similair to acousticness, that we don't believe is going to drastically change during quarentine. A higher average speechiness score would indicate more rap music is being listened to, which is possible, but we predict any increase or decrease will be less significant than the other audio features analyzed. "
   ]
  },
  {
   "cell_type": "code",
   "execution_count": 93,
   "metadata": {
    "scrolled": false
   },
   "outputs": [
    {
     "data": {
      "image/png": "[encoded data removed]",
      "text/plain": [
       "<Figure size 576x504 with 1 Axes>"
      ]
     },
     "metadata": {
      "needs_background": "light"
     },
     "output_type": "display_data"
    }
   ],
   "source": [
    "box_plot_comparisons('speechiness')"
   ]
  },
  {
   "cell_type": "code",
   "execution_count": 94,
   "metadata": {},
   "outputs": [
    {
     "name": "stdout",
     "output_type": "stream",
     "text": [
      "Mean speechiness value for 2019:  \n",
      "0.0926\n",
      "Mean speechiness value for Quarantine:  \n",
      "0.1059\n",
      "\n",
      "Difference in means from 2019 to Quarantine:\n",
      "0.0133\n",
      "Percent change from 2019 mean to Quarantine mean:\n",
      "14.32%\n"
     ]
    }
   ],
   "source": [
    "print_means('speechiness')"
   ]
  },
  {
   "cell_type": "markdown",
   "metadata": {},
   "source": [
    "<h4> Evaluation of Significance: Speechiness </h4> "
   ]
  },
  {
   "cell_type": "code",
   "execution_count": 95,
   "metadata": {},
   "outputs": [
    {
     "name": "stdout",
     "output_type": "stream",
     "text": [
      "The difference in mean speechiness between Quarantine and 2019 songs:\n",
      "-0.01326\n"
     ]
    }
   ],
   "source": [
    "print(\"The difference in mean speechiness between Quarantine and 2019 songs:\")\n",
    "print(sample_difference('speechiness'))"
   ]
  },
  {
   "cell_type": "code",
   "execution_count": 96,
   "metadata": {},
   "outputs": [],
   "source": [
    "speechiness_data = permuted_diff_list(feature = 'speechiness')"
   ]
  },
  {
   "cell_type": "code",
   "execution_count": 97,
   "metadata": {},
   "outputs": [
    {
     "data": {
      "image/png": "[encoded data removed]",
      "text/plain": [
       "<Figure size 432x288 with 1 Axes>"
      ]
     },
     "metadata": {
      "needs_background": "light"
     },
     "output_type": "display_data"
    },
    {
     "name": "stdout",
     "output_type": "stream",
     "text": [
      "The dashed line represents the difference in our sample means.\n",
      "The difference in means of our data:  -0.01326\n"
     ]
    }
   ],
   "source": [
    "plot_permuted_diff(feature = 'speechiness', data = speechiness_data, sample = sample_difference('speechiness'))\n",
    "print(\"The difference in means of our data: \", sample_difference('speechiness'))"
   ]
  },
  {
   "cell_type": "code",
   "execution_count": 98,
   "metadata": {},
   "outputs": [
    {
     "name": "stdout",
     "output_type": "stream",
     "text": [
      "Permutation Test Results\n",
      ".....\n",
      "p_value:  0.00000000\n"
     ]
    }
   ],
   "source": [
    "permutation_p_value(data = speechiness_data, feature = 'speechiness')"
   ]
  },
  {
   "cell_type": "code",
   "execution_count": 99,
   "metadata": {},
   "outputs": [
    {
     "name": "stdout",
     "output_type": "stream",
     "text": [
      "T-Test Results\n",
      ".....\n",
      "T-Statistic: -8.65856334502017\n",
      "Degress of Freedom: 16240\n",
      "Critical Value: 1.6449474604860919\n",
      "p-value: 0.00000000\n"
     ]
    }
   ],
   "source": [
    "t_test_means(feature = 'speechiness')"
   ]
  },
  {
   "cell_type": "markdown",
   "metadata": {},
   "source": [
    "<h4> Conclusion: Hard to <em> rap </em> our head around this one... </h4>\n",
    "<p> There was a 1.3% increase in the average speechiness score of the quarantine dataset, and because both p-values were approximately 0, it's again almost impossible this was due to random chance. Admittidly, the change is not as significant as we've seen with other audio features, but it can't be ignored. People are listening to music with slightly more words. Lyrics, like poetry, often inspire and motivate us - and maybe we are turning to rap music for answers? Our final thoughts will provide a thorough explanation of this theme."
   ]
  },
  {
   "cell_type": "markdown",
   "metadata": {},
   "source": [
    "---"
   ]
  },
  {
   "cell_type": "markdown",
   "metadata": {},
   "source": [
    "<h3> 10. Tempo </h3>\n",
    "\n",
    "<p>**Our Hypothesis:** Tempo is an audio feature most people understand without a description. Staying consistant with our overarching hypothesis, we expect the average tempo to decrease during quarantine. Sad music is categorically  considered \"slow\", while happy music is often up-beat and quick. "
   ]
  },
  {
   "cell_type": "code",
   "execution_count": 100,
   "metadata": {
    "scrolled": true
   },
   "outputs": [
    {
     "data": {
      "image/png": "[encoded data removed]",
      "text/plain": [
       "<Figure size 576x504 with 1 Axes>"
      ]
     },
     "metadata": {
      "needs_background": "light"
     },
     "output_type": "display_data"
    }
   ],
   "source": [
    "box_plot_comparisons('tempo')"
   ]
  },
  {
   "cell_type": "code",
   "execution_count": 101,
   "metadata": {},
   "outputs": [
    {
     "name": "stdout",
     "output_type": "stream",
     "text": [
      "Mean tempo value for 2019:  \n",
      "123.1222\n",
      "Mean tempo value for Quarantine:  \n",
      "120.2803\n",
      "\n",
      "Difference in means from 2019 to Quarantine:\n",
      "-2.8419\n",
      "Percent change from 2019 mean to Quarantine mean:\n",
      "-2.31%\n"
     ]
    }
   ],
   "source": [
    "print_means('tempo')"
   ]
  },
  {
   "cell_type": "markdown",
   "metadata": {},
   "source": [
    "<h4> Evaluation of Significance: Tempo </h4> "
   ]
  },
  {
   "cell_type": "code",
   "execution_count": 102,
   "metadata": {},
   "outputs": [
    {
     "name": "stdout",
     "output_type": "stream",
     "text": [
      "The difference in mean tempo between Quarantine and 2019 songs:\n",
      "2.841892\n"
     ]
    }
   ],
   "source": [
    "print(\"The difference in mean tempo between Quarantine and 2019 songs:\")\n",
    "print(sample_difference('tempo'))"
   ]
  },
  {
   "cell_type": "code",
   "execution_count": 103,
   "metadata": {},
   "outputs": [],
   "source": [
    "tempo_data = permuted_diff_list(feature = 'tempo')"
   ]
  },
  {
   "cell_type": "code",
   "execution_count": 104,
   "metadata": {},
   "outputs": [
    {
     "data": {
      "image/png": "[encoded data removed]",
      "text/plain": [
       "<Figure size 432x288 with 1 Axes>"
      ]
     },
     "metadata": {
      "needs_background": "light"
     },
     "output_type": "display_data"
    },
    {
     "name": "stdout",
     "output_type": "stream",
     "text": [
      "The dashed line represents the difference in our sample means.\n",
      "The difference in means of our data:  2.841892\n"
     ]
    }
   ],
   "source": [
    "plot_permuted_diff(feature = 'tempo', data = energy_data, sample = sample_difference('tempo'))\n",
    "print(\"The difference in means of our data: \", sample_difference('tempo'))"
   ]
  },
  {
   "cell_type": "code",
   "execution_count": 105,
   "metadata": {},
   "outputs": [
    {
     "name": "stdout",
     "output_type": "stream",
     "text": [
      "Permutation Test Results\n",
      ".....\n",
      "p_value:  0.00000000\n"
     ]
    }
   ],
   "source": [
    "permutation_p_value(data = tempo_data, feature = 'tempo')"
   ]
  },
  {
   "cell_type": "code",
   "execution_count": 106,
   "metadata": {},
   "outputs": [
    {
     "name": "stdout",
     "output_type": "stream",
     "text": [
      "T-Test Results\n",
      ".....\n",
      "T-Statistic: 6.36062944442041\n",
      "Degress of Freedom: 16240\n",
      "Critical Value: 1.6449474604860919\n",
      "p-value: 0.00000000\n"
     ]
    }
   ],
   "source": [
    "t_test_means(feature = 'tempo')"
   ]
  },
  {
   "cell_type": "markdown",
   "metadata": {},
   "source": [
    "<h4> Conclusion on Tempo: Could quarantine fo any slower? </h4>\n",
    "<p> As predicted, the average tempo of the quarantine songs decreased from 2019, by 2.84 beats per second. A change of this size is certainly statistically significant, yielding p-scores approximately equal to 0 on both the simulation and T-Test. While the tempo of a song does not exactly correlate with the mood, this supports the thoery  that people are listening to sadder, slower, and less energetic music while they sit at home. Of course, not all of the audio features supported this theme, but tempo clearly does. "
   ]
  },
  {
   "cell_type": "markdown",
   "metadata": {},
   "source": [
    "---\n",
    "---"
   ]
  },
  {
   "cell_type": "markdown",
   "metadata": {},
   "source": [
    "<h2> Concluding Thoughts </h2>"
   ]
  },
  {
   "cell_type": "markdown",
   "metadata": {},
   "source": [
    "<p> So, how has our music streaming changed since being in quarantine? Each of the ten different audio features we’ve analyzed offered unique insight into our listening choices, and through the analysis of our streaming data, we’ve been able to illustrate exactly how these choices have fluctuated. </p>\n",
    " \n",
    "<p>The most notable and statistically significant discovery of the quantitative audio features was the decrease in energy. While this drop was initially hypothesized, it is interesting to actually see evidence of this in our data, confirming, with numbers, the real-life effects of quarantine that we see in our day-to-day lives. Qualitatively, the proportion of the songs that we listen to that are explicit has grown by 14.41% since 2019; a statistically significant difference that forces us to wonder why people are choosing to listen to more explicit songs than before. Other variables like speechiness and acousticness had small increases, while tempo and valence had smaller decreases, giving us the opportunity to make inferences about why quarantine is affecting these features. </p>\n",
    " \n",
    "<p> Because our statistical significance evaluations were methodical, we are confident that the data increases and decreases reflect the actual listening choices of people in quarantine. However, we are less confident in our causation explanations. For example, danceability’s slight increase does not seem logical. Likewise, the proportion of songs with a major mode increased.  Both of these results go against our hypothesis that people are listening to slower, relaxed music. If we had analyzed datasets from 2018, 2017, 2016, and even 2015, we would get a better understanding of the average variability of features like danceability from year to year, which might explain the seemingly nonsensical increases of danceability and modality. </p> \n",
    " \n",
    "<p>Another improvement of this research opportunity would be to analyze what genres and radio stations people are listening to more often.  Spotify provides a number of recommendation resources and pre-made playlists. Our analysis only looked at self-made playlists, leaving out most of the music available on Spotify. The amount people are listening to these unique parts of the platform is always changing, providing room for further research. </p>\n",
    " \n",
    "<p>This research project has been a rewarding and challenging journey. It’s provided hands-on experience in both web scraping using an API, as well as analyzing complex data. We are proud of our work, and grateful to the caring support-system INFO 2950 provides to make it all possible. </p>"
   ]
  },
  {
   "cell_type": "markdown",
   "metadata": {},
   "source": [
    "<h2> Source Code </h2>"
   ]
  },
  {
   "cell_type": "markdown",
   "metadata": {},
   "source": [
    "<p>Link to our GitHub Repository: https://github.com/kzo2/Info-2950-Final-Project </p>"
   ]
  },
  {
   "cell_type": "markdown",
   "metadata": {},
   "source": [
    "<h2> Acknowledgements </h2>"
   ]
  },
  {
   "cell_type": "markdown",
   "metadata": {},
   "source": [
    "- The data web scraping, as well as manipulation and understanding of audio features, was made possible by the Spotify's Web API Reference Documentation:\n",
    "https://developer.spotify.com/documentation/web-api/ </p>"
   ]
  },
  {
   "cell_type": "code",
   "execution_count": 41,
   "metadata": {
    "scrolled": true
   },
   "outputs": [
    {
     "data": {
      "application/javascript": [
       "let words = 0;\n",
       "Jupyter.notebook.get_cells().forEach(cell => {if (cell.cell_type == \"markdown\") { words += cell.element[0].innerText.split(\" \").length }})\n",
       "element.text(\"markdown words: \" + words)"
      ],
      "text/plain": [
       "<IPython.core.display.Javascript object>"
      ]
     },
     "metadata": {},
     "output_type": "display_data"
    }
   ],
   "source": [
    "%%javascript\n",
    "let words = 0;\n",
    "Jupyter.notebook.get_cells().forEach(cell => {if (cell.cell_type == \"markdown\") { words += cell.element[0].innerText.split(\" \").length }})\n",
    "element.text(\"markdown words: \" + words)"
   ]
  },
  {
   "cell_type": "code",
   "execution_count": null,
   "metadata": {},
   "outputs": [],
   "source": []
  }
 ],
 "metadata": {
  "kernelspec": {
   "display_name": "Python 3",
   "language": "python",
   "name": "python3"
  },
  "language_info": {
   "codemirror_mode": {
    "name": "ipython",
    "version": 3
   },
   "file_extension": ".py",
   "mimetype": "text/x-python",
   "name": "python",
   "nbconvert_exporter": "python",
   "pygments_lexer": "ipython3",
   "version": "3.6.8"
  }
 },
 "nbformat": 4,
 "nbformat_minor": 2
}
