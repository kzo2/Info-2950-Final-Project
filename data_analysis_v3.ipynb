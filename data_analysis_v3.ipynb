{
 "cells": [
  {
   "cell_type": "markdown",
   "metadata": {},
   "source": [
    "<h1> Has Quarantine Changed Our Queues? </h1>\n",
    "Understanding the impact of COVID-19 Quarantine on our Spotify streaming <br>\n",
    "\n",
    " ANDERS JENSEN, Cornell University <br> \n",
    " KAELA OLSEN, Cornell University <br>\n",
    "\n",
    "<h4> May 5th, 2020 <br>\n",
    "Info 2950: Intro to Data Science </h4>"
   ]
  },
  {
   "cell_type": "markdown",
   "metadata": {},
   "source": [
    "<h2> Introduction </h2>\n",
    "\n",
    "<p> In the span of a few months, the global economy, and more importantly, livelihoods of everyday people, completely shut down due to the world-wide spread of COVID-19. Quarantine has looked different for everyone, but isolating oneself at home for a long period of time is certainly boring and tedious. Many researchers are investigating potentially negative, psychological effects of this experience. Longer quarantine duration is being linked to frustration, boredom, and depression, in addition to the financial losses many families are enduring. These hypotheses are speculative, and it’s imperative that more research is done to assess the effect quarantine is having on people’s mental health.</p> \n",
    "\n",
    "<p> Before this pandemic, a common outlet for people to release some stress was to turn to music. Listening to music is often soothing for people under any circumstances, and has become a routine part of the day. Further, access to music has become extremely easy. Spotify is the largest subscription music streaming service with 170 million users, providing premium audio quality at 320kbps, higher than any competitor, including Apple music.</p> \n",
    "\n",
    "<h4>Research Questions:</h4> For the purpose of this research study, we would like to analyze the effect that the COVID-19 quarantine has had on people's music choices, and use Spotify as a way to track the changes. By analyzing the specific characteristics of the songs people are listening to while isolated, we can illustrate how this quarantine has affected the mental well-being of everyday people. Has the quarantine made people listen to more sad and depressing music? Or, rather, are people listening to more uplifting music? How has the pandemic affected what type of music we are listening to? Is dance music less popular?\n",
    "\n",
    "<h4>Main Findings:</h4> The audio features of the quarantine dataset varied in a number of ways from the 2019 dataset. The music we are listening to in isolation had 9.09% less energy, 4.53% less valence, and a 2.31% slower tempo. Acoustic (+10.86%) and speechy (+14.32%) music was more common, while the percentage of explicit songs nearly doubled (+88.36). Meanwhile, danceability, key, and modality had small, hard to explain changes, leaving much room for inference."
   ]
  },
  {
   "cell_type": "markdown",
   "metadata": {},
   "source": [
    "<h2> Data Description </h2>\n",
    "<br>\n",
    "\n",
    "<em> **What are the observations (rows) and the attributes (columns)?** </em> <br>\n",
    "<br>\n",
    "For the data analysis, three datasets were created: playlists.csv, tracks_list_unfiltered.csv, and tracks.csv.\n",
    "In the playlists.csv data set, each observation (row) represents a unique playlist created by a user of Spotify's platform. In particular, each playlist in the data set has the word \"quarantine\" in either the title or the description of the playlist. Each playlist also has a number of (attributes) that describe it. The first attribute is the name, listing the name the user entered for the playlist. The total attribute displays the number of songs in each playlist, and the URI attribute prints Spotify's unique playlist URI for that example.\n",
    "\n",
    "Next, tracks_list_unflitered.csv was created using playlists.csv using the processes explained below. In this new dataset, each observation represents a song that was contained in one of the playlists in playlists.csv, while there are many attributes for each song. First, the URI of each song is listed, followed by the release date of each song, and then several audio features, including popularity, explicit, danceability, and key, each of which is assigned to a numeric value. The only exception to this is the explicit attribute, to which a boolean value of True or False is assigned to each song. \n",
    "\n",
    "Finally, tracks.csv was created in the same format as tracks_list_unfilitered.csv with one significant change. Each song that was a duplicate in tracks_list_unfiltered was removed, leaving unique songs. The observations and attributes of this final data set are otherwise identical.\n",
    "\n",
    "\n",
    "<em> **Why was this dataset created?**</em>  <br> \n",
    "<br>\n",
    "This dataset was created to measure the effect that COVID-19 quarantine has had on people's music choices. Further, by analyzing the specific characteristics of the songs extracted, we will illustrate how this quarantine has affected the mental well-being of everyday people. \n",
    "\n",
    "\n",
    "<em> **Who funded the creation of the dataset?** </em> <br>\n",
    "<br>\n",
    "Spotify is an audio streaming platform that provides easy access to over 50 million tracks. Users can browse the platform, filtering by artist, album, or genre, as well as create unique playlists to complement their music taste. Individuals who create an account on Spotify (and potentially purchase Spotify premium for unlimited free downloads) agree to share their listening data with the public. That data is used to improve algorithms that offer music recommendations to users, but also provides an opportunity for research on user data.\n",
    "\n",
    "To that end, the creation of this dataset was made possible by Spotify's Web API, through which web developers can access catalog data for the creation of apps, software, websites, and more. Spotify funded the Web API to facilitate better use of its platform by third-party developers. \n",
    "\n",
    "Through the Spotify Web API, external applications retrieve Spotify content like playlists and specific song data. In order to access user-related data through Spotify's API, an application must be authorized by the user to access that particular information. Create a simple server-side application that accesses user-related data through the Spotify Web API. Using the Spotify Developer Platform, audio features from tracks can be calculated. For example, a song's valence, beats per second (bps), and even danceability. Spotify's Developer API allows coders to read calculated audio features of tracks to learn about its danceability, energy, valence, and more. For more advanced use cases, it is possible to read in-depth analysis data about tracks such as the segments, bars, beats, pitches, and more.\n",
    "\n",
    "\n",
    "<em>**What processes might have influenced what data was observed and recorded and what was not?**</em> <br>\n",
    "<br>\n",
    "There are various processes along each step of our data collection that influenced what data was observed and recorded, and what was not. The first factor is whether or not a Spotify user's playlist was public or not. We only collected data on public playlists. The next is the process we used to differentiate \"quarantine playlists\" from non-quarantine playlists. We decided to filter playlists based off of their title and playlist description. If either of these contained the word \"quarantine,\" then we recorded it. However, this process could have been altered by changing the term to \"Coronavirus\" or \"COVID.\" Due to the pure scope of the number of data points, this would flood our dataset. We decided to narrow down our search to only one term: \"Quarantine.\" We could have also filtered playlists by country if we only wanted to look at quarantine playlists in the United States. Another process that influenced data observation was the search limitations on Spotify. Spotify only lets users receive two thousand results per search with Spotify API. This limited the number of data points we could record and analyze. \n",
    "\n",
    "\n",
    "<em>**What preprocessing was done, and how did the data come to be in the form that you are using?**</em> <br>\n",
    "<br>\n",
    "The preprocessing that Spotify did before we even began data scraping was pairing each playlist and each song with a Uniform Resource Identifier (URI). Every object has its own URI: users, songs, playlists, artists, albums, episodes. The relevant preprocessing for us was that Spotify matches each URI with the playlist name, and within each playlist unit, lists each track, and the relevant data for that track. \n",
    "\n",
    "First, we used Spotify API to collect all public playlists with the term \"quarantine\" in either their title or in their description. The search for \"quarantine\"-containing playlists gave us 289,213 playlists. However, Spotify's API only lets us extract data at a rate limitation of two thousand results per search. This meant we could only access a subset of the entire dataset, thus meaning our data collection was of a sample of data, rather than all data on Spotify's \"quarantine\"-containing playlists. \n",
    "\n",
    "Upon scraping Spotify for a playlist containing \"quarantine,\" we extracted the playlist name, the total number of tracks, and its URI. We put this data in playlists.csv. Then, using the URI of each playlist, we used a Spotipy function called playlist_tracks() to extract the URI's of the individual track in a \"quarantine\" playlist. Then, we created a data frame with the results of playlist_tracks(), called tracks, and created the datafile tracks_list_unfiltered.csv with this data. However, this tracklist is unfiltered because it only had the track URI and the count or the number of different times it appeared in playlists (i.e., how many different \"quarantine\" playlists it was in). We then cut out any songs that appeared less than 4 times (i.e., appeared in less than 4 distinct playlists), reducing the track count from 130,806 to 8,944 songs. \n",
    "\n",
    "Once we had the list of raw track data, we worked to make the data usable, informative, and insightful. We created a function called filter_data(), which used the Spotipy function track() to access the name, popularity, release date, and explicitness of each song. We also used Spotipy's audio_features() function to access then the tracks' audio features, which include variables like \"danceability,\" \"energy,\" \"key,\" and \"loudness.\" Our function filter_data() thus turned each track URI into a slew of exciting values for each of these track variables, giving us valuable information and available metrics for our data analysis. \n",
    "\n",
    "\n",
    "<em>**If people are involved, were they aware of the data collection and if so, what purpose did they expect the data to be used for?**</em> <br>\n",
    "<br>\n",
    "Speaking from personal experience, when users use Spotify to stream music, thoughts, and concerns surrounding their data and its privacy rarely surface. Users see Spotify as purely a music streaming app, a place where they can find relaxation, joy, emotional release. People see Spotify for what it provides -- music. Rarely do they stop to consider how their behavior is tracked or how their data is stashed.\n",
    "\n",
    "Of course, the notion that Spotify is paying attention to you is on the peripheral. Spotify makes it clear that it cares about you, through its curation of \"Discover Weekly\" playlists made just for you, through its live stream of what the people you follow are listening to, through the ways it recommends additional songs for you to listen when you finish the last song in a playlist. Like most popular applications today, Spotify tracks user data to understand what its users enjoy so that it can provide more of it. It is transparent, albeit easy-to-overlook, that Spotify is collecting data on users. \n",
    "\n",
    "However, users are unaware of the data collection process and precisely what data is being collected. If we had never done this project, we would have never learned the metrics Spotify uses to understand my music taste. Now we know that it's based on variables like valence, tempo, popularity, danceability, etc. We would have never known that anyone with a Spotify account can see my public playlists and the tracks in each playlist; or, even eerier, what the last song we listened to was. We knew our followers would view my song streaming, but never stopped to think that since anyone can follow us, anyone can access our streaming history. Users of Spotify are aware of the data collection process -- they have to be, as it is built into Spotify's most enjoyable and exciting features. However, in today's society, users are so accustomed to curated worlds shaped by variations of media being fed to users through an infinite feed of recommendations by machine-learning AI. We have become numb to our data being collected and reflected back to us, and with Spotify, as with many other popular apps, most users do not stop to think about the reasons, the methods, and the people behind its data collection.\n",
    "\n",
    "\n",
    "<em>**Where can your raw source data be found, if applicable? Provide a link to the raw data (hosted in a Cornell Google Drive or Cornell Box).**</em> <br>\n",
    "<br>\n",
    "Technically, our raw data source is the Spotify music streaming application. We used Spotipy to scrape Spotify for playlist and track data. We created a variety of data sets, two of them being the \"raw data,\" and the final one is what we will use for our analysis. The two \"raw data\" sets are track_list_unfiltered.csv and playlists.csv. The finalized dataset is track_list.csv.\n",
    "\n",
    "\n"
   ]
  },
  {
   "cell_type": "markdown",
   "metadata": {},
   "source": [
    "<h2> Housekeeping </h2>\n",
    "<p> For the sake of readability and ease of use, we are going to implement our imports and functions first. This way, the function code does not jumble to data analysis. "
   ]
  },
  {
   "cell_type": "code",
   "execution_count": 1,
   "metadata": {},
   "outputs": [],
   "source": [
    "#import python libraries\n",
    "import numpy as np\n",
    "import pandas as pd\n",
    "from matplotlib import pyplot as plt\n",
    "from sklearn.linear_model import LinearRegression\n",
    "from scipy.stats import spearmanr, t"
   ]
  },
  {
   "cell_type": "code",
   "execution_count": 2,
   "metadata": {},
   "outputs": [],
   "source": [
    "#https://docs.scipy.org/doc/scipy/reference/generated/scipy.stats.t.html\n",
    "def t_test_means(feature, alpha):\n",
    "    n_2019 = len(tracks_2019[feature])\n",
    "    n_quar = len(tracks_quar[feature])\n",
    "    \n",
    "    se_2019 = tracks_2019[feature].std()/np.sqrt(n_2019)\n",
    "    se_quar = tracks_quar[feature].std()/np.sqrt(n_quar)\n",
    "    \n",
    "    sed = np.sqrt(se_2019**2 + se_quar**2)\n",
    "    \n",
    "    t_stat =(np.mean(tracks_2019['tempo'])-np.mean(tracks_quar['tempo']))/sed\n",
    "    \n",
    "    df = n_2019 + n_quar - 2\n",
    "    \n",
    "    alpha = 0.05\n",
    "    cv = t.ppf(1.0-alpha,df)\n",
    "\n",
    "    p = (1-t.cdf(abs(t_stat), df))**2\n",
    "    \n",
    "    print(\"~T-Test Results~\")\n",
    "    print(\"T-Statistic: \" +str(t_stat))\n",
    "    print(\"Degress of Freedom: \" +str(df))\n",
    "    print(\"Critical Value: \" +str(cv))\n",
    "    print(\"p-value: \" +str((format(p, '.8f'))))"
   ]
  },
  {
   "cell_type": "code",
   "execution_count": 3,
   "metadata": {},
   "outputs": [],
   "source": [
    "def concatenate_df():\n",
    "    one_list = []\n",
    "    for x in range(len(tracks_quar)):\n",
    "        one_list.append(1)  \n",
    "\n",
    "    zero_list = []\n",
    "    for x in range(len(tracks_2019)):\n",
    "        zero_list.append(0)\n",
    "    \n",
    "    df_quarantine = tracks_quar.assign(quarantine = one_list)\n",
    "    df_2019 = tracks_2019.assign(quarantine = zero_list)\n",
    "    \n",
    "    new = pd.concat([df_quarantine, df_2019], sort=False)\n",
    "    new[\"explicit\"] = new[\"explicit\"].astype(int)\n",
    "    new = new.drop(columns=['id', 'type', 'track_href', 'analysis_url', 'time_signature', 'uri'])\n",
    "    return new"
   ]
  },
  {
   "cell_type": "code",
   "execution_count": 4,
   "metadata": {},
   "outputs": [],
   "source": [
    "#function to compare the correlation coefficients of linear regressions\n",
    "def corr_compare(x, y):\n",
    "    corrcoef = np.corrcoef(x, y)[0][1]\n",
    "    print('Correlation: {:.4f}'.format(corrcoef))\n",
    "    \n",
    "    rank_corrcoef = np.corrcoef(x.rank(), y.rank())[0][1]\n",
    "    print('Correlation of ranks: {:.4f}'.format(rank_corrcoef))\n",
    "    \n",
    "    spearman_r = spearmanr(x, y)\n",
    "    print('Spearman r: {:.4f}'.format(spearman_r.correlation))"
   ]
  },
  {
   "cell_type": "code",
   "execution_count": 5,
   "metadata": {},
   "outputs": [],
   "source": [
    "#returns a list of the permuted differences for each trial in parameter *trials* for the parameter *feature*\n",
    "def permuted_diff_list(feature, trials):\n",
    "    diff_list = []\n",
    "    for x in range(trials):\n",
    "        \n",
    "        new['quarantine'] = np.random.permutation(new[\"quarantine\"].copy())\n",
    "\n",
    "        list_2019 = [] # when 0 means 2019 songs\n",
    "        list_quar = [] # when 1 means quarantine songs\n",
    "\n",
    "        for i in range(len(new)):\n",
    "            if new['quarantine'].iloc[i] == 0:\n",
    "                list_2019.append(new[feature].iloc[i])\n",
    "            else:\n",
    "                list_quar.append(new[feature].iloc[i])\n",
    "\n",
    "        diff = np.mean(list_2019) - np.mean(list_quar)\n",
    "\n",
    "        diff_list.append(diff)\n",
    "        \n",
    "    return diff_list"
   ]
  },
  {
   "cell_type": "code",
   "execution_count": 6,
   "metadata": {},
   "outputs": [],
   "source": [
    "#https://stackoverflow.com/questions/16180946/drawing-average-line-in-histogram-matplotlib\n",
    "def plot_permuted_diff(feature, data, sample):\n",
    "    \n",
    "    plt.hist(data, bins=50)\n",
    "    plt.title(\"Differences Between Means Found From Permutations: \"+str(feature))\n",
    "    plt.axvline((sample), color='k', linestyle='dashed', linewidth=1)\n",
    "    plt.xlabel('Differences')\n",
    "    plt.ylabel('Count')\n",
    "    plt.show()\n",
    "    \n",
    "    print(\"The dashed line represents the difference in our sample means.\")"
   ]
  },
  {
   "cell_type": "code",
   "execution_count": 7,
   "metadata": {},
   "outputs": [],
   "source": [
    "def actual_diff(feature):\n",
    "    mean_quarantine = np.mean(tracks_quar[feature])\n",
    "    mean_2019 = np.mean(tracks_2019[feature])\n",
    "    diff = mean_2019 - mean_quarantine\n",
    "    return round(diff, 6)"
   ]
  },
  {
   "cell_type": "code",
   "execution_count": 8,
   "metadata": {},
   "outputs": [],
   "source": [
    "def data_pvalue(data, trials, feature):\n",
    "    count = 0\n",
    "    for d in data:\n",
    "        if d > abs(actual_diff(feature)):\n",
    "            count += 1\n",
    "    p_value = format((count/trials), '.8f')\n",
    "\n",
    "    print(\"~Permutation Test~\")\n",
    "    print(\"p_value: \", p_value)"
   ]
  },
  {
   "cell_type": "code",
   "execution_count": 9,
   "metadata": {},
   "outputs": [],
   "source": [
    "#function that creates pie chart for the explicit variable\n",
    "def pie_explicit(dataset, data_name):\n",
    "    count = 0\n",
    "    for i in dataset['explicit']:\n",
    "        if i == 1:\n",
    "            count += 1\n",
    "    percent_explicit = count/len(dataset['explicit'])\n",
    "    \n",
    "    explicit =  (percent_explicit*100)\n",
    "    clean = (1-percent_explicit)*100\n",
    "    \n",
    "    labels = 'Explicit', 'Clean'\n",
    "    fig1, ax1 = plt.subplots()\n",
    "    \n",
    "    ax1.pie([explicit, clean], \n",
    "            explode = (0, 0.1), \n",
    "            autopct='%1.1f%%', \n",
    "            colors = ['#1DB954', 'darkgrey'],\n",
    "            shadow=True, \n",
    "            startangle=90)\n",
    "\n",
    "    ax1.axis('equal')  # Equal aspect ratio ensures that pie is drawn as a circle.\n",
    "    \n",
    "    plt.legend(labels, loc=\"best\")\n",
    "    plt.title(\"What proportion of \" + data_name + \" were explicit?\")\n",
    "    plt.show()\n",
    "    \n",
    "    #explicit_breakdown = {'explicit': explicit, 'clean': clean}\n",
    "    explicit_breakdown = [explicit, clean]\n",
    "    return explicit_breakdown"
   ]
  },
  {
   "cell_type": "code",
   "execution_count": 10,
   "metadata": {},
   "outputs": [],
   "source": [
    "#reusable function for bar chart creation, comparing a variable across two data sets\n",
    "def bar_chart(data_2019, data_quar, title, ticks):\n",
    "    \n",
    "    bars2019 = data_2019 #green\n",
    "    barsquar = data_quar #gray\n",
    "    \n",
    "    barWidth = 0.3\n",
    "    r1 = np.arange(len(bars2019))\n",
    "    r2 = [x + barWidth for x in r1]\n",
    "    \n",
    "    plt.bar(r1, bars2019, color='#1DB954', width=barWidth, edgecolor='white', label='2019')\n",
    "    plt.bar(r2, barsquar, color='darkgrey', width=barWidth, edgecolor='white', label='Quarantine')\n",
    "    \n",
    "    plt.xlabel('Tracks')\n",
    "    plt.ylabel('Percentage of Total')\n",
    "    plt.title(title)\n",
    "    plt.xticks([r + 0.15 for r in range(len(bars2019))], ticks)\n",
    "    \n",
    "    plt.legend()\n",
    "    plt.show()"
   ]
  },
  {
   "cell_type": "code",
   "execution_count": 11,
   "metadata": {},
   "outputs": [],
   "source": [
    "#Counts the number of songs with each key, returns the percentage of total\n",
    "def key_counter(dataset):\n",
    "    count_0 = 0\n",
    "    count_1 = 0\n",
    "    count_2 = 0\n",
    "    count_3 = 0\n",
    "    count_4 = 0\n",
    "    count_5 = 0\n",
    "    count_6 = 0\n",
    "    count_7 = 0\n",
    "    count_8 = 0\n",
    "    count_9 = 0\n",
    "    count_10 = 0\n",
    "    count_11 = 0\n",
    "    for i in dataset['key']:\n",
    "        if i == 0:\n",
    "            count_0 += 1\n",
    "        if i == 1:\n",
    "            count_1 += 1\n",
    "        if i == 2:\n",
    "            count_2 += 1\n",
    "        if i == 3:\n",
    "            count_3 += 1\n",
    "        if i == 4:\n",
    "            count_4 += 1\n",
    "        if i == 5:\n",
    "            count_5 += 1\n",
    "        if i == 6:\n",
    "            count_6 += 1\n",
    "        if i == 7:\n",
    "            count_7 += 1\n",
    "        if i == 8:\n",
    "            count_8 += 1\n",
    "        if i == 9:\n",
    "            count_9 += 1\n",
    "        if i == 10:\n",
    "            count_10 += 1\n",
    "        if i == 11:\n",
    "            count_11 += 1\n",
    "    key_counts = [count_0, count_1, count_2, count_3, count_4, count_5, count_6, count_7, count_8, count_9, count_10, count_11]\n",
    "    key_percentage = []\n",
    "    for count in key_counts:\n",
    "        key_perc = (count/len(dataset['key']))*100\n",
    "        key_percentage.append(key_perc)\n",
    "    return key_percentage"
   ]
  },
  {
   "cell_type": "code",
   "execution_count": 12,
   "metadata": {},
   "outputs": [],
   "source": [
    " def mode_counter(dataset, data_name):\n",
    "    print(data_name)\n",
    "    #Major keys are denoted as 1, Minor keys denoted as 0\n",
    "    #Could combine this function with pie chart function\n",
    "    count_major = 0\n",
    "    count_minor = 0\n",
    "    for i in dataset['mode']:\n",
    "        if i == 1:\n",
    "            count_major += 1\n",
    "        if i == 0:\n",
    "            count_minor += 1\n",
    "    \n",
    "    print(\"count_major: \", count_major)\n",
    "    print(\"count_minor: \", count_minor)\n",
    "    \n",
    "    percent_major = count_major/len(dataset['mode'])\n",
    "    print('percent_major: ','{:.2%}'.format(percent_major))\n",
    "    \n",
    "    mode_breakdown = [count_major/len(dataset['mode']), count_minor/len(dataset['mode'])]\n",
    "    \n",
    "    return mode_breakdown"
   ]
  },
  {
   "cell_type": "code",
   "execution_count": 13,
   "metadata": {},
   "outputs": [],
   "source": [
    "#Creates a pie chart for the keys\n",
    "def key_pie(key_counts, data_name):\n",
    "    \n",
    "    labels = 'C', 'C♯/D♭', 'D', 'D♯/E♭', 'E', 'F', 'F#/G♭', 'G', 'G♯/A♭', 'A', 'A♯/B♭', 'B'\n",
    "    fig1, ax1 = plt.subplots()\n",
    "\n",
    "    ax1.pie(key_counts, \n",
    "            explode= (0, 0, 0, 0, 0, 0, 0, 0, 0, 0, 0, 0), \n",
    "            colors = [\"#FFD699\", \"#FFB266\", \"#FFFF99\", \"#CCFF99\", \"#99FFFF\", \"#9933FF\", \"#009999\", \"#99CCFF\", \"#FF99CC\", \"#FF0077\", \"#FFFF00\", \"#E0E0E0\", \"#999FF\"], \n",
    "            autopct='%1.0f%%',\n",
    "            shadow=True, \n",
    "            startangle=90)\n",
    "    \n",
    "    ax1.axis('equal')  # Equal aspect ratio ensures that pie is drawn as a circle.\n",
    "    plt.legend(labels, loc=\"best\")\n",
    "    plt.title(\"What proportion of \" + data_name + \" were which keys?\")\n",
    "    plt.show()"
   ]
  },
  {
   "cell_type": "code",
   "execution_count": 14,
   "metadata": {},
   "outputs": [],
   "source": [
    "def pie(breakdown, feature, data_name, labels, colors):\n",
    "    \n",
    "    fig1, ax1 = plt.subplots()\n",
    "    ax1.pie(breakdown, \n",
    "            explode = (0.1, 0),  \n",
    "            autopct = '%1.1f%%', \n",
    "            colors = colors,\n",
    "            shadow = True, \n",
    "            startangle=90)\n",
    "    \n",
    "    plt.legend(labels, loc=\"best\")\n",
    "    ax1.axis('equal')  # Equal aspect ratio ensures that pie is drawn as a circle.\n",
    "    plt.title(data_name + feature)\n",
    "    plt.show()"
   ]
  },
  {
   "cell_type": "code",
   "execution_count": null,
   "metadata": {},
   "outputs": [],
   "source": [
    "labels = ['Major', 'Minor']\n",
    "colors = ['#1DB954', 'darkgrey']\n",
    "#breakdown = modality_breakdown_2019\n",
    "feature = 'mode'\n",
    "data_name = '2019'\n",
    "pie(breakdown, feature, data_name, labels, colors)"
   ]
  },
  {
   "cell_type": "code",
   "execution_count": null,
   "metadata": {},
   "outputs": [],
   "source": [
    "def modality_pie(breakdown, data_name):\n",
    "    \n",
    "    labels = 'Major', 'Minor'\n",
    "    sizes = breakdown\n",
    "    \n",
    "    fig1, ax1 = plt.subplots()\n",
    "    ax1.pie(sizes, \n",
    "            explode = (0.1, 0),  \n",
    "            autopct = '%1.1f%%', \n",
    "            colors = ['#1DB954', 'darkgrey'],\n",
    "            shadow = True, \n",
    "            startangle=90)\n",
    "    \n",
    "    plt.legend(labels, loc=\"best\")\n",
    "    ax1.axis('equal')  # Equal aspect ratio ensures that pie is drawn as a circle.\n",
    "    plt.title(data_name + \": Major or Minor?\")\n",
    "    plt.show()"
   ]
  },
  {
   "cell_type": "code",
   "execution_count": null,
   "metadata": {},
   "outputs": [],
   "source": [
    "#creates a box plot that compares one feature across quarantine tracks and 2019 tracks\n",
    "def box_plot_comparisons(feature):\n",
    "    \n",
    "    x = tracks_2019[feature]\n",
    "    y = tracks_quar[feature] \n",
    "    \n",
    "    data_to_plot = x, y\n",
    "    fig = plt.figure(1, figsize=(8, 7))\n",
    "    ax = fig.add_subplot(111)\n",
    "    bp = ax.boxplot(data_to_plot)\n",
    "    bp = ax.boxplot(data_to_plot, patch_artist=True)\n",
    "    \n",
    "    for box in bp['boxes']:\n",
    "        box.set( color='black', linewidth=2)\n",
    "        box.set( facecolor = '#1DB954' )\n",
    "    \n",
    "    for whisker in bp['whiskers']:\n",
    "        whisker.set(color='black', linewidth=2)\n",
    "    \n",
    "    for cap in bp['caps']:\n",
    "        cap.set(color='black', linewidth=2)\n",
    "    \n",
    "    for median in bp['medians']:\n",
    "        median.set(color='#b2df8a', linewidth=2)\n",
    "    \n",
    "    for flier in bp['fliers']:\n",
    "        flier.set(marker='o', color='#e7298a', alpha=0.5)\n",
    "    \n",
    "    ax.set_xticklabels(['2019 Tracks', 'Quarantine Songs'])\n",
    "    plt.title(feature + \": Quarantine vs. 2019\")\n",
    "    plt.ylabel(\"Scale\")\n",
    "    plt.show()"
   ]
  },
  {
   "cell_type": "markdown",
   "metadata": {},
   "source": [
    "<h2> Data Analysis </h2>\n",
    "<p> To begin, let's take a look at the two data sets that will be compared for the subsequent analysis. </p>"
   ]
  },
  {
   "cell_type": "code",
   "execution_count": null,
   "metadata": {},
   "outputs": [],
   "source": [
    "tracks_quar = pd.read_csv(\"tracks_list.csv\")\n",
    "#shows a snipit of the data set (20 songs), sorted by appearances\n",
    "tracks_quar.sort_values(by=['count'], ascending=False)[:20]"
   ]
  },
  {
   "cell_type": "markdown",
   "metadata": {},
   "source": [
    "<h3> A quick look at the quarantine songs </h3>\n",
    "\n",
    "<p> Displayed above is a snippet of the tracks.csv dataset, arranged by the number of appearances. (Note: the column above is labeled \"count\", but we will refer to this value as appearances. </p>\n",
    "\n",
    "<p> As printed above, the top five songs of quarantine are 'Toosie Slide' by Drake, 'Sunday Best' by Surfaces, 'death bed' by Powfu and beabadoobee, 'Don't Start Now' by Dua Lipa, and 'The Box' by Roddy Rich. These five songs are all on the US Top 50 tracks charts list as of May 11th, 2020. It seems as if, at least for the top 20 quarantine songs, their number of appearances has more to do with what is trending and less to do with the emotional, physical, and mental circumstances of quarantine.</p>\n",
    "\n",
    "Does this hold true for the rest of the dataset? Are the songs of quarantine just the songs of the time period of quarantine, or the songs of our emotional state in quarantine? For now, only the top 20 songs are visible, and as of May 11th, the only songs in the top 20 of our data set that weren't on the US Top 50 list were \"Toxic\", 'Tongue Tied' and 'U Can't Touch This'. However, every other song was on the US Top 50 list. It is interesting to note the disproportional popularity of \"Toxic\" and \"U Can't Touch This.\""
   ]
  },
  {
   "cell_type": "markdown",
   "metadata": {},
   "source": [
    "It would be useful to understand the overall appearances of each song. We can use basic stats to help us understand this."
   ]
  },
  {
   "cell_type": "code",
   "execution_count": null,
   "metadata": {},
   "outputs": [],
   "source": [
    "tracks_quar['count'].describe()"
   ]
  },
  {
   "cell_type": "markdown",
   "metadata": {},
   "source": [
    "The most appearances a song has is 176, and the least, a minimum imposed by our datascraping filter, is 5. The average number of playlist appearances was 11.9, with a standard deviation of 11.7. 25% of the songs fell below 6 appearances, 50% fell below 8 appearances, and 75% fell below 13 appearances. This means the appearances are skewed extremely left, and that the top 25% songs are spread between 13 appearances and 176 appearances.\n",
    "\n",
    "Let's use a histogram to visualize this."
   ]
  },
  {
   "cell_type": "code",
   "execution_count": null,
   "metadata": {},
   "outputs": [],
   "source": [
    "plt.hist(tracks_quar['count'], bins=150, color='green')\n",
    "plt.title('Histogram of Appearances')\n",
    "plt.ylabel('Count')\n",
    "plt.xlabel('Appearances')\n",
    "plt.xlim(5,180)\n",
    "plt.show()"
   ]
  },
  {
   "cell_type": "markdown",
   "metadata": {},
   "source": [
    "As the histogram shows us, most of the songs in our quarantine tracks dataset appear less than 8 times in playlists with \"Quarnatine\" in their titles. The maximum amount of appearances that a song has is 176, and so the dataset is extremely right skewed. However, this does show that there is a decent amount of overlap in the songs people listen to during quarantine. Now that clearer understanding of our quarantine tracks is established, let's move on to the 2019 dataset."
   ]
  },
  {
   "cell_type": "markdown",
   "metadata": {},
   "source": [
    "<h3> Tracks from 2019 - A dataset for comparison </h3>"
   ]
  },
  {
   "cell_type": "markdown",
   "metadata": {},
   "source": [
    "<p> Displayed above is a 20 song snippet from our 2019 dataset. We will be using this to compare with the songs scraped from our quarantine dataset illustrated above.</p>"
   ]
  },
  {
   "cell_type": "code",
   "execution_count": null,
   "metadata": {},
   "outputs": [],
   "source": [
    "tracks_2019 = pd.read_csv(\"tracks_list_2019.csv\")\n",
    "tracks_2019.sort_values(by=['count'], ascending=False)[:20]"
   ]
  },
  {
   "cell_type": "code",
   "execution_count": null,
   "metadata": {},
   "outputs": [],
   "source": [
    "#creating a new dataframe that combines the 2019 and quarantine datasets\n",
    "new = concatenate_df()"
   ]
  },
  {
   "cell_type": "markdown",
   "metadata": {},
   "source": [
    "<h2> I. Describing Music: Qualitative Audio Features</h2>\n",
    "\n",
    "In order to best understand the music people listen to, Spotify provides audio analysis for all tracks in the Spotify Catalog. The analysis is broken up into certain features that desibe a song's structure and musical content (like rythm, pitch, timbre, etc). Specifically, each element is denoted by an integer or float that scores a certain characteristic of a given song. \n",
    "For the purpose of this research study, we will analyze 10 key audio features in detail, and compare the scores of these audio features from playlists made during quarentine to the top songs in 2019 (before the COVID-19 pandemic began). \n",
    "\n",
    "\n",
    "To start, We will look at four charactersitcs which we consider <em> straightforward </em> and <em>qualitative</em>. In other words, musicians and listeners alike can completely capture these features in a couple words. Note, Spotify scores these featues as integers, while the other six characteristics are scored as floats. The descriptions of each these features are summarized from Spotify's Web API reference guide. Thus, to begin, this initial analysis looks at:\n",
    "\n",
    "1. **Popularity** - The popularity of a song is the most complex feature in this section of analysis, but Spotify still assigns this feature an integer value (specifically, between 0 and 100) and we consider it a qualititative description of a song. The popularity is calculated by an algorithm based mainly on the number of times a track has been played as well as how recent the song has been played. The Spotify Web API reference guide notes that \"generally speaking, songs that are being played a lot now will have a higher popularity than songs that were played a lot in the past.\" We recognize that there is also a score for artist and album popularity, but these are derived independently from track popularity and thus will not affect our subsequent analysis. \n",
    "\n",
    "\n",
    "2. **Explicitness**  - Spotify labels a song as explicit if the lyrics or content of the song meet a list of criteria which is considered unsuitable for childrien (such as strong language and references to violence or sexualized behavior). This audio feature gives explicit songs given a score of 1, while non-epxlicit songs are given a 0, making making analysis straightforward. \n",
    "\n",
    "\n",
    "3. **Key** - The estimated overall key of the track. This audio feature maps picthes using standard pitch class   notation. For example, 0 = C, 1 = C♯/D♭, 2 = D, and so on. If no key was detected, Spotify gives the song a value of -1, but this is a rarity.  \n",
    "\n",
    "\n",
    "4. **Modality** - Modality refers to the mode of a track (major or minor), the type of scale from which its melodic content is derived. Major is represented by 1 and minor is represented by a 0 score."
   ]
  },
  {
   "cell_type": "markdown",
   "metadata": {},
   "source": [
    "<h3> 1. Popularity </h3>"
   ]
  },
  {
   "cell_type": "markdown",
   "metadata": {},
   "source": [
    "<p> One of the first questions about quarantine songs is whether or not the songs' appearances in quarantine playlists is due to pure general popularity on spotify. To understand this, it's helpful to look at the popularity variable. However, while we analyze this variable for our quarantine dataset, doing the same for our top 2019 songs data would not provide fruitful results, as every song it contains is, by definition, extremely popular given the nature of the playlist. Thus, we will take a look solely at the popularity statistics of our quarantine dataset, as this is the data that will guide us to understanding the impact of popularity on the appearances of our quarantine songs. </p>"
   ]
  },
  {
   "cell_type": "markdown",
   "metadata": {},
   "source": [
    "<p> Does popularity impact the number appearences in quarantine playlists? To answer this question, we will see if there is a correlation between a track's popularity level, and the number of times that song appears in the data set. </p>"
   ]
  },
  {
   "cell_type": "code",
   "execution_count": null,
   "metadata": {},
   "outputs": [],
   "source": [
    "plt.scatter(tracks_quar['popularity'], tracks_quar['count'], marker = 'o', color = 'green')\n",
    "\n",
    "plt.xlabel(\"Popularity (scale of 0 to 100)\")\n",
    "plt.ylabel(\"Number of Appearances\")\n",
    "plt.title(\"Quarantine Songs: Does Popularity Level impact Appearances?\")\n",
    "plt.show()"
   ]
  },
  {
   "cell_type": "markdown",
   "metadata": {},
   "source": [
    "<p> There seems to be a clear positive relationship with these two variables. However, it doesn't seem exactly linear. We are interested in understanding the strength of correlation between these two variables. We'll use a variant called rank correlation, where each element of a vector has a rank. </p>\n",
    "\n",
    "<p>Rank correlation (or Spearman correlation) is very similar to regular correlation (also called Pearson correlation), but it is more robust to relationships that aren't linear. Pearson correlation is to rank correlation as mean is to median. In both cases we can replace the actual value in an array with its *rank* in the array. The median is the value that has the mean rank (ie the midpoint), while the rank correlation is the Pearson correlation between the rank of $X_i$ and the rank of $Y_i$. <p>\n",
    "\n",
    "<p>The following code defines datapoints that nearly lie on a line and calculates the slope of a regression line fit to the data. </p>"
   ]
  },
  {
   "cell_type": "code",
   "execution_count": null,
   "metadata": {},
   "outputs": [],
   "source": [
    "linear_model = LinearRegression().fit(tracks_quar[['popularity']], tracks_quar[['count']])\n",
    "print(\"Linear model slope: {:.6f}\".format(float(linear_model.coef_[0])))"
   ]
  },
  {
   "cell_type": "markdown",
   "metadata": {},
   "source": [
    "For each 1 point increase in popularity, the number of times the song appears in a quarantine playlist increases by roughly 0.22. Being more popular makes a song more likely to appear in quarantine playlists and thus our dataset of quarantine tracks. Let's see how well the data fits this linear model."
   ]
  },
  {
   "cell_type": "markdown",
   "metadata": {},
   "source": [
    "We can do this by looking at the correlation of:\n",
    "1. the track counts and the track popularity\n",
    "2. the *ranks* of the track counts and the *ranks* of the tracks popularity"
   ]
  },
  {
   "cell_type": "code",
   "execution_count": null,
   "metadata": {},
   "outputs": [],
   "source": [
    "print(\"Comparing Correlations for Popularity and Appearances\")\n",
    "corr_compare(tracks_quar['popularity'], tracks_quar['count'])"
   ]
  },
  {
   "cell_type": "markdown",
   "metadata": {},
   "source": [
    "As we can see, the correlation of ranks is much higher than the linear correlation. This makes sense, as we previously noted that the data is not exactly linear. By comparing the ranks, we can see how the more popular a song is in comparison to the rest of the songs, the more likely it is to be ranked higher in its number of appearances in our quarantine playlists."
   ]
  },
  {
   "cell_type": "markdown",
   "metadata": {},
   "source": [
    "<h4> Popularity Conclusion </h4>"
   ]
  },
  {
   "cell_type": "markdown",
   "metadata": {},
   "source": [
    "<p> From the graphical visualization, it is clear that there is a positive relationship between popularity and the number of appearances in playlists. These two variables are clearly interconnected, as the more popular a song is, the wider its audience, the more well-known it is, and the more likely it is to appear in any one person's playlist. However, our correlation is quite small. This could be due to the fact that the data does not quite fit a linear model, as there is clear curvature in the graph. As such, the Spearman R of rank correlation is much higher than the standard linear correlation. Still, the Spearman r is not quite as high as initially expected. Despite this, through understanding of the data's context and the graphical representation of the data, it is concluded that popularity does impact the number of appearances the songs appeared in our quarantine tracks. Onward! </p>"
   ]
  },
  {
   "cell_type": "markdown",
   "metadata": {},
   "source": [
    "---"
   ]
  },
  {
   "cell_type": "markdown",
   "metadata": {},
   "source": [
    "<h3>2.  Explicitness </h3>\n",
    "\n",
    "<p> Let's take a look at how many of the quarantine songs, as well as the 2019 songs, were explicit. </p>\n",
    "<p>**Our Hypothesis:** We do not expect a large difference in the two dataset. Perhaps the quarantine playlists were slightly more explicit, but this would probably be due to chance. </p>"
   ]
  },
  {
   "cell_type": "code",
   "execution_count": null,
   "metadata": {},
   "outputs": [],
   "source": [
    "#2019 Tracks\n",
    "explicit_2019 = pie_explicit(tracks_2019, '2019 Tracks')"
   ]
  },
  {
   "cell_type": "code",
   "execution_count": null,
   "metadata": {},
   "outputs": [],
   "source": [
    "#Quarantine Tracks\n",
    "explicit_quarantine = pie_explicit(tracks_quar, \"Quarantine Tracks\")"
   ]
  },
  {
   "cell_type": "code",
   "execution_count": null,
   "metadata": {},
   "outputs": [],
   "source": [
    "#Bar Chart comparison across 2019 and Quarantine Data\n",
    "bar_chart(explicit_2019, explicit_quarantine, title = \"Explicitness Comparison\", ticks = ['Explicit', 'Clean'])"
   ]
  },
  {
   "cell_type": "code",
   "execution_count": 29,
   "metadata": {},
   "outputs": [],
   "source": [
    "def print_percentages(feature, primary_feature):\n",
    "    print(\"Proportion of 2019 songs that are \"+str(primary_feature)+\":  \")\n",
    "    print('{:.4f}'.format(np.mean(tracks_2019[feature])))\n",
    "    \n",
    "    print(\"Proportion of Quarantine songs that are \"+str(primary_feature)+\":  \") \n",
    "    print('{:.4f}'.format(np.mean(tracks_quar[feature])))\n",
    "    \n",
    "    print()\n",
    "    print(\"Difference in proportions from 2019 to Quarantine:\")\n",
    "    print('{:.4f}'.format(np.mean(tracks_quar[feature])-np.mean(tracks_2019[feature])))\n",
    "\n",
    "    print(\"Percent change from 2019 to Quarantine:\")\n",
    "    print('{:.2%}'.format((np.mean(tracks_quar[feature])-np.mean(tracks_2019[feature]))/np.mean(tracks_2019[feature])))"
   ]
  },
  {
   "cell_type": "code",
   "execution_count": 30,
   "metadata": {},
   "outputs": [
    {
     "name": "stdout",
     "output_type": "stream",
     "text": [
      "Proportion of 2019 songs that are Explicit:  \n",
      "0.1631\n",
      "Proportion of Quarantine songs that are Explicit:  \n",
      "0.3071\n",
      "\n",
      "Difference in proportions from 2019 to Quarantine:\n",
      "0.1441\n",
      "Percent change from 2019 to Quarantine:\n",
      "88.36%\n"
     ]
    }
   ],
   "source": [
    "print_percentages('explicit', primary_feature = 'Explicit')"
   ]
  },
  {
   "cell_type": "markdown",
   "metadata": {},
   "source": [
    "<h4> Evaluation of Significance: Explicitness </h4> "
   ]
  },
  {
   "cell_type": "code",
   "execution_count": 31,
   "metadata": {},
   "outputs": [
    {
     "name": "stdout",
     "output_type": "stream",
     "text": [
      "The difference in explicit between Quarantine and 2019 songs:\n",
      "-0.144075\n"
     ]
    }
   ],
   "source": [
    "print(\"The difference in explicit between Quarantine and 2019 songs:\")\n",
    "print(actual_diff('explicit'))"
   ]
  },
  {
   "cell_type": "code",
<<<<<<< HEAD
   "execution_count": 109,
=======
   "execution_count": 32,
>>>>>>> d9dbc9bf4d14abb9d3393e013471871d094a6dd1
   "metadata": {},
   "outputs": [
    {
     "ename": "KeyboardInterrupt",
     "evalue": "",
     "output_type": "error",
     "traceback": [
      "\u001b[0;31m---------------------------------------------------------------------------\u001b[0m",
      "\u001b[0;31mKeyboardInterrupt\u001b[0m                         Traceback (most recent call last)",
      "\u001b[0;32m<ipython-input-109-12a0c0095f03>\u001b[0m in \u001b[0;36m<module>\u001b[0;34m()\u001b[0m\n\u001b[0;32m----> 1\u001b[0;31m \u001b[0mexplicit_data\u001b[0m \u001b[0;34m=\u001b[0m \u001b[0mpermuted_diff_list\u001b[0m\u001b[0;34m(\u001b[0m\u001b[0mfeature\u001b[0m \u001b[0;34m=\u001b[0m \u001b[0;34m'explicit'\u001b[0m\u001b[0;34m,\u001b[0m \u001b[0mtrials\u001b[0m \u001b[0;34m=\u001b[0m \u001b[0;36m500\u001b[0m\u001b[0;34m)\u001b[0m\u001b[0;34m\u001b[0m\u001b[0;34m\u001b[0m\u001b[0m\n\u001b[0m",
      "\u001b[0;32m<ipython-input-54-786eb29b5fb8>\u001b[0m in \u001b[0;36mpermuted_diff_list\u001b[0;34m(feature, trials)\u001b[0m\n\u001b[1;32m     13\u001b[0m                 \u001b[0mlist_2019\u001b[0m\u001b[0;34m.\u001b[0m\u001b[0mappend\u001b[0m\u001b[0;34m(\u001b[0m\u001b[0mnew\u001b[0m\u001b[0;34m[\u001b[0m\u001b[0mfeature\u001b[0m\u001b[0;34m]\u001b[0m\u001b[0;34m.\u001b[0m\u001b[0miloc\u001b[0m\u001b[0;34m[\u001b[0m\u001b[0mi\u001b[0m\u001b[0;34m]\u001b[0m\u001b[0;34m)\u001b[0m\u001b[0;34m\u001b[0m\u001b[0;34m\u001b[0m\u001b[0m\n\u001b[1;32m     14\u001b[0m             \u001b[0;32melse\u001b[0m\u001b[0;34m:\u001b[0m\u001b[0;34m\u001b[0m\u001b[0;34m\u001b[0m\u001b[0m\n\u001b[0;32m---> 15\u001b[0;31m                 \u001b[0mlist_quar\u001b[0m\u001b[0;34m.\u001b[0m\u001b[0mappend\u001b[0m\u001b[0;34m(\u001b[0m\u001b[0mnew\u001b[0m\u001b[0;34m[\u001b[0m\u001b[0mfeature\u001b[0m\u001b[0;34m]\u001b[0m\u001b[0;34m.\u001b[0m\u001b[0miloc\u001b[0m\u001b[0;34m[\u001b[0m\u001b[0mi\u001b[0m\u001b[0;34m]\u001b[0m\u001b[0;34m)\u001b[0m\u001b[0;34m\u001b[0m\u001b[0;34m\u001b[0m\u001b[0m\n\u001b[0m\u001b[1;32m     16\u001b[0m \u001b[0;34m\u001b[0m\u001b[0m\n\u001b[1;32m     17\u001b[0m         \u001b[0mdiff\u001b[0m \u001b[0;34m=\u001b[0m \u001b[0mnp\u001b[0m\u001b[0;34m.\u001b[0m\u001b[0mmean\u001b[0m\u001b[0;34m(\u001b[0m\u001b[0mlist_2019\u001b[0m\u001b[0;34m)\u001b[0m \u001b[0;34m-\u001b[0m \u001b[0mnp\u001b[0m\u001b[0;34m.\u001b[0m\u001b[0mmean\u001b[0m\u001b[0;34m(\u001b[0m\u001b[0mlist_quar\u001b[0m\u001b[0;34m)\u001b[0m\u001b[0;34m\u001b[0m\u001b[0;34m\u001b[0m\u001b[0m\n",
      "\u001b[0;32m/anaconda3/lib/python3.6/site-packages/pandas/core/indexing.py\u001b[0m in \u001b[0;36m__getitem__\u001b[0;34m(self, key)\u001b[0m\n\u001b[1;32m   1476\u001b[0m \u001b[0;34m\u001b[0m\u001b[0m\n\u001b[1;32m   1477\u001b[0m             \u001b[0mmaybe_callable\u001b[0m \u001b[0;34m=\u001b[0m \u001b[0mcom\u001b[0m\u001b[0;34m.\u001b[0m\u001b[0m_apply_if_callable\u001b[0m\u001b[0;34m(\u001b[0m\u001b[0mkey\u001b[0m\u001b[0;34m,\u001b[0m \u001b[0mself\u001b[0m\u001b[0;34m.\u001b[0m\u001b[0mobj\u001b[0m\u001b[0;34m)\u001b[0m\u001b[0;34m\u001b[0m\u001b[0;34m\u001b[0m\u001b[0m\n\u001b[0;32m-> 1478\u001b[0;31m             \u001b[0;32mreturn\u001b[0m \u001b[0mself\u001b[0m\u001b[0;34m.\u001b[0m\u001b[0m_getitem_axis\u001b[0m\u001b[0;34m(\u001b[0m\u001b[0mmaybe_callable\u001b[0m\u001b[0;34m,\u001b[0m \u001b[0maxis\u001b[0m\u001b[0;34m=\u001b[0m\u001b[0maxis\u001b[0m\u001b[0;34m)\u001b[0m\u001b[0;34m\u001b[0m\u001b[0;34m\u001b[0m\u001b[0m\n\u001b[0m\u001b[1;32m   1479\u001b[0m \u001b[0;34m\u001b[0m\u001b[0m\n\u001b[1;32m   1480\u001b[0m     \u001b[0;32mdef\u001b[0m \u001b[0m_is_scalar_access\u001b[0m\u001b[0;34m(\u001b[0m\u001b[0mself\u001b[0m\u001b[0;34m,\u001b[0m \u001b[0mkey\u001b[0m\u001b[0;34m)\u001b[0m\u001b[0;34m:\u001b[0m\u001b[0;34m\u001b[0m\u001b[0;34m\u001b[0m\u001b[0m\n",
      "\u001b[0;32m/anaconda3/lib/python3.6/site-packages/pandas/core/indexing.py\u001b[0m in \u001b[0;36m_getitem_axis\u001b[0;34m(self, key, axis)\u001b[0m\n\u001b[1;32m   2093\u001b[0m         \u001b[0;31m# a single integer\u001b[0m\u001b[0;34m\u001b[0m\u001b[0;34m\u001b[0m\u001b[0;34m\u001b[0m\u001b[0m\n\u001b[1;32m   2094\u001b[0m         \u001b[0;32melse\u001b[0m\u001b[0;34m:\u001b[0m\u001b[0;34m\u001b[0m\u001b[0;34m\u001b[0m\u001b[0m\n\u001b[0;32m-> 2095\u001b[0;31m             \u001b[0mkey\u001b[0m \u001b[0;34m=\u001b[0m \u001b[0mself\u001b[0m\u001b[0;34m.\u001b[0m\u001b[0m_convert_scalar_indexer\u001b[0m\u001b[0;34m(\u001b[0m\u001b[0mkey\u001b[0m\u001b[0;34m,\u001b[0m \u001b[0maxis\u001b[0m\u001b[0;34m)\u001b[0m\u001b[0;34m\u001b[0m\u001b[0;34m\u001b[0m\u001b[0m\n\u001b[0m\u001b[1;32m   2096\u001b[0m \u001b[0;34m\u001b[0m\u001b[0m\n\u001b[1;32m   2097\u001b[0m             \u001b[0;32mif\u001b[0m \u001b[0;32mnot\u001b[0m \u001b[0mis_integer\u001b[0m\u001b[0;34m(\u001b[0m\u001b[0mkey\u001b[0m\u001b[0;34m)\u001b[0m\u001b[0;34m:\u001b[0m\u001b[0;34m\u001b[0m\u001b[0;34m\u001b[0m\u001b[0m\n",
      "\u001b[0;32m/anaconda3/lib/python3.6/site-packages/pandas/core/indexing.py\u001b[0m in \u001b[0;36m_convert_scalar_indexer\u001b[0;34m(self, key, axis)\u001b[0m\n\u001b[1;32m    259\u001b[0m         \u001b[0max\u001b[0m \u001b[0;34m=\u001b[0m \u001b[0mself\u001b[0m\u001b[0;34m.\u001b[0m\u001b[0mobj\u001b[0m\u001b[0;34m.\u001b[0m\u001b[0m_get_axis\u001b[0m\u001b[0;34m(\u001b[0m\u001b[0mmin\u001b[0m\u001b[0;34m(\u001b[0m\u001b[0maxis\u001b[0m\u001b[0;34m,\u001b[0m \u001b[0mself\u001b[0m\u001b[0;34m.\u001b[0m\u001b[0mndim\u001b[0m \u001b[0;34m-\u001b[0m \u001b[0;36m1\u001b[0m\u001b[0;34m)\u001b[0m\u001b[0;34m)\u001b[0m\u001b[0;34m\u001b[0m\u001b[0;34m\u001b[0m\u001b[0m\n\u001b[1;32m    260\u001b[0m         \u001b[0;31m# a scalar\u001b[0m\u001b[0;34m\u001b[0m\u001b[0;34m\u001b[0m\u001b[0;34m\u001b[0m\u001b[0m\n\u001b[0;32m--> 261\u001b[0;31m         \u001b[0;32mreturn\u001b[0m \u001b[0max\u001b[0m\u001b[0;34m.\u001b[0m\u001b[0m_convert_scalar_indexer\u001b[0m\u001b[0;34m(\u001b[0m\u001b[0mkey\u001b[0m\u001b[0;34m,\u001b[0m \u001b[0mkind\u001b[0m\u001b[0;34m=\u001b[0m\u001b[0mself\u001b[0m\u001b[0;34m.\u001b[0m\u001b[0mname\u001b[0m\u001b[0;34m)\u001b[0m\u001b[0;34m\u001b[0m\u001b[0;34m\u001b[0m\u001b[0m\n\u001b[0m\u001b[1;32m    262\u001b[0m \u001b[0;34m\u001b[0m\u001b[0m\n\u001b[1;32m    263\u001b[0m     \u001b[0;32mdef\u001b[0m \u001b[0m_convert_slice_indexer\u001b[0m\u001b[0;34m(\u001b[0m\u001b[0mself\u001b[0m\u001b[0;34m,\u001b[0m \u001b[0mkey\u001b[0m\u001b[0;34m,\u001b[0m \u001b[0maxis\u001b[0m\u001b[0;34m)\u001b[0m\u001b[0;34m:\u001b[0m\u001b[0;34m\u001b[0m\u001b[0;34m\u001b[0m\u001b[0m\n",
      "\u001b[0;32m/anaconda3/lib/python3.6/site-packages/pandas/core/indexes/numeric.py\u001b[0m in \u001b[0;36m_convert_scalar_indexer\u001b[0;34m(self, key, kind)\u001b[0m\n\u001b[1;32m    185\u001b[0m             \u001b[0mkey\u001b[0m \u001b[0;34m=\u001b[0m \u001b[0mself\u001b[0m\u001b[0;34m.\u001b[0m\u001b[0m_maybe_cast_indexer\u001b[0m\u001b[0;34m(\u001b[0m\u001b[0mkey\u001b[0m\u001b[0;34m)\u001b[0m\u001b[0;34m\u001b[0m\u001b[0;34m\u001b[0m\u001b[0m\n\u001b[1;32m    186\u001b[0m         return (super(Int64Index, self)\n\u001b[0;32m--> 187\u001b[0;31m                 ._convert_scalar_indexer(key, kind=kind))\n\u001b[0m\u001b[1;32m    188\u001b[0m \u001b[0;34m\u001b[0m\u001b[0m\n\u001b[1;32m    189\u001b[0m     \u001b[0;32mdef\u001b[0m \u001b[0m_wrap_joined_index\u001b[0m\u001b[0;34m(\u001b[0m\u001b[0mself\u001b[0m\u001b[0;34m,\u001b[0m \u001b[0mjoined\u001b[0m\u001b[0;34m,\u001b[0m \u001b[0mother\u001b[0m\u001b[0;34m)\u001b[0m\u001b[0;34m:\u001b[0m\u001b[0;34m\u001b[0m\u001b[0;34m\u001b[0m\u001b[0m\n",
      "\u001b[0;32m/anaconda3/lib/python3.6/site-packages/pandas/core/indexes/base.py\u001b[0m in \u001b[0;36m_convert_scalar_indexer\u001b[0;34m(self, key, kind)\u001b[0m\n\u001b[1;32m   1635\u001b[0m \u001b[0;34m\u001b[0m\u001b[0m\n\u001b[1;32m   1636\u001b[0m         \u001b[0;32mif\u001b[0m \u001b[0mkind\u001b[0m \u001b[0;34m==\u001b[0m \u001b[0;34m'iloc'\u001b[0m\u001b[0;34m:\u001b[0m\u001b[0;34m\u001b[0m\u001b[0;34m\u001b[0m\u001b[0m\n\u001b[0;32m-> 1637\u001b[0;31m             \u001b[0;32mreturn\u001b[0m \u001b[0mself\u001b[0m\u001b[0;34m.\u001b[0m\u001b[0m_validate_indexer\u001b[0m\u001b[0;34m(\u001b[0m\u001b[0;34m'positional'\u001b[0m\u001b[0;34m,\u001b[0m \u001b[0mkey\u001b[0m\u001b[0;34m,\u001b[0m \u001b[0mkind\u001b[0m\u001b[0;34m)\u001b[0m\u001b[0;34m\u001b[0m\u001b[0;34m\u001b[0m\u001b[0m\n\u001b[0m\u001b[1;32m   1638\u001b[0m \u001b[0;34m\u001b[0m\u001b[0m\n\u001b[1;32m   1639\u001b[0m         \u001b[0;32mif\u001b[0m \u001b[0mlen\u001b[0m\u001b[0;34m(\u001b[0m\u001b[0mself\u001b[0m\u001b[0;34m)\u001b[0m \u001b[0;32mand\u001b[0m \u001b[0;32mnot\u001b[0m \u001b[0misinstance\u001b[0m\u001b[0;34m(\u001b[0m\u001b[0mself\u001b[0m\u001b[0;34m,\u001b[0m \u001b[0mABCMultiIndex\u001b[0m\u001b[0;34m,\u001b[0m\u001b[0;34m)\u001b[0m\u001b[0;34m:\u001b[0m\u001b[0;34m\u001b[0m\u001b[0;34m\u001b[0m\u001b[0m\n",
      "\u001b[0;32m/anaconda3/lib/python3.6/site-packages/pandas/core/indexes/base.py\u001b[0m in \u001b[0;36m_validate_indexer\u001b[0;34m(self, form, key, kind)\u001b[0m\n\u001b[1;32m   4113\u001b[0m         \u001b[0;32mreturn\u001b[0m \u001b[0mkey\u001b[0m\u001b[0;34m\u001b[0m\u001b[0;34m\u001b[0m\u001b[0m\n\u001b[1;32m   4114\u001b[0m \u001b[0;34m\u001b[0m\u001b[0m\n\u001b[0;32m-> 4115\u001b[0;31m     \u001b[0;32mdef\u001b[0m \u001b[0m_validate_indexer\u001b[0m\u001b[0;34m(\u001b[0m\u001b[0mself\u001b[0m\u001b[0;34m,\u001b[0m \u001b[0mform\u001b[0m\u001b[0;34m,\u001b[0m \u001b[0mkey\u001b[0m\u001b[0;34m,\u001b[0m \u001b[0mkind\u001b[0m\u001b[0;34m)\u001b[0m\u001b[0;34m:\u001b[0m\u001b[0;34m\u001b[0m\u001b[0;34m\u001b[0m\u001b[0m\n\u001b[0m\u001b[1;32m   4116\u001b[0m         \"\"\"\n\u001b[1;32m   4117\u001b[0m         \u001b[0;32mif\u001b[0m \u001b[0mwe\u001b[0m \u001b[0mare\u001b[0m \u001b[0mpositional\u001b[0m \u001b[0mindexer\u001b[0m\u001b[0;34m\u001b[0m\u001b[0;34m\u001b[0m\u001b[0m\n",
      "\u001b[0;31mKeyboardInterrupt\u001b[0m: "
     ]
    }
   ],
   "source": [
    "explicit_data = permuted_diff_list(feature = 'explicit', trials = 500)"
   ]
  },
  {
   "cell_type": "code",
   "execution_count": 33,
   "metadata": {},
   "outputs": [
    {
     "data": {
      "image/png": "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\n",
      "text/plain": [
       "<Figure size 432x288 with 1 Axes>"
      ]
     },
     "metadata": {
      "needs_background": "light"
     },
     "output_type": "display_data"
    },
    {
     "name": "stdout",
     "output_type": "stream",
     "text": [
      "The dashed line represents the difference in our sample means.\n",
      "The difference in means of our data:  -0.144075\n"
     ]
    }
   ],
   "source": [
    "plot_permuted_diff(feature = 'explicit', data = explicit_data, sample = actual_diff('explicit'))\n",
    "print(\"The difference in means of our data: \", actual_diff('explicit'))"
   ]
  },
  {
   "cell_type": "code",
   "execution_count": 34,
   "metadata": {},
   "outputs": [
    {
     "name": "stdout",
     "output_type": "stream",
     "text": [
      "~Permutation Test~\n",
      "p_value:  0.00000000\n"
     ]
    }
   ],
   "source": [
    "data_pvalue(data = explicit_data, trials = 500, feature = 'explicit')"
   ]
  },
  {
   "cell_type": "code",
   "execution_count": 35,
   "metadata": {},
   "outputs": [
    {
     "name": "stdout",
     "output_type": "stream",
     "text": [
      "~T-Test Results~\n",
      "T-Statistic: 435.9383039386422\n",
      "Degress of Freedom: 16240\n",
      "Critical Value: 1.6449474604860919\n",
      "p-value: 0.00000000\n"
     ]
    }
   ],
   "source": [
    "alpha = 0.05\n",
    "t_test_means('explicit', alpha)"
   ]
  },
  {
   "cell_type": "markdown",
   "metadata": {},
   "source": [
    "<h4> An Explicit Conclusion? </h4>\n",
    "<p> Based on the data above, there is a clear change in the amount of explicit content people are listening to during quarantine. Only  16.3% of the 2019 songs featured explicit content, while that nearly doubled to to 30.7% during quarantine (a 14% difference in proportions). Furthermore, this difference is certainly statistically signficant, as both the p_value when running simulations as well as when conducting a T-test yielded a result approaching 0 (0.000000...x). Given the drastic percentage change, it is logical that it was almost impossible that this was due to random chance. </p>\n",
    "\n",
    "\n",
    "<p> In sum, explicit music has almost doubled... and we thought people were being clean during quarantine!\n",
    "Jokes aside, this is an interesting conclusion to start with, but we will need more audio features to fully draw out the effects of this pandemic on our music choices. </p>"
   ]
  },
  {
   "cell_type": "markdown",
   "metadata": {},
   "source": [
    "---"
   ]
  },
  {
   "cell_type": "markdown",
   "metadata": {},
   "source": [
    "<h3> 3. Key </h3> \n",
    "\n",
    "<p> **Our Hypothesis:** We do not expect to see significant change in the keys of songs. The most popular keys are stylistic choices that artists choose based on what sounds best. It is unlikely that quarantine alters our interest in music enough to see significant change in keys. With this prediction in mind, let's take a look... </p> "
   ]
  },
  {
   "cell_type": "code",
<<<<<<< HEAD
   "execution_count": 112,
   "metadata": {},
   "outputs": [
    {
     "ename": "NameError",
     "evalue": "name 'tracks_quar' is not defined",
     "output_type": "error",
     "traceback": [
      "\u001b[0;31m---------------------------------------------------------------------------\u001b[0m",
      "\u001b[0;31mNameError\u001b[0m                                 Traceback (most recent call last)",
      "\u001b[0;32m<ipython-input-112-c22bdfbbdb20>\u001b[0m in \u001b[0;36m<module>\u001b[0;34m()\u001b[0m\n\u001b[1;32m      1\u001b[0m \u001b[0;31m#Quarantine Tracks\u001b[0m\u001b[0;34m\u001b[0m\u001b[0;34m\u001b[0m\u001b[0;34m\u001b[0m\u001b[0m\n\u001b[0;32m----> 2\u001b[0;31m \u001b[0mtracks_quar_keys_perc\u001b[0m \u001b[0;34m=\u001b[0m \u001b[0mkey_counter\u001b[0m\u001b[0;34m(\u001b[0m\u001b[0mtracks_quar\u001b[0m\u001b[0;34m)\u001b[0m\u001b[0;34m\u001b[0m\u001b[0;34m\u001b[0m\u001b[0m\n\u001b[0m\u001b[1;32m      3\u001b[0m \u001b[0mkey_pie\u001b[0m\u001b[0;34m(\u001b[0m\u001b[0mtracks_keys_perc\u001b[0m\u001b[0;34m,\u001b[0m \u001b[0;34m\"Quarantine Tracks\"\u001b[0m\u001b[0;34m)\u001b[0m\u001b[0;34m\u001b[0m\u001b[0;34m\u001b[0m\u001b[0m\n",
      "\u001b[0;31mNameError\u001b[0m: name 'tracks_quar' is not defined"
     ]
=======
   "execution_count": 37,
   "metadata": {},
   "outputs": [
    {
     "data": {
      "image/png": "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\n",
      "text/plain": [
       "<Figure size 432x288 with 1 Axes>"
      ]
     },
     "metadata": {},
     "output_type": "display_data"
>>>>>>> d9dbc9bf4d14abb9d3393e013471871d094a6dd1
    }
   ],
   "source": [
    "#Quarantine Tracks\n",
    "tracks_quar_keys_perc = key_counter(tracks_quar)\n",
    "key_pie(tracks_quar_keys_perc, \"Quarantine Tracks\")"
   ]
  },
  {
   "cell_type": "code",
<<<<<<< HEAD
   "execution_count": 113,
=======
   "execution_count": 38,
>>>>>>> d9dbc9bf4d14abb9d3393e013471871d094a6dd1
   "metadata": {},
   "outputs": [
    {
     "data": {
<<<<<<< HEAD
      "image/png": "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\n",
=======
      "image/png": "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\n",
>>>>>>> d9dbc9bf4d14abb9d3393e013471871d094a6dd1
      "text/plain": [
       "<Figure size 432x288 with 1 Axes>"
      ]
     },
     "metadata": {},
     "output_type": "display_data"
    }
   ],
   "source": [
    "#2019 Tracks\n",
    "tracks_2019_keys_perc = key_counter(tracks_2019)\n",
    "key_pie(tracks_2019_keys_perc, \"2019 Tracks\")"
   ]
  },
  {
   "cell_type": "code",
<<<<<<< HEAD
   "execution_count": 114,
   "metadata": {},
   "outputs": [
    {
     "ename": "NameError",
     "evalue": "name 'bar_chart' is not defined",
     "output_type": "error",
     "traceback": [
      "\u001b[0;31m---------------------------------------------------------------------------\u001b[0m",
      "\u001b[0;31mNameError\u001b[0m                                 Traceback (most recent call last)",
      "\u001b[0;32m<ipython-input-114-260adad4ebb7>\u001b[0m in \u001b[0;36m<module>\u001b[0;34m()\u001b[0m\n\u001b[1;32m      1\u001b[0m \u001b[0;31m#Bar chart comparing across 2019 and Quarantine Data\u001b[0m\u001b[0;34m\u001b[0m\u001b[0;34m\u001b[0m\u001b[0;34m\u001b[0m\u001b[0m\n\u001b[0;32m----> 2\u001b[0;31m \u001b[0mbar_chart\u001b[0m\u001b[0;34m(\u001b[0m\u001b[0mtracks_quar_keys_perc\u001b[0m\u001b[0;34m,\u001b[0m \u001b[0mtracks_2019_keys_perc\u001b[0m\u001b[0;34m,\u001b[0m \u001b[0mtitle\u001b[0m \u001b[0;34m=\u001b[0m \u001b[0;34m\"Keys Comparison\"\u001b[0m\u001b[0;34m,\u001b[0m \u001b[0mticks\u001b[0m \u001b[0;34m=\u001b[0m \u001b[0;34m[\u001b[0m\u001b[0;34m'C'\u001b[0m\u001b[0;34m,\u001b[0m \u001b[0;34m'C♯/D♭'\u001b[0m\u001b[0;34m,\u001b[0m \u001b[0;34m'D'\u001b[0m\u001b[0;34m,\u001b[0m \u001b[0;34m'D♯/E♭'\u001b[0m\u001b[0;34m,\u001b[0m \u001b[0;34m'E'\u001b[0m\u001b[0;34m,\u001b[0m \u001b[0;34m'F'\u001b[0m\u001b[0;34m,\u001b[0m \u001b[0;34m'F#/G♭'\u001b[0m\u001b[0;34m,\u001b[0m \u001b[0;34m'G'\u001b[0m\u001b[0;34m,\u001b[0m \u001b[0;34m'G♯/A♭'\u001b[0m\u001b[0;34m,\u001b[0m \u001b[0;34m'A'\u001b[0m\u001b[0;34m,\u001b[0m \u001b[0;34m'A♯/B♭'\u001b[0m\u001b[0;34m,\u001b[0m \u001b[0;34m'B'\u001b[0m\u001b[0;34m]\u001b[0m\u001b[0;34m)\u001b[0m\u001b[0;34m\u001b[0m\u001b[0;34m\u001b[0m\u001b[0m\n\u001b[0m",
      "\u001b[0;31mNameError\u001b[0m: name 'bar_chart' is not defined"
     ]
=======
   "execution_count": 39,
   "metadata": {},
   "outputs": [
    {
     "data": {
      "image/png": "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\n",
      "text/plain": [
       "<Figure size 432x288 with 1 Axes>"
      ]
     },
     "metadata": {
      "needs_background": "light"
     },
     "output_type": "display_data"
>>>>>>> d9dbc9bf4d14abb9d3393e013471871d094a6dd1
    }
   ],
   "source": [
    "#Bar chart comparing across 2019 and Quarantine Data\n",
    "bar_chart(tracks_quar_keys_perc, tracks_2019_keys_perc, title = \"Keys Comparison\", ticks = ['C', 'C♯/D♭', 'D', 'D♯/E♭', 'E', 'F', 'F#/G♭', 'G', 'G♯/A♭', 'A', 'A♯/B♭', 'B'])"
   ]
  },
  {
   "cell_type": "markdown",
   "metadata": {},
   "source": [
    "<h4> Conclusion: Key takaways </h4>\n",
    "\n",
    "<p> The pie charts illustrates a few things. First, in both quarantine and 2019 datasets, the most popular Key's were C, and C♯/D♭, accounting for nearly 35% of the entire dataset when combined. That being said, the somewhat even distribution of the chart indicates that the key of a song does not have a <em> dramatic </em> effect on the song's success. In other words, there is no one key that dominates music. Stay away from D# though...\n",
    "    \n",
    "<p> More importantly, we see almost no change in the two datasets, illustrating that the quarantine has little effect on the key to which songs are written. Our hypothesis was correct. This wasn't the <em> key </em> to our research, unfortunately. </p>\n",
    "\n",
    "<p> P.S. We hope our puns lighten up your quarantine! </p>"
   ]
  },
  {
   "cell_type": "markdown",
   "metadata": {},
   "source": [
    "---"
   ]
  },
  {
   "cell_type": "markdown",
   "metadata": {},
   "source": [
    "<h3> Modality </h3>\n",
    "\n",
    "<p>**Our Hypothesis:** We expect that the quarentine playlist featured more songs in minor keys, as the eerie nature of being locked at home might make some people more meloncholy, and thus listen to music associated with being sad. We expect this to be statistically one of the most significant changes of all the audio features. Modality is a good mesausre of the \"happiness\" of a song. This being said, many individuals are finding ways to stay active (especially running) during quarantine. Because running music usually has an upbeat, positive nature, so this may offset the sad nature of self-isolation slightly, but we nonetheless expect modality to decrease.  </p>"
   ]
  },
  {
   "cell_type": "code",
   "execution_count": 40,
   "metadata": {},
   "outputs": [
    {
     "name": "stdout",
     "output_type": "stream",
     "text": [
      "Quarantine Tracks\n",
      "count_major:  5576\n",
      "count_minor:  3368\n",
      "percent_major:  62.34%\n"
     ]
    },
    {
     "data": {
      "image/png": "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\n",
      "text/plain": [
       "<Figure size 432x288 with 1 Axes>"
      ]
     },
     "metadata": {},
     "output_type": "display_data"
    }
   ],
   "source": [
    "#Quarantine Tracks\n",
    "modality_breakdown_quarantine = mode_counter(tracks_quar, \"Quarantine Tracks\")\n",
    "modality_pie(modality_breakdown_quarantine,\"Quarantine Tracks\")"
   ]
  },
  {
   "cell_type": "code",
   "execution_count": 41,
   "metadata": {},
   "outputs": [
    {
     "name": "stdout",
     "output_type": "stream",
     "text": [
      "2019 Tracks\n",
      "count_major:  4398\n",
      "count_minor:  2900\n",
      "percent_major:  60.26%\n"
     ]
    },
    {
     "data": {
      "image/png": "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\n",
      "text/plain": [
       "<Figure size 432x288 with 1 Axes>"
      ]
     },
     "metadata": {},
     "output_type": "display_data"
    }
   ],
   "source": [
    "#2019 Tracks\n",
    "modality_breakdown_2019 = mode_counter(tracks_2019, \"2019 Tracks\")\n",
    "modality_pie(modality_breakdown_2019, \"2019 Tracks\")"
   ]
  },
  {
   "cell_type": "code",
   "execution_count": 42,
   "metadata": {
    "scrolled": true
   },
   "outputs": [
    {
     "data": {
      "image/png": "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\n",
      "text/plain": [
       "<Figure size 432x288 with 1 Axes>"
      ]
     },
     "metadata": {
      "needs_background": "light"
     },
     "output_type": "display_data"
    }
   ],
   "source": [
    "#Bar chart comparing across 2019 and Quarantine Data\n",
    "bar_chart(modality_breakdown_2019, modality_breakdown_quarantine, title = \"Modality Comparison\", ticks = [\"Major\", \"Minor\"] )"
   ]
  },
  {
   "cell_type": "code",
   "execution_count": 43,
   "metadata": {},
   "outputs": [
    {
     "name": "stdout",
     "output_type": "stream",
     "text": [
      "Proportion of 2019 songs that are Major:  \n",
      "0.6026\n",
      "Proportion of Quarantine songs that are Major:  \n",
      "0.6234\n",
      "\n",
      "Difference in proportions from 2019 to Quarantine:\n",
      "0.0208\n",
      "Percent change from 2019 to Quarantine:\n",
      "3.45%\n"
     ]
    }
   ],
   "source": [
    "print_percentages('mode', 'Major')"
   ]
  },
  {
   "cell_type": "markdown",
   "metadata": {},
   "source": [
    "<h4> Evaluation of Significance: Modality </h4> "
   ]
  },
  {
   "cell_type": "code",
   "execution_count": 44,
   "metadata": {},
   "outputs": [
    {
     "name": "stdout",
     "output_type": "stream",
     "text": [
      "The difference in mean modality between Quarantine and 2019 songs:\n",
      "-0.020804\n"
     ]
    }
   ],
   "source": [
    "print(\"The difference in mean modality between Quarantine and 2019 songs:\")\n",
    "print(actual_diff('mode'))"
   ]
  },
  {
   "cell_type": "code",
   "execution_count": null,
   "metadata": {},
   "outputs": [],
   "source": [
    "modality_data = permuted_diff_list(feature = 'mode', trials = 500)"
   ]
  },
  {
   "cell_type": "code",
   "execution_count": null,
   "metadata": {},
   "outputs": [],
   "source": [
    "plot_permuted_diff(feature = 'mode', data = modality_data)\n",
    "print(\"The difference in means of our data: \", actual_diff('mode'))"
   ]
  },
  {
   "cell_type": "code",
   "execution_count": null,
   "metadata": {},
   "outputs": [],
   "source": [
    "alpha = 0.05\n",
    "trials = 500\n",
    "feature = 'mode'\n",
    "data_pvalue(data = modality_data, trials = 500, feature = 'mode')\n",
    "t_test_means(feature = 'mode', alpha = 0.05)"
   ]
  },
  {
   "cell_type": "markdown",
   "metadata": {},
   "source": [
    "<h4> Conclusion: Does our mood affect the mode? </h4>\n",
    "<p> Our Hypothesis was incorrect. The Quarantine dataset had, in fact, a 0.02 higher average modality than the 2019's tracks. As we counted songs that were in Minor as 0, and Major in 1, the proportion of songs that were in Major changed by 0.02 from the 2019 dataset to the Quarantine datset. To put simply, the quaranatine songs were more cheery. This is encouraging, becuase it indicates that people might be using music to improve their mood during this difficult time, and our predicition about running music might have played a role as well. The simulations provided a P-value of 0.002, while the T-test provided an even smaller P-value approaching 0.0000. Because our dataset is so large (8000+ songs), a 2% change in modality is statistically significant, and meaningfull. "
   ]
  },
  {
   "cell_type": "markdown",
   "metadata": {},
   "source": [
    "---\n",
    "---"
   ]
  },
  {
   "cell_type": "markdown",
   "metadata": {},
   "source": [
    "<h2> II. Describing Music: Quantitative Audio Features </h2>"
   ]
  },
  {
   "cell_type": "markdown",
   "metadata": {},
   "source": [
    "Next, we will analyze six complex audio features that Spotify denotes as floats, providing a sort of road map for each song. These remaining features include: \n",
    "\n",
    "5. **Energy** - According to Spotify's WEB API reference guide the Energy of a song \"represents a perceptual measure of intensity and activity. Typically, energetic tracks feel fast, loud, and noisy. For example, death metal has high energy, while a Bach prelude scores low on the scale. Perceptual features contributing to this attribute include dynamic range, perceived loudness, timbre, onset rate, and general entropy.\" This is an excellent audio feature to analyze because it says something about the listener. \n",
    "\n",
    "  \n",
    "6. **Danceability** - This audio feature is similair to energy, describing \"how suitable a track is for dancing based on a combination of musical elements including tempo, rhythm stability, beat strength, and overall regularity.\" \n",
    "   \n",
    "   \n",
    "7. **Valence** - A song's valence score is \"describing the musical positiveness conveyed by a track. Tracks with high valence sound more positive (e.g. happy, cheerful, euphoric), while tracks with low valence sound more negative (e.g. sad, depressed, angry).\" This feature is particularly useful because it helps us as researchers understand the mood of a listener. While some people enjoy listening to sad music more than others, trend changes are visible when analyzing valence on a sample size of this scale.\n",
    "\n",
    "\n",
    "8. **Acousticness** -  This is a confidence measure that determines whether a track is acoustic. Scores range from 0.0 to 1.0, providing a spectrum of musical range in between. \n",
    "\n",
    "\n",
    "9. **Speechiness** - This feature detects the presence of spoken words in a track. Unlike other categories, this score is especially useful in seperating other forms of audio (talks shows, audio books, poety) from pure musical recordings. Tracks of this nature recive a score close to 1.0. That being said, speechiness is useful in this analysis because it also helps seperate rap-muisc and genres with a high-concentration of speech/vocals from other types of music. The less words in the songs, the closer the speechiness score will get to 0.0\n",
    "\n",
    "\n",
    "10. **Tempo** - Finally, tempo is the speed or pace of a given song, ervied directly from the average beat duration. It is measured in beats per minute (BPM) "
   ]
  },
  {
   "cell_type": "markdown",
   "metadata": {},
   "source": [
    "<h3> 5. Energy </h3>\n",
    "\n",
    "<p>**Our Hypothesis:** We expect that the the average energy score of the quarantine dataset would have dropped from people's 2019 music choices. This aligns with our prediction that quarantine is having a negative impact of people's mental health and that might be visible in our music. There have been less parties, less gatherings, and less reasons to be moving around. In general, the nature of quarantine <em> primes </em> us to beleive energy, much like modality, would have decreased significantly. "
   ]
  },
  {
   "cell_type": "code",
   "execution_count": 111,
   "metadata": {},
   "outputs": [
    {
     "data": {
      "image/png": "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\n",
      "text/plain": [
       "<Figure size 576x504 with 1 Axes>"
      ]
     },
     "metadata": {},
     "output_type": "display_data"
    }
   ],
   "source": [
    "box_plot_comparisons('energy')"
   ]
  },
  {
   "cell_type": "code",
   "execution_count": null,
   "metadata": {},
   "outputs": [],
   "source": [
    "def print_means(feature):\n",
    "    print(\"Mean \"+str(feature)+\" value for 2019:  \")\n",
    "    print('{:.4f}'.format(np.mean(tracks_2019[feature])))\n",
    "    \n",
    "    print(\"Mean \"+str(feature)+\" value for Quarantine:  \") \n",
    "    print('{:.4f}'.format(np.mean(tracks_quar[feature])))\n",
    "    \n",
    "    print()\n",
    "    print(\"Difference in means from 2019 to Quarantine:\")\n",
    "    print('{:.4f}'.format(np.mean(tracks_quar[feature])-np.mean(tracks_2019[feature])))\n",
    "    \n",
    "    print(\"Percent change from 2019 mean to Quarantine mean:\")\n",
    "    percent_change = (np.mean(tracks_quar[feature])-np.mean(tracks_2019[feature]))/np.mean(tracks_2019[feature])\n",
    "    print('{:.2%}'.format(percent_change))\n",
    "          "
   ]
  },
  {
   "cell_type": "code",
   "execution_count": null,
   "metadata": {},
   "outputs": [],
   "source": [
    "print_means('energy')"
   ]
  },
  {
   "cell_type": "markdown",
   "metadata": {},
   "source": [
    "<h4> Evaluation of Significance: Energy </h4> "
   ]
  },
  {
   "cell_type": "code",
   "execution_count": 110,
   "metadata": {},
   "outputs": [
    {
     "ename": "KeyboardInterrupt",
     "evalue": "",
     "output_type": "error",
     "traceback": [
      "\u001b[0;31m---------------------------------------------------------------------------\u001b[0m",
      "\u001b[0;31mKeyboardInterrupt\u001b[0m                         Traceback (most recent call last)",
      "\u001b[0;32m<ipython-input-110-303aefb6846e>\u001b[0m in \u001b[0;36m<module>\u001b[0;34m()\u001b[0m\n\u001b[0;32m----> 1\u001b[0;31m \u001b[0menergy_data\u001b[0m \u001b[0;34m=\u001b[0m \u001b[0mpermuted_diff_list\u001b[0m\u001b[0;34m(\u001b[0m\u001b[0mfeature\u001b[0m \u001b[0;34m=\u001b[0m \u001b[0;34m'energy'\u001b[0m\u001b[0;34m,\u001b[0m \u001b[0mtrials\u001b[0m \u001b[0;34m=\u001b[0m \u001b[0;36m500\u001b[0m\u001b[0;34m)\u001b[0m\u001b[0;34m\u001b[0m\u001b[0;34m\u001b[0m\u001b[0m\n\u001b[0m",
      "\u001b[0;32m<ipython-input-54-786eb29b5fb8>\u001b[0m in \u001b[0;36mpermuted_diff_list\u001b[0;34m(feature, trials)\u001b[0m\n\u001b[1;32m     13\u001b[0m                 \u001b[0mlist_2019\u001b[0m\u001b[0;34m.\u001b[0m\u001b[0mappend\u001b[0m\u001b[0;34m(\u001b[0m\u001b[0mnew\u001b[0m\u001b[0;34m[\u001b[0m\u001b[0mfeature\u001b[0m\u001b[0;34m]\u001b[0m\u001b[0;34m.\u001b[0m\u001b[0miloc\u001b[0m\u001b[0;34m[\u001b[0m\u001b[0mi\u001b[0m\u001b[0;34m]\u001b[0m\u001b[0;34m)\u001b[0m\u001b[0;34m\u001b[0m\u001b[0;34m\u001b[0m\u001b[0m\n\u001b[1;32m     14\u001b[0m             \u001b[0;32melse\u001b[0m\u001b[0;34m:\u001b[0m\u001b[0;34m\u001b[0m\u001b[0;34m\u001b[0m\u001b[0m\n\u001b[0;32m---> 15\u001b[0;31m                 \u001b[0mlist_quar\u001b[0m\u001b[0;34m.\u001b[0m\u001b[0mappend\u001b[0m\u001b[0;34m(\u001b[0m\u001b[0mnew\u001b[0m\u001b[0;34m[\u001b[0m\u001b[0mfeature\u001b[0m\u001b[0;34m]\u001b[0m\u001b[0;34m.\u001b[0m\u001b[0miloc\u001b[0m\u001b[0;34m[\u001b[0m\u001b[0mi\u001b[0m\u001b[0;34m]\u001b[0m\u001b[0;34m)\u001b[0m\u001b[0;34m\u001b[0m\u001b[0;34m\u001b[0m\u001b[0m\n\u001b[0m\u001b[1;32m     16\u001b[0m \u001b[0;34m\u001b[0m\u001b[0m\n\u001b[1;32m     17\u001b[0m         \u001b[0mdiff\u001b[0m \u001b[0;34m=\u001b[0m \u001b[0mnp\u001b[0m\u001b[0;34m.\u001b[0m\u001b[0mmean\u001b[0m\u001b[0;34m(\u001b[0m\u001b[0mlist_2019\u001b[0m\u001b[0;34m)\u001b[0m \u001b[0;34m-\u001b[0m \u001b[0mnp\u001b[0m\u001b[0;34m.\u001b[0m\u001b[0mmean\u001b[0m\u001b[0;34m(\u001b[0m\u001b[0mlist_quar\u001b[0m\u001b[0;34m)\u001b[0m\u001b[0;34m\u001b[0m\u001b[0;34m\u001b[0m\u001b[0m\n",
      "\u001b[0;32m/anaconda3/lib/python3.6/site-packages/pandas/core/indexing.py\u001b[0m in \u001b[0;36m__getitem__\u001b[0;34m(self, key)\u001b[0m\n\u001b[1;32m   1476\u001b[0m \u001b[0;34m\u001b[0m\u001b[0m\n\u001b[1;32m   1477\u001b[0m             \u001b[0mmaybe_callable\u001b[0m \u001b[0;34m=\u001b[0m \u001b[0mcom\u001b[0m\u001b[0;34m.\u001b[0m\u001b[0m_apply_if_callable\u001b[0m\u001b[0;34m(\u001b[0m\u001b[0mkey\u001b[0m\u001b[0;34m,\u001b[0m \u001b[0mself\u001b[0m\u001b[0;34m.\u001b[0m\u001b[0mobj\u001b[0m\u001b[0;34m)\u001b[0m\u001b[0;34m\u001b[0m\u001b[0;34m\u001b[0m\u001b[0m\n\u001b[0;32m-> 1478\u001b[0;31m             \u001b[0;32mreturn\u001b[0m \u001b[0mself\u001b[0m\u001b[0;34m.\u001b[0m\u001b[0m_getitem_axis\u001b[0m\u001b[0;34m(\u001b[0m\u001b[0mmaybe_callable\u001b[0m\u001b[0;34m,\u001b[0m \u001b[0maxis\u001b[0m\u001b[0;34m=\u001b[0m\u001b[0maxis\u001b[0m\u001b[0;34m)\u001b[0m\u001b[0;34m\u001b[0m\u001b[0;34m\u001b[0m\u001b[0m\n\u001b[0m\u001b[1;32m   1479\u001b[0m \u001b[0;34m\u001b[0m\u001b[0m\n\u001b[1;32m   1480\u001b[0m     \u001b[0;32mdef\u001b[0m \u001b[0m_is_scalar_access\u001b[0m\u001b[0;34m(\u001b[0m\u001b[0mself\u001b[0m\u001b[0;34m,\u001b[0m \u001b[0mkey\u001b[0m\u001b[0;34m)\u001b[0m\u001b[0;34m:\u001b[0m\u001b[0;34m\u001b[0m\u001b[0;34m\u001b[0m\u001b[0m\n",
      "\u001b[0;32m/anaconda3/lib/python3.6/site-packages/pandas/core/indexing.py\u001b[0m in \u001b[0;36m_getitem_axis\u001b[0;34m(self, key, axis)\u001b[0m\n\u001b[1;32m   2093\u001b[0m         \u001b[0;31m# a single integer\u001b[0m\u001b[0;34m\u001b[0m\u001b[0;34m\u001b[0m\u001b[0;34m\u001b[0m\u001b[0m\n\u001b[1;32m   2094\u001b[0m         \u001b[0;32melse\u001b[0m\u001b[0;34m:\u001b[0m\u001b[0;34m\u001b[0m\u001b[0;34m\u001b[0m\u001b[0m\n\u001b[0;32m-> 2095\u001b[0;31m             \u001b[0mkey\u001b[0m \u001b[0;34m=\u001b[0m \u001b[0mself\u001b[0m\u001b[0;34m.\u001b[0m\u001b[0m_convert_scalar_indexer\u001b[0m\u001b[0;34m(\u001b[0m\u001b[0mkey\u001b[0m\u001b[0;34m,\u001b[0m \u001b[0maxis\u001b[0m\u001b[0;34m)\u001b[0m\u001b[0;34m\u001b[0m\u001b[0;34m\u001b[0m\u001b[0m\n\u001b[0m\u001b[1;32m   2096\u001b[0m \u001b[0;34m\u001b[0m\u001b[0m\n\u001b[1;32m   2097\u001b[0m             \u001b[0;32mif\u001b[0m \u001b[0;32mnot\u001b[0m \u001b[0mis_integer\u001b[0m\u001b[0;34m(\u001b[0m\u001b[0mkey\u001b[0m\u001b[0;34m)\u001b[0m\u001b[0;34m:\u001b[0m\u001b[0;34m\u001b[0m\u001b[0;34m\u001b[0m\u001b[0m\n",
      "\u001b[0;31mKeyboardInterrupt\u001b[0m: "
     ]
    }
   ],
   "source": [
    "energy_data = permuted_diff_list(feature = 'energy', trials = 500)"
   ]
  },
  {
   "cell_type": "code",
   "execution_count": null,
   "metadata": {},
   "outputs": [],
   "source": [
    "plot_permuted_diff(feature = 'energy', data = energy_data)\n",
    "print(\"The difference in means of our data: \", actual_diff('energy'))"
   ]
  },
  {
   "cell_type": "code",
   "execution_count": null,
   "metadata": {},
   "outputs": [],
   "source": [
    "data_pvalue(data = modality_data, trials = 500, feature = 'energy')\n",
    "t_test_means(feature = 'energy', alpha = 0.05)"
   ]
  },
  {
   "cell_type": "markdown",
   "metadata": {},
   "source": [
    "<h4> Conclusion: Effect on Energy </h4>\n",
    "    \n",
    "<p> Our hypothesis for energy appears to be correct. The average energy of the quarantine dataset decreased by approximately 0.0637 from 2019's data, indicating that the overall loudness, timbre, onset rate, and general entropy of the music was lower. Our simulations provided a p-value approaching 0.000000..., and our t-test provided the same. A 0.637 difference in means is certainly statistically significant, and further guides our conclusions about the effect of isloation on music choice. </p>\n"
   ]
  },
  {
   "cell_type": "markdown",
   "metadata": {},
   "source": [
    "---"
   ]
  },
  {
   "cell_type": "markdown",
   "metadata": {},
   "source": [
    "<h3> 6. Danceability </h3>\n",
    "\n",
    "<p> **Our Hypothesis:** Our Hypothesis for this audio feature is similair to that of energy. Bars, clubs, venues, and house parties have come to an almost complete stop. It is logical that the average danceability score would have decreased in quarantine."
   ]
  },
  {
   "cell_type": "code",
   "execution_count": null,
   "metadata": {
    "scrolled": true
   },
   "outputs": [],
   "source": [
    "box_plot_comparisons('danceability')"
   ]
  },
  {
   "cell_type": "code",
   "execution_count": null,
   "metadata": {},
   "outputs": [],
   "source": [
    "print_means('danceability')"
   ]
  },
  {
   "cell_type": "markdown",
   "metadata": {},
   "source": [
    "<h4> Evaluation of Significance: Danceability </h4> "
   ]
  },
  {
   "cell_type": "code",
   "execution_count": null,
   "metadata": {},
   "outputs": [],
   "source": [
    "print(\"The difference in mean danceability between Quarantine and 2019 songs:\")\n",
    "print(actual_diff('danceability'))"
   ]
  },
  {
   "cell_type": "code",
   "execution_count": null,
   "metadata": {},
   "outputs": [],
   "source": [
    "danceability_data = permuted_diff_list(feature = 'danceability', trials = 500)\n",
    "plot_permuted_diff(feature = 'danceability', data = danceability_data)\n",
    "print(\"The difference in means of our data: \", actual_diff('danceability'))"
   ]
  },
  {
   "cell_type": "code",
   "execution_count": null,
   "metadata": {},
   "outputs": [],
   "source": [
    "data_pvalue(data = modality_data, trials = 500, feature = 'danceability')\n",
    "t_test_means(feature = 'danceability', alpha = 0.05)"
   ]
  },
  {
   "cell_type": "markdown",
   "metadata": {},
   "source": [
    "<h4> Conclusion: Are we dancing at home? </h4>\n",
    "<p> The data shows that the average danceability score actually <em> increased </em> by 0.0077. This is suprising, considering that the average energy scored decreased by 0.0637, as illustrated in the previous section. While this is the smallest change we've seen thus far, the change is still classified as statistically significant, yielding a 0.142 p-value from our simulations and a p-value extremely close to 0 from our T-test. Music suitable to dancing appears to be just as appealing alone as it is when allowed to be others. Maybe, without fearing judgement from our peers, people are finally breaking out some moves in the privacy of their home."
   ]
  },
  {
   "cell_type": "markdown",
   "metadata": {},
   "source": [
    "---"
   ]
  },
  {
   "cell_type": "markdown",
   "metadata": {},
   "source": [
    "<h3> 7. Valence </h3>\n",
    "\n",
    "<p>**Our Hypothesis:** Valence can be considered a somewhat quantitative measure of modality, in the sense that is measures the overall positiveness of a track (while major and minor keys are also associated with positive/negative themes, as well). Thus, like our prediction for modality, the nature of quarantine brings us to predict that valence will decrease significantly."
   ]
  },
  {
   "cell_type": "code",
   "execution_count": null,
   "metadata": {
    "scrolled": true
   },
   "outputs": [],
   "source": [
    "box_plot_comparisons('valence')"
   ]
  },
  {
   "cell_type": "code",
   "execution_count": null,
   "metadata": {},
   "outputs": [],
   "source": [
    "print_means('valence')"
   ]
  },
  {
   "cell_type": "markdown",
   "metadata": {},
   "source": [
    "<h4> Evaluation of Significance: Valence </h4> "
   ]
  },
  {
   "cell_type": "code",
   "execution_count": null,
   "metadata": {},
   "outputs": [],
   "source": [
    "print(\"The difference in mean valence between Quarantine and 2019 songs:\")\n",
    "print(actual_diff('valence'))"
   ]
  },
  {
   "cell_type": "code",
   "execution_count": null,
   "metadata": {},
   "outputs": [],
   "source": [
    "valence_data = permuted_diff_list(feature = 'valence', trials = 500)\n",
    "plot_permuted_diff(feature = 'valence', data = valence_data)\n",
    "print(\"The difference in means of our data: \", actual_diff('valence'))"
   ]
  },
  {
   "cell_type": "code",
   "execution_count": null,
   "metadata": {},
   "outputs": [],
   "source": [
    "data_pvalue(data = valence_data, trials = 500, feature = 'valence')"
   ]
  },
  {
   "cell_type": "code",
   "execution_count": null,
   "metadata": {},
   "outputs": [],
   "source": [
    "t_test_means(feature = 'valence', alpha = 0.05)"
   ]
  },
  {
   "cell_type": "markdown",
   "metadata": {},
   "source": [
    "<h4> Conclusion: Is there value in valence? </h4>\n",
    "<p> The mean valence for 2019 songs was 0.5529 increased to a mean of 0.0250 for Quarantine songs, signaling that our hypothesis was correct. Further, with p-values both approacing 0.000000 it is clear that a percentage decrease of this size is certaintly statistically significant. Now that we have analyzed both modality and valence, however, it is interesting that more songs were in minor keys, while the valence decreased significantly. We expected these two variables to increase proportionally.  "
   ]
  },
  {
   "cell_type": "markdown",
   "metadata": {},
   "source": [
    "---"
   ]
  },
  {
   "cell_type": "markdown",
   "metadata": {},
   "source": [
    "<h3> 8. Acousticness </h3>\n",
    "\n",
    "<p>**Our Hypothesis:** Accousticness is an audio feature where we do not expect to see much change as a result of the quarantine. Listening to acoustic music is personal, style choice that is not as clear of a mood indicator as energy, valence, or danceability."
   ]
  },
  {
   "cell_type": "code",
   "execution_count": null,
   "metadata": {
    "scrolled": true
   },
   "outputs": [],
   "source": [
    "box_plot_comparisons('acousticness')"
   ]
  },
  {
   "cell_type": "code",
   "execution_count": null,
   "metadata": {},
   "outputs": [],
   "source": [
    "print_means('valence')"
   ]
  },
  {
   "cell_type": "markdown",
   "metadata": {},
   "source": [
    "<h4> Evaluation of Significance: Acousticness </h4> "
   ]
  },
  {
   "cell_type": "code",
   "execution_count": null,
   "metadata": {},
   "outputs": [],
   "source": [
    "print(\"The difference in mean acousticness between Quarantine and 2019 songs:\")\n",
    "print(actual_diff('acousticness'))"
   ]
  },
  {
   "cell_type": "code",
   "execution_count": null,
   "metadata": {},
   "outputs": [],
   "source": [
    "acousticness_data = permuted_diff_list(feature = 'acousticness', trials = 500)\n",
    "plot_permuted_diff(feature = 'acousticness', data = acousticness_data)\n",
    "print(\"The difference in means of our data: \", actual_diff('acousticness'))"
   ]
  },
  {
   "cell_type": "code",
   "execution_count": null,
   "metadata": {},
   "outputs": [],
   "source": [
    "data_pvalue(data = acousticness_data, trials = 500, feature = 'acousticness')"
   ]
  },
  {
   "cell_type": "code",
   "execution_count": null,
   "metadata": {},
   "outputs": [],
   "source": [
    "t_test_means(feature = 'acousticness', alpha = 0.05)"
   ]
  },
  {
   "cell_type": "markdown",
   "metadata": {},
   "source": [
    "<h4> Conclusion: How are the acoustics during quarantine? </h4>\n",
    "<p> The mean acousticness in 2019 songs decreased by 0.0250 on a 0-1 scale, going from 0.5529 down to 0.5278 mean valence in Quarantine songs. This 4.53% decrease of accousticness in the quarantine dataset from 2019, and given both p-values (simulation and T-test) approached 0, this is a statistically significant change. It is hard to place a reason for this change, perhaps acoustic music is less comforting during a a dreary time? "
   ]
  },
  {
   "cell_type": "markdown",
   "metadata": {},
   "source": [
    "---"
   ]
  },
  {
   "cell_type": "markdown",
   "metadata": {},
   "source": [
    "<h3> 9. Speechiness </h3>\n",
    "\n",
    "<p>**Our Hypothesis:** Speechiness is a audio feature, similair to acousticness, that we don't believe is going to drastically change during quarentine. A higher average speechiness score would indicate more rap music is being listened to, which is possible, but we predict any increase or decrease will be less significant than the other audio features analyzed. "
   ]
  },
  {
   "cell_type": "code",
   "execution_count": null,
   "metadata": {
    "scrolled": false
   },
   "outputs": [],
   "source": [
    "box_plot_comparisons('speechiness')"
   ]
  },
  {
   "cell_type": "code",
   "execution_count": null,
   "metadata": {},
   "outputs": [],
   "source": [
    "print_means('speechiness')"
   ]
  },
  {
   "cell_type": "markdown",
   "metadata": {},
   "source": [
    "<h4> Evaluation of Significance: Speechiness </h4> "
   ]
  },
  {
   "cell_type": "code",
   "execution_count": null,
   "metadata": {},
   "outputs": [],
   "source": [
    "print(\"The difference in mean speechiness between Quarantine and 2019 songs:\")\n",
    "print(actual_diff('speechiness'))"
   ]
  },
  {
   "cell_type": "code",
   "execution_count": null,
   "metadata": {},
   "outputs": [],
   "source": [
    "speechiness_data = permuted_diff_list(feature = 'speechiness', trials = 500)\n",
    "plot_permuted_diff(feature = 'speechiness', data = speechiness_data)\n",
    "print(\"The difference in means of our data: \", actual_diff('speechiness'))"
   ]
  },
  {
   "cell_type": "code",
   "execution_count": null,
   "metadata": {},
   "outputs": [],
   "source": [
    "data_pvalue(data = speechiness_data, trials = 500, feature = 'speechiness')"
   ]
  },
  {
   "cell_type": "code",
   "execution_count": null,
   "metadata": {},
   "outputs": [],
   "source": [
    "t_test_means(feature = 'speechiness', alpha = 0.05)"
   ]
  },
  {
   "cell_type": "markdown",
   "metadata": {},
   "source": [
    "<h4> Conclusion: Hard to <em> rap </em> our head around this one... </h4>\n",
    "<p> There was a 1.3% increase in the average speechiness score of the quarantine dataset, and because both p-values were approximately 0, it's again almost impossible this was due to random chance. Admittidly, the change is not as significant as we've seen with other audio features, but it can't be ignored. People are listening to music with slightly more words. Lyrics, like poetry, often inspire and motivate us - and maybe we are turning to rap music for answers? Our final thoughts will provide a thorough explanation of this theme."
   ]
  },
  {
   "cell_type": "markdown",
   "metadata": {},
   "source": [
    "---"
   ]
  },
  {
   "cell_type": "markdown",
   "metadata": {},
   "source": [
    "<h3> 10. Tempo </h3>\n",
    "\n",
    "<p>**Our Hypothesis:** Tempo is an audio feature most people understand without a description. Staying consistant with our overarching hypothesis, we expect the average tempo to decrease during quarantine. Sad music is categorically  considered \"slow\", while happy music is often up-beat and quick. "
   ]
  },
  {
   "cell_type": "code",
   "execution_count": null,
   "metadata": {
    "scrolled": true
   },
   "outputs": [],
   "source": [
    "box_plot_comparisons('tempo')"
   ]
  },
  {
   "cell_type": "code",
   "execution_count": null,
   "metadata": {},
   "outputs": [],
   "source": [
    "print_means('tempo')"
   ]
  },
  {
   "cell_type": "markdown",
   "metadata": {},
   "source": [
    "<h4> Evaluation of Significance: Tempo </h4> "
   ]
  },
  {
   "cell_type": "code",
   "execution_count": null,
   "metadata": {},
   "outputs": [],
   "source": [
    "print(\"The difference in mean tempo between Quarantine and 2019 songs:\")\n",
    "print(actual_diff('tempo'))"
   ]
  },
  {
   "cell_type": "code",
   "execution_count": null,
   "metadata": {},
   "outputs": [],
   "source": [
    "tempo_data = permuted_diff_list(feature = 'tempo', trials = 500)\n",
    "plot_permuted_diff(feature = 'tempo', data = energy_data)\n",
    "print(\"The difference in means of our data: \", actual_diff('tempo'))"
   ]
  },
  {
   "cell_type": "code",
   "execution_count": null,
   "metadata": {},
   "outputs": [],
   "source": [
    "data_pvalue(data = tempo_data, trials = 500, feature = 'tempo')"
   ]
  },
  {
   "cell_type": "code",
   "execution_count": null,
   "metadata": {},
   "outputs": [],
   "source": [
    "t_test_means(feature = 'tempo', alpha = 0.05)"
   ]
  },
  {
   "cell_type": "markdown",
   "metadata": {},
   "source": [
    "<h4> Conclusion on Tempo: Could quarantine fo any slower? </h4>\n",
    "<p> As predicted, the average tempo of the quarantine songs decreased from 2019, by 2.84 beats per second. A change of this size is certainly statistically significant, yielding p-scores approximately equal to 0 on both the simulation and T-Test. While the tempo of a song does not exactly correlate with the mood, this supports the thoery  that people are listening to sadder, slower, and less energetic music while they sit at home. Of course, not all of the audio features supported this theme, but tempo clearly does. "
   ]
  },
  {
   "cell_type": "markdown",
   "metadata": {},
   "source": [
    "---\n",
    "---"
   ]
  },
  {
   "cell_type": "markdown",
   "metadata": {},
   "source": [
    "<h2> Concluding Thoughts </h2>"
   ]
  },
  {
   "cell_type": "markdown",
   "metadata": {},
   "source": [
    "<p> So, how has our music streaming changed since being in quarantine? Each of the ten different audio features we’ve analyzed offered unique insight into our listening choices, and through the analysis of our streaming data, we’ve been able to illustrate exactly how these choices have fluctuated. </p>\n",
    " \n",
    "<p>The most notable and statistically significant discovery of the quantitative audio features was the decrease in energy. While this drop was initially hypothesized, it is interesting to actually see evidence of this in our data, confirming, with numbers, the real-life effects of quarantine that we see in our day-to-day lives. Qualitatively, the proportion of the songs that we listen to that are explicit has grown by 14.41% since 2019; a statistically significant difference that forces us to wonder why people are choosing to listen to more explicit songs than before. Other variables like speechiness and acousticness had small increases, while tempo and valence had smaller decreases, giving us the opportunity to make inferences about why quarantine is affecting these features. </p>\n",
    " \n",
    "<p> Because our statistical significance evaluations were methodical, we are confident that the data increases and decreases reflect the actual listening choices of people in quarantine. However, we are less confident in our causation explanations. For example, danceability’s slight increase does not seem logical. Likewise, the proportion of songs with a major mode increased.  Both of these results go against our hypothesis that people are listening to slower, relaxed music. If we had analyzed datasets from 2018, 2017, 2016, and even 2015, we would get a better understanding of the average variability of features like danceability from year to year, which might explain the seemingly nonsensical increases of danceability and modality. </p> \n",
    " \n",
    "<p>Another improvement of this research opportunity would be to analyze what genres and radio stations people are listening to more often.  Spotify provides a number of recommendation resources and pre-made playlists. Our analysis only looked at self-made playlists, leaving out most of the music available on Spotify. The amount people are listening to these unique parts of the platform is always changing, providing room for further research. </p>\n",
    " \n",
    "<p>This research project has been a rewarding and challenging journey. It’s provided hands-on experience in both web scraping using an API, as well as analyzing complex data. We are proud of our work, and grateful to the caring support-system INFO 2950 provides to make it all possible. </p>"
   ]
  },
  {
   "cell_type": "markdown",
   "metadata": {},
   "source": [
    "<h2> Source Code </h2>"
   ]
  },
  {
   "cell_type": "markdown",
   "metadata": {},
   "source": [
    "<p> Folder: dopadosapd </p>"
   ]
  },
  {
   "cell_type": "markdown",
   "metadata": {},
   "source": [
    "<h2> Acknowledgements </h2>"
   ]
  },
  {
   "cell_type": "markdown",
   "metadata": {},
   "source": [
    "<p> brain </p>"
   ]
  },
  {
   "cell_type": "code",
   "execution_count": null,
   "metadata": {
    "scrolled": true
   },
   "outputs": [],
   "source": [
    "%%javascript\n",
    "let words = 0;\n",
    "Jupyter.notebook.get_cells().forEach(cell => {if (cell.cell_type == \"markdown\") { words += cell.element[0].innerText.split(\" \").length }})\n",
    "element.text(\"markdown words: \" + words)"
   ]
  },
  {
   "cell_type": "code",
   "execution_count": null,
   "metadata": {},
   "outputs": [],
   "source": []
  },
  {
   "cell_type": "code",
   "execution_count": null,
   "metadata": {},
   "outputs": [],
   "source": []
  },
  {
   "cell_type": "code",
   "execution_count": null,
   "metadata": {},
   "outputs": [],
   "source": []
  }
 ],
 "metadata": {
  "kernelspec": {
   "display_name": "Python 3",
   "language": "python",
   "name": "python3"
  },
  "language_info": {
   "codemirror_mode": {
    "name": "ipython",
    "version": 3
   },
   "file_extension": ".py",
   "mimetype": "text/x-python",
   "name": "python",
   "nbconvert_exporter": "python",
   "pygments_lexer": "ipython3",
   "version": "3.6.8"
  }
 },
 "nbformat": 4,
 "nbformat_minor": 2
}
