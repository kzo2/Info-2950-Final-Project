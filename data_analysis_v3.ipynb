{
 "cells": [
  {
   "cell_type": "markdown",
   "metadata": {},
   "source": [
    "<h1> Has Quarantine Changed Our Queues? </h1>\n",
    "Understanding the impact of COVID-19 Quarantine on our Spotify streaming <br>\n",
    "\n",
    " ANDERS JENSEN, Cornell University <br> \n",
    " KAELA OLSEN, Cornell University <br>\n",
    "\n",
    "<h4> May 5th, 2020 <br>\n",
    "Info 2950: Intro to Data Science </h4>"
   ]
  },
  {
   "cell_type": "markdown",
   "metadata": {},
   "source": [
    "<h2> Introduction </h2>\n",
    "\n",
    "<p> In the span of a few months, the global economy, and more importantly, livelihoods of everyday people, completely shut down due to the world-wide spread of COVID-19. Quarantine has looked different for everyone, but isolating oneself at home for a long period of time is certainly boring and tedious. Many researchers are investigating potentially negative, psychological effects of this experience. Longer quarantine duration is being linked to frustration, boredom, and depression, in addition to the financial losses many families are enduring. These hypotheses are speculative, and it’s imperative that more research is done to assess the effect quarantine is having on people’s mental health.</p> \n",
    "\n",
    "<p> Before this pandemic, a common outlet for people to release some stress was to turn to music. Listening to music is often soothing for people under any circumstances, and has become a routine part of the day. Further, access to music has become extremely easy. Spotify is the largest subscription music streaming service with 170 million users, providing premium audio quality at 320kbps, higher than any competitor, including Apple music.</p> \n",
    "\n",
    "<h4>Research Questions:</h4> For the purpose of this research study, we would like to analyze the effect that the COVID-19 quarantine has had on people's music choices, and use Spotify as a way to track the changes. By analyzing the specific characteristics of the songs people are listening to while isolated, we can illustrate how this quarantine has affected the mental well-being of everyday people. Has the quarantine made people listen to more sad and depressing music? Or, rather, are people listening to more uplifting music? How has the pandemic affected what type of music we are listening to? Is dance music less popular?\n",
    "\n",
    "<h4>Main Findings:</h4> The audio features of the quarantine dataset varied in a number of ways from the 2019 dataset. The music we are listening to in isolation has less energy, less valence, and has a slower tempo. Acoustic and rap (high speechiness) music was more common, while the percentage of explicit songs nearly doubled in isolation. Danceability, key, and modality had small, hard to explain changes, leaving much room for inference.\n",
    "\n",
    "**USE SPECIFIC NUMBERS**"
   ]
  },
  {
   "cell_type": "markdown",
   "metadata": {},
   "source": [
    "explicit\n",
    "14.41\n",
    "mode\n",
    "-2.08\n",
    "\n",
    "energy\n",
    "0.063\n",
    "danceability\n",
    "-0.0077\n",
    "valence\n",
    "0.0250\n",
    "speechiness\n",
    "-0.0133\n",
    "tempo\n",
    "2.8419"
   ]
  },
  {
   "cell_type": "markdown",
   "metadata": {},
   "source": [
    "<h2> Data Description </h2>\n",
    "<br>\n",
    "\n",
    "<em> **What are the observations (rows) and the attributes (columns)?** </em> <br>\n",
    "<br>\n",
    "For the data analysis, three datasets were created: playlists.csv, tracks_list_unfiltered.csv, and tracks.csv.\n",
    "In the playlists.csv data set, each observation (row) represents a unique playlist created by a user of Spotify's platform. In particular, each playlist in the data set has the word \"quarantine\" in either the title or the description of the playlist. Each playlist also has a number of (attributes) that describe it. The first attribute is the name, listing the name the user entered for the playlist. The total attribute displays the number of songs in each playlist, and the URI attribute prints Spotify's unique playlist URI for that example.\n",
    "\n",
    "Next, tracks_list_unflitered.csv was created using playlists.csv using the processes explained below. In this new dataset, each observation represents a song that was contained in one of the playlists in playlists.csv, while there are many attributes for each song. First, the URI of each song is listed, followed by the release date of each song, and then several audio features, including popularity, explicit, danceability, and key, each of which is assigned to a numeric value. The only exception to this is the explicit attribute, to which a boolean value of True or False is assigned to each song. \n",
    "\n",
    "Finally, tracks.csv was created in the same format as tracks_list_unfilitered.csv with one significant change. Each song that was a duplicate in tracks_list_unfiltered was removed, leaving unique songs. The observations and attributes of this final data set are otherwise identical.\n",
    "\n",
    "\n",
    "<em> **Why was this dataset created?**</em>  <br> \n",
    "<br>\n",
    "This dataset was created to measure the effect that COVID-19 quarantine has had on people's music choices. Further, by analyzing the specific characteristics of the songs extracted, we will illustrate how this quarantine has affected the mental well-being of everyday people. \n",
    "\n",
    "\n",
    "<em> **Who funded the creation of the dataset?** </em> <br>\n",
    "<br>\n",
    "Spotify is an audio streaming platform that provides easy access to over 50 million tracks. Users can browse the platform, filtering by artist, album, or genre, as well as create unique playlists to complement their music taste. Individuals who create an account on Spotify (and potentially purchase Spotify premium for unlimited free downloads) agree to share their listening data with the public. That data is used to improve algorithms that offer music recommendations to users, but also provides an opportunity for research on user data.\n",
    "\n",
    "To that end, the creation of this dataset was made possible by Spotify's Web API, through which web developers can access catalog data for the creation of apps, software, websites, and more. Spotify funded the Web API to facilitate better use of its platform by third-party developers. \n",
    "\n",
    "Through the Spotify Web API, external applications retrieve Spotify content like playlists and specific song data. In order to access user-related data through Spotify's API, an application must be authorized by the user to access that particular information. Create a simple server-side application that accesses user-related data through the Spotify Web API. Using the Spotify Developer Platform, audio features from tracks can be calculated. For example, a song's valence, beats per second (bps), and even danceability. Spotify's Developer API allows coders to read calculated audio features of tracks to learn about its danceability, energy, valence, and more. For more advanced use cases, it is possible to read in-depth analysis data about tracks such as the segments, bars, beats, pitches, and more.\n",
    "\n",
    "\n",
    "<em>**What processes might have influenced what data was observed and recorded and what was not?**</em> <br>\n",
    "<br>\n",
    "There are various processes along each step of our data collection that influenced what data was observed and recorded, and what was not. The first factor is whether or not a Spotify user's playlist was public or not. We only collected data on public playlists. The next is the process we used to differentiate \"quarantine playlists\" from non-quarantine playlists. We decided to filter playlists based off of their title and playlist description. If either of these contained the word \"quarantine,\" then we recorded it. However, this process could have been altered by changing the term to \"Coronavirus\" or \"COVID.\" Due to the pure scope of the number of data points, this would flood our dataset. We decided to narrow down our search to only one term: \"Quarantine.\" We could have also filtered playlists by country if we only wanted to look at quarantine playlists in the United States. Another process that influenced data observation was the search limitations on Spotify. Spotify only lets users receive two thousand results per search with Spotify API. This limited the number of data points we could record and analyze. \n",
    "\n",
    "\n",
    "<em>**What preprocessing was done, and how did the data come to be in the form that you are using?**</em> <br>\n",
    "<br>\n",
    "The preprocessing that Spotify did before we even began data scraping was pairing each playlist and each song with a Uniform Resource Identifier (URI). Every object has its own URI: users, songs, playlists, artists, albums, episodes. The relevant preprocessing for us was that Spotify matches each URI with the playlist name, and within each playlist unit, lists each track, and the relevant data for that track. \n",
    "\n",
    "First, we used Spotify API to collect all public playlists with the term \"quarantine\" in either their title or in their description. The search for \"quarantine\"-containing playlists gave us 289,213 playlists. However, Spotify's API only lets us extract data at a rate limitation of two thousand results per search. This meant we could only access a subset of the entire dataset, thus meaning our data collection was of a sample of data, rather than all data on Spotify's \"quarantine\"-containing playlists. \n",
    "\n",
    "Upon scraping Spotify for a playlist containing \"quarantine,\" we extracted the playlist name, the total number of tracks, and its URI. We put this data in playlists.csv. Then, using the URI of each playlist, we used a Spotipy function called playlist_tracks() to extract the URI's of the individual track in a \"quarantine\" playlist. Then, we created a data frame with the results of playlist_tracks(), called tracks, and created the datafile tracks_list_unfiltered.csv with this data. However, this tracklist is unfiltered because it only had the track URI and the count or the number of different times it appeared in playlists (i.e., how many different \"quarantine\" playlists it was in). We then cut out any songs that appeared less than 4 times (i.e., appeared in less than 4 distinct playlists), reducing the track count from 130,806 to 8,944 songs. \n",
    "\n",
    "Once we had the list of raw track data, we worked to make the data usable, informative, and insightful. We created a function called filter_data(), which used the Spotipy function track() to access the name, popularity, release date, and explicitness of each song. We also used Spotipy's audio_features() function to access then the tracks' audio features, which include variables like \"danceability,\" \"energy,\" \"key,\" and \"loudness.\" Our function filter_data() thus turned each track URI into a slew of exciting values for each of these track variables, giving us valuable information and available metrics for our data analysis. \n",
    "\n",
    "\n",
    "<em>**If people are involved, were they aware of the data collection and if so, what purpose did they expect the data to be used for?**</em> <br>\n",
    "<br>\n",
    "Speaking from personal experience, when users use Spotify to stream music, thoughts, and concerns surrounding their data and its privacy rarely surface. Users see Spotify as purely a music streaming app, a place where they can find relaxation, joy, emotional release. People see Spotify for what it provides -- music. Rarely do they stop to consider how their behavior is tracked or how their data is stashed.\n",
    "\n",
    "Of course, the notion that Spotify is paying attention to you is on the peripheral. Spotify makes it clear that it cares about you, through its curation of \"Discover Weekly\" playlists made just for you, through its live stream of what the people you follow are listening to, through the ways it recommends additional songs for you to listen when you finish the last song in a playlist. Like most popular applications today, Spotify tracks user data to understand what its users enjoy so that it can provide more of it. It is transparent, albeit easy-to-overlook, that Spotify is collecting data on users. \n",
    "\n",
    "However, users are unaware of the data collection process and precisely what data is being collected. If we had never done this project, we would have never learned the metrics Spotify uses to understand my music taste. Now we know that it's based on variables like valence, tempo, popularity, danceability, etc. We would have never known that anyone with a Spotify account can see my public playlists and the tracks in each playlist; or, even eerier, what the last song we listened to was. We knew our followers would view my song streaming, but never stopped to think that since anyone can follow us, anyone can access our streaming history. Users of Spotify are aware of the data collection process -- they have to be, as it is built into Spotify's most enjoyable and exciting features. However, in today's society, users are so accustomed to curated worlds shaped by variations of media being fed to users through an infinite feed of recommendations by machine-learning AI. We have become numb to our data being collected and reflected back to us, and with Spotify, as with many other popular apps, most users do not stop to think about the reasons, the methods, and the people behind its data collection.\n",
    "\n",
    "\n",
    "<em>**Where can your raw source data be found, if applicable? Provide a link to the raw data (hosted in a Cornell Google Drive or Cornell Box).**</em> <br>\n",
    "<br>\n",
    "Technically, our raw data source is the Spotify music streaming application. We used Spotipy to scrape Spotify for playlist and track data. We created a variety of data sets, two of them being the \"raw data,\" and the final one is what we will use for our analysis. The two \"raw data\" sets are track_list_unfiltered.csv and playlists.csv. The finalized dataset is track_list.csv.\n",
    "\n",
    "\n"
   ]
  },
  {
   "cell_type": "markdown",
   "metadata": {},
   "source": [
    "<h2> Housekeeping </h2>\n",
    "<p> For the sake of readability and ease of use, we are going to implement our imports and functions first. This way, the function code does not jumble to data analysis. "
   ]
  },
  {
   "cell_type": "code",
   "execution_count": 50,
   "metadata": {},
   "outputs": [],
   "source": [
    "#import python libraries\n",
    "import numpy as np\n",
    "import pandas as pd\n",
    "from matplotlib import pyplot as plt\n",
    "from sklearn.linear_model import LinearRegression\n",
    "from scipy.stats import spearmanr, t"
   ]
  },
  {
   "cell_type": "code",
   "execution_count": 51,
   "metadata": {},
   "outputs": [],
   "source": [
    "#https://docs.scipy.org/doc/scipy/reference/generated/scipy.stats.t.html\n",
    "def t_test_means(feature, alpha):\n",
    "    n_2019 = len(tracks_2019[feature])\n",
    "    n_quar = len(tracks_quar[feature])\n",
    "    \n",
    "    se_2019 = tracks_2019[feature].std()/np.sqrt(n_2019)\n",
    "    se_quar = tracks_quar[feature].std()/np.sqrt(n_quar)\n",
    "    \n",
    "    sed = np.sqrt(se_2019**2 + se_quar**2)\n",
    "    \n",
    "    t_stat =(np.mean(tracks_2019['tempo'])-np.mean(tracks_quar['tempo']))/sed\n",
    "    \n",
    "    df = n_2019 + n_quar - 2\n",
    "    \n",
    "    alpha = 0.05\n",
    "    cv = t.ppf(1.0-alpha,df)\n",
    "\n",
    "    p = (1-t.cdf(abs(t_stat), df))**2\n",
    "    \n",
    "    print(\"~T-Test Results~\")\n",
    "    print(\"T-Statistic: \" +str(t_stat))\n",
    "    print(\"Degress of Freedom: \" +str(df))\n",
    "    print(\"Critical Value: \" +str(cv))\n",
    "    print(\"p-value: \" +str((format(p, '.8f'))))"
   ]
  },
  {
   "cell_type": "code",
   "execution_count": 52,
   "metadata": {},
   "outputs": [],
   "source": [
    "def concatenate_df():\n",
    "    one_list = []\n",
    "    for x in range(len(tracks_quar)):\n",
    "        one_list.append(1)  \n",
    "\n",
    "    zero_list = []\n",
    "    for x in range(len(tracks_2019)):\n",
    "        zero_list.append(0)\n",
    "    \n",
    "    df_quarantine = tracks_quar.assign(quarantine = one_list)\n",
    "    df_2019 = tracks_2019.assign(quarantine = zero_list)\n",
    "    \n",
    "    new = pd.concat([df_quarantine, df_2019], sort=False)\n",
    "    new[\"explicit\"] = new[\"explicit\"].astype(int)\n",
    "    new = new.drop(columns=['id', 'type', 'track_href', 'analysis_url', 'time_signature', 'uri'])\n",
    "    return new"
   ]
  },
  {
   "cell_type": "code",
   "execution_count": 53,
   "metadata": {},
   "outputs": [],
   "source": [
    "#function to compare the correlation coefficients of linear regressions\n",
    "def corr_compare(x, y):\n",
    "    corrcoef = np.corrcoef(x, y)[0][1]\n",
    "    print('Correlation: {:.4f}'.format(corrcoef))\n",
    "    \n",
    "    rank_corrcoef = np.corrcoef(x.rank(), y.rank())[0][1]\n",
    "    print('Correlation of ranks: {:.4f}'.format(rank_corrcoef))\n",
    "    \n",
    "    spearman_r = spearmanr(x, y)\n",
    "    print('Spearman r: {:.4f}'.format(spearman_r.correlation))"
   ]
  },
  {
   "cell_type": "code",
   "execution_count": 54,
   "metadata": {},
   "outputs": [],
   "source": [
    "#returns a list of the permuted differences for each trial in parameter *trials* for the parameter *feature*\n",
    "def permuted_diff_list(feature, trials):\n",
    "    diff_list = []\n",
    "    for x in range(trials):\n",
    "        \n",
    "        new['quarantine'] = np.random.permutation(new[\"quarantine\"].copy())\n",
    "\n",
    "        list_2019 = [] # when 0 means 2019 songs\n",
    "        list_quar = [] # when 1 means quarantine songs\n",
    "\n",
    "        for i in range(len(new)):\n",
    "            if new['quarantine'].iloc[i] == 0:\n",
    "                list_2019.append(new[feature].iloc[i])\n",
    "            else:\n",
    "                list_quar.append(new[feature].iloc[i])\n",
    "\n",
    "        diff = np.mean(list_2019) - np.mean(list_quar)\n",
    "\n",
    "        diff_list.append(diff)\n",
    "        \n",
    "    return diff_list"
   ]
  },
  {
   "cell_type": "code",
   "execution_count": 78,
   "metadata": {},
   "outputs": [],
   "source": [
    "#https://stackoverflow.com/questions/16180946/drawing-average-line-in-histogram-matplotlib\n",
    "def plot_permuted_diff(feature, data, sample):\n",
    "    \n",
    "    plt.hist(data, bins=50)\n",
    "    plt.title(\"Differences Between Means Found From Permutations: \"+str(feature))\n",
    "    plt.axvline((sample), color='k', linestyle='dashed', linewidth=1)\n",
    "    plt.xlabel('Differences')\n",
    "    plt.ylabel('Count')\n",
    "    plt.show()\n",
    "    \n",
    "    print(\"The dashed line represents the difference in our sample means.\")"
   ]
  },
  {
   "cell_type": "code",
   "execution_count": 56,
   "metadata": {},
   "outputs": [],
   "source": [
    "def actual_diff(feature):\n",
    "    mean_quarantine = np.mean(tracks_quar[feature])\n",
    "    mean_2019 = np.mean(tracks_2019[feature])\n",
    "    diff = mean_2019 - mean_quarantine\n",
    "    return round(diff, 6)"
   ]
  },
  {
   "cell_type": "code",
   "execution_count": 82,
   "metadata": {},
   "outputs": [],
   "source": [
    "def data_pvalue(data, trials, feature):\n",
    "    count = 0\n",
    "    for d in data:\n",
    "        if d > abs(actual_diff(feature)):\n",
    "            count += 1\n",
    "    p_value = format((count/trials), '.8f')\n",
    "\n",
    "    print(\"~Permutation Test~\")\n",
    "    print(\"p_value: \", p_value)"
   ]
  },
  {
   "cell_type": "code",
   "execution_count": 58,
   "metadata": {},
   "outputs": [],
   "source": [
    "#function that creates pie chart for the explicit variable\n",
    "def pie_explicit(dataset, data_name):\n",
    "    count = 0\n",
    "    for i in dataset['explicit']:\n",
    "        if i == 1:\n",
    "            count += 1\n",
    "    percent_explicit = count/len(dataset['explicit'])\n",
    "    \n",
    "    explicit =  (percent_explicit*100)\n",
    "    clean = (1-percent_explicit)*100\n",
    "    \n",
    "    labels = 'Explicit', 'Clean'\n",
    "    fig1, ax1 = plt.subplots()\n",
    "    \n",
    "    ax1.pie([explicit, clean], \n",
    "            explode = (0, 0.1), \n",
    "            autopct='%1.1f%%', \n",
    "            colors = ['#1DB954', 'darkgrey'],\n",
    "            shadow=True, \n",
    "            startangle=90)\n",
    "\n",
    "    ax1.axis('equal')  # Equal aspect ratio ensures that pie is drawn as a circle.\n",
    "    \n",
    "    plt.legend(labels, loc=\"best\")\n",
    "    plt.title(\"What proportion of \" + data_name + \" were explicit?\")\n",
    "    plt.show()\n",
    "    \n",
    "    #explicit_breakdown = {'explicit': explicit, 'clean': clean}\n",
    "    explicit_breakdown = [explicit, clean]\n",
    "    return explicit_breakdown"
   ]
  },
  {
   "cell_type": "code",
   "execution_count": 205,
   "metadata": {},
   "outputs": [],
   "source": [
    "#reusable function for bar chart creation, comparing a variable across two data sets\n",
    "def bar_chart(data_2019, data_quar, title, ticks):\n",
    "    \n",
    "    bars2019 = data_2019 #green\n",
    "    barsquar = data_quar #gray\n",
    "    \n",
    "    barWidth = 0.3\n",
    "    r1 = np.arange(len(bars2019))\n",
    "    r2 = [x + barWidth for x in r1]\n",
    "    \n",
    "    plt.bar(r1, bars2019, color='#1DB954', width=barWidth, edgecolor='white', label='2019')\n",
    "    plt.bar(r2, barsquar, color='darkgrey', width=barWidth, edgecolor='white', label='Quarantine')\n",
    "    \n",
    "    plt.xlabel('Tracks')\n",
    "    plt.ylabel('Percentage of Total')\n",
    "    plt.title(title)\n",
    "    plt.xticks([r + 0.15 for r in range(len(bars2019))], ticks)\n",
    "    \n",
    "    plt.legend()\n",
    "    plt.show()"
   ]
  },
  {
   "cell_type": "code",
   "execution_count": 147,
   "metadata": {},
   "outputs": [],
   "source": [
    "#Counts the number of songs with each key, returns the percentage of total\n",
    "def key_counter(dataset):\n",
    "    count_0 = 0\n",
    "    count_1 = 0\n",
    "    count_2 = 0\n",
    "    count_3 = 0\n",
    "    count_4 = 0\n",
    "    count_5 = 0\n",
    "    count_6 = 0\n",
    "    count_7 = 0\n",
    "    count_8 = 0\n",
    "    count_9 = 0\n",
    "    count_10 = 0\n",
    "    count_11 = 0\n",
    "    for i in dataset['key']:\n",
    "        if i == 0:\n",
    "            count_0 += 1\n",
    "        if i == 1:\n",
    "            count_1 += 1\n",
    "        if i == 2:\n",
    "            count_2 += 1\n",
    "        if i == 3:\n",
    "            count_3 += 1\n",
    "        if i == 4:\n",
    "            count_4 += 1\n",
    "        if i == 5:\n",
    "            count_5 += 1\n",
    "        if i == 6:\n",
    "            count_6 += 1\n",
    "        if i == 7:\n",
    "            count_7 += 1\n",
    "        if i == 8:\n",
    "            count_8 += 1\n",
    "        if i == 9:\n",
    "            count_9 += 1\n",
    "        if i == 10:\n",
    "            count_10 += 1\n",
    "        if i == 11:\n",
    "            count_11 += 1\n",
    "    key_counts = [count_0, count_1, count_2, count_3, count_4, count_5, count_6, count_7, count_8, count_9, count_10, count_11]\n",
    "    key_percentage = []\n",
    "    for count in key_counts:\n",
    "        key_perc = (count/len(dataset['key']))*100\n",
    "        key_percentage.append(key_perc)\n",
    "    return key_percentage"
   ]
  },
  {
   "cell_type": "code",
   "execution_count": 88,
   "metadata": {},
   "outputs": [],
   "source": [
    " def mode_counter(dataset, data_name):\n",
    "    print(data_name)\n",
    "    #Major keys are denoted as 1, Minor keys denoted as 0\n",
    "    #Could combine this function with pie chart function\n",
    "    count_major = 0\n",
    "    count_minor = 0\n",
    "    for i in dataset['mode']:\n",
    "        if i == 1:\n",
    "            count_major += 1\n",
    "        if i == 0:\n",
    "            count_minor += 1\n",
    "    \n",
    "    print(\"count_major: \", count_major)\n",
    "    print(\"count_minor: \", count_minor)\n",
    "    \n",
    "    percent_major = count_major/len(dataset['mode'])\n",
    "    print('percent_major: ','{:.2%}'.format(percent_major))\n",
    "    \n",
    "    mode_breakdown = [count_major/len(dataset['mode']), count_minor/len(dataset['mode'])]\n",
    "    \n",
    "    return mode_breakdown"
   ]
  },
  {
   "cell_type": "code",
   "execution_count": 198,
   "metadata": {},
   "outputs": [],
   "source": [
    "#Creates a pie chart for the keys\n",
    "def key_pie(key_counts, data_name):\n",
    "    \n",
    "    labels = 'C', 'C♯/D♭', 'D', 'D♯/E♭', 'E', 'F', 'F#/G♭', 'G', 'G♯/A♭', 'A', 'A♯/B♭', 'B'\n",
    "    fig1, ax1 = plt.subplots()\n",
    "\n",
    "    ax1.pie(key_counts, \n",
    "            explode= (0, 0, 0, 0, 0, 0, 0, 0, 0, 0, 0, 0), \n",
    "            colors = [\"#FFD699\", \"#FFB266\", \"#FFFF99\", \"#CCFF99\", \"#99FFFF\", \"#9933FF\", \"#009999\", \"#99CCFF\", \"#FF99CC\", \"#FF0077\", \"#FFFF00\", \"#E0E0E0\", \"#999FF\"], \n",
    "            autopct='%1.0f%%',\n",
    "            shadow=True, \n",
    "            startangle=90)\n",
    "    \n",
    "    ax1.axis('equal')  # Equal aspect ratio ensures that pie is drawn as a circle.\n",
    "    plt.legend(labels, loc=\"best\")\n",
    "    plt.title(\"What proportion of \" + data_name + \" were which keys?\")\n",
    "    plt.show()"
   ]
  },
  {
   "cell_type": "code",
   "execution_count": null,
   "metadata": {},
   "outputs": [],
   "source": [
    "def pie(breakdown, feature, data_name, labels, colors):\n",
    "    \n",
    "    fig1, ax1 = plt.subplots()\n",
    "    ax1.pie(breakdown, \n",
    "            explode = (0.1, 0),  \n",
    "            autopct = '%1.1f%%', \n",
    "            colors = colors,\n",
    "            shadow = True, \n",
    "            startangle=90)\n",
    "    \n",
    "    plt.legend(labels, loc=\"best\")\n",
    "    ax1.axis('equal')  # Equal aspect ratio ensures that pie is drawn as a circle.\n",
    "    plt.title(data_name + feature)\n",
    "    plt.show()"
   ]
  },
  {
   "cell_type": "code",
   "execution_count": 204,
   "metadata": {},
   "outputs": [
    {
     "data": {
      "image/png": "[encoded data removed]",
      "text/plain": [
       "<Figure size 432x288 with 1 Axes>"
      ]
     },
     "metadata": {},
     "output_type": "display_data"
    }
   ],
   "source": [
    "labels = ['Major', 'Minor']\n",
    "colors = ['#1DB954', 'darkgrey']\n",
    "breakdown = modality_breakdown_2019\n",
    "feature = 'mode'\n",
    "data_name = '2019'\n",
    "pie(breakdown, feature, data_name, labels, colors)"
   ]
  },
  {
   "cell_type": "code",
   "execution_count": 203,
   "metadata": {},
   "outputs": [],
   "source": [
    "def modality_pie(breakdown, data_name):\n",
    "    \n",
    "    labels = 'Major', 'Minor'\n",
    "    sizes = breakdown\n",
    "    \n",
    "    fig1, ax1 = plt.subplots()\n",
    "    ax1.pie(sizes, \n",
    "            explode = (0.1, 0),  \n",
    "            autopct = '%1.1f%%', \n",
    "            colors = ['#1DB954', 'darkgrey'],\n",
    "            shadow = True, \n",
    "            startangle=90)\n",
    "    \n",
    "    plt.legend(labels, loc=\"best\")\n",
    "    ax1.axis('equal')  # Equal aspect ratio ensures that pie is drawn as a circle.\n",
    "    plt.title(data_name + \": Major or Minor?\")\n",
    "    plt.show()"
   ]
  },
  {
   "cell_type": "code",
   "execution_count": 91,
   "metadata": {},
   "outputs": [],
   "source": [
    "#creates a box plot that compares one feature across quarantine tracks and 2019 tracks\n",
    "def box_plot_comparisons(feature):\n",
    "    \n",
    "    x = tracks_2019[feature]\n",
    "    y = tracks_quar[feature] \n",
    "    \n",
    "    data_to_plot = x, y\n",
    "    fig = plt.figure(1, figsize=(8, 7))\n",
    "    ax = fig.add_subplot(111)\n",
    "    bp = ax.boxplot(data_to_plot)\n",
    "    bp = ax.boxplot(data_to_plot, patch_artist=True)\n",
    "    \n",
    "    for box in bp['boxes']:\n",
    "        box.set( color='black', linewidth=2)\n",
    "        box.set( facecolor = '#1DB954' )\n",
    "    \n",
    "    for whisker in bp['whiskers']:\n",
    "        whisker.set(color='black', linewidth=2)\n",
    "    \n",
    "    for cap in bp['caps']:\n",
    "        cap.set(color='black', linewidth=2)\n",
    "    \n",
    "    for median in bp['medians']:\n",
    "        median.set(color='#b2df8a', linewidth=2)\n",
    "    \n",
    "    for flier in bp['fliers']:\n",
    "        flier.set(marker='o', color='#e7298a', alpha=0.5)\n",
    "    \n",
    "    ax.set_xticklabels(['2019 Tracks', 'Quarantine Songs'])\n",
    "    plt.title(feature + \": Quarantine vs. 2019\")\n",
    "    plt.ylabel(\"Scale\")\n",
    "    plt.show()"
   ]
  },
  {
   "cell_type": "markdown",
   "metadata": {},
   "source": [
    "<h2> Data Analysis </h2>\n",
    "<p> To begin, let's take a look at the two data sets that will be compared for the subsequent analysis. </p>"
   ]
  },
  {
   "cell_type": "code",
   "execution_count": 209,
   "metadata": {},
   "outputs": [
    {
     "data": {
      "text/html": [
       "<div>\n",
       "<style scoped>\n",
       "    .dataframe tbody tr th:only-of-type {\n",
       "        vertical-align: middle;\n",
       "    }\n",
       "\n",
       "    .dataframe tbody tr th {\n",
       "        vertical-align: top;\n",
       "    }\n",
       "\n",
       "    .dataframe thead th {\n",
       "        text-align: right;\n",
       "    }\n",
       "</style>\n",
       "<table border=\"1\" class=\"dataframe\">\n",
       "  <thead>\n",
       "    <tr style=\"text-align: right;\">\n",
       "      <th></th>\n",
       "      <th>Unnamed: 0</th>\n",
       "      <th>uri</th>\n",
       "      <th>count</th>\n",
       "      <th>name</th>\n",
       "      <th>release_date</th>\n",
       "      <th>popularity</th>\n",
       "      <th>explicit</th>\n",
       "      <th>danceability</th>\n",
       "      <th>energy</th>\n",
       "      <th>key</th>\n",
       "      <th>...</th>\n",
       "      <th>instrumentalness</th>\n",
       "      <th>liveness</th>\n",
       "      <th>valence</th>\n",
       "      <th>tempo</th>\n",
       "      <th>type</th>\n",
       "      <th>id</th>\n",
       "      <th>track_href</th>\n",
       "      <th>analysis_url</th>\n",
       "      <th>duration_ms</th>\n",
       "      <th>time_signature</th>\n",
       "    </tr>\n",
       "  </thead>\n",
       "  <tbody>\n",
       "    <tr>\n",
       "      <td>119</td>\n",
       "      <td>221</td>\n",
       "      <td>spotify:track:127QTOFJsJQp5LbJbu3A1y</td>\n",
       "      <td>176</td>\n",
       "      <td>Toosie Slide</td>\n",
       "      <td>2020-04-03</td>\n",
       "      <td>99</td>\n",
       "      <td>True</td>\n",
       "      <td>0.834</td>\n",
       "      <td>0.454</td>\n",
       "      <td>1</td>\n",
       "      <td>...</td>\n",
       "      <td>0.000006</td>\n",
       "      <td>0.1140</td>\n",
       "      <td>0.837</td>\n",
       "      <td>81.618</td>\n",
       "      <td>audio_features</td>\n",
       "      <td>127QTOFJsJQp5LbJbu3A1y</td>\n",
       "      <td>https://api.spotify.com/v1/tracks/127QTOFJsJQp...</td>\n",
       "      <td>https://api.spotify.com/v1/audio-analysis/127Q...</td>\n",
       "      <td>247059</td>\n",
       "      <td>4</td>\n",
       "    </tr>\n",
       "    <tr>\n",
       "      <td>146</td>\n",
       "      <td>259</td>\n",
       "      <td>spotify:track:1Cv1YLb4q0RzL6pybtaMLo</td>\n",
       "      <td>172</td>\n",
       "      <td>Sunday Best</td>\n",
       "      <td>2019-01-06</td>\n",
       "      <td>96</td>\n",
       "      <td>False</td>\n",
       "      <td>0.878</td>\n",
       "      <td>0.525</td>\n",
       "      <td>5</td>\n",
       "      <td>...</td>\n",
       "      <td>0.000000</td>\n",
       "      <td>0.0714</td>\n",
       "      <td>0.694</td>\n",
       "      <td>112.022</td>\n",
       "      <td>audio_features</td>\n",
       "      <td>1Cv1YLb4q0RzL6pybtaMLo</td>\n",
       "      <td>https://api.spotify.com/v1/tracks/1Cv1YLb4q0Rz...</td>\n",
       "      <td>https://api.spotify.com/v1/audio-analysis/1Cv1...</td>\n",
       "      <td>158571</td>\n",
       "      <td>4</td>\n",
       "    </tr>\n",
       "    <tr>\n",
       "      <td>1002</td>\n",
       "      <td>2564</td>\n",
       "      <td>spotify:track:7eJMfftS33KTjuF7lTsMCx</td>\n",
       "      <td>155</td>\n",
       "      <td>death bed (coffee for your head) (feat. beabad...</td>\n",
       "      <td>2020-02-08</td>\n",
       "      <td>99</td>\n",
       "      <td>False</td>\n",
       "      <td>0.726</td>\n",
       "      <td>0.431</td>\n",
       "      <td>8</td>\n",
       "      <td>...</td>\n",
       "      <td>0.000000</td>\n",
       "      <td>0.6960</td>\n",
       "      <td>0.348</td>\n",
       "      <td>144.026</td>\n",
       "      <td>audio_features</td>\n",
       "      <td>7eJMfftS33KTjuF7lTsMCx</td>\n",
       "      <td>https://api.spotify.com/v1/tracks/7eJMfftS33KT...</td>\n",
       "      <td>https://api.spotify.com/v1/audio-analysis/7eJM...</td>\n",
       "      <td>173333</td>\n",
       "      <td>4</td>\n",
       "    </tr>\n",
       "    <tr>\n",
       "      <td>116</td>\n",
       "      <td>218</td>\n",
       "      <td>spotify:track:6WrI0LAC5M1Rw2MnX2ZvEg</td>\n",
       "      <td>151</td>\n",
       "      <td>Don't Start Now</td>\n",
       "      <td>2019-10-31</td>\n",
       "      <td>97</td>\n",
       "      <td>False</td>\n",
       "      <td>0.794</td>\n",
       "      <td>0.793</td>\n",
       "      <td>11</td>\n",
       "      <td>...</td>\n",
       "      <td>0.000000</td>\n",
       "      <td>0.0952</td>\n",
       "      <td>0.677</td>\n",
       "      <td>123.941</td>\n",
       "      <td>audio_features</td>\n",
       "      <td>6WrI0LAC5M1Rw2MnX2ZvEg</td>\n",
       "      <td>https://api.spotify.com/v1/tracks/6WrI0LAC5M1R...</td>\n",
       "      <td>https://api.spotify.com/v1/audio-analysis/6WrI...</td>\n",
       "      <td>183290</td>\n",
       "      <td>4</td>\n",
       "    </tr>\n",
       "    <tr>\n",
       "      <td>1006</td>\n",
       "      <td>2569</td>\n",
       "      <td>spotify:track:0nbXyq5TXYPCO7pr3N8S4I</td>\n",
       "      <td>147</td>\n",
       "      <td>The Box</td>\n",
       "      <td>2019-12-06</td>\n",
       "      <td>99</td>\n",
       "      <td>True</td>\n",
       "      <td>0.896</td>\n",
       "      <td>0.586</td>\n",
       "      <td>10</td>\n",
       "      <td>...</td>\n",
       "      <td>0.000000</td>\n",
       "      <td>0.7900</td>\n",
       "      <td>0.642</td>\n",
       "      <td>116.971</td>\n",
       "      <td>audio_features</td>\n",
       "      <td>0nbXyq5TXYPCO7pr3N8S4I</td>\n",
       "      <td>https://api.spotify.com/v1/tracks/0nbXyq5TXYPC...</td>\n",
       "      <td>https://api.spotify.com/v1/audio-analysis/0nbX...</td>\n",
       "      <td>196653</td>\n",
       "      <td>4</td>\n",
       "    </tr>\n",
       "    <tr>\n",
       "      <td>1753</td>\n",
       "      <td>6284</td>\n",
       "      <td>spotify:track:0VjIjW4GlUZAMYd2vXMi3b</td>\n",
       "      <td>139</td>\n",
       "      <td>Blinding Lights</td>\n",
       "      <td>2020-03-20</td>\n",
       "      <td>100</td>\n",
       "      <td>False</td>\n",
       "      <td>0.514</td>\n",
       "      <td>0.730</td>\n",
       "      <td>1</td>\n",
       "      <td>...</td>\n",
       "      <td>0.000095</td>\n",
       "      <td>0.0897</td>\n",
       "      <td>0.334</td>\n",
       "      <td>171.005</td>\n",
       "      <td>audio_features</td>\n",
       "      <td>0VjIjW4GlUZAMYd2vXMi3b</td>\n",
       "      <td>https://api.spotify.com/v1/tracks/0VjIjW4GlUZA...</td>\n",
       "      <td>https://api.spotify.com/v1/audio-analysis/0VjI...</td>\n",
       "      <td>200040</td>\n",
       "      <td>4</td>\n",
       "    </tr>\n",
       "    <tr>\n",
       "      <td>118</td>\n",
       "      <td>220</td>\n",
       "      <td>spotify:track:0sf12qNH5qcw8qpgymFOqD</td>\n",
       "      <td>136</td>\n",
       "      <td>Blinding Lights</td>\n",
       "      <td>2019-11-29</td>\n",
       "      <td>93</td>\n",
       "      <td>False</td>\n",
       "      <td>0.513</td>\n",
       "      <td>0.796</td>\n",
       "      <td>1</td>\n",
       "      <td>...</td>\n",
       "      <td>0.000209</td>\n",
       "      <td>0.0938</td>\n",
       "      <td>0.345</td>\n",
       "      <td>171.017</td>\n",
       "      <td>audio_features</td>\n",
       "      <td>0sf12qNH5qcw8qpgymFOqD</td>\n",
       "      <td>https://api.spotify.com/v1/tracks/0sf12qNH5qcw...</td>\n",
       "      <td>https://api.spotify.com/v1/audio-analysis/0sf1...</td>\n",
       "      <td>201573</td>\n",
       "      <td>4</td>\n",
       "    </tr>\n",
       "    <tr>\n",
       "      <td>144</td>\n",
       "      <td>257</td>\n",
       "      <td>spotify:track:3Dv1eDb0MEgF93GpLXlucZ</td>\n",
       "      <td>133</td>\n",
       "      <td>Say So</td>\n",
       "      <td>2019-11-07</td>\n",
       "      <td>97</td>\n",
       "      <td>True</td>\n",
       "      <td>0.787</td>\n",
       "      <td>0.673</td>\n",
       "      <td>11</td>\n",
       "      <td>...</td>\n",
       "      <td>0.000004</td>\n",
       "      <td>0.0904</td>\n",
       "      <td>0.786</td>\n",
       "      <td>110.962</td>\n",
       "      <td>audio_features</td>\n",
       "      <td>3Dv1eDb0MEgF93GpLXlucZ</td>\n",
       "      <td>https://api.spotify.com/v1/tracks/3Dv1eDb0MEgF...</td>\n",
       "      <td>https://api.spotify.com/v1/audio-analysis/3Dv1...</td>\n",
       "      <td>237893</td>\n",
       "      <td>4</td>\n",
       "    </tr>\n",
       "    <tr>\n",
       "      <td>846</td>\n",
       "      <td>1723</td>\n",
       "      <td>spotify:track:6K4t31amVTZDgR3sKmwUJJ</td>\n",
       "      <td>132</td>\n",
       "      <td>The Less I Know The Better</td>\n",
       "      <td>2015-07-17</td>\n",
       "      <td>86</td>\n",
       "      <td>True</td>\n",
       "      <td>0.640</td>\n",
       "      <td>0.740</td>\n",
       "      <td>4</td>\n",
       "      <td>...</td>\n",
       "      <td>0.006780</td>\n",
       "      <td>0.1670</td>\n",
       "      <td>0.785</td>\n",
       "      <td>116.879</td>\n",
       "      <td>audio_features</td>\n",
       "      <td>6K4t31amVTZDgR3sKmwUJJ</td>\n",
       "      <td>https://api.spotify.com/v1/tracks/6K4t31amVTZD...</td>\n",
       "      <td>https://api.spotify.com/v1/audio-analysis/6K4t...</td>\n",
       "      <td>216320</td>\n",
       "      <td>4</td>\n",
       "    </tr>\n",
       "    <tr>\n",
       "      <td>433</td>\n",
       "      <td>809</td>\n",
       "      <td>spotify:track:4nK5YrxbMGZstTLbvj6Gxw</td>\n",
       "      <td>130</td>\n",
       "      <td>Supalonely</td>\n",
       "      <td>2019-11-15</td>\n",
       "      <td>95</td>\n",
       "      <td>True</td>\n",
       "      <td>0.863</td>\n",
       "      <td>0.631</td>\n",
       "      <td>7</td>\n",
       "      <td>...</td>\n",
       "      <td>0.000030</td>\n",
       "      <td>0.1230</td>\n",
       "      <td>0.817</td>\n",
       "      <td>128.977</td>\n",
       "      <td>audio_features</td>\n",
       "      <td>4nK5YrxbMGZstTLbvj6Gxw</td>\n",
       "      <td>https://api.spotify.com/v1/tracks/4nK5YrxbMGZs...</td>\n",
       "      <td>https://api.spotify.com/v1/audio-analysis/4nK5...</td>\n",
       "      <td>223480</td>\n",
       "      <td>4</td>\n",
       "    </tr>\n",
       "    <tr>\n",
       "      <td>0</td>\n",
       "      <td>0</td>\n",
       "      <td>spotify:track:6I9VzXrHxO9rA9A5euc8Ak</td>\n",
       "      <td>120</td>\n",
       "      <td>Toxic</td>\n",
       "      <td>2003-11-13</td>\n",
       "      <td>80</td>\n",
       "      <td>False</td>\n",
       "      <td>0.774</td>\n",
       "      <td>0.838</td>\n",
       "      <td>5</td>\n",
       "      <td>...</td>\n",
       "      <td>0.025000</td>\n",
       "      <td>0.2420</td>\n",
       "      <td>0.924</td>\n",
       "      <td>143.040</td>\n",
       "      <td>audio_features</td>\n",
       "      <td>6I9VzXrHxO9rA9A5euc8Ak</td>\n",
       "      <td>https://api.spotify.com/v1/tracks/6I9VzXrHxO9r...</td>\n",
       "      <td>https://api.spotify.com/v1/audio-analysis/6I9V...</td>\n",
       "      <td>198800</td>\n",
       "      <td>4</td>\n",
       "    </tr>\n",
       "    <tr>\n",
       "      <td>470</td>\n",
       "      <td>872</td>\n",
       "      <td>spotify:track:24Yi9hE78yPEbZ4kxyoXAI</td>\n",
       "      <td>116</td>\n",
       "      <td>Roses - Imanbek Remix</td>\n",
       "      <td>2019-10-09</td>\n",
       "      <td>98</td>\n",
       "      <td>True</td>\n",
       "      <td>0.770</td>\n",
       "      <td>0.724</td>\n",
       "      <td>8</td>\n",
       "      <td>...</td>\n",
       "      <td>0.010700</td>\n",
       "      <td>0.3530</td>\n",
       "      <td>0.898</td>\n",
       "      <td>121.975</td>\n",
       "      <td>audio_features</td>\n",
       "      <td>24Yi9hE78yPEbZ4kxyoXAI</td>\n",
       "      <td>https://api.spotify.com/v1/tracks/24Yi9hE78yPE...</td>\n",
       "      <td>https://api.spotify.com/v1/audio-analysis/24Yi...</td>\n",
       "      <td>176840</td>\n",
       "      <td>4</td>\n",
       "    </tr>\n",
       "    <tr>\n",
       "      <td>2172</td>\n",
       "      <td>7930</td>\n",
       "      <td>spotify:track:6wJYhPfqk3KGhHRG76WzOh</td>\n",
       "      <td>115</td>\n",
       "      <td>Blueberry Faygo</td>\n",
       "      <td>2020-02-07</td>\n",
       "      <td>95</td>\n",
       "      <td>True</td>\n",
       "      <td>0.774</td>\n",
       "      <td>0.554</td>\n",
       "      <td>0</td>\n",
       "      <td>...</td>\n",
       "      <td>0.000000</td>\n",
       "      <td>0.1320</td>\n",
       "      <td>0.349</td>\n",
       "      <td>99.034</td>\n",
       "      <td>audio_features</td>\n",
       "      <td>6wJYhPfqk3KGhHRG76WzOh</td>\n",
       "      <td>https://api.spotify.com/v1/tracks/6wJYhPfqk3KG...</td>\n",
       "      <td>https://api.spotify.com/v1/audio-analysis/6wJY...</td>\n",
       "      <td>162547</td>\n",
       "      <td>4</td>\n",
       "    </tr>\n",
       "    <tr>\n",
       "      <td>2</td>\n",
       "      <td>3</td>\n",
       "      <td>spotify:track:2xLMifQCjDGFmkHkpNLD9h</td>\n",
       "      <td>111</td>\n",
       "      <td>SICKO MODE</td>\n",
       "      <td>2018-08-03</td>\n",
       "      <td>92</td>\n",
       "      <td>True</td>\n",
       "      <td>0.834</td>\n",
       "      <td>0.730</td>\n",
       "      <td>8</td>\n",
       "      <td>...</td>\n",
       "      <td>0.000000</td>\n",
       "      <td>0.1240</td>\n",
       "      <td>0.446</td>\n",
       "      <td>155.008</td>\n",
       "      <td>audio_features</td>\n",
       "      <td>2xLMifQCjDGFmkHkpNLD9h</td>\n",
       "      <td>https://api.spotify.com/v1/tracks/2xLMifQCjDGF...</td>\n",
       "      <td>https://api.spotify.com/v1/audio-analysis/2xLM...</td>\n",
       "      <td>312820</td>\n",
       "      <td>4</td>\n",
       "    </tr>\n",
       "    <tr>\n",
       "      <td>1008</td>\n",
       "      <td>2571</td>\n",
       "      <td>spotify:track:5yY9lUy8nbvjM1Uyo1Uqoc</td>\n",
       "      <td>110</td>\n",
       "      <td>Life Is Good (feat. Drake)</td>\n",
       "      <td>2020-01-10</td>\n",
       "      <td>94</td>\n",
       "      <td>True</td>\n",
       "      <td>0.676</td>\n",
       "      <td>0.609</td>\n",
       "      <td>2</td>\n",
       "      <td>...</td>\n",
       "      <td>0.000000</td>\n",
       "      <td>0.1520</td>\n",
       "      <td>0.508</td>\n",
       "      <td>142.037</td>\n",
       "      <td>audio_features</td>\n",
       "      <td>5yY9lUy8nbvjM1Uyo1Uqoc</td>\n",
       "      <td>https://api.spotify.com/v1/tracks/5yY9lUy8nbvj...</td>\n",
       "      <td>https://api.spotify.com/v1/audio-analysis/5yY9...</td>\n",
       "      <td>237735</td>\n",
       "      <td>4</td>\n",
       "    </tr>\n",
       "    <tr>\n",
       "      <td>3166</td>\n",
       "      <td>11308</td>\n",
       "      <td>spotify:track:0GO8y8jQk1PkHzS31d699N</td>\n",
       "      <td>106</td>\n",
       "      <td>Tongue Tied</td>\n",
       "      <td>2011-09-02</td>\n",
       "      <td>81</td>\n",
       "      <td>False</td>\n",
       "      <td>0.560</td>\n",
       "      <td>0.936</td>\n",
       "      <td>3</td>\n",
       "      <td>...</td>\n",
       "      <td>0.000000</td>\n",
       "      <td>0.1610</td>\n",
       "      <td>0.371</td>\n",
       "      <td>112.960</td>\n",
       "      <td>audio_features</td>\n",
       "      <td>0GO8y8jQk1PkHzS31d699N</td>\n",
       "      <td>https://api.spotify.com/v1/tracks/0GO8y8jQk1Pk...</td>\n",
       "      <td>https://api.spotify.com/v1/audio-analysis/0GO8...</td>\n",
       "      <td>218013</td>\n",
       "      <td>4</td>\n",
       "    </tr>\n",
       "    <tr>\n",
       "      <td>296</td>\n",
       "      <td>550</td>\n",
       "      <td>spotify:track:7aiClxsDWFRQ0Kzk5KI5ku</td>\n",
       "      <td>105</td>\n",
       "      <td>hot girl bummer</td>\n",
       "      <td>2019-08-23</td>\n",
       "      <td>90</td>\n",
       "      <td>True</td>\n",
       "      <td>0.778</td>\n",
       "      <td>0.559</td>\n",
       "      <td>6</td>\n",
       "      <td>...</td>\n",
       "      <td>0.000000</td>\n",
       "      <td>0.3990</td>\n",
       "      <td>0.678</td>\n",
       "      <td>129.989</td>\n",
       "      <td>audio_features</td>\n",
       "      <td>7aiClxsDWFRQ0Kzk5KI5ku</td>\n",
       "      <td>https://api.spotify.com/v1/tracks/7aiClxsDWFRQ...</td>\n",
       "      <td>https://api.spotify.com/v1/audio-analysis/7aiC...</td>\n",
       "      <td>185093</td>\n",
       "      <td>1</td>\n",
       "    </tr>\n",
       "    <tr>\n",
       "      <td>569</td>\n",
       "      <td>1061</td>\n",
       "      <td>spotify:track:55CHeLEfn5iJ0IIkgaa4si</td>\n",
       "      <td>101</td>\n",
       "      <td>Savage</td>\n",
       "      <td>2020-03-06</td>\n",
       "      <td>94</td>\n",
       "      <td>True</td>\n",
       "      <td>0.843</td>\n",
       "      <td>0.741</td>\n",
       "      <td>11</td>\n",
       "      <td>...</td>\n",
       "      <td>0.000000</td>\n",
       "      <td>0.0960</td>\n",
       "      <td>0.680</td>\n",
       "      <td>168.983</td>\n",
       "      <td>audio_features</td>\n",
       "      <td>55CHeLEfn5iJ0IIkgaa4si</td>\n",
       "      <td>https://api.spotify.com/v1/tracks/55CHeLEfn5iJ...</td>\n",
       "      <td>https://api.spotify.com/v1/audio-analysis/55CH...</td>\n",
       "      <td>155497</td>\n",
       "      <td>4</td>\n",
       "    </tr>\n",
       "    <tr>\n",
       "      <td>39</td>\n",
       "      <td>63</td>\n",
       "      <td>spotify:track:1B75hgRqe7A4fwee3g3Wmu</td>\n",
       "      <td>96</td>\n",
       "      <td>U Can't Touch This</td>\n",
       "      <td>1990-02-20</td>\n",
       "      <td>74</td>\n",
       "      <td>False</td>\n",
       "      <td>0.867</td>\n",
       "      <td>0.517</td>\n",
       "      <td>11</td>\n",
       "      <td>...</td>\n",
       "      <td>0.000339</td>\n",
       "      <td>0.0864</td>\n",
       "      <td>0.866</td>\n",
       "      <td>133.148</td>\n",
       "      <td>audio_features</td>\n",
       "      <td>1B75hgRqe7A4fwee3g3Wmu</td>\n",
       "      <td>https://api.spotify.com/v1/tracks/1B75hgRqe7A4...</td>\n",
       "      <td>https://api.spotify.com/v1/audio-analysis/1B75...</td>\n",
       "      <td>257360</td>\n",
       "      <td>4</td>\n",
       "    </tr>\n",
       "    <tr>\n",
       "      <td>1199</td>\n",
       "      <td>3234</td>\n",
       "      <td>spotify:track:5hVghJ4KaYES3BFUATCYn0</td>\n",
       "      <td>95</td>\n",
       "      <td>EARFQUAKE</td>\n",
       "      <td>2019-05-17</td>\n",
       "      <td>84</td>\n",
       "      <td>True</td>\n",
       "      <td>0.554</td>\n",
       "      <td>0.498</td>\n",
       "      <td>9</td>\n",
       "      <td>...</td>\n",
       "      <td>0.000006</td>\n",
       "      <td>0.7950</td>\n",
       "      <td>0.413</td>\n",
       "      <td>79.635</td>\n",
       "      <td>audio_features</td>\n",
       "      <td>5hVghJ4KaYES3BFUATCYn0</td>\n",
       "      <td>https://api.spotify.com/v1/tracks/5hVghJ4KaYES...</td>\n",
       "      <td>https://api.spotify.com/v1/audio-analysis/5hVg...</td>\n",
       "      <td>190067</td>\n",
       "      <td>4</td>\n",
       "    </tr>\n",
       "  </tbody>\n",
       "</table>\n",
       "<p>20 rows × 24 columns</p>\n",
       "</div>"
      ],
      "text/plain": [
       "      Unnamed: 0                                   uri  count  \\\n",
       "119          221  spotify:track:127QTOFJsJQp5LbJbu3A1y    176   \n",
       "146          259  spotify:track:1Cv1YLb4q0RzL6pybtaMLo    172   \n",
       "1002        2564  spotify:track:7eJMfftS33KTjuF7lTsMCx    155   \n",
       "116          218  spotify:track:6WrI0LAC5M1Rw2MnX2ZvEg    151   \n",
       "1006        2569  spotify:track:0nbXyq5TXYPCO7pr3N8S4I    147   \n",
       "1753        6284  spotify:track:0VjIjW4GlUZAMYd2vXMi3b    139   \n",
       "118          220  spotify:track:0sf12qNH5qcw8qpgymFOqD    136   \n",
       "144          257  spotify:track:3Dv1eDb0MEgF93GpLXlucZ    133   \n",
       "846         1723  spotify:track:6K4t31amVTZDgR3sKmwUJJ    132   \n",
       "433          809  spotify:track:4nK5YrxbMGZstTLbvj6Gxw    130   \n",
       "0              0  spotify:track:6I9VzXrHxO9rA9A5euc8Ak    120   \n",
       "470          872  spotify:track:24Yi9hE78yPEbZ4kxyoXAI    116   \n",
       "2172        7930  spotify:track:6wJYhPfqk3KGhHRG76WzOh    115   \n",
       "2              3  spotify:track:2xLMifQCjDGFmkHkpNLD9h    111   \n",
       "1008        2571  spotify:track:5yY9lUy8nbvjM1Uyo1Uqoc    110   \n",
       "3166       11308  spotify:track:0GO8y8jQk1PkHzS31d699N    106   \n",
       "296          550  spotify:track:7aiClxsDWFRQ0Kzk5KI5ku    105   \n",
       "569         1061  spotify:track:55CHeLEfn5iJ0IIkgaa4si    101   \n",
       "39            63  spotify:track:1B75hgRqe7A4fwee3g3Wmu     96   \n",
       "1199        3234  spotify:track:5hVghJ4KaYES3BFUATCYn0     95   \n",
       "\n",
       "                                                   name release_date  \\\n",
       "119                                        Toosie Slide   2020-04-03   \n",
       "146                                         Sunday Best   2019-01-06   \n",
       "1002  death bed (coffee for your head) (feat. beabad...   2020-02-08   \n",
       "116                                     Don't Start Now   2019-10-31   \n",
       "1006                                            The Box   2019-12-06   \n",
       "1753                                    Blinding Lights   2020-03-20   \n",
       "118                                     Blinding Lights   2019-11-29   \n",
       "144                                              Say So   2019-11-07   \n",
       "846                          The Less I Know The Better   2015-07-17   \n",
       "433                                          Supalonely   2019-11-15   \n",
       "0                                                 Toxic   2003-11-13   \n",
       "470                               Roses - Imanbek Remix   2019-10-09   \n",
       "2172                                    Blueberry Faygo   2020-02-07   \n",
       "2                                            SICKO MODE   2018-08-03   \n",
       "1008                         Life Is Good (feat. Drake)   2020-01-10   \n",
       "3166                                        Tongue Tied   2011-09-02   \n",
       "296                                     hot girl bummer   2019-08-23   \n",
       "569                                              Savage   2020-03-06   \n",
       "39                                   U Can't Touch This   1990-02-20   \n",
       "1199                                          EARFQUAKE   2019-05-17   \n",
       "\n",
       "      popularity  explicit  danceability  energy  key  ...  instrumentalness  \\\n",
       "119           99      True         0.834   0.454    1  ...          0.000006   \n",
       "146           96     False         0.878   0.525    5  ...          0.000000   \n",
       "1002          99     False         0.726   0.431    8  ...          0.000000   \n",
       "116           97     False         0.794   0.793   11  ...          0.000000   \n",
       "1006          99      True         0.896   0.586   10  ...          0.000000   \n",
       "1753         100     False         0.514   0.730    1  ...          0.000095   \n",
       "118           93     False         0.513   0.796    1  ...          0.000209   \n",
       "144           97      True         0.787   0.673   11  ...          0.000004   \n",
       "846           86      True         0.640   0.740    4  ...          0.006780   \n",
       "433           95      True         0.863   0.631    7  ...          0.000030   \n",
       "0             80     False         0.774   0.838    5  ...          0.025000   \n",
       "470           98      True         0.770   0.724    8  ...          0.010700   \n",
       "2172          95      True         0.774   0.554    0  ...          0.000000   \n",
       "2             92      True         0.834   0.730    8  ...          0.000000   \n",
       "1008          94      True         0.676   0.609    2  ...          0.000000   \n",
       "3166          81     False         0.560   0.936    3  ...          0.000000   \n",
       "296           90      True         0.778   0.559    6  ...          0.000000   \n",
       "569           94      True         0.843   0.741   11  ...          0.000000   \n",
       "39            74     False         0.867   0.517   11  ...          0.000339   \n",
       "1199          84      True         0.554   0.498    9  ...          0.000006   \n",
       "\n",
       "      liveness  valence    tempo            type                      id  \\\n",
       "119     0.1140    0.837   81.618  audio_features  127QTOFJsJQp5LbJbu3A1y   \n",
       "146     0.0714    0.694  112.022  audio_features  1Cv1YLb4q0RzL6pybtaMLo   \n",
       "1002    0.6960    0.348  144.026  audio_features  7eJMfftS33KTjuF7lTsMCx   \n",
       "116     0.0952    0.677  123.941  audio_features  6WrI0LAC5M1Rw2MnX2ZvEg   \n",
       "1006    0.7900    0.642  116.971  audio_features  0nbXyq5TXYPCO7pr3N8S4I   \n",
       "1753    0.0897    0.334  171.005  audio_features  0VjIjW4GlUZAMYd2vXMi3b   \n",
       "118     0.0938    0.345  171.017  audio_features  0sf12qNH5qcw8qpgymFOqD   \n",
       "144     0.0904    0.786  110.962  audio_features  3Dv1eDb0MEgF93GpLXlucZ   \n",
       "846     0.1670    0.785  116.879  audio_features  6K4t31amVTZDgR3sKmwUJJ   \n",
       "433     0.1230    0.817  128.977  audio_features  4nK5YrxbMGZstTLbvj6Gxw   \n",
       "0       0.2420    0.924  143.040  audio_features  6I9VzXrHxO9rA9A5euc8Ak   \n",
       "470     0.3530    0.898  121.975  audio_features  24Yi9hE78yPEbZ4kxyoXAI   \n",
       "2172    0.1320    0.349   99.034  audio_features  6wJYhPfqk3KGhHRG76WzOh   \n",
       "2       0.1240    0.446  155.008  audio_features  2xLMifQCjDGFmkHkpNLD9h   \n",
       "1008    0.1520    0.508  142.037  audio_features  5yY9lUy8nbvjM1Uyo1Uqoc   \n",
       "3166    0.1610    0.371  112.960  audio_features  0GO8y8jQk1PkHzS31d699N   \n",
       "296     0.3990    0.678  129.989  audio_features  7aiClxsDWFRQ0Kzk5KI5ku   \n",
       "569     0.0960    0.680  168.983  audio_features  55CHeLEfn5iJ0IIkgaa4si   \n",
       "39      0.0864    0.866  133.148  audio_features  1B75hgRqe7A4fwee3g3Wmu   \n",
       "1199    0.7950    0.413   79.635  audio_features  5hVghJ4KaYES3BFUATCYn0   \n",
       "\n",
       "                                             track_href  \\\n",
       "119   https://api.spotify.com/v1/tracks/127QTOFJsJQp...   \n",
       "146   https://api.spotify.com/v1/tracks/1Cv1YLb4q0Rz...   \n",
       "1002  https://api.spotify.com/v1/tracks/7eJMfftS33KT...   \n",
       "116   https://api.spotify.com/v1/tracks/6WrI0LAC5M1R...   \n",
       "1006  https://api.spotify.com/v1/tracks/0nbXyq5TXYPC...   \n",
       "1753  https://api.spotify.com/v1/tracks/0VjIjW4GlUZA...   \n",
       "118   https://api.spotify.com/v1/tracks/0sf12qNH5qcw...   \n",
       "144   https://api.spotify.com/v1/tracks/3Dv1eDb0MEgF...   \n",
       "846   https://api.spotify.com/v1/tracks/6K4t31amVTZD...   \n",
       "433   https://api.spotify.com/v1/tracks/4nK5YrxbMGZs...   \n",
       "0     https://api.spotify.com/v1/tracks/6I9VzXrHxO9r...   \n",
       "470   https://api.spotify.com/v1/tracks/24Yi9hE78yPE...   \n",
       "2172  https://api.spotify.com/v1/tracks/6wJYhPfqk3KG...   \n",
       "2     https://api.spotify.com/v1/tracks/2xLMifQCjDGF...   \n",
       "1008  https://api.spotify.com/v1/tracks/5yY9lUy8nbvj...   \n",
       "3166  https://api.spotify.com/v1/tracks/0GO8y8jQk1Pk...   \n",
       "296   https://api.spotify.com/v1/tracks/7aiClxsDWFRQ...   \n",
       "569   https://api.spotify.com/v1/tracks/55CHeLEfn5iJ...   \n",
       "39    https://api.spotify.com/v1/tracks/1B75hgRqe7A4...   \n",
       "1199  https://api.spotify.com/v1/tracks/5hVghJ4KaYES...   \n",
       "\n",
       "                                           analysis_url duration_ms  \\\n",
       "119   https://api.spotify.com/v1/audio-analysis/127Q...      247059   \n",
       "146   https://api.spotify.com/v1/audio-analysis/1Cv1...      158571   \n",
       "1002  https://api.spotify.com/v1/audio-analysis/7eJM...      173333   \n",
       "116   https://api.spotify.com/v1/audio-analysis/6WrI...      183290   \n",
       "1006  https://api.spotify.com/v1/audio-analysis/0nbX...      196653   \n",
       "1753  https://api.spotify.com/v1/audio-analysis/0VjI...      200040   \n",
       "118   https://api.spotify.com/v1/audio-analysis/0sf1...      201573   \n",
       "144   https://api.spotify.com/v1/audio-analysis/3Dv1...      237893   \n",
       "846   https://api.spotify.com/v1/audio-analysis/6K4t...      216320   \n",
       "433   https://api.spotify.com/v1/audio-analysis/4nK5...      223480   \n",
       "0     https://api.spotify.com/v1/audio-analysis/6I9V...      198800   \n",
       "470   https://api.spotify.com/v1/audio-analysis/24Yi...      176840   \n",
       "2172  https://api.spotify.com/v1/audio-analysis/6wJY...      162547   \n",
       "2     https://api.spotify.com/v1/audio-analysis/2xLM...      312820   \n",
       "1008  https://api.spotify.com/v1/audio-analysis/5yY9...      237735   \n",
       "3166  https://api.spotify.com/v1/audio-analysis/0GO8...      218013   \n",
       "296   https://api.spotify.com/v1/audio-analysis/7aiC...      185093   \n",
       "569   https://api.spotify.com/v1/audio-analysis/55CH...      155497   \n",
       "39    https://api.spotify.com/v1/audio-analysis/1B75...      257360   \n",
       "1199  https://api.spotify.com/v1/audio-analysis/5hVg...      190067   \n",
       "\n",
       "     time_signature  \n",
       "119               4  \n",
       "146               4  \n",
       "1002              4  \n",
       "116               4  \n",
       "1006              4  \n",
       "1753              4  \n",
       "118               4  \n",
       "144               4  \n",
       "846               4  \n",
       "433               4  \n",
       "0                 4  \n",
       "470               4  \n",
       "2172              4  \n",
       "2                 4  \n",
       "1008              4  \n",
       "3166              4  \n",
       "296               1  \n",
       "569               4  \n",
       "39                4  \n",
       "1199              4  \n",
       "\n",
       "[20 rows x 24 columns]"
      ]
     },
     "execution_count": 209,
     "metadata": {},
     "output_type": "execute_result"
    }
   ],
   "source": [
    "tracks_quar = pd.read_csv(\"tracks_list.csv\")\n",
    "#shows a snipit of the data set (20 songs), sorted by appearances\n",
    "tracks_quar.sort_values(by=['count'], ascending=False)[:20]"
   ]
  },
  {
   "cell_type": "markdown",
   "metadata": {},
   "source": [
    "<h3> A quick look at the quarantine songs </h3>\n",
    "\n",
    "<p> Displayed above is a snippet of the tracks.csv dataset, arranged by the number of appearances. (Note: the column above is labeled \"count\", but we will refer to this value as appearances. </p>\n",
    "\n",
    "<p> As printed above, the top five songs of quarantine are 'Toosie Slide' by Drake, 'Sunday Best' by Surfaces, 'death bed' by Powfu and beabadoobee, 'Don't Start Now' by Dua Lipa, and 'The Box' by Roddy Rich. These five songs are all on the US Top 50 tracks charts list as of May 11th, 2020. It seems as if, at least for the top 20 quarantine songs, their number of appearances has more to do with what is trending and less to do with the emotional, physical, and mental circumstances of quarantine.</p>\n",
    "\n",
    "Does this hold true for the rest of the dataset? Are the songs of quarantine just the songs of the time period of quarantine, or the songs of our emotional state in quarantine? For now, only the top 20 songs are visible, and as of May 11th, the only songs in the top 20 of our data set that weren't on the US Top 50 list were \"Toxic\", 'Tongue Tied' and 'U Can't Touch This'. However, every other song was on the US Top 50 list. It is interesting to note the disproportional popularity of \"Toxic\" and \"U Can't Touch This.\""
   ]
  },
  {
   "cell_type": "markdown",
   "metadata": {},
   "source": [
    "It would be useful to understand the overall appearances of each song. We can use basic stats to help us understand this."
   ]
  },
  {
   "cell_type": "code",
   "execution_count": 67,
   "metadata": {},
   "outputs": [
    {
     "data": {
      "text/plain": [
       "count    8944.000000\n",
       "mean       11.926431\n",
       "std        11.723794\n",
       "min         5.000000\n",
       "25%         6.000000\n",
       "50%         8.000000\n",
       "75%        13.000000\n",
       "max       176.000000\n",
       "Name: count, dtype: float64"
      ]
     },
     "execution_count": 67,
     "metadata": {},
     "output_type": "execute_result"
    }
   ],
   "source": [
    "tracks_quar['count'].describe()"
   ]
  },
  {
   "cell_type": "markdown",
   "metadata": {},
   "source": [
    "The most appearances a song has is 176, and the least, a minimum imposed by our datascraping filter, is 5. The average number of playlist appearances was 11.9, with a standard deviation of 11.7. 25% of the songs fell below 6 appearances, 50% fell below 8 appearances, and 75% fell below 13 appearances. This means the appearances are skewed extremely left, and that the top 25% songs are spread between 13 appearances and 176 appearances.\n",
    "\n",
    "Let's use a histogram to visualize this."
   ]
  },
  {
   "cell_type": "code",
   "execution_count": 68,
   "metadata": {},
   "outputs": [
    {
     "data": {
      "image/png": "[encoded data removed]",
      "text/plain": [
       "<Figure size 432x288 with 1 Axes>"
      ]
     },
     "metadata": {},
     "output_type": "display_data"
    }
   ],
   "source": [
    "plt.hist(tracks_quar['count'], bins=150, color='green')\n",
    "plt.title('Histogram of Appearances')\n",
    "plt.ylabel('Count')\n",
    "plt.xlabel('Appearances')\n",
    "plt.xlim(5,180)\n",
    "plt.show()"
   ]
  },
  {
   "cell_type": "markdown",
   "metadata": {},
   "source": [
    "As the histogram shows us, most of the songs in our quarantine tracks dataset appear less than 8 times in playlists with \"Quarnatine\" in their titles. The maximum amount of appearances that a song has is 176, and so the dataset is extremely right skewed. However, this does show that there is a decent amount of overlap in the songs people listen to during quarantine. Now that clearer understanding of our quarantine tracks is established, let's move on to the 2019 dataset."
   ]
  },
  {
   "cell_type": "markdown",
   "metadata": {},
   "source": [
    "<h3> Tracks from 2019 - A dataset for comparison </h3>"
   ]
  },
  {
   "cell_type": "markdown",
   "metadata": {},
   "source": [
    "<p> Displayed above is a 20 song snippet from our 2019 dataset. We will be using this to compare with the songs scraped from our quarantine dataset illustrated above.</p>"
   ]
  },
  {
   "cell_type": "code",
   "execution_count": 47,
   "metadata": {},
   "outputs": [],
   "source": [
    "tracks_2019 = pd.read_csv(\"tracks_list_2019.csv\")\n",
    "tracks_2019.sort_values(by=['count'], ascending=False)[:20]"
   ]
  },
  {
   "cell_type": "code",
   "execution_count": 49,
   "metadata": {},
   "outputs": [],
   "source": [
    "#creating a new dataframe that combines the 2019 and quarantine datasets\n",
    "new = concatenate_df()"
   ]
  },
  {
   "cell_type": "markdown",
   "metadata": {},
   "source": [
    "<h2> I. Describing Music: Qualitative Audio Features</h2>\n",
    "\n",
    "In order to best understand the music people listen to, Spotify provides audio analysis for all tracks in the Spotify Catalog. The analysis is broken up into certain features that desibe a song's structure and musical content (like rythm, pitch, timbre, etc). Specifically, each element is denoted by an integer or float that scores a certain characteristic of a given song. \n",
    "For the purpose of this research study, we will analyze 10 key audio features in detail, and compare the scores of these audio features from playlists made during quarentine to the top songs in 2019 (before the COVID-19 pandemic began). \n",
    "\n",
    "\n",
    "To start, We will look at four charactersitcs which we consider <em> straightforward </em> and <em>qualitative</em>. In other words, musicians and listeners alike can completely capture these features in a couple words. Note, Spotify scores these featues as integers, while the other six characteristics are scored as floats. The descriptions of each these features are summarized from Spotify's Web API reference guide. Thus, to begin, this initial analysis looks at:\n",
    "\n",
    "1. **Popularity** - The popularity of a song is the most complex feature in this section of analysis, but Spotify still assigns this feature an integer value (specifically, between 0 and 100) and we consider it a qualititative description of a song. The popularity is calculated by an algorithm based mainly on the number of times a track has been played as well as how recent the song has been played. The Spotify Web API reference guide notes that \"generally speaking, songs that are being played a lot now will have a higher popularity than songs that were played a lot in the past.\" We recognize that there is also a score for artist and album popularity, but these are derived independently from track popularity and thus will not affect our subsequent analysis. \n",
    "\n",
    "\n",
    "2. **Explicitness**  - Spotify labels a song as explicit if the lyrics or content of the song meet a list of criteria which is considered unsuitable for childrien (such as strong language and references to violence or sexualized behavior). This audio feature gives explicit songs given a score of 1, while non-epxlicit songs are given a 0, making making analysis straightforward. \n",
    "\n",
    "\n",
    "3. **Key** - The estimated overall key of the track. This audio feature maps picthes using standard pitch class   notation. For example, 0 = C, 1 = C♯/D♭, 2 = D, and so on. If no key was detected, Spotify gives the song a value of -1, but this is a rarity.  \n",
    "\n",
    "\n",
    "4. **Modality** - Modality refers to the mode of a track (major or minor), the type of scale from which its melodic content is derived. Major is represented by 1 and minor is represented by a 0 score."
   ]
  },
  {
   "cell_type": "markdown",
   "metadata": {},
   "source": [
    "<h3> 1. Popularity </h3>"
   ]
  },
  {
   "cell_type": "markdown",
   "metadata": {},
   "source": [
    "<p> One of the first questions about quarantine songs is whether or not the songs' appearances in quarantine playlists is due to pure general popularity on spotify. To understand this, it's helpful to look at the popularity variable. However, while we analyze this variable for our quarantine dataset, doing the same for our top 2019 songs data would not provide fruitful results, as every song it contains is, by definition, extremely popular given the nature of the playlist. Thus, we will take a look solely at the popularity statistics of our quarantine dataset, as this is the data that will guide us to understanding the impact of popularity on the appearances of our quarantine songs. </p>"
   ]
  },
  {
   "cell_type": "markdown",
   "metadata": {},
   "source": [
    "<p> Does popularity impact the number appearences in quarantine playlists? To answer this question, we will see if there is a correlation between a track's popularity level, and the number of times that song appears in the data set. </p>"
   ]
  },
  {
   "cell_type": "code",
   "execution_count": 74,
   "metadata": {},
   "outputs": [
    {
     "data": {
      "image/png": "[encoded data removed]",
      "text/plain": [
       "<Figure size 432x288 with 1 Axes>"
      ]
     },
     "metadata": {},
     "output_type": "display_data"
    }
   ],
   "source": [
    "plt.scatter(tracks_quar['popularity'], tracks_quar['count'], marker = 'o', color = 'green')\n",
    "\n",
    "plt.xlabel(\"Popularity (scale of 0 to 100)\")\n",
    "plt.ylabel(\"Number of Appearances\")\n",
    "plt.title(\"Quarantine Songs: Does Popularity Level impact Appearances?\")\n",
    "plt.show()"
   ]
  },
  {
   "cell_type": "markdown",
   "metadata": {},
   "source": [
    "<p> There seems to be a clear positive relationship with these two variables. However, it doesn't seem exactly linear. We are interested in understanding the strength of correlation between these two variables. We'll use a variant called rank correlation, where each element of a vector has a rank. </p>\n",
    "\n",
    "<p>Rank correlation (or Spearman correlation) is very similar to regular correlation (also called Pearson correlation), but it is more robust to relationships that aren't linear. Pearson correlation is to rank correlation as mean is to median. In both cases we can replace the actual value in an array with its *rank* in the array. The median is the value that has the mean rank (ie the midpoint), while the rank correlation is the Pearson correlation between the rank of $X_i$ and the rank of $Y_i$. <p>\n",
    "\n",
    "<p>The following code defines datapoints that nearly lie on a line and calculates the slope of a regression line fit to the data. </p>"
   ]
  },
  {
   "cell_type": "code",
   "execution_count": 75,
   "metadata": {},
   "outputs": [
    {
     "name": "stdout",
     "output_type": "stream",
     "text": [
      "Linear model slope: 0.220464\n"
     ]
    }
   ],
   "source": [
    "linear_model = LinearRegression().fit(tracks_quar[['popularity']], tracks_quar[['count']])\n",
    "print(\"Linear model slope: {:.6f}\".format(float(linear_model.coef_[0])))"
   ]
  },
  {
   "cell_type": "markdown",
   "metadata": {},
   "source": [
    "For each 1 point increase in popularity, the number of times the song appears in a quarantine playlist increases by roughly 0.22. Being more popular makes a song more likely to appear in quarantine playlists and thus our dataset of quarantine tracks. Let's see how well the data fits this linear model."
   ]
  },
  {
   "cell_type": "markdown",
   "metadata": {},
   "source": [
    "We can do this by looking at the correlation of:\n",
    "1. the track counts and the track popularity\n",
    "2. the *ranks* of the track counts and the *ranks* of the tracks popularity"
   ]
  },
  {
   "cell_type": "code",
   "execution_count": 76,
   "metadata": {},
   "outputs": [
    {
     "name": "stdout",
     "output_type": "stream",
     "text": [
      "Comparing Correlations for Popularity and Appearances\n",
      "Correlation: 0.2644\n",
      "Correlation of ranks: 0.4717\n",
      "Spearman r: 0.4717\n"
     ]
    }
   ],
   "source": [
    "print(\"Comparing Correlations for Popularity and Appearances\")\n",
    "corr_compare(tracks_quar['popularity'], tracks_quar['count'])"
   ]
  },
  {
   "cell_type": "markdown",
   "metadata": {},
   "source": [
    "As we can see, the correlation of ranks is much higher than the linear correlation. This makes sense, as we previously noted that the data is not exactly linear. By comparing the ranks, we can see how the more popular a song is in comparison to the rest of the songs, the more likely it is to be ranked higher in its number of appearances in our quarantine playlists."
   ]
  },
  {
   "cell_type": "markdown",
   "metadata": {},
   "source": [
    "<h4> Popularity Conclusion </h4>"
   ]
  },
  {
   "cell_type": "markdown",
   "metadata": {},
   "source": [
    "<p> From the graphical visualization, it is clear that there is a positive relationship between popularity and the number of appearances in playlists. These two variables are clearly interconnected, as the more popular a song is, the wider its audience, the more well-known it is, and the more likely it is to appear in any one person's playlist. However, our correlation is quite small. This could be due to the fact that the data does not quite fit a linear model, as there is clear curvature in the graph. As such, the Spearman R of rank correlation is much higher than the standard linear correlation. Still, the Spearman r is not quite as high as initially expected. Despite this, through understanding of the data's context and the graphical representation of the data, it is concluded that popularity does impact the number of appearances the songs appeared in our quarantine tracks. Onward! </p>"
   ]
  },
  {
   "cell_type": "markdown",
   "metadata": {},
   "source": [
    "---"
   ]
  },
  {
   "cell_type": "markdown",
   "metadata": {},
   "source": [
    "<h3>2.  Explicitness </h3>\n",
    "\n",
    "<p> Let's take a look at how many of the quarantine songs, as well as the 2019 songs, were explicit. </p>\n",
    "<p>**Our Hypothesis:** We do not expect a large difference in the two dataset. Perhaps the quarantine playlists were slightly more explicit, but this would probably be due to chance. </p>"
   ]
  },
  {
   "cell_type": "code",
   "execution_count": 197,
   "metadata": {},
   "outputs": [
    {
     "data": {
      "image/png": "[encoded data removed]",
      "text/plain": [
       "<Figure size 432x288 with 1 Axes>"
      ]
     },
     "metadata": {},
     "output_type": "display_data"
    }
   ],
   "source": [
    "#2019 Tracks\n",
    "explicit_2019 = pie_explicit(tracks_2019, '2019 Tracks')"
   ]
  },
  {
   "cell_type": "code",
   "execution_count": 78,
   "metadata": {},
   "outputs": [
    {
     "data": {
      "image/png": "[encoded data removed]",
      "text/plain": [
       "<Figure size 432x288 with 1 Axes>"
      ]
     },
     "metadata": {},
     "output_type": "display_data"
    }
   ],
   "source": [
    "#Quarantine Tracks\n",
    "explicit_quarantine = pie_explicit(tracks_quar, \"Quarantine Tracks\")"
   ]
  },
  {
   "cell_type": "code",
   "execution_count": 206,
   "metadata": {},
   "outputs": [
    {
     "data": {
      "image/png": "[encoded data removed]",
      "text/plain": [
       "<Figure size 432x288 with 1 Axes>"
      ]
     },
     "metadata": {
      "needs_background": "light"
     },
     "output_type": "display_data"
    }
   ],
   "source": [
    "#Bar Chart comparison across 2019 and Quarantine Data\n",
    "bar_chart(explicit_2019, explicit_quarantine, title = \"Explicitness Comparison\", ticks = ['Explicit', 'Clean'])"
   ]
  },
  {
   "cell_type": "code",
   "execution_count": 177,
   "metadata": {},
   "outputs": [],
   "source": [
    "def print_percentages(feature, primary_feature):\n",
    "    print(\"Proportion of 2019 songs that are \"+str(primary_feature)+\":  \")\n",
    "    print('{:.4f}'.format(np.mean(tracks_2019[feature])))\n",
    "    \n",
    "    print(\"Proportion of Quarantine songs that are \"+str(primary_feature)+\":  \") \n",
    "    print('{:.4f}'.format(np.mean(tracks_quar[feature])))\n",
    "    \n",
    "    print()\n",
    "    print(\"Difference in proportions from 2019 to Quarantine:\")\n",
    "    print('{:.4f}'.format(np.mean(tracks_quar[feature])-np.mean(tracks_2019[feature])))\n",
    "\n",
    "    print(\"Percent change from 2019 to Quarantine:\")\n",
    "    print('{:.2%}'.format((np.mean(tracks_quar[feature])-np.mean(tracks_2019[feature]))/np.mean(tracks_2019[feature])))"
   ]
  },
  {
   "cell_type": "code",
   "execution_count": 178,
   "metadata": {},
   "outputs": [
    {
     "name": "stdout",
     "output_type": "stream",
     "text": [
      "Proportion of 2019 songs that are Explicit:  \n",
      "0.1631\n",
      "Proportion of Quarantine songs that are Explicit:  \n",
      "0.3071\n",
      "\n",
      "Difference in proportions from 2019 to Quarantine:\n",
      "0.1441\n",
      "Percent change from 2019 to Quarantine:\n",
      "88.36%\n"
     ]
    }
   ],
   "source": [
    "print_percentages('explicit', primary_feature = 'Explicit')"
   ]
  },
  {
   "cell_type": "markdown",
   "metadata": {},
   "source": [
    "<h4> Evaluation of Significance: Explicitness </h4> "
   ]
  },
  {
   "cell_type": "code",
   "execution_count": 80,
   "metadata": {},
   "outputs": [
    {
     "name": "stdout",
     "output_type": "stream",
     "text": [
      "The difference in explicit between Quarantine and 2019 songs:\n",
      "-0.144075\n"
     ]
    }
   ],
   "source": [
    "print(\"The difference in explicit between Quarantine and 2019 songs:\")\n",
    "print(actual_diff('explicit'))"
   ]
  },
  {
   "cell_type": "code",
   "execution_count": 80,
   "metadata": {},
   "outputs": [
    {
     "ename": "KeyboardInterrupt",
     "evalue": "",
     "output_type": "error",
     "traceback": [
      "\u001b[0;31m---------------------------------------------------------------------------\u001b[0m",
      "\u001b[0;31mKeyboardInterrupt\u001b[0m                         Traceback (most recent call last)",
      "\u001b[0;32m<ipython-input-80-12a0c0095f03>\u001b[0m in \u001b[0;36m<module>\u001b[0;34m\u001b[0m\n\u001b[0;32m----> 1\u001b[0;31m \u001b[0mexplicit_data\u001b[0m \u001b[0;34m=\u001b[0m \u001b[0mpermuted_diff_list\u001b[0m\u001b[0;34m(\u001b[0m\u001b[0mfeature\u001b[0m \u001b[0;34m=\u001b[0m \u001b[0;34m'explicit'\u001b[0m\u001b[0;34m,\u001b[0m \u001b[0mtrials\u001b[0m \u001b[0;34m=\u001b[0m \u001b[0;36m500\u001b[0m\u001b[0;34m)\u001b[0m\u001b[0;34m\u001b[0m\u001b[0;34m\u001b[0m\u001b[0m\n\u001b[0m",
      "\u001b[0;32m<ipython-input-5-786eb29b5fb8>\u001b[0m in \u001b[0;36mpermuted_diff_list\u001b[0;34m(feature, trials)\u001b[0m\n\u001b[1;32m     10\u001b[0m \u001b[0;34m\u001b[0m\u001b[0m\n\u001b[1;32m     11\u001b[0m         \u001b[0;32mfor\u001b[0m \u001b[0mi\u001b[0m \u001b[0;32min\u001b[0m \u001b[0mrange\u001b[0m\u001b[0;34m(\u001b[0m\u001b[0mlen\u001b[0m\u001b[0;34m(\u001b[0m\u001b[0mnew\u001b[0m\u001b[0;34m)\u001b[0m\u001b[0;34m)\u001b[0m\u001b[0;34m:\u001b[0m\u001b[0;34m\u001b[0m\u001b[0;34m\u001b[0m\u001b[0m\n\u001b[0;32m---> 12\u001b[0;31m             \u001b[0;32mif\u001b[0m \u001b[0mnew\u001b[0m\u001b[0;34m[\u001b[0m\u001b[0;34m'quarantine'\u001b[0m\u001b[0;34m]\u001b[0m\u001b[0;34m.\u001b[0m\u001b[0miloc\u001b[0m\u001b[0;34m[\u001b[0m\u001b[0mi\u001b[0m\u001b[0;34m]\u001b[0m \u001b[0;34m==\u001b[0m \u001b[0;36m0\u001b[0m\u001b[0;34m:\u001b[0m\u001b[0;34m\u001b[0m\u001b[0;34m\u001b[0m\u001b[0m\n\u001b[0m\u001b[1;32m     13\u001b[0m                 \u001b[0mlist_2019\u001b[0m\u001b[0;34m.\u001b[0m\u001b[0mappend\u001b[0m\u001b[0;34m(\u001b[0m\u001b[0mnew\u001b[0m\u001b[0;34m[\u001b[0m\u001b[0mfeature\u001b[0m\u001b[0;34m]\u001b[0m\u001b[0;34m.\u001b[0m\u001b[0miloc\u001b[0m\u001b[0;34m[\u001b[0m\u001b[0mi\u001b[0m\u001b[0;34m]\u001b[0m\u001b[0;34m)\u001b[0m\u001b[0;34m\u001b[0m\u001b[0;34m\u001b[0m\u001b[0m\n\u001b[1;32m     14\u001b[0m             \u001b[0;32melse\u001b[0m\u001b[0;34m:\u001b[0m\u001b[0;34m\u001b[0m\u001b[0;34m\u001b[0m\u001b[0m\n",
      "\u001b[0;32m/opt/anaconda3/lib/python3.7/site-packages/pandas/core/indexing.py\u001b[0m in \u001b[0;36m__getitem__\u001b[0;34m(self, key)\u001b[0m\n\u001b[1;32m   1422\u001b[0m \u001b[0;34m\u001b[0m\u001b[0m\n\u001b[1;32m   1423\u001b[0m             \u001b[0mmaybe_callable\u001b[0m \u001b[0;34m=\u001b[0m \u001b[0mcom\u001b[0m\u001b[0;34m.\u001b[0m\u001b[0mapply_if_callable\u001b[0m\u001b[0;34m(\u001b[0m\u001b[0mkey\u001b[0m\u001b[0;34m,\u001b[0m \u001b[0mself\u001b[0m\u001b[0;34m.\u001b[0m\u001b[0mobj\u001b[0m\u001b[0;34m)\u001b[0m\u001b[0;34m\u001b[0m\u001b[0;34m\u001b[0m\u001b[0m\n\u001b[0;32m-> 1424\u001b[0;31m             \u001b[0;32mreturn\u001b[0m \u001b[0mself\u001b[0m\u001b[0;34m.\u001b[0m\u001b[0m_getitem_axis\u001b[0m\u001b[0;34m(\u001b[0m\u001b[0mmaybe_callable\u001b[0m\u001b[0;34m,\u001b[0m \u001b[0maxis\u001b[0m\u001b[0;34m=\u001b[0m\u001b[0maxis\u001b[0m\u001b[0;34m)\u001b[0m\u001b[0;34m\u001b[0m\u001b[0;34m\u001b[0m\u001b[0m\n\u001b[0m\u001b[1;32m   1425\u001b[0m \u001b[0;34m\u001b[0m\u001b[0m\n\u001b[1;32m   1426\u001b[0m     \u001b[0;32mdef\u001b[0m \u001b[0m_is_scalar_access\u001b[0m\u001b[0;34m(\u001b[0m\u001b[0mself\u001b[0m\u001b[0;34m,\u001b[0m \u001b[0mkey\u001b[0m\u001b[0;34m:\u001b[0m \u001b[0mTuple\u001b[0m\u001b[0;34m)\u001b[0m\u001b[0;34m:\u001b[0m\u001b[0;34m\u001b[0m\u001b[0;34m\u001b[0m\u001b[0m\n",
      "\u001b[0;32m/opt/anaconda3/lib/python3.7/site-packages/pandas/core/indexing.py\u001b[0m in \u001b[0;36m_getitem_axis\u001b[0;34m(self, key, axis)\u001b[0m\n\u001b[1;32m   2140\u001b[0m             \u001b[0mkey\u001b[0m \u001b[0;34m=\u001b[0m \u001b[0mnp\u001b[0m\u001b[0;34m.\u001b[0m\u001b[0masarray\u001b[0m\u001b[0;34m(\u001b[0m\u001b[0mkey\u001b[0m\u001b[0;34m)\u001b[0m\u001b[0;34m\u001b[0m\u001b[0;34m\u001b[0m\u001b[0m\n\u001b[1;32m   2141\u001b[0m \u001b[0;34m\u001b[0m\u001b[0m\n\u001b[0;32m-> 2142\u001b[0;31m         \u001b[0;32mif\u001b[0m \u001b[0mcom\u001b[0m\u001b[0;34m.\u001b[0m\u001b[0mis_bool_indexer\u001b[0m\u001b[0;34m(\u001b[0m\u001b[0mkey\u001b[0m\u001b[0;34m)\u001b[0m\u001b[0;34m:\u001b[0m\u001b[0;34m\u001b[0m\u001b[0;34m\u001b[0m\u001b[0m\n\u001b[0m\u001b[1;32m   2143\u001b[0m             \u001b[0mself\u001b[0m\u001b[0;34m.\u001b[0m\u001b[0m_validate_key\u001b[0m\u001b[0;34m(\u001b[0m\u001b[0mkey\u001b[0m\u001b[0;34m,\u001b[0m \u001b[0maxis\u001b[0m\u001b[0;34m)\u001b[0m\u001b[0;34m\u001b[0m\u001b[0;34m\u001b[0m\u001b[0m\n\u001b[1;32m   2144\u001b[0m             \u001b[0;32mreturn\u001b[0m \u001b[0mself\u001b[0m\u001b[0;34m.\u001b[0m\u001b[0m_getbool_axis\u001b[0m\u001b[0;34m(\u001b[0m\u001b[0mkey\u001b[0m\u001b[0;34m,\u001b[0m \u001b[0maxis\u001b[0m\u001b[0;34m=\u001b[0m\u001b[0maxis\u001b[0m\u001b[0;34m)\u001b[0m\u001b[0;34m\u001b[0m\u001b[0;34m\u001b[0m\u001b[0m\n",
      "\u001b[0;32m/opt/anaconda3/lib/python3.7/site-packages/pandas/core/common.py\u001b[0m in \u001b[0;36mis_bool_indexer\u001b[0;34m(key)\u001b[0m\n\u001b[1;32m    120\u001b[0m     \"\"\"\n\u001b[1;32m    121\u001b[0m     \u001b[0mna_msg\u001b[0m \u001b[0;34m=\u001b[0m \u001b[0;34m\"cannot index with vector containing NA / NaN values\"\u001b[0m\u001b[0;34m\u001b[0m\u001b[0;34m\u001b[0m\u001b[0m\n\u001b[0;32m--> 122\u001b[0;31m     if isinstance(key, (ABCSeries, np.ndarray, ABCIndex)) or (\n\u001b[0m\u001b[1;32m    123\u001b[0m         \u001b[0mis_array_like\u001b[0m\u001b[0;34m(\u001b[0m\u001b[0mkey\u001b[0m\u001b[0;34m)\u001b[0m \u001b[0;32mand\u001b[0m \u001b[0mis_extension_array_dtype\u001b[0m\u001b[0;34m(\u001b[0m\u001b[0mkey\u001b[0m\u001b[0;34m.\u001b[0m\u001b[0mdtype\u001b[0m\u001b[0;34m)\u001b[0m\u001b[0;34m\u001b[0m\u001b[0;34m\u001b[0m\u001b[0m\n\u001b[1;32m    124\u001b[0m     ):\n",
      "\u001b[0;32m/opt/anaconda3/lib/python3.7/site-packages/pandas/core/dtypes/generic.py\u001b[0m in \u001b[0;36m_check\u001b[0;34m(cls, inst)\u001b[0m\n\u001b[1;32m      7\u001b[0m     \u001b[0;34m@\u001b[0m\u001b[0mclassmethod\u001b[0m\u001b[0;34m\u001b[0m\u001b[0;34m\u001b[0m\u001b[0m\n\u001b[1;32m      8\u001b[0m     \u001b[0;32mdef\u001b[0m \u001b[0m_check\u001b[0m\u001b[0;34m(\u001b[0m\u001b[0mcls\u001b[0m\u001b[0;34m,\u001b[0m \u001b[0minst\u001b[0m\u001b[0;34m)\u001b[0m\u001b[0;34m:\u001b[0m\u001b[0;34m\u001b[0m\u001b[0;34m\u001b[0m\u001b[0m\n\u001b[0;32m----> 9\u001b[0;31m         \u001b[0;32mreturn\u001b[0m \u001b[0mgetattr\u001b[0m\u001b[0;34m(\u001b[0m\u001b[0minst\u001b[0m\u001b[0;34m,\u001b[0m \u001b[0mattr\u001b[0m\u001b[0;34m,\u001b[0m \u001b[0;34m\"_typ\"\u001b[0m\u001b[0;34m)\u001b[0m \u001b[0;32min\u001b[0m \u001b[0mcomp\u001b[0m\u001b[0;34m\u001b[0m\u001b[0;34m\u001b[0m\u001b[0m\n\u001b[0m\u001b[1;32m     10\u001b[0m \u001b[0;34m\u001b[0m\u001b[0m\n\u001b[1;32m     11\u001b[0m     \u001b[0mdct\u001b[0m \u001b[0;34m=\u001b[0m \u001b[0mdict\u001b[0m\u001b[0;34m(\u001b[0m\u001b[0m__instancecheck__\u001b[0m\u001b[0;34m=\u001b[0m\u001b[0m_check\u001b[0m\u001b[0;34m,\u001b[0m \u001b[0m__subclasscheck__\u001b[0m\u001b[0;34m=\u001b[0m\u001b[0m_check\u001b[0m\u001b[0;34m)\u001b[0m\u001b[0;34m\u001b[0m\u001b[0;34m\u001b[0m\u001b[0m\n",
      "\u001b[0;31mKeyboardInterrupt\u001b[0m: "
     ]
    }
   ],
   "source": [
    "explicit_data = permuted_diff_list(feature = 'explicit', trials = 500)"
   ]
  },
  {
   "cell_type": "code",
   "execution_count": 79,
   "metadata": {},
   "outputs": [
    {
     "data": {
      "image/png": "[encoded data removed]",
      "text/plain": [
       "<Figure size 432x288 with 1 Axes>"
      ]
     },
     "metadata": {
      "needs_background": "light"
     },
     "output_type": "display_data"
    },
    {
     "name": "stdout",
     "output_type": "stream",
     "text": [
      "The dashed line represents the difference in our sample means.\n",
      "The difference in means of our data:  -0.144075\n"
     ]
    }
   ],
   "source": [
    "plot_permuted_diff(feature = 'explicit', data = explicit_data, sample = actual_diff('explicit'))\n",
    "print(\"The difference in means of our data: \", actual_diff('explicit'))"
   ]
  },
  {
   "cell_type": "code",
   "execution_count": 83,
   "metadata": {},
   "outputs": [
    {
     "name": "stdout",
     "output_type": "stream",
     "text": [
      "~Permutation Test~\n",
      "p_value:  0.00000000\n"
     ]
    }
   ],
   "source": [
    "data_pvalue(data = explicit_data, trials = 500, feature = 'explicit')"
   ]
  },
  {
   "cell_type": "code",
   "execution_count": 84,
   "metadata": {},
   "outputs": [
    {
     "name": "stdout",
     "output_type": "stream",
     "text": [
      "~T-Test Results~\n",
      "T-Statistic: 435.9383039386422\n",
      "Degress of Freedom: 16240\n",
      "Critical Value: 1.6449474604860919\n",
      "p-value: 0.00000000\n"
     ]
    }
   ],
   "source": [
    "alpha = 0.05\n",
    "t_test_means('explicit', alpha)"
   ]
  },
  {
   "cell_type": "markdown",
   "metadata": {},
   "source": [
    "<h4> An Explicit Conclusion? </h4>\n",
    "<p> Based on the data above, there is a clear change in the amount of explicit content people are listening to during quarantine. Only  16.3% of the 2019 songs featured explicit content, while that nearly doubled to to 30.7% during quarantine (a 14% difference in proportions). Furthermore, this difference is certainly statistically signficant, as both the p_value when running simulations as well as when conducting a T-test yielded a result approaching 0 (0.000000...x). Given the drastic percentage change, it is logical that it was almost impossible that this was due to random chance. </p>\n",
    "\n",
    "\n",
    "<p> In sum, explicit music has almost doubled... and we thought people were being clean during quarantine!\n",
    "Jokes aside, this is an interesting conclusion to start with, but we will need more audio features to fully draw out the effects of this pandemic on our music choices. </p>"
   ]
  },
  {
   "cell_type": "markdown",
   "metadata": {},
   "source": [
    "---"
   ]
  },
  {
   "cell_type": "markdown",
   "metadata": {},
   "source": [
    "<h3> 3. Key </h3> \n",
    "\n",
    "<p> **Our Hypothesis:** We do not expect to see significant change in the keys of songs. The most popular keys are stylistic choices that artists choose based on what sounds best. It is unlikely that quarantine alters our interest in music enough to see significant change in keys. With this prediction in mind, let's take a look... </p> "
   ]
  },
  {
   "cell_type": "code",
   "execution_count": 148,
   "metadata": {},
   "outputs": [
    {
     "data": {
      "image/png": "[encoded data removed]",
      "text/plain": [
       "<Figure size 432x288 with 1 Axes>"
      ]
     },
     "metadata": {},
     "output_type": "display_data"
    }
   ],
   "source": [
    "#Quarantine Tracks\n",
    "tracks_quar_keys_perc = key_counter(tracks_quar)\n",
    "key_pie(tracks_keys_perc, \"Quarantine Tracks\")"
   ]
  },
  {
   "cell_type": "code",
   "execution_count": 149,
   "metadata": {},
   "outputs": [
    {
     "data": {
      "image/png": "[encoded data removed]",
      "text/plain": [
       "<Figure size 432x288 with 1 Axes>"
      ]
     },
     "metadata": {},
     "output_type": "display_data"
    }
   ],
   "source": [
    "#2019 Tracks\n",
    "tracks_2019_keys_perc = key_counter(tracks_2019)\n",
    "key_pie(tracks_2019_keys_perc, \"2019 Tracks\")"
   ]
  },
  {
   "cell_type": "code",
   "execution_count": 207,
   "metadata": {},
   "outputs": [
    {
     "data": {
      "image/png": "[encoded data removed]",
      "text/plain": [
       "<Figure size 432x288 with 1 Axes>"
      ]
     },
     "metadata": {
      "needs_background": "light"
     },
     "output_type": "display_data"
    }
   ],
   "source": [
    "#Bar chart comparing across 2019 and Quarantine Data\n",
    "bar_chart(tracks_quar_keys_perc, tracks_2019_keys_perc, title = \"Keys Comparison\", ticks = ['C', 'C♯/D♭', 'D', 'D♯/E♭', 'E', 'F', 'F#/G♭', 'G', 'G♯/A♭', 'A', 'A♯/B♭', 'B'])"
   ]
  },
  {
   "cell_type": "markdown",
   "metadata": {},
   "source": [
    "<h4> Conclusion: Key takaways </h4>\n",
    "\n",
    "<p> The pie charts illustrates a few things. First, in both quarantine and 2019 datasets, the most popular Key's were C, and C♯/D♭, accounting for nearly 35% of the entire dataset when combined. That being said, the somewhat even distribution of the chart indicates that the key of a song does not have a <em> dramatic </em> effect on the song's success. In other words, there is no one key that dominates music. Stay away from D# though...\n",
    "    \n",
    "<p> More importantly, we see almost no change in the two datasets, illustrating that the quarantine has little effect on the key to which songs are written. Our hypothesis was correct. This wasn't the <em> key </em> to our research, unfortunately. </p>\n",
    "\n",
    "<p> P.S. We hope our puns lighten up your quarantine! </p>"
   ]
  },
  {
   "cell_type": "markdown",
   "metadata": {},
   "source": [
    "---"
   ]
  },
  {
   "cell_type": "markdown",
   "metadata": {},
   "source": [
    "<h3> Modality </h3>\n",
    "\n",
    "<p>**Our Hypothesis:** We expect that the quarentine playlist featured more songs in minor keys, as the eerie nature of being locked at home might make some people more meloncholy, and thus listen to music associated with being sad. We expect this to be statistically one of the most significant changes of all the audio features. Modality is a good mesausre of the \"happiness\" of a song. This being said, many individuals are finding ways to stay active (especially running) during quarantine. Because running music usually has an upbeat, positive nature, so this may offset the sad nature of self-isolation slightly, but we nonetheless expect modality to decrease.  </p>"
   ]
  },
  {
   "cell_type": "code",
   "execution_count": 53,
   "metadata": {},
   "outputs": [
    {
     "name": "stdout",
     "output_type": "stream",
     "text": [
      "Quarantine Tracks\n",
      "count_major:  5576\n",
      "count_minor:  3368\n",
      "percent_major:  62.34%\n"
     ]
    },
    {
     "data": {
      "image/png": "[encoded data removed]",
      "text/plain": [
       "<Figure size 432x288 with 1 Axes>"
      ]
     },
     "metadata": {},
     "output_type": "display_data"
    }
   ],
   "source": [
    "#Quarantine Tracks\n",
    "modality_breakdown_quarantine = mode_counter(tracks_quar, \"Quarantine Tracks\")\n",
    "modality_pie(modality_breakdown_quarantine,\"Quarantine Tracks\")"
   ]
  },
  {
   "cell_type": "code",
   "execution_count": 54,
   "metadata": {},
   "outputs": [
    {
     "name": "stdout",
     "output_type": "stream",
     "text": [
      "2019 Tracks\n",
      "count_major:  4398\n",
      "count_minor:  2900\n",
      "percent_major:  60.26%\n"
     ]
    },
    {
     "data": {
      "image/png": "[encoded data removed]",
      "text/plain": [
       "<Figure size 432x288 with 1 Axes>"
      ]
     },
     "metadata": {},
     "output_type": "display_data"
    }
   ],
   "source": [
    "#2019 Tracks\n",
    "modality_breakdown_2019 = mode_counter(tracks_2019, \"2019 Tracks\")\n",
    "modality_pie(modality_breakdown_2019, \"2019 Tracks\")"
   ]
  },
  {
   "cell_type": "code",
   "execution_count": 208,
   "metadata": {
    "scrolled": true
   },
   "outputs": [
    {
     "data": {
      "image/png": "[encoded data removed]",
      "text/plain": [
       "<Figure size 432x288 with 1 Axes>"
      ]
     },
     "metadata": {
      "needs_background": "light"
     },
     "output_type": "display_data"
    }
   ],
   "source": [
    "#Bar chart comparing across 2019 and Quarantine Data\n",
    "bar_chart(modality_breakdown_2019, modality_breakdown_quarantine, title = \"Modality Comparison\", ticks = [\"Major\", \"Minor\"] )"
   ]
  },
  {
   "cell_type": "code",
   "execution_count": 179,
   "metadata": {},
   "outputs": [
    {
     "name": "stdout",
     "output_type": "stream",
     "text": [
      "Proportion of 2019 songs that are Major:  \n",
      "0.6026\n",
      "Proportion of Quarantine songs that are Major:  \n",
      "0.6234\n",
      "\n",
      "Difference in proportions from 2019 to Quarantine:\n",
      "0.0208\n",
      "Percent change from 2019 to Quarantine:\n",
      "3.45%\n"
     ]
    }
   ],
   "source": [
    "print_percentages('mode', 'Major')"
   ]
  },
  {
   "cell_type": "markdown",
   "metadata": {},
   "source": [
    "<h4> Evaluation of Significance: Modality </h4> "
   ]
  },
  {
   "cell_type": "code",
   "execution_count": 56,
   "metadata": {},
   "outputs": [
    {
     "name": "stdout",
     "output_type": "stream",
     "text": [
      "The difference in mean modality between Quarantine and 2019 songs:\n",
      "-0.020804\n"
     ]
    }
   ],
   "source": [
    "print(\"The difference in mean modality between Quarantine and 2019 songs:\")\n",
    "print(actual_diff('mode'))"
   ]
  },
  {
   "cell_type": "code",
   "execution_count": null,
   "metadata": {},
   "outputs": [],
   "source": [
    "modality_data = permuted_diff_list(feature = 'mode', trials = 500)"
   ]
  },
  {
   "cell_type": "code",
   "execution_count": 90,
   "metadata": {},
   "outputs": [
    {
     "ename": "NameError",
     "evalue": "name 'modality_data' is not defined",
     "output_type": "error",
     "traceback": [
      "\u001b[0;31m---------------------------------------------------------------------------\u001b[0m",
      "\u001b[0;31mNameError\u001b[0m                                 Traceback (most recent call last)",
      "\u001b[0;32m<ipython-input-90-9ca349c17a6f>\u001b[0m in \u001b[0;36m<module>\u001b[0;34m\u001b[0m\n\u001b[0;32m----> 1\u001b[0;31m \u001b[0mplot_permuted_diff\u001b[0m\u001b[0;34m(\u001b[0m\u001b[0mfeature\u001b[0m \u001b[0;34m=\u001b[0m \u001b[0;34m'mode'\u001b[0m\u001b[0;34m,\u001b[0m \u001b[0mdata\u001b[0m \u001b[0;34m=\u001b[0m \u001b[0mmodality_data\u001b[0m\u001b[0;34m)\u001b[0m\u001b[0;34m\u001b[0m\u001b[0;34m\u001b[0m\u001b[0m\n\u001b[0m\u001b[1;32m      2\u001b[0m \u001b[0mprint\u001b[0m\u001b[0;34m(\u001b[0m\u001b[0;34m\"The difference in means of our data: \"\u001b[0m\u001b[0;34m,\u001b[0m \u001b[0mactual_diff\u001b[0m\u001b[0;34m(\u001b[0m\u001b[0;34m'mode'\u001b[0m\u001b[0;34m)\u001b[0m\u001b[0;34m)\u001b[0m\u001b[0;34m\u001b[0m\u001b[0;34m\u001b[0m\u001b[0m\n",
      "\u001b[0;31mNameError\u001b[0m: name 'modality_data' is not defined"
     ]
    }
   ],
   "source": [
    "plot_permuted_diff(feature = 'mode', data = modality_data)\n",
    "print(\"The difference in means of our data: \", actual_diff('mode'))"
   ]
  },
  {
   "cell_type": "code",
   "execution_count": null,
   "metadata": {},
   "outputs": [],
   "source": [
    "alpha = 0.05\n",
    "trials = 500\n",
    "feature = 'mode'\n",
    "data_pvalue(data = modality_data, trials = 500, feature = 'mode')\n",
    "t_test_means(feature = 'mode', alpha = 0.05)"
   ]
  },
  {
   "cell_type": "markdown",
   "metadata": {},
   "source": [
    "<h4> Conclusion: Does our mood affect the mode? </h4>\n",
    "<p> Our Hypothesis was incorrect. The Quarantine dataset had, in fact, a 0.02 higher average modality than the 2019's tracks. As we counted songs that were in Minor as 0, and Major in 1, the proportion of songs that were in Major changed by 0.02 from the 2019 dataset to the Quarantine datset. To put simply, the quaranatine songs were more cheery. This is encouraging, becuase it indicates that people might be using music to improve their mood during this difficult time, and our predicition about running music might have played a role as well. The simulations provided a P-value of 0.002, while the T-test provided an even smaller P-value approaching 0.0000. Because our dataset is so large (8000+ songs), a 2% change in modality is statistically significant, and meaningfull. "
   ]
  },
  {
   "cell_type": "markdown",
   "metadata": {},
   "source": [
    "---\n",
    "---"
   ]
  },
  {
   "cell_type": "markdown",
   "metadata": {},
   "source": [
    "<h2> II. Describing Music: Quantitative Audio Features </h2>"
   ]
  },
  {
   "cell_type": "markdown",
   "metadata": {},
   "source": [
    "Next, we will analyze six complex audio features that Spotify denotes as floats, providing a sort of road map for each song. These remaining features include: \n",
    "\n",
    "5. **Energy** - According to Spotify's WEB API reference guide the Energy of a song \"represents a perceptual measure of intensity and activity. Typically, energetic tracks feel fast, loud, and noisy. For example, death metal has high energy, while a Bach prelude scores low on the scale. Perceptual features contributing to this attribute include dynamic range, perceived loudness, timbre, onset rate, and general entropy.\" This is an excellent audio feature to analyze because it says something about the listener. \n",
    "\n",
    "  \n",
    "6. **Danceability** - This audio feature is similair to energy, describing \"how suitable a track is for dancing based on a combination of musical elements including tempo, rhythm stability, beat strength, and overall regularity.\" \n",
    "   \n",
    "   \n",
    "7. **Valence** - A song's valence score is \"describing the musical positiveness conveyed by a track. Tracks with high valence sound more positive (e.g. happy, cheerful, euphoric), while tracks with low valence sound more negative (e.g. sad, depressed, angry).\" This feature is particularly useful because it helps us as researchers understand the mood of a listener. While some people enjoy listening to sad music more than others, trend changes are visible when analyzing valence on a sample size of this scale.\n",
    "\n",
    "\n",
    "8. **Acousticness** -  This is a confidence measure that determines whether a track is acoustic. Scores range from 0.0 to 1.0, providing a spectrum of musical range in between. \n",
    "\n",
    "\n",
    "9. **Speechiness** - This feature detects the presence of spoken words in a track. Unlike other categories, this score is especially useful in seperating other forms of audio (talks shows, audio books, poety) from pure musical recordings. Tracks of this nature recive a score close to 1.0. That being said, speechiness is useful in this analysis because it also helps seperate rap-muisc and genres with a high-concentration of speech/vocals from other types of music. The less words in the songs, the closer the speechiness score will get to 0.0\n",
    "\n",
    "\n",
    "10. **Tempo** - Finally, tempo is the speed or pace of a given song, ervied directly from the average beat duration. It is measured in beats per minute (BPM) "
   ]
  },
  {
   "cell_type": "markdown",
   "metadata": {},
   "source": [
    "<h3> 5. Energy </h3>\n",
    "\n",
    "<p>**Our Hypothesis:** We expect that the the average energy score of the quarantine dataset would have dropped from people's 2019 music choices. This aligns with our prediction that quarantine is having a negative impact of people's mental health and that might be visible in our music. There have been less parties, less gatherings, and less reasons to be moving around. In general, the nature of quarantine <em> primes </em> us to beleive energy, much like modality, would have decreased significantly. "
   ]
  },
  {
   "cell_type": "code",
   "execution_count": 59,
   "metadata": {},
   "outputs": [
    {
     "data": {
      "image/png": "[encoded data removed]",
      "text/plain": [
       "<Figure size 576x504 with 1 Axes>"
      ]
     },
     "metadata": {
      "needs_background": "light"
     },
     "output_type": "display_data"
    }
   ],
   "source": [
    "box_plot_comparisons('energy')"
   ]
  },
  {
   "cell_type": "code",
   "execution_count": 183,
   "metadata": {},
   "outputs": [],
   "source": [
    "def print_means(feature):\n",
    "    print(\"Mean \"+str(feature)+\" value for 2019:  \")\n",
    "    print('{:.4f}'.format(np.mean(tracks_2019[feature])))\n",
    "    \n",
    "    print(\"Mean \"+str(feature)+\" value for Quarantine:  \") \n",
    "    print('{:.4f}'.format(np.mean(tracks_quar[feature])))\n",
    "    \n",
    "    print()\n",
    "    print(\"Difference in means from 2019 to Quarantine:\")\n",
    "    print('{:.4f}'.format(np.mean(tracks_quar[feature])-np.mean(tracks_2019[feature])))\n",
    "    \n",
    "    print(\"Percent change from 2019 mean to Quarantine mean:\")\n",
    "    percent_change = (np.mean(tracks_quar[feature])-np.mean(tracks_2019[feature]))/np.mean(tracks_2019[feature])\n",
    "    print('{:.2%}'.format(percent_change))\n",
    "          "
   ]
  },
  {
   "cell_type": "code",
   "execution_count": 184,
   "metadata": {},
   "outputs": [
    {
     "name": "stdout",
     "output_type": "stream",
     "text": [
      "Mean energy value for 2019:  \n",
      "0.7014\n",
      "Mean energy value for Quarantine:  \n",
      "0.6376\n",
      "\n",
      "Difference in means from 2019 to Quarantine:\n",
      "-0.0637\n",
      "Percent change from 2019 mean to Quarantine mean:\n",
      "-9.09%\n"
     ]
    }
   ],
   "source": [
    "print_means('energy')"
   ]
  },
  {
   "cell_type": "markdown",
   "metadata": {},
   "source": [
    "<h4> Evaluation of Significance: Energy </h4> "
   ]
  },
  {
   "cell_type": "code",
   "execution_count": 61,
   "metadata": {},
   "outputs": [
    {
     "ename": "KeyboardInterrupt",
     "evalue": "",
     "output_type": "error",
     "traceback": [
      "\u001b[0;31m---------------------------------------------------------------------------\u001b[0m",
      "\u001b[0;31mKeyboardInterrupt\u001b[0m                         Traceback (most recent call last)",
      "\u001b[0;32m<ipython-input-61-913aa7c1107b>\u001b[0m in \u001b[0;36m<module>\u001b[0;34m\u001b[0m\n\u001b[0;32m----> 1\u001b[0;31m \u001b[0menergy_data\u001b[0m \u001b[0;34m=\u001b[0m \u001b[0mpermuted_diff_list\u001b[0m\u001b[0;34m(\u001b[0m\u001b[0mfeature\u001b[0m \u001b[0;34m=\u001b[0m \u001b[0;34m'energy'\u001b[0m\u001b[0;34m,\u001b[0m \u001b[0mtrials\u001b[0m \u001b[0;34m=\u001b[0m \u001b[0;36m500\u001b[0m\u001b[0;34m)\u001b[0m\u001b[0;34m\u001b[0m\u001b[0;34m\u001b[0m\u001b[0m\n\u001b[0m\u001b[1;32m      2\u001b[0m \u001b[0mplot_permuted_diff\u001b[0m\u001b[0;34m(\u001b[0m\u001b[0mfeature\u001b[0m \u001b[0;34m=\u001b[0m \u001b[0;34m'energy'\u001b[0m\u001b[0;34m,\u001b[0m \u001b[0mdata\u001b[0m \u001b[0;34m=\u001b[0m \u001b[0menergy_data\u001b[0m\u001b[0;34m)\u001b[0m\u001b[0;34m\u001b[0m\u001b[0;34m\u001b[0m\u001b[0m\n\u001b[1;32m      3\u001b[0m \u001b[0mprint\u001b[0m\u001b[0;34m(\u001b[0m\u001b[0;34m\"The difference in means of our data: \"\u001b[0m\u001b[0;34m,\u001b[0m \u001b[0mactual_diff\u001b[0m\u001b[0;34m(\u001b[0m\u001b[0;34m'energy'\u001b[0m\u001b[0;34m)\u001b[0m\u001b[0;34m)\u001b[0m\u001b[0;34m\u001b[0m\u001b[0;34m\u001b[0m\u001b[0m\n",
      "\u001b[0;32m<ipython-input-5-786eb29b5fb8>\u001b[0m in \u001b[0;36mpermuted_diff_list\u001b[0;34m(feature, trials)\u001b[0m\n\u001b[1;32m     11\u001b[0m         \u001b[0;32mfor\u001b[0m \u001b[0mi\u001b[0m \u001b[0;32min\u001b[0m \u001b[0mrange\u001b[0m\u001b[0;34m(\u001b[0m\u001b[0mlen\u001b[0m\u001b[0;34m(\u001b[0m\u001b[0mnew\u001b[0m\u001b[0;34m)\u001b[0m\u001b[0;34m)\u001b[0m\u001b[0;34m:\u001b[0m\u001b[0;34m\u001b[0m\u001b[0;34m\u001b[0m\u001b[0m\n\u001b[1;32m     12\u001b[0m             \u001b[0;32mif\u001b[0m \u001b[0mnew\u001b[0m\u001b[0;34m[\u001b[0m\u001b[0;34m'quarantine'\u001b[0m\u001b[0;34m]\u001b[0m\u001b[0;34m.\u001b[0m\u001b[0miloc\u001b[0m\u001b[0;34m[\u001b[0m\u001b[0mi\u001b[0m\u001b[0;34m]\u001b[0m \u001b[0;34m==\u001b[0m \u001b[0;36m0\u001b[0m\u001b[0;34m:\u001b[0m\u001b[0;34m\u001b[0m\u001b[0;34m\u001b[0m\u001b[0m\n\u001b[0;32m---> 13\u001b[0;31m                 \u001b[0mlist_2019\u001b[0m\u001b[0;34m.\u001b[0m\u001b[0mappend\u001b[0m\u001b[0;34m(\u001b[0m\u001b[0mnew\u001b[0m\u001b[0;34m[\u001b[0m\u001b[0mfeature\u001b[0m\u001b[0;34m]\u001b[0m\u001b[0;34m.\u001b[0m\u001b[0miloc\u001b[0m\u001b[0;34m[\u001b[0m\u001b[0mi\u001b[0m\u001b[0;34m]\u001b[0m\u001b[0;34m)\u001b[0m\u001b[0;34m\u001b[0m\u001b[0;34m\u001b[0m\u001b[0m\n\u001b[0m\u001b[1;32m     14\u001b[0m             \u001b[0;32melse\u001b[0m\u001b[0;34m:\u001b[0m\u001b[0;34m\u001b[0m\u001b[0;34m\u001b[0m\u001b[0m\n\u001b[1;32m     15\u001b[0m                 \u001b[0mlist_quar\u001b[0m\u001b[0;34m.\u001b[0m\u001b[0mappend\u001b[0m\u001b[0;34m(\u001b[0m\u001b[0mnew\u001b[0m\u001b[0;34m[\u001b[0m\u001b[0mfeature\u001b[0m\u001b[0;34m]\u001b[0m\u001b[0;34m.\u001b[0m\u001b[0miloc\u001b[0m\u001b[0;34m[\u001b[0m\u001b[0mi\u001b[0m\u001b[0;34m]\u001b[0m\u001b[0;34m)\u001b[0m\u001b[0;34m\u001b[0m\u001b[0;34m\u001b[0m\u001b[0m\n",
      "\u001b[0;32m/opt/anaconda3/lib/python3.7/site-packages/pandas/core/indexing.py\u001b[0m in \u001b[0;36m__getitem__\u001b[0;34m(self, key)\u001b[0m\n\u001b[1;32m   1422\u001b[0m \u001b[0;34m\u001b[0m\u001b[0m\n\u001b[1;32m   1423\u001b[0m             \u001b[0mmaybe_callable\u001b[0m \u001b[0;34m=\u001b[0m \u001b[0mcom\u001b[0m\u001b[0;34m.\u001b[0m\u001b[0mapply_if_callable\u001b[0m\u001b[0;34m(\u001b[0m\u001b[0mkey\u001b[0m\u001b[0;34m,\u001b[0m \u001b[0mself\u001b[0m\u001b[0;34m.\u001b[0m\u001b[0mobj\u001b[0m\u001b[0;34m)\u001b[0m\u001b[0;34m\u001b[0m\u001b[0;34m\u001b[0m\u001b[0m\n\u001b[0;32m-> 1424\u001b[0;31m             \u001b[0;32mreturn\u001b[0m \u001b[0mself\u001b[0m\u001b[0;34m.\u001b[0m\u001b[0m_getitem_axis\u001b[0m\u001b[0;34m(\u001b[0m\u001b[0mmaybe_callable\u001b[0m\u001b[0;34m,\u001b[0m \u001b[0maxis\u001b[0m\u001b[0;34m=\u001b[0m\u001b[0maxis\u001b[0m\u001b[0;34m)\u001b[0m\u001b[0;34m\u001b[0m\u001b[0;34m\u001b[0m\u001b[0m\n\u001b[0m\u001b[1;32m   1425\u001b[0m \u001b[0;34m\u001b[0m\u001b[0m\n\u001b[1;32m   1426\u001b[0m     \u001b[0;32mdef\u001b[0m \u001b[0m_is_scalar_access\u001b[0m\u001b[0;34m(\u001b[0m\u001b[0mself\u001b[0m\u001b[0;34m,\u001b[0m \u001b[0mkey\u001b[0m\u001b[0;34m:\u001b[0m \u001b[0mTuple\u001b[0m\u001b[0;34m)\u001b[0m\u001b[0;34m:\u001b[0m\u001b[0;34m\u001b[0m\u001b[0;34m\u001b[0m\u001b[0m\n",
      "\u001b[0;32m/opt/anaconda3/lib/python3.7/site-packages/pandas/core/indexing.py\u001b[0m in \u001b[0;36m_getitem_axis\u001b[0;34m(self, key, axis)\u001b[0m\n\u001b[1;32m   2145\u001b[0m \u001b[0;34m\u001b[0m\u001b[0m\n\u001b[1;32m   2146\u001b[0m         \u001b[0;31m# a list of integers\u001b[0m\u001b[0;34m\u001b[0m\u001b[0;34m\u001b[0m\u001b[0;34m\u001b[0m\u001b[0m\n\u001b[0;32m-> 2147\u001b[0;31m         \u001b[0;32melif\u001b[0m \u001b[0mis_list_like_indexer\u001b[0m\u001b[0;34m(\u001b[0m\u001b[0mkey\u001b[0m\u001b[0;34m)\u001b[0m\u001b[0;34m:\u001b[0m\u001b[0;34m\u001b[0m\u001b[0;34m\u001b[0m\u001b[0m\n\u001b[0m\u001b[1;32m   2148\u001b[0m             \u001b[0;32mreturn\u001b[0m \u001b[0mself\u001b[0m\u001b[0;34m.\u001b[0m\u001b[0m_get_list_axis\u001b[0m\u001b[0;34m(\u001b[0m\u001b[0mkey\u001b[0m\u001b[0;34m,\u001b[0m \u001b[0maxis\u001b[0m\u001b[0;34m=\u001b[0m\u001b[0maxis\u001b[0m\u001b[0;34m)\u001b[0m\u001b[0;34m\u001b[0m\u001b[0;34m\u001b[0m\u001b[0m\n\u001b[1;32m   2149\u001b[0m \u001b[0;34m\u001b[0m\u001b[0m\n",
      "\u001b[0;32m/opt/anaconda3/lib/python3.7/site-packages/pandas/core/indexers.py\u001b[0m in \u001b[0;36mis_list_like_indexer\u001b[0;34m(key)\u001b[0m\n\u001b[1;32m     11\u001b[0m \u001b[0;34m\u001b[0m\u001b[0m\n\u001b[1;32m     12\u001b[0m \u001b[0;34m\u001b[0m\u001b[0m\n\u001b[0;32m---> 13\u001b[0;31m \u001b[0;32mdef\u001b[0m \u001b[0mis_list_like_indexer\u001b[0m\u001b[0;34m(\u001b[0m\u001b[0mkey\u001b[0m\u001b[0;34m)\u001b[0m \u001b[0;34m->\u001b[0m \u001b[0mbool\u001b[0m\u001b[0;34m:\u001b[0m\u001b[0;34m\u001b[0m\u001b[0;34m\u001b[0m\u001b[0m\n\u001b[0m\u001b[1;32m     14\u001b[0m     \"\"\"\n\u001b[1;32m     15\u001b[0m     \u001b[0mCheck\u001b[0m \u001b[0;32mif\u001b[0m \u001b[0mwe\u001b[0m \u001b[0mhave\u001b[0m \u001b[0ma\u001b[0m \u001b[0mlist\u001b[0m\u001b[0;34m-\u001b[0m\u001b[0mlike\u001b[0m \u001b[0mindexer\u001b[0m \u001b[0mthat\u001b[0m \u001b[0;32mis\u001b[0m \u001b[0;34m*\u001b[0m\u001b[0;32mnot\u001b[0m\u001b[0;34m*\u001b[0m \u001b[0ma\u001b[0m \u001b[0mNamedTuple\u001b[0m\u001b[0;34m.\u001b[0m\u001b[0;34m\u001b[0m\u001b[0;34m\u001b[0m\u001b[0m\n",
      "\u001b[0;31mKeyboardInterrupt\u001b[0m: "
     ]
    }
   ],
   "source": [
    "energy_data = permuted_diff_list(feature = 'energy', trials = 500)"
   ]
  },
  {
   "cell_type": "code",
   "execution_count": null,
   "metadata": {},
   "outputs": [],
   "source": [
    "plot_permuted_diff(feature = 'energy', data = energy_data)\n",
    "print(\"The difference in means of our data: \", actual_diff('energy'))"
   ]
  },
  {
   "cell_type": "code",
   "execution_count": null,
   "metadata": {},
   "outputs": [],
   "source": [
    "data_pvalue(data = modality_data, trials = 500, feature = 'energy')\n",
    "t_test_means(feature = 'energy', alpha = 0.05)"
   ]
  },
  {
   "cell_type": "markdown",
   "metadata": {},
   "source": [
    "<h4> Conclusion: Effect on Energy </h4>\n",
    "    \n",
    "<p> Our hypothesis for energy appears to be correct. The average energy of the quarantine dataset decreased by approximately 0.0637 from 2019's data, indicating that the overall loudness, timbre, onset rate, and general entropy of the music was lower. Our simulations provided a p-value approaching 0.000000..., and our t-test provided the same. A 0.637 difference in means is certainly statistically significant, and further guides our conclusions about the effect of isloation on music choice. </p>\n"
   ]
  },
  {
   "cell_type": "markdown",
   "metadata": {},
   "source": [
    "---"
   ]
  },
  {
   "cell_type": "markdown",
   "metadata": {},
   "source": [
    "<h3> 6. Danceability </h3>\n",
    "\n",
    "<p> **Our Hypothesis:** Our Hypothesis for this audio feature is similair to that of energy. Bars, clubs, venues, and house parties have come to an almost complete stop. It is logical that the average danceability score would have decreased in quarantine."
   ]
  },
  {
   "cell_type": "code",
   "execution_count": 99,
   "metadata": {
    "scrolled": true
   },
   "outputs": [
    {
     "data": {
      "image/png": "[encoded data removed]",
      "text/plain": [
       "<Figure size 576x504 with 1 Axes>"
      ]
     },
     "metadata": {},
     "output_type": "display_data"
    }
   ],
   "source": [
    "box_plot_comparisons('danceability')"
   ]
  },
  {
   "cell_type": "code",
   "execution_count": 180,
   "metadata": {},
   "outputs": [
    {
     "name": "stdout",
     "output_type": "stream",
     "text": [
      "Mean danceability value for 2019:  \n",
      "0.6489\n",
      "Mean danceability value for Quarantine:  \n",
      "0.6566\n",
      "\n",
      "Difference from 2019 to Quarantine:\n",
      "-0.0077\n",
      "Percent change from 2019 to Quarantine:\n",
      "1.18%\n"
     ]
    }
   ],
   "source": [
    "print_means('danceability')"
   ]
  },
  {
   "cell_type": "markdown",
   "metadata": {},
   "source": [
    "<h4> Evaluation of Significance: Danceability </h4> "
   ]
  },
  {
   "cell_type": "code",
   "execution_count": null,
   "metadata": {},
   "outputs": [],
   "source": [
    "print(\"The difference in mean danceability between Quarantine and 2019 songs:\")\n",
    "print(actual_diff('danceability'))"
   ]
  },
  {
   "cell_type": "code",
   "execution_count": null,
   "metadata": {},
   "outputs": [],
   "source": [
    "danceability_data = permuted_diff_list(feature = 'danceability', trials = 500)\n",
    "plot_permuted_diff(feature = 'danceability', data = danceability_data)\n",
    "print(\"The difference in means of our data: \", actual_diff('danceability'))"
   ]
  },
  {
   "cell_type": "code",
   "execution_count": null,
   "metadata": {},
   "outputs": [],
   "source": [
    "data_pvalue(data = modality_data, trials = 500, feature = 'danceability')\n",
    "t_test_means(feature = 'danceability', alpha = 0.05)"
   ]
  },
  {
   "cell_type": "markdown",
   "metadata": {},
   "source": [
    "<h4> Conclusion: Are we dancing at home? </h4>\n",
    "<p> The data shows that the average danceability score actually <em> increased </em> by 0.0077. This is suprising, considering that the average energy scored decreased by 0.0637, as illustrated in the previous section. While this is the smallest change we've seen thus far, the change is still classified as statistically significant, yielding a 0.142 p-value from our simulations and a p-value extremely close to 0 from our T-test. Music suitable to dancing appears to be just as appealing alone as it is when allowed to be others. Maybe, without fearing judgement from our peers, people are finally breaking out some moves in the privacy of their home."
   ]
  },
  {
   "cell_type": "markdown",
   "metadata": {},
   "source": [
    "---"
   ]
  },
  {
   "cell_type": "markdown",
   "metadata": {},
   "source": [
    "<h3> 7. Valence </h3>\n",
    "\n",
    "<p>**Our Hypothesis:** Valence can be considered a somewhat quantitative measure of modality, in the sense that is measures the overall positiveness of a track (while major and minor keys are also associated with positive/negative themes, as well). Thus, like our prediction for modality, the nature of quarantine brings us to predict that valence will decrease significantly."
   ]
  },
  {
   "cell_type": "code",
   "execution_count": 100,
   "metadata": {
    "scrolled": true
   },
   "outputs": [
    {
     "data": {
      "image/png": "[encoded data removed]",
      "text/plain": [
       "<Figure size 576x504 with 1 Axes>"
      ]
     },
     "metadata": {},
     "output_type": "display_data"
    }
   ],
   "source": [
    "box_plot_comparisons('valence')"
   ]
  },
  {
   "cell_type": "code",
   "execution_count": 165,
   "metadata": {},
   "outputs": [
    {
     "name": "stdout",
     "output_type": "stream",
     "text": [
      "Mean valence value for 2019:  \n",
      "0.5529\n",
      "Mean valence value for Quarantine:  \n",
      "0.5278\n",
      "\n",
      "Difference from 2019 to Quarantine:\n",
      "0.0250\n",
      "Percent change from 2019 to Quarantine:\n",
      "-4.53%\n"
     ]
    }
   ],
   "source": [
    "print_means('valence')"
   ]
  },
  {
   "cell_type": "markdown",
   "metadata": {},
   "source": [
    "<h4> Evaluation of Significance: Valence </h4> "
   ]
  },
  {
   "cell_type": "code",
   "execution_count": null,
   "metadata": {},
   "outputs": [],
   "source": [
    "print(\"The difference in mean valence between Quarantine and 2019 songs:\")\n",
    "print(actual_diff('valence'))"
   ]
  },
  {
   "cell_type": "code",
   "execution_count": null,
   "metadata": {},
   "outputs": [],
   "source": [
    "valence_data = permuted_diff_list(feature = 'valence', trials = 500)\n",
    "plot_permuted_diff(feature = 'valence', data = valence_data)\n",
    "print(\"The difference in means of our data: \", actual_diff('valence'))"
   ]
  },
  {
   "cell_type": "code",
   "execution_count": null,
   "metadata": {},
   "outputs": [],
   "source": [
    "data_pvalue(data = valence_data, trials = 500, feature = 'valence')"
   ]
  },
  {
   "cell_type": "code",
   "execution_count": null,
   "metadata": {},
   "outputs": [],
   "source": [
    "t_test_means(feature = 'valence', alpha = 0.05)"
   ]
  },
  {
   "cell_type": "markdown",
   "metadata": {},
   "source": [
    "<h4> Conclusion: Is there value in valence? </h4>\n",
    "<p> The mean valence for 2019 songs was 0.5529 increased to a mean of 0.0250 for Quarantine songs, signaling that our hypothesis was correct. Further, with p-values both approacing 0.000000 it is clear that a percentage decrease of this size is certaintly statistically significant. Now that we have analyzed both modality and valence, however, it is interesting that more songs were in minor keys, while the valence decreased significantly. We expected these two variables to increase proportionally.  "
   ]
  },
  {
   "cell_type": "markdown",
   "metadata": {},
   "source": [
    "---"
   ]
  },
  {
   "cell_type": "markdown",
   "metadata": {},
   "source": [
    "<h3> 8. Acousticness </h3>\n",
    "\n",
    "<p>**Our Hypothesis:** Accousticness is an audio feature where we do not expect to see much change as a result of the quarantine. Listening to acoustic music is personal, style choice that is not as clear of a mood indicator as energy, valence, or danceability."
   ]
  },
  {
   "cell_type": "code",
   "execution_count": 101,
   "metadata": {
    "scrolled": true
   },
   "outputs": [
    {
     "data": {
      "image/png": "[encoded data removed]",
      "text/plain": [
       "<Figure size 576x504 with 1 Axes>"
      ]
     },
     "metadata": {},
     "output_type": "display_data"
    }
   ],
   "source": [
    "box_plot_comparisons('acousticness')"
   ]
  },
  {
   "cell_type": "code",
   "execution_count": 166,
   "metadata": {},
   "outputs": [
    {
     "name": "stdout",
     "output_type": "stream",
     "text": [
      "Mean valence value for 2019:  \n",
      "0.5529\n",
      "Mean valence value for Quarantine:  \n",
      "0.5278\n",
      "\n",
      "Difference from 2019 to Quarantine:\n",
      "0.0250\n",
      "Percent change from 2019 to Quarantine:\n",
      "-4.53%\n"
     ]
    }
   ],
   "source": [
    "print_means('valence')"
   ]
  },
  {
   "cell_type": "markdown",
   "metadata": {},
   "source": [
    "<h4> Evaluation of Significance: Acousticness </h4> "
   ]
  },
  {
   "cell_type": "code",
   "execution_count": null,
   "metadata": {},
   "outputs": [],
   "source": [
    "print(\"The difference in mean acousticness between Quarantine and 2019 songs:\")\n",
    "print(actual_diff('acousticness'))"
   ]
  },
  {
   "cell_type": "code",
   "execution_count": null,
   "metadata": {},
   "outputs": [],
   "source": [
    "acousticness_data = permuted_diff_list(feature = 'acousticness', trials = 500)\n",
    "plot_permuted_diff(feature = 'acousticness', data = acousticness_data)\n",
    "print(\"The difference in means of our data: \", actual_diff('acousticness'))"
   ]
  },
  {
   "cell_type": "code",
   "execution_count": null,
   "metadata": {},
   "outputs": [],
   "source": [
    "data_pvalue(data = acousticness_data, trials = 500, feature = 'acousticness')"
   ]
  },
  {
   "cell_type": "code",
   "execution_count": null,
   "metadata": {},
   "outputs": [],
   "source": [
    "t_test_means(feature = 'acousticness', alpha = 0.05)"
   ]
  },
  {
   "cell_type": "markdown",
   "metadata": {},
   "source": [
    "<h4> Conclusion: How are the acoustics during quarantine? </h4>\n",
    "<p> The mean acousticness in 2019 songs decreased by 0.0250 on a 0-1 scale, going from 0.5529 down to 0.5278 mean valence in Quarantine songs. This 4.53% decrease of accousticness in the quarantine dataset from 2019, and given both p-values (simulation and T-test) approached 0, this is a statistically significant change. It is hard to place a reason for this change, perhaps acoustic music is less comforting during a a dreary time? "
   ]
  },
  {
   "cell_type": "markdown",
   "metadata": {},
   "source": [
    "---"
   ]
  },
  {
   "cell_type": "markdown",
   "metadata": {},
   "source": [
    "<h3> 9. Speechiness </h3>\n",
    "\n",
    "<p>**Our Hypothesis:** Speechiness is a audio feature, similair to acousticness, that we don't believe is going to drastically change during quarentine. A higher average speechiness score would indicate more rap music is being listened to, which is possible, but we predict any increase or decrease will be less significant than the other audio features analyzed. "
   ]
  },
  {
   "cell_type": "code",
   "execution_count": 103,
   "metadata": {
    "scrolled": false
   },
   "outputs": [
    {
     "data": {
      "image/png": "[encoded data removed]",
      "text/plain": [
       "<Figure size 576x504 with 1 Axes>"
      ]
     },
     "metadata": {},
     "output_type": "display_data"
    }
   ],
   "source": [
    "box_plot_comparisons('speechiness')"
   ]
  },
  {
   "cell_type": "code",
   "execution_count": 186,
   "metadata": {},
   "outputs": [
    {
     "name": "stdout",
     "output_type": "stream",
     "text": [
      "Mean speechiness value for 2019:  \n",
      "0.0926\n",
      "Mean speechiness value for Quarantine:  \n",
      "0.1059\n",
      "\n",
      "Difference in means from 2019 to Quarantine:\n",
      "0.0133\n",
      "Percent change from 2019 mean to Quarantine mean:\n",
      "14.32%\n"
     ]
    }
   ],
   "source": [
    "print_means('speechiness')"
   ]
  },
  {
   "cell_type": "markdown",
   "metadata": {},
   "source": [
    "<h4> Evaluation of Significance: Speechiness </h4> "
   ]
  },
  {
   "cell_type": "code",
   "execution_count": null,
   "metadata": {},
   "outputs": [],
   "source": [
    "print(\"The difference in mean speechiness between Quarantine and 2019 songs:\")\n",
    "print(actual_diff('speechiness'))"
   ]
  },
  {
   "cell_type": "code",
   "execution_count": null,
   "metadata": {},
   "outputs": [],
   "source": [
    "speechiness_data = permuted_diff_list(feature = 'speechiness', trials = 500)\n",
    "plot_permuted_diff(feature = 'speechiness', data = speechiness_data)\n",
    "print(\"The difference in means of our data: \", actual_diff('speechiness'))"
   ]
  },
  {
   "cell_type": "code",
   "execution_count": null,
   "metadata": {},
   "outputs": [],
   "source": [
    "data_pvalue(data = speechiness_data, trials = 500, feature = 'speechiness')"
   ]
  },
  {
   "cell_type": "code",
   "execution_count": null,
   "metadata": {},
   "outputs": [],
   "source": [
    "t_test_means(feature = 'speechiness', alpha = 0.05)"
   ]
  },
  {
   "cell_type": "markdown",
   "metadata": {},
   "source": [
    "<h4> Conclusion: Hard to <em> rap </em> our head around this one... </h4>\n",
    "<p> There was a 1.3% increase in the average speechiness score of the quarantine dataset, and because both p-values were approximately 0, it's again almost impossible this was due to random chance. Admittidly, the change is not as significant as we've seen with other audio features, but it can't be ignored. People are listening to music with slightly more words. Lyrics, like poetry, often inspire and motivate us - and maybe we are turning to rap music for answers? Our final thoughts will provide a thorough explanation of this theme."
   ]
  },
  {
   "cell_type": "markdown",
   "metadata": {},
   "source": [
    "---"
   ]
  },
  {
   "cell_type": "markdown",
   "metadata": {},
   "source": [
    "<h3> 10. Tempo </h3>\n",
    "\n",
    "<p>**Our Hypothesis:** Tempo is an audio feature most people understand without a description. Staying consistant with our overarching hypothesis, we expect the average tempo to decrease during quarantine. Sad music is categorically  considered \"slow\", while happy music is often up-beat and quick. "
   ]
  },
  {
   "cell_type": "code",
   "execution_count": 105,
   "metadata": {
    "scrolled": true
   },
   "outputs": [
    {
     "data": {
      "image/png": "[encoded data removed]",
      "text/plain": [
       "<Figure size 576x504 with 1 Axes>"
      ]
     },
     "metadata": {},
     "output_type": "display_data"
    }
   ],
   "source": [
    "box_plot_comparisons('tempo')"
   ]
  },
  {
   "cell_type": "code",
   "execution_count": 168,
   "metadata": {},
   "outputs": [
    {
     "name": "stdout",
     "output_type": "stream",
     "text": [
      "Mean tempo value for 2019:  \n",
      "123.1222\n",
      "Mean tempo value for Quarantine:  \n",
      "120.2803\n",
      "\n",
      "Difference from 2019 to Quarantine:\n",
      "2.8419\n",
      "Percent change from 2019 to Quarantine:\n",
      "-2.31%\n"
     ]
    }
   ],
   "source": [
    "print_means('tempo')"
   ]
  },
  {
   "cell_type": "markdown",
   "metadata": {},
   "source": [
    "<h4> Evaluation of Significance: Tempo </h4> "
   ]
  },
  {
   "cell_type": "code",
   "execution_count": null,
   "metadata": {},
   "outputs": [],
   "source": [
    "print(\"The difference in mean tempo between Quarantine and 2019 songs:\")\n",
    "print(actual_diff('tempo'))"
   ]
  },
  {
   "cell_type": "code",
   "execution_count": null,
   "metadata": {},
   "outputs": [],
   "source": [
    "tempo_data = permuted_diff_list(feature = 'tempo', trials = 500)\n",
    "plot_permuted_diff(feature = 'tempo', data = energy_data)\n",
    "print(\"The difference in means of our data: \", actual_diff('tempo'))"
   ]
  },
  {
   "cell_type": "code",
   "execution_count": null,
   "metadata": {},
   "outputs": [],
   "source": [
    "data_pvalue(data = tempo_data, trials = 500, feature = 'tempo')"
   ]
  },
  {
   "cell_type": "code",
   "execution_count": null,
   "metadata": {},
   "outputs": [],
   "source": [
    "t_test_means(feature = 'tempo', alpha = 0.05)"
   ]
  },
  {
   "cell_type": "markdown",
   "metadata": {},
   "source": [
    "<h4> Conclusion on Tempo: Could quarantine fo any slower? </h4>\n",
    "<p> As predicted, the average tempo of the quarantine songs decreased from 2019, by 2.84 beats per second. A change of this size is certainly statistically significant, yielding p-scores approximately equal to 0 on both the simulation and T-Test. While the tempo of a song does not exactly correlate with the mood, this supports the thoery  that people are listening to sadder, slower, and less energetic music while they sit at home. Of course, not all of the audio features supported this theme, but tempo clearly does. "
   ]
  },
  {
   "cell_type": "markdown",
   "metadata": {},
   "source": [
    "---\n",
    "---"
   ]
  },
  {
   "cell_type": "markdown",
   "metadata": {},
   "source": [
    "<h2> Concluding Thoughts </h2>"
   ]
  },
  {
   "cell_type": "markdown",
   "metadata": {},
   "source": [
    "<p> So, how has our music streaming changed since being in quarantine? Each of the ten different audio features we’ve analyzed offered unique insight into our listening choices, and through the analysis of our streaming data, we’ve been able to illustrate exactly how these choices have fluctuated. </p>\n",
    " \n",
    "<p>The most notable and statistically significant discovery of the quantitative audio features was the decrease in energy. While this drop was initially hypothesized, it is interesting to actually see evidence of this in our data, confirming, with numbers, the real-life effects of quarantine that we see in our day-to-day lives. Qualitatively, the proportion of the songs that we listen to that are explicit has grown by 14.41% since 2019; a statistically significant difference that forces us to wonder why people are choosing to listen to more explicit songs than before. Other variables like speechiness and acousticness had small increases, while tempo and valence had smaller decreases, giving us the opportunity to make inferences about why quarantine is affecting these features. </p>\n",
    " \n",
    "<p> Because our statistical significance evaluations were methodical, we are confident that the data increases and decreases reflect the actual listening choices of people in quarantine. However, we are less confident in our causation explanations. For example, danceability’s slight increase does not seem logical. Likewise, the proportion of songs with a major mode increased.  Both of these results go against our hypothesis that people are listening to slower, relaxed music. If we had analyzed datasets from 2018, 2017, 2016, and even 2015, we would get a better understanding of the average variability of features like danceability from year to year, which might explain the seemingly nonsensical increases of danceability and modality. </p> \n",
    " \n",
    "<p>Another improvement of this research opportunity would be to analyze what genres and radio stations people are listening to more often.  Spotify provides a number of recommendation resources and pre-made playlists. Our analysis only looked at self-made playlists, leaving out most of the music available on Spotify. The amount people are listening to these unique parts of the platform is always changing, providing room for further research. </p>\n",
    " \n",
    "<p>This research project has been a rewarding and challenging journey. It’s provided hands-on experience in both web scraping using an API, as well as analyzing complex data. We are proud of our work, and grateful to the caring support-system INFO 2950 provides to make it all possible. </p>"
   ]
  },
  {
   "cell_type": "markdown",
   "metadata": {},
   "source": [
    "<h2> Source Code </h2>"
   ]
  },
  {
   "cell_type": "markdown",
   "metadata": {},
   "source": [
    "<p> Folder: dopadosapd </p>"
   ]
  },
  {
   "cell_type": "markdown",
   "metadata": {},
   "source": [
    "<h2> Acknowledgements </h2>"
   ]
  },
  {
   "cell_type": "markdown",
   "metadata": {},
   "source": [
    "<p> brain </p>"
   ]
  },
  {
   "cell_type": "code",
   "execution_count": 108,
   "metadata": {
    "scrolled": true
   },
   "outputs": [
    {
     "data": {
      "application/javascript": [
       "let words = 0;\n",
       "Jupyter.notebook.get_cells().forEach(cell => {if (cell.cell_type == \"markdown\") { words += cell.element[0].innerText.split(\" \").length }})\n",
       "element.text(\"markdown words: \" + words)"
      ],
      "text/plain": [
       "<IPython.core.display.Javascript object>"
      ]
     },
     "metadata": {},
     "output_type": "display_data"
    }
   ],
   "source": [
    "%%javascript\n",
    "let words = 0;\n",
    "Jupyter.notebook.get_cells().forEach(cell => {if (cell.cell_type == \"markdown\") { words += cell.element[0].innerText.split(\" \").length }})\n",
    "element.text(\"markdown words: \" + words)"
   ]
  },
  {
   "cell_type": "code",
   "execution_count": null,
   "metadata": {},
   "outputs": [],
   "source": []
  }
 ],
 "metadata": {
  "kernelspec": {
   "display_name": "Python 3",
   "language": "python",
   "name": "python3"
  },
  "language_info": {
   "codemirror_mode": {
    "name": "ipython",
    "version": 3
   },
   "file_extension": ".py",
   "mimetype": "text/x-python",
   "name": "python",
   "nbconvert_exporter": "python",
   "pygments_lexer": "ipython3",
   "version": "3.7.4"
  }
 },
 "nbformat": 4,
 "nbformat_minor": 2
}
