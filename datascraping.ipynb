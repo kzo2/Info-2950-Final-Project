{
 "cells": [
  {
   "cell_type": "code",
   "execution_count": 1,
   "metadata": {},
   "outputs": [],
   "source": [
    "# We used Spotipy's documentation\n",
    "# https://spotipy.readthedocs.io/en/2.12.0/"
   ]
  },
  {
   "cell_type": "code",
   "execution_count": 2,
   "metadata": {},
   "outputs": [
    {
     "name": "stdout",
     "output_type": "stream",
     "text": [
      "\n",
      "The following command must be run outside of the IPython shell:\n",
      "\n",
      "    $ pip install spotipy\n",
      "\n",
      "The Python package manager (pip) can only be used from outside of IPython.\n",
      "Please reissue the `pip` command in a separate terminal or command prompt.\n",
      "\n",
      "See the Python documentation for more information on how to install packages:\n",
      "\n",
      "    https://docs.python.org/3/installing/\n"
     ]
    }
   ],
   "source": [
    "pip install spotipy"
   ]
  },
  {
   "cell_type": "code",
   "execution_count": 3,
   "metadata": {},
   "outputs": [
    {
     "name": "stdout",
     "output_type": "stream",
     "text": [
      "env: SPOTIPY_CLIENT_ID=3543bc68b7a64fa4896cb0c1d2499e33\n",
      "env: SPOTIPY_CLIENT_SECRET=b711f5fe2e9a417c89247f7036c9c069\n"
     ]
    }
   ],
   "source": [
    "import spotipy\n",
    "from spotipy.oauth2 import SpotifyClientCredentials\n",
    "import pandas as pd\n",
    "import numpy as np\n",
    "from collections import Counter\n",
    "\n",
    "%env SPOTIPY_CLIENT_ID = 3543bc68b7a64fa4896cb0c1d2499e33\n",
    "%env SPOTIPY_CLIENT_SECRET = b711f5fe2e9a417c89247f7036c9c069\n",
    "\n",
    "sp = spotipy.Spotify(client_credentials_manager=SpotifyClientCredentials())"
   ]
  },
  {
   "cell_type": "code",
   "execution_count": 4,
   "metadata": {},
   "outputs": [
    {
     "name": "stdout",
     "output_type": "stream",
     "text": [
      "276763\n"
     ]
    }
   ],
   "source": [
    "#prints number of playlists with corona_terms in title/description\n",
    "#this is helpful bc it helps us see ahead of time how huge the dataset is\n",
    "\n",
    "terms = [\"Quarantine\"]\n",
    "for term in terms:\n",
    "    playlists = sp.search('q=\"{}\"'.format(term), type='playlist')\n",
    "    number_playlists = playlists['playlists']['total']\n",
    "    print(number_playlists)"
   ]
  },
  {
   "cell_type": "code",
   "execution_count": 5,
   "metadata": {},
   "outputs": [],
   "source": [
    "#function that creates a list with the playlist name, URI & total number of tracks\n",
    "def extract_playlist(x,list_):\n",
    "    for i in x['playlists']['items']:\n",
    "        list_.append({\"name\" : i['name'], \"total\":i[\"tracks\"]['total'], \"uri\":i[\"uri\"]})"
   ]
  },
  {
   "cell_type": "code",
   "execution_count": 6,
   "metadata": {},
   "outputs": [],
   "source": [
    "#create a list of playlists\n",
    "list_of_playlists = []\n",
    "\n",
    "for term in terms:\n",
    "    \n",
    "    #use index (i) which are multiples of 50 -- random sample bc of search limitation\n",
    "    #spotify can only give you 2000 results at a time\n",
    "    #random sample of 40 playlists\n",
    "    for i in range(0,2000,50):\n",
    "        \n",
    "        try:\n",
    "            #create variable init_data that has random sample of playlists with terms\n",
    "            playlist_data = sp.search('q=\"{}\"'.format(term), type='playlist', limit=50, offset=i)\n",
    "                        #limit = 50, can only return up to 50 items, random sample of 50 songs\n",
    "                        #type = playlist, only return playlists\n",
    "                        #offset = i, the index of the first item to return\n",
    "            \n",
    "            extract_playlist(playlist_data,list_of_playlists)\n",
    "            #above function appends init_data to list_of_playlists\n",
    "        \n",
    "        except:\n",
    "            print(\"Error\")"
   ]
  },
  {
   "cell_type": "code",
   "execution_count": 7,
   "metadata": {},
   "outputs": [
    {
     "data": {
      "text/plain": [
       "2000"
      ]
     },
     "execution_count": 7,
     "metadata": {},
     "output_type": "execute_result"
    }
   ],
   "source": [
    "#dataset is length 2000 --> sample of 40 playlists, from each playlist, sample of 50 songs\n",
    "len(list_of_playlists)"
   ]
  },
  {
   "cell_type": "code",
   "execution_count": 8,
   "metadata": {},
   "outputs": [],
   "source": [
    "#creates dataframe with list of playlists, dropping duplicates & delete their index\n",
    "#only need to drop duplicates if you use multiple terms, i.e. Coronavirus AND Quarantine\n",
    "playlists = pd.DataFrame(list_of_playlists).drop_duplicates().reset_index(drop=True)"
   ]
  },
  {
   "cell_type": "code",
   "execution_count": 9,
   "metadata": {},
   "outputs": [],
   "source": [
    "#creates csv file from df\n",
    "playlists.to_csv(\"playlists.csv\")"
   ]
  },
  {
   "cell_type": "code",
   "execution_count": null,
   "metadata": {},
   "outputs": [],
   "source": [
    "#for a random sample of playlists, takes random sample of tracks, creates a list of tracks and their uris\n",
    "tracks = []\n",
    "\n",
    "#using each uri code listed in the playlist.csv\n",
    "for uri in playlists['uri']:\n",
    "        \n",
    "        length = sp.playlist_tracks(uri)['total']\n",
    "        #playlist_tracks(parameter) is playlist id, aka uri\n",
    "        #length is the playlist length of each individual playlist\n",
    "    \n",
    "        for i in range(0,length, 50):\n",
    "            #from 0 to playlist length, take every other 50th index\n",
    "            \n",
    "            playlist_data = sp.playlist_tracks(uri, limit=50, offset=i)\n",
    "            #playlist_tracks get URI of tracks in playlists, input URI\n",
    "            #playlist_data now has playlist track data\n",
    "            #replacing old data\n",
    "            \n",
    "            try:\n",
    "                for k in playlist_data['items']:\n",
    "                    tracks.append(k['track'][\"uri\"])\n",
    "                    \n",
    "            except:\n",
    "                pass"
   ]
  },
  {
   "cell_type": "code",
   "execution_count": null,
   "metadata": {},
   "outputs": [],
   "source": [
    "len(tracks)"
   ]
  },
  {
   "cell_type": "code",
   "execution_count": null,
   "metadata": {},
   "outputs": [],
   "source": [
    "#dataframe with individual track uri and count\n",
    "df = pd.DataFrame.from_dict(Counter(tracks), orient='index').reset_index().rename(columns={\"index\":\"uri\", 0:\"count\"})"
   ]
  },
  {
   "cell_type": "code",
   "execution_count": null,
   "metadata": {},
   "outputs": [],
   "source": [
    "df"
   ]
  },
  {
   "cell_type": "code",
   "execution_count": null,
   "metadata": {},
   "outputs": [],
   "source": [
    "#useful stats to help us understand frequency of the popular tracks\n",
    "#to know when we should cut off our data/if necessary\n",
    "df[(df['count']>4) & (df['count']<2000)].describe()"
   ]
  },
  {
   "cell_type": "code",
   "execution_count": null,
   "metadata": {},
   "outputs": [],
   "source": [
    "#creates a csv file of the unfiltered track data\n",
    "df.to_csv(\"tracks_list_unfiltered.csv\")"
   ]
  },
  {
   "cell_type": "code",
   "execution_count": null,
   "metadata": {},
   "outputs": [],
   "source": [
    "#cuts off any tracks that appear less than twice (CAN CHANGE)\n",
    "#this is useful bc we don't want tracks that don't appear frequently\n",
    "sliced_df = df[df['count']>4]\n",
    "len(sliced_df)"
   ]
  },
  {
   "cell_type": "code",
   "execution_count": null,
   "metadata": {},
   "outputs": [],
   "source": [
    "#filters important variables, makes the dataframe usable\n",
    "def filter_data(x):\n",
    "    data = sp.track(x['uri'])\n",
    "    #sets data variable for each track\n",
    "    \n",
    "    name = data['name']\n",
    "    pop = data['popularity']\n",
    "    date = data['album']['release_date']\n",
    "    explic = data['explicit']\n",
    "    \n",
    "    features = sp.audio_features(x['uri'])\n",
    "    #uses spotify function to access audio features\n",
    "    \n",
    "    return {**x, \n",
    "            \"name\" : name, \n",
    "            'release_date': date, \n",
    "            \"popularity\" : pop,\n",
    "            'explicit' : explic, \n",
    "            **features[0]}"
   ]
  },
  {
   "cell_type": "code",
   "execution_count": null,
   "metadata": {},
   "outputs": [],
   "source": [
    "final_df = sliced_df.apply(lambda x: filter_data(x), axis=1, result_type='expand')"
   ]
  },
  {
   "cell_type": "code",
   "execution_count": null,
   "metadata": {},
   "outputs": [],
   "source": [
    "final_df"
   ]
  },
  {
   "cell_type": "code",
   "execution_count": null,
   "metadata": {},
   "outputs": [],
   "source": [
    "#makes a csv with the final dataset\n",
    "final_df.to_csv(\"tracks_list.csv\",)"
   ]
  },
  {
   "cell_type": "code",
   "execution_count": null,
   "metadata": {},
   "outputs": [],
   "source": [
    "#creating the 2019 data\n",
    "tracks_2019 = []\n",
    "uri = 'spotify:playlist:37i9dQZF1DXcz8eC5kMSWZ'\n",
    "    \n",
    "length = sp.playlist_tracks(uri)['total']\n",
    "playlist_data = sp.playlist_tracks(uri, limit=50)\n",
    "\n",
    "for k in playlist_data['items']:\n",
    "    tracks_2019.append(k['track'][\"uri\"])"
   ]
  },
  {
   "cell_type": "code",
   "execution_count": null,
   "metadata": {},
   "outputs": [],
   "source": [
    "df_2019 = pd.DataFrame.from_dict(Counter(tracks_2019), orient='index').reset_index().rename(columns={\"index\":\"uri\", 0:\"count\"})"
   ]
  },
  {
   "cell_type": "code",
   "execution_count": null,
   "metadata": {},
   "outputs": [],
   "source": [
    "final_2019 = df_2019.apply(lambda x: filter_data(x), axis=1, result_type='expand')"
   ]
  },
  {
   "cell_type": "code",
   "execution_count": null,
   "metadata": {},
   "outputs": [],
   "source": [
    "final_2019.to_csv(\"final_top50_2019.csv\")"
   ]
  },
  {
   "cell_type": "code",
   "execution_count": null,
   "metadata": {},
   "outputs": [],
   "source": [
    "terms = [\"2019\"]\n",
    "for term in terms:\n",
    "    playlists = sp.search('q=\"{}\"'.format(term), type='playlist')\n",
    "    number_playlists = playlists['playlists']['total']\n",
    "    print(number_playlists)"
   ]
  },
  {
   "cell_type": "code",
   "execution_count": null,
   "metadata": {},
   "outputs": [],
   "source": [
    "def extract_playlist(x,list_):\n",
    "    for i in x['playlists']['items']:\n",
    "        list_.append({\"name\" : i['name'], \"total\":i[\"tracks\"]['total'], \"uri\":i[\"uri\"]})"
   ]
  },
  {
   "cell_type": "code",
   "execution_count": null,
   "metadata": {},
   "outputs": [],
   "source": [
    "list_of_playlists = []\n",
    "for term in terms:\n",
    "    for i in range(0,2000,50):\n",
    "        try:\n",
    "            playlist_data = sp.search('q=\"{}\"'.format(term), type='playlist', limit=50, offset=i)\n",
    "            extract_playlist(playlist_data,list_of_playlists)\n",
    "        except:\n",
    "            print(\"Error\")"
   ]
  },
  {
   "cell_type": "code",
   "execution_count": null,
   "metadata": {},
   "outputs": [],
   "source": [
    "#dataset is length 2000 --> sample of 40 playlists, from each playlist, sample of 50 songs\n",
    "len(list_of_playlists)"
   ]
  },
  {
   "cell_type": "code",
   "execution_count": null,
   "metadata": {},
   "outputs": [],
   "source": [
    "playlists2019 = pd.DataFrame(list_of_playlists).drop_duplicates().reset_index(drop=True)"
   ]
  },
  {
   "cell_type": "code",
   "execution_count": null,
   "metadata": {},
   "outputs": [],
   "source": [
    "#creates csv file from df\n",
    "playlists2019.to_csv(\"playlists2019.csv\")"
   ]
  },
  {
   "cell_type": "code",
   "execution_count": null,
   "metadata": {},
   "outputs": [],
   "source": [
    "tracks = []\n",
    "for uri in playlists2019['uri']:\n",
    "        length = sp.playlist_tracks(uri)['total']\n",
    "        for i in range(0,length, 50):\n",
    "            playlist_data = sp.playlist_tracks(uri, limit=50, offset=i)\n",
    "            try:\n",
    "                for k in playlist_data['items']:\n",
    "                    tracks.append(k['track'][\"uri\"])\n",
    "            except:\n",
    "                pass"
   ]
  },
  {
   "cell_type": "code",
   "execution_count": null,
   "metadata": {},
   "outputs": [],
   "source": [
    "len(tracks)"
   ]
  },
  {
   "cell_type": "code",
   "execution_count": null,
   "metadata": {},
   "outputs": [],
   "source": [
    "df = pd.DataFrame.from_dict(Counter(tracks), orient='index').reset_index().rename(columns={\"index\":\"uri\", 0:\"count\"})"
   ]
  },
  {
   "cell_type": "code",
   "execution_count": null,
   "metadata": {},
   "outputs": [],
   "source": [
    "df[(df['count']>4) & (df['count']<2000)].describe()"
   ]
  },
  {
   "cell_type": "code",
   "execution_count": null,
   "metadata": {},
   "outputs": [],
   "source": [
    "df.to_csv(\"tracks_list_2019_unfiltered.csv\")"
   ]
  },
  {
   "cell_type": "code",
   "execution_count": null,
   "metadata": {},
   "outputs": [],
   "source": [
    "sliced_df_2019 = df[df['count']>4]\n",
    "len(sliced_df_2019)"
   ]
  },
  {
   "cell_type": "code",
   "execution_count": null,
   "metadata": {},
   "outputs": [],
   "source": [
    "def filter_data(x):\n",
    "    data = sp.track(x['uri'])\n",
    "    name = data['name']\n",
    "    pop = data['popularity']\n",
    "    date = data['album']['release_date']\n",
    "    explic = data['explicit']\n",
    "    features = sp.audio_features(x['uri'])\n",
    "    return {**x, \n",
    "            \"name\" : name, \n",
    "            'release_date': date, \n",
    "            \"popularity\" : pop,\n",
    "            'explicit' : explic, \n",
    "            **features[0]}"
   ]
  },
  {
   "cell_type": "code",
   "execution_count": null,
   "metadata": {},
   "outputs": [],
   "source": [
    "final_df_2019 = sliced_df_2019.apply(lambda x: filter_data(x), axis=1, result_type='expand')"
   ]
  },
  {
   "cell_type": "code",
   "execution_count": null,
   "metadata": {},
   "outputs": [],
   "source": [
    "final_df_2019.to_csv(\"tracks_list_2019.csv\",)"
   ]
  }
 ],
 "metadata": {
  "kernelspec": {
   "display_name": "Python 3",
   "language": "python",
   "name": "python3"
  },
  "language_info": {
   "codemirror_mode": {
    "name": "ipython",
    "version": 3
   },
   "file_extension": ".py",
   "mimetype": "text/x-python",
   "name": "python",
   "nbconvert_exporter": "python",
   "pygments_lexer": "ipython3",
   "version": "3.6.8"
  }
 },
 "nbformat": 4,
 "nbformat_minor": 2
}
