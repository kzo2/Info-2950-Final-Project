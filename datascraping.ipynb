{
 "cells": [
  {
   "cell_type": "code",
   "execution_count": 1,
   "metadata": {},
   "outputs": [],
   "source": [
    "# We used Spotipy's documentation\n",
    "# https://spotipy.readthedocs.io/en/2.12.0/"
   ]
  },
  {
   "cell_type": "code",
   "execution_count": 2,
   "metadata": {},
   "outputs": [
    {
     "name": "stdout",
     "output_type": "stream",
     "text": [
      "\n",
      "The following command must be run outside of the IPython shell:\n",
      "\n",
      "    $ pip install spotipy\n",
      "\n",
      "The Python package manager (pip) can only be used from outside of IPython.\n",
      "Please reissue the `pip` command in a separate terminal or command prompt.\n",
      "\n",
      "See the Python documentation for more information on how to install packages:\n",
      "\n",
      "    https://docs.python.org/3/installing/\n"
     ]
    }
   ],
   "source": [
    "pip install spotipy"
   ]
  },
  {
   "cell_type": "code",
   "execution_count": 3,
   "metadata": {},
   "outputs": [
    {
     "name": "stdout",
     "output_type": "stream",
     "text": [
      "env: SPOTIPY_CLIENT_ID=3543bc68b7a64fa4896cb0c1d2499e33\n",
      "env: SPOTIPY_CLIENT_SECRET=b711f5fe2e9a417c89247f7036c9c069\n"
     ]
    }
   ],
   "source": [
    "import spotipy\n",
    "from spotipy.oauth2 import SpotifyClientCredentials\n",
    "import pandas as pd\n",
    "import numpy as np\n",
    "from collections import Counter\n",
    "\n",
    "%env SPOTIPY_CLIENT_ID = 3543bc68b7a64fa4896cb0c1d2499e33\n",
    "%env SPOTIPY_CLIENT_SECRET = b711f5fe2e9a417c89247f7036c9c069\n",
    "\n",
    "sp = spotipy.Spotify(client_credentials_manager=SpotifyClientCredentials())"
   ]
  },
  {
   "cell_type": "code",
   "execution_count": 4,
   "metadata": {},
   "outputs": [
    {
     "name": "stdout",
     "output_type": "stream",
     "text": [
      "276763\n"
     ]
    }
   ],
   "source": [
    "#prints number of playlists with corona_terms in title/description\n",
    "#this is helpful bc it helps us see ahead of time how huge the dataset is\n",
    "\n",
    "terms = [\"Quarantine\"]\n",
    "for term in terms:\n",
    "    playlists = sp.search('q=\"{}\"'.format(term), type='playlist')\n",
    "    number_playlists = playlists['playlists']['total']\n",
    "    print(number_playlists)"
   ]
  },
  {
   "cell_type": "code",
   "execution_count": 5,
   "metadata": {},
   "outputs": [],
   "source": [
    "#function that creates a list with the playlist name, URI & total number of tracks\n",
    "def extract_playlist(x,list_):\n",
    "    for i in x['playlists']['items']:\n",
    "        list_.append({\"name\" : i['name'], \"total\":i[\"tracks\"]['total'], \"uri\":i[\"uri\"]})"
   ]
  },
  {
   "cell_type": "code",
   "execution_count": 6,
   "metadata": {},
   "outputs": [],
   "source": [
    "#create a list of playlists\n",
    "list_of_playlists = []\n",
    "\n",
    "for term in terms:\n",
    "    \n",
    "    #use index (i) which are multiples of 50 -- random sample bc of search limitation\n",
    "    #spotify can only give you 2000 results at a time\n",
    "    #random sample of 40 playlists\n",
    "    for i in range(0,2000,50):\n",
    "        \n",
    "        try:\n",
    "            #create variable init_data that has random sample of playlists with terms\n",
    "            playlist_data = sp.search('q=\"{}\"'.format(term), type='playlist', limit=50, offset=i)\n",
    "                        #limit = 50, can only return up to 50 items, random sample of 50 songs\n",
    "                        #type = playlist, only return playlists\n",
    "                        #offset = i, the index of the first item to return\n",
    "            \n",
    "            extract_playlist(playlist_data,list_of_playlists)\n",
    "            #above function appends init_data to list_of_playlists\n",
    "        \n",
    "        except:\n",
    "            print(\"Error\")"
   ]
  },
  {
   "cell_type": "code",
   "execution_count": 7,
   "metadata": {},
   "outputs": [
    {
     "data": {
      "text/plain": [
       "2000"
      ]
     },
     "execution_count": 7,
     "metadata": {},
     "output_type": "execute_result"
    }
   ],
   "source": [
    "#dataset is length 2000 --> sample of 40 playlists, from each playlist, sample of 50 songs\n",
    "len(list_of_playlists)"
   ]
  },
  {
   "cell_type": "code",
   "execution_count": 8,
   "metadata": {},
   "outputs": [],
   "source": [
    "#creates dataframe with list of playlists, dropping duplicates & delete their index\n",
    "#only need to drop duplicates if you use multiple terms, i.e. Coronavirus AND Quarantine\n",
    "playlists = pd.DataFrame(list_of_playlists).drop_duplicates().reset_index(drop=True)"
   ]
  },
  {
   "cell_type": "code",
   "execution_count": 9,
   "metadata": {},
   "outputs": [],
   "source": [
    "#creates csv file from df\n",
    "playlists.to_csv(\"playlists.csv\")"
   ]
  },
  {
   "cell_type": "code",
   "execution_count": 10,
   "metadata": {},
   "outputs": [],
   "source": [
    "#for a random sample of playlists, takes random sample of tracks, creates a list of tracks and their uris\n",
    "tracks = []\n",
    "\n",
    "#using each uri code listed in the playlist.csv\n",
    "for uri in playlists['uri']:\n",
    "        \n",
    "        length = sp.playlist_tracks(uri)['total']\n",
    "        #playlist_tracks(parameter) is playlist id, aka uri\n",
    "        #length is the playlist length of each individual playlist\n",
    "    \n",
    "        for i in range(0,length, 50):\n",
    "            #from 0 to playlist length, take every other 50th index\n",
    "            \n",
    "            playlist_data = sp.playlist_tracks(uri, limit=50, offset=i)\n",
    "            #playlist_tracks get URI of tracks in playlists, input URI\n",
    "            #playlist_data now has playlist track data\n",
    "            #replacing old data\n",
    "            \n",
    "            try:\n",
    "                for k in playlist_data['items']:\n",
    "                    tracks.append(k['track'][\"uri\"])\n",
    "                    \n",
    "            except:\n",
    "                pass"
   ]
  },
  {
   "cell_type": "code",
   "execution_count": 11,
   "metadata": {},
   "outputs": [
    {
     "data": {
      "text/plain": [
       "273470"
      ]
     },
     "execution_count": 11,
     "metadata": {},
     "output_type": "execute_result"
    }
   ],
   "source": [
    "len(tracks)"
   ]
  },
  {
   "cell_type": "code",
   "execution_count": 12,
   "metadata": {},
   "outputs": [],
   "source": [
    "#dataframe with individual track uri and count\n",
    "df = pd.DataFrame.from_dict(Counter(tracks), orient='index').reset_index().rename(columns={\"index\":\"uri\", 0:\"count\"})"
   ]
  },
  {
   "cell_type": "code",
   "execution_count": 13,
   "metadata": {},
   "outputs": [
    {
     "data": {
      "text/html": [
       "<div>\n",
       "<style scoped>\n",
       "    .dataframe tbody tr th:only-of-type {\n",
       "        vertical-align: middle;\n",
       "    }\n",
       "\n",
       "    .dataframe tbody tr th {\n",
       "        vertical-align: top;\n",
       "    }\n",
       "\n",
       "    .dataframe thead th {\n",
       "        text-align: right;\n",
       "    }\n",
       "</style>\n",
       "<table border=\"1\" class=\"dataframe\">\n",
       "  <thead>\n",
       "    <tr style=\"text-align: right;\">\n",
       "      <th></th>\n",
       "      <th>uri</th>\n",
       "      <th>count</th>\n",
       "    </tr>\n",
       "  </thead>\n",
       "  <tbody>\n",
       "    <tr>\n",
       "      <th>0</th>\n",
       "      <td>spotify:track:6I9VzXrHxO9rA9A5euc8Ak</td>\n",
       "      <td>104</td>\n",
       "    </tr>\n",
       "    <tr>\n",
       "      <th>1</th>\n",
       "      <td>spotify:track:0VgkVdmE4gld66l8iyGjgx</td>\n",
       "      <td>60</td>\n",
       "    </tr>\n",
       "    <tr>\n",
       "      <th>2</th>\n",
       "      <td>spotify:track:2NxIIb2OZ1DSbfWAH0W47B</td>\n",
       "      <td>3</td>\n",
       "    </tr>\n",
       "    <tr>\n",
       "      <th>3</th>\n",
       "      <td>spotify:track:2xLMifQCjDGFmkHkpNLD9h</td>\n",
       "      <td>123</td>\n",
       "    </tr>\n",
       "    <tr>\n",
       "      <th>4</th>\n",
       "      <td>spotify:track:66s45uMhk7Y4z0xUgESdm3</td>\n",
       "      <td>22</td>\n",
       "    </tr>\n",
       "    <tr>\n",
       "      <th>5</th>\n",
       "      <td>spotify:track:5veJDT0MLsLbhYsx42GXUD</td>\n",
       "      <td>75</td>\n",
       "    </tr>\n",
       "    <tr>\n",
       "      <th>6</th>\n",
       "      <td>spotify:track:0snQkGI5qnAmohLE7jTsTn</td>\n",
       "      <td>18</td>\n",
       "    </tr>\n",
       "    <tr>\n",
       "      <th>7</th>\n",
       "      <td>spotify:track:3pIYV8ajPqkgTABRR54rWP</td>\n",
       "      <td>13</td>\n",
       "    </tr>\n",
       "    <tr>\n",
       "      <th>8</th>\n",
       "      <td>spotify:track:4UDmDIqJIbrW0hMBQMFOsM</td>\n",
       "      <td>57</td>\n",
       "    </tr>\n",
       "    <tr>\n",
       "      <th>9</th>\n",
       "      <td>spotify:track:4LJajYnxlYdGdrJ34HO019</td>\n",
       "      <td>1</td>\n",
       "    </tr>\n",
       "    <tr>\n",
       "      <th>10</th>\n",
       "      <td>spotify:track:47tVRotmsKNeNqO7xU5og2</td>\n",
       "      <td>20</td>\n",
       "    </tr>\n",
       "    <tr>\n",
       "      <th>11</th>\n",
       "      <td>spotify:track:2HxNBcGSWGtOyHgp4V0kwQ</td>\n",
       "      <td>2</td>\n",
       "    </tr>\n",
       "    <tr>\n",
       "      <th>12</th>\n",
       "      <td>spotify:track:2i3WO0WkrlnrA1I4GdUmxh</td>\n",
       "      <td>9</td>\n",
       "    </tr>\n",
       "    <tr>\n",
       "      <th>13</th>\n",
       "      <td>spotify:track:3HY6l3G5ynwwN4NpvVcYJb</td>\n",
       "      <td>2</td>\n",
       "    </tr>\n",
       "    <tr>\n",
       "      <th>14</th>\n",
       "      <td>spotify:track:7g9cAlqqvMaWMFjEfUQapf</td>\n",
       "      <td>2</td>\n",
       "    </tr>\n",
       "    <tr>\n",
       "      <th>15</th>\n",
       "      <td>spotify:track:1DhRbox3xkceP64k3JeYfW</td>\n",
       "      <td>22</td>\n",
       "    </tr>\n",
       "    <tr>\n",
       "      <th>16</th>\n",
       "      <td>spotify:track:3QZOwo4kk7nPimvyyRV7G7</td>\n",
       "      <td>2</td>\n",
       "    </tr>\n",
       "    <tr>\n",
       "      <th>17</th>\n",
       "      <td>spotify:track:6XM53PbvlzhuNtJZtpl7RP</td>\n",
       "      <td>15</td>\n",
       "    </tr>\n",
       "    <tr>\n",
       "      <th>18</th>\n",
       "      <td>spotify:track:7zxLkZbUxITHabPzGN8Xgc</td>\n",
       "      <td>20</td>\n",
       "    </tr>\n",
       "    <tr>\n",
       "      <th>19</th>\n",
       "      <td>spotify:track:1qowUCis8gYY9KOMuy8fCi</td>\n",
       "      <td>9</td>\n",
       "    </tr>\n",
       "    <tr>\n",
       "      <th>20</th>\n",
       "      <td>spotify:track:5Av9YbiI3ucgdgRUFRuINh</td>\n",
       "      <td>2</td>\n",
       "    </tr>\n",
       "    <tr>\n",
       "      <th>21</th>\n",
       "      <td>spotify:track:4MXdHfN2wclRHUcMqwQDWy</td>\n",
       "      <td>1</td>\n",
       "    </tr>\n",
       "    <tr>\n",
       "      <th>22</th>\n",
       "      <td>spotify:track:18zPSDFE1kpHocBqfKMlNR</td>\n",
       "      <td>2</td>\n",
       "    </tr>\n",
       "    <tr>\n",
       "      <th>23</th>\n",
       "      <td>spotify:track:3z85p6ujP5js7WOjzxsuSg</td>\n",
       "      <td>1</td>\n",
       "    </tr>\n",
       "    <tr>\n",
       "      <th>24</th>\n",
       "      <td>spotify:track:5jqfq7USGJFhaMyURFRxn7</td>\n",
       "      <td>3</td>\n",
       "    </tr>\n",
       "    <tr>\n",
       "      <th>25</th>\n",
       "      <td>spotify:track:486qVNPksgHK9Xb5YamEQw</td>\n",
       "      <td>3</td>\n",
       "    </tr>\n",
       "    <tr>\n",
       "      <th>26</th>\n",
       "      <td>spotify:track:4ZOnXJe4KC4U7LjMqveiTD</td>\n",
       "      <td>2</td>\n",
       "    </tr>\n",
       "    <tr>\n",
       "      <th>27</th>\n",
       "      <td>spotify:track:69oAflKTaF6WOhvRe3y4qW</td>\n",
       "      <td>9</td>\n",
       "    </tr>\n",
       "    <tr>\n",
       "      <th>28</th>\n",
       "      <td>spotify:track:1qDrWA6lyx8cLECdZE7TV7</td>\n",
       "      <td>16</td>\n",
       "    </tr>\n",
       "    <tr>\n",
       "      <th>29</th>\n",
       "      <td>spotify:track:4pNFNhm8YzO5H92kLT4eB8</td>\n",
       "      <td>3</td>\n",
       "    </tr>\n",
       "    <tr>\n",
       "      <th>...</th>\n",
       "      <td>...</td>\n",
       "      <td>...</td>\n",
       "    </tr>\n",
       "    <tr>\n",
       "      <th>133046</th>\n",
       "      <td>spotify:track:21PmKbhk8SsEgIEfDCDjvw</td>\n",
       "      <td>1</td>\n",
       "    </tr>\n",
       "    <tr>\n",
       "      <th>133047</th>\n",
       "      <td>spotify:track:66EOXuyTELBsRtI9wWXFxr</td>\n",
       "      <td>1</td>\n",
       "    </tr>\n",
       "    <tr>\n",
       "      <th>133048</th>\n",
       "      <td>spotify:track:4yBiZFLXn0n9AUJ5sWO88k</td>\n",
       "      <td>1</td>\n",
       "    </tr>\n",
       "    <tr>\n",
       "      <th>133049</th>\n",
       "      <td>spotify:track:7xrwGUa11hnnxXWeTIzcHf</td>\n",
       "      <td>1</td>\n",
       "    </tr>\n",
       "    <tr>\n",
       "      <th>133050</th>\n",
       "      <td>spotify:track:3GmOwe6h5iFJxjXlwjlhkU</td>\n",
       "      <td>1</td>\n",
       "    </tr>\n",
       "    <tr>\n",
       "      <th>133051</th>\n",
       "      <td>spotify:track:7mmiwerQC0nAIPIH0LS50O</td>\n",
       "      <td>1</td>\n",
       "    </tr>\n",
       "    <tr>\n",
       "      <th>133052</th>\n",
       "      <td>spotify:track:4mG0s0UEr72oJsySmo2Sfh</td>\n",
       "      <td>1</td>\n",
       "    </tr>\n",
       "    <tr>\n",
       "      <th>133053</th>\n",
       "      <td>spotify:track:26811HKMoW9wAvxJwcpLDs</td>\n",
       "      <td>1</td>\n",
       "    </tr>\n",
       "    <tr>\n",
       "      <th>133054</th>\n",
       "      <td>spotify:track:0lNflu0YIfrc8YRjJclIoQ</td>\n",
       "      <td>1</td>\n",
       "    </tr>\n",
       "    <tr>\n",
       "      <th>133055</th>\n",
       "      <td>spotify:track:4FpfU1O7WCLBnmwu5XAFk4</td>\n",
       "      <td>1</td>\n",
       "    </tr>\n",
       "    <tr>\n",
       "      <th>133056</th>\n",
       "      <td>spotify:track:07axW9SxfAoeJ4K1kKFXAC</td>\n",
       "      <td>1</td>\n",
       "    </tr>\n",
       "    <tr>\n",
       "      <th>133057</th>\n",
       "      <td>spotify:track:75JwFVMnX88ypgshWYBSYL</td>\n",
       "      <td>1</td>\n",
       "    </tr>\n",
       "    <tr>\n",
       "      <th>133058</th>\n",
       "      <td>spotify:track:1vvsD4wGSpDtL1hPR4aNKJ</td>\n",
       "      <td>1</td>\n",
       "    </tr>\n",
       "    <tr>\n",
       "      <th>133059</th>\n",
       "      <td>spotify:track:3IRloeDfPgi7bH5OwXfwkN</td>\n",
       "      <td>1</td>\n",
       "    </tr>\n",
       "    <tr>\n",
       "      <th>133060</th>\n",
       "      <td>spotify:track:5PlYCPa9eV21gJcK5cQiZi</td>\n",
       "      <td>1</td>\n",
       "    </tr>\n",
       "    <tr>\n",
       "      <th>133061</th>\n",
       "      <td>spotify:track:7iRn1W8QLad1RnzKkb4iQk</td>\n",
       "      <td>1</td>\n",
       "    </tr>\n",
       "    <tr>\n",
       "      <th>133062</th>\n",
       "      <td>spotify:track:5oXO6utw8aNtgWgIX1iyS4</td>\n",
       "      <td>1</td>\n",
       "    </tr>\n",
       "    <tr>\n",
       "      <th>133063</th>\n",
       "      <td>spotify:track:1y1tR1JotMVR4HQk4X1BL5</td>\n",
       "      <td>1</td>\n",
       "    </tr>\n",
       "    <tr>\n",
       "      <th>133064</th>\n",
       "      <td>spotify:track:644MFjfIMaBayYEEAb3gjb</td>\n",
       "      <td>1</td>\n",
       "    </tr>\n",
       "    <tr>\n",
       "      <th>133065</th>\n",
       "      <td>spotify:track:4sqK3chS8d96laonwg2xVq</td>\n",
       "      <td>1</td>\n",
       "    </tr>\n",
       "    <tr>\n",
       "      <th>133066</th>\n",
       "      <td>spotify:track:1gvJi1lm2M4nzHMn7txzbe</td>\n",
       "      <td>1</td>\n",
       "    </tr>\n",
       "    <tr>\n",
       "      <th>133067</th>\n",
       "      <td>spotify:track:0Ys1yKYaoynp89TjIWJyT1</td>\n",
       "      <td>1</td>\n",
       "    </tr>\n",
       "    <tr>\n",
       "      <th>133068</th>\n",
       "      <td>spotify:track:7GdSLSX8DR615VcLESNctU</td>\n",
       "      <td>1</td>\n",
       "    </tr>\n",
       "    <tr>\n",
       "      <th>133069</th>\n",
       "      <td>spotify:track:0Y4OG8dY38nwtakvsJUBeb</td>\n",
       "      <td>1</td>\n",
       "    </tr>\n",
       "    <tr>\n",
       "      <th>133070</th>\n",
       "      <td>spotify:track:46LX0sSwIU4GFLcj23ZfMA</td>\n",
       "      <td>1</td>\n",
       "    </tr>\n",
       "    <tr>\n",
       "      <th>133071</th>\n",
       "      <td>spotify:track:1WrE2xWhT5gLrYq8D1oPYw</td>\n",
       "      <td>1</td>\n",
       "    </tr>\n",
       "    <tr>\n",
       "      <th>133072</th>\n",
       "      <td>spotify:track:0bqSbpLEjgTdkc6GblR4EV</td>\n",
       "      <td>1</td>\n",
       "    </tr>\n",
       "    <tr>\n",
       "      <th>133073</th>\n",
       "      <td>spotify:track:1lZiBN2IGHihxqf0vzqtjP</td>\n",
       "      <td>1</td>\n",
       "    </tr>\n",
       "    <tr>\n",
       "      <th>133074</th>\n",
       "      <td>spotify:track:1xpr7OfWkH0g6JGsolyref</td>\n",
       "      <td>1</td>\n",
       "    </tr>\n",
       "    <tr>\n",
       "      <th>133075</th>\n",
       "      <td>spotify:track:4UkZHzv8tZQUoDsGL262oc</td>\n",
       "      <td>1</td>\n",
       "    </tr>\n",
       "  </tbody>\n",
       "</table>\n",
       "<p>133076 rows × 2 columns</p>\n",
       "</div>"
      ],
      "text/plain": [
       "                                         uri  count\n",
       "0       spotify:track:6I9VzXrHxO9rA9A5euc8Ak    104\n",
       "1       spotify:track:0VgkVdmE4gld66l8iyGjgx     60\n",
       "2       spotify:track:2NxIIb2OZ1DSbfWAH0W47B      3\n",
       "3       spotify:track:2xLMifQCjDGFmkHkpNLD9h    123\n",
       "4       spotify:track:66s45uMhk7Y4z0xUgESdm3     22\n",
       "5       spotify:track:5veJDT0MLsLbhYsx42GXUD     75\n",
       "6       spotify:track:0snQkGI5qnAmohLE7jTsTn     18\n",
       "7       spotify:track:3pIYV8ajPqkgTABRR54rWP     13\n",
       "8       spotify:track:4UDmDIqJIbrW0hMBQMFOsM     57\n",
       "9       spotify:track:4LJajYnxlYdGdrJ34HO019      1\n",
       "10      spotify:track:47tVRotmsKNeNqO7xU5og2     20\n",
       "11      spotify:track:2HxNBcGSWGtOyHgp4V0kwQ      2\n",
       "12      spotify:track:2i3WO0WkrlnrA1I4GdUmxh      9\n",
       "13      spotify:track:3HY6l3G5ynwwN4NpvVcYJb      2\n",
       "14      spotify:track:7g9cAlqqvMaWMFjEfUQapf      2\n",
       "15      spotify:track:1DhRbox3xkceP64k3JeYfW     22\n",
       "16      spotify:track:3QZOwo4kk7nPimvyyRV7G7      2\n",
       "17      spotify:track:6XM53PbvlzhuNtJZtpl7RP     15\n",
       "18      spotify:track:7zxLkZbUxITHabPzGN8Xgc     20\n",
       "19      spotify:track:1qowUCis8gYY9KOMuy8fCi      9\n",
       "20      spotify:track:5Av9YbiI3ucgdgRUFRuINh      2\n",
       "21      spotify:track:4MXdHfN2wclRHUcMqwQDWy      1\n",
       "22      spotify:track:18zPSDFE1kpHocBqfKMlNR      2\n",
       "23      spotify:track:3z85p6ujP5js7WOjzxsuSg      1\n",
       "24      spotify:track:5jqfq7USGJFhaMyURFRxn7      3\n",
       "25      spotify:track:486qVNPksgHK9Xb5YamEQw      3\n",
       "26      spotify:track:4ZOnXJe4KC4U7LjMqveiTD      2\n",
       "27      spotify:track:69oAflKTaF6WOhvRe3y4qW      9\n",
       "28      spotify:track:1qDrWA6lyx8cLECdZE7TV7     16\n",
       "29      spotify:track:4pNFNhm8YzO5H92kLT4eB8      3\n",
       "...                                      ...    ...\n",
       "133046  spotify:track:21PmKbhk8SsEgIEfDCDjvw      1\n",
       "133047  spotify:track:66EOXuyTELBsRtI9wWXFxr      1\n",
       "133048  spotify:track:4yBiZFLXn0n9AUJ5sWO88k      1\n",
       "133049  spotify:track:7xrwGUa11hnnxXWeTIzcHf      1\n",
       "133050  spotify:track:3GmOwe6h5iFJxjXlwjlhkU      1\n",
       "133051  spotify:track:7mmiwerQC0nAIPIH0LS50O      1\n",
       "133052  spotify:track:4mG0s0UEr72oJsySmo2Sfh      1\n",
       "133053  spotify:track:26811HKMoW9wAvxJwcpLDs      1\n",
       "133054  spotify:track:0lNflu0YIfrc8YRjJclIoQ      1\n",
       "133055  spotify:track:4FpfU1O7WCLBnmwu5XAFk4      1\n",
       "133056  spotify:track:07axW9SxfAoeJ4K1kKFXAC      1\n",
       "133057  spotify:track:75JwFVMnX88ypgshWYBSYL      1\n",
       "133058  spotify:track:1vvsD4wGSpDtL1hPR4aNKJ      1\n",
       "133059  spotify:track:3IRloeDfPgi7bH5OwXfwkN      1\n",
       "133060  spotify:track:5PlYCPa9eV21gJcK5cQiZi      1\n",
       "133061  spotify:track:7iRn1W8QLad1RnzKkb4iQk      1\n",
       "133062  spotify:track:5oXO6utw8aNtgWgIX1iyS4      1\n",
       "133063  spotify:track:1y1tR1JotMVR4HQk4X1BL5      1\n",
       "133064  spotify:track:644MFjfIMaBayYEEAb3gjb      1\n",
       "133065  spotify:track:4sqK3chS8d96laonwg2xVq      1\n",
       "133066  spotify:track:1gvJi1lm2M4nzHMn7txzbe      1\n",
       "133067  spotify:track:0Ys1yKYaoynp89TjIWJyT1      1\n",
       "133068  spotify:track:7GdSLSX8DR615VcLESNctU      1\n",
       "133069  spotify:track:0Y4OG8dY38nwtakvsJUBeb      1\n",
       "133070  spotify:track:46LX0sSwIU4GFLcj23ZfMA      1\n",
       "133071  spotify:track:1WrE2xWhT5gLrYq8D1oPYw      1\n",
       "133072  spotify:track:0bqSbpLEjgTdkc6GblR4EV      1\n",
       "133073  spotify:track:1lZiBN2IGHihxqf0vzqtjP      1\n",
       "133074  spotify:track:1xpr7OfWkH0g6JGsolyref      1\n",
       "133075  spotify:track:4UkZHzv8tZQUoDsGL262oc      1\n",
       "\n",
       "[133076 rows x 2 columns]"
      ]
     },
     "execution_count": 13,
     "metadata": {},
     "output_type": "execute_result"
    }
   ],
   "source": [
    "df"
   ]
  },
  {
   "cell_type": "code",
   "execution_count": 14,
   "metadata": {},
   "outputs": [
    {
     "data": {
      "text/html": [
       "<div>\n",
       "<style scoped>\n",
       "    .dataframe tbody tr th:only-of-type {\n",
       "        vertical-align: middle;\n",
       "    }\n",
       "\n",
       "    .dataframe tbody tr th {\n",
       "        vertical-align: top;\n",
       "    }\n",
       "\n",
       "    .dataframe thead th {\n",
       "        text-align: right;\n",
       "    }\n",
       "</style>\n",
       "<table border=\"1\" class=\"dataframe\">\n",
       "  <thead>\n",
       "    <tr style=\"text-align: right;\">\n",
       "      <th></th>\n",
       "      <th>count</th>\n",
       "    </tr>\n",
       "  </thead>\n",
       "  <tbody>\n",
       "    <tr>\n",
       "      <th>count</th>\n",
       "      <td>9835.000000</td>\n",
       "    </tr>\n",
       "    <tr>\n",
       "      <th>mean</th>\n",
       "      <td>11.249415</td>\n",
       "    </tr>\n",
       "    <tr>\n",
       "      <th>std</th>\n",
       "      <td>10.987287</td>\n",
       "    </tr>\n",
       "    <tr>\n",
       "      <th>min</th>\n",
       "      <td>5.000000</td>\n",
       "    </tr>\n",
       "    <tr>\n",
       "      <th>25%</th>\n",
       "      <td>6.000000</td>\n",
       "    </tr>\n",
       "    <tr>\n",
       "      <th>50%</th>\n",
       "      <td>8.000000</td>\n",
       "    </tr>\n",
       "    <tr>\n",
       "      <th>75%</th>\n",
       "      <td>12.000000</td>\n",
       "    </tr>\n",
       "    <tr>\n",
       "      <th>max</th>\n",
       "      <td>201.000000</td>\n",
       "    </tr>\n",
       "  </tbody>\n",
       "</table>\n",
       "</div>"
      ],
      "text/plain": [
       "             count\n",
       "count  9835.000000\n",
       "mean     11.249415\n",
       "std      10.987287\n",
       "min       5.000000\n",
       "25%       6.000000\n",
       "50%       8.000000\n",
       "75%      12.000000\n",
       "max     201.000000"
      ]
     },
     "execution_count": 14,
     "metadata": {},
     "output_type": "execute_result"
    }
   ],
   "source": [
    "#useful stats to help us understand frequency of the popular tracks\n",
    "#to know when we should cut off our data/if necessary\n",
    "df[(df['count']>4) & (df['count']<2000)].describe()"
   ]
  },
  {
   "cell_type": "code",
   "execution_count": 15,
   "metadata": {},
   "outputs": [],
   "source": [
    "#creates a csv file of the unfiltered track data\n",
    "df.to_csv(\"tracks_list_unfiltered.csv\")"
   ]
  },
  {
   "cell_type": "code",
   "execution_count": 16,
   "metadata": {},
   "outputs": [
    {
     "data": {
      "text/plain": [
       "9835"
      ]
     },
     "execution_count": 16,
     "metadata": {},
     "output_type": "execute_result"
    }
   ],
   "source": [
    "#cuts off any tracks that appear less than twice (CAN CHANGE)\n",
    "#this is useful bc we don't want tracks that don't appear frequently\n",
    "sliced_df = df[df['count']>4]\n",
    "len(sliced_df)"
   ]
  },
  {
   "cell_type": "code",
   "execution_count": 17,
   "metadata": {},
   "outputs": [],
   "source": [
    "#filters important variables, makes the dataframe usable\n",
    "def filter_data(x):\n",
    "    data = sp.track(x['uri'])\n",
    "    #sets data variable for each track\n",
    "    \n",
    "    name = data['name']\n",
    "    pop = data['popularity']\n",
    "    date = data['album']['release_date']\n",
    "    explic = data['explicit']\n",
    "    \n",
    "    features = sp.audio_features(x['uri'])\n",
    "    #uses spotify function to access audio features\n",
    "    \n",
    "    return {**x, \n",
    "            \"name\" : name, \n",
    "            'release_date': date, \n",
    "            \"popularity\" : pop,\n",
    "            'explicit' : explic, \n",
    "            **features[0]}"
   ]
  },
  {
   "cell_type": "code",
   "execution_count": 19,
   "metadata": {},
   "outputs": [
    {
     "ename": "TypeError",
     "evalue": "(\"'NoneType' object is not a mapping\", 'occurred at index 6516')",
     "output_type": "error",
     "traceback": [
      "\u001b[0;31m---------------------------------------------------------------------------\u001b[0m",
      "\u001b[0;31mTypeError\u001b[0m                                 Traceback (most recent call last)",
      "\u001b[0;32m<ipython-input-19-dc780354085f>\u001b[0m in \u001b[0;36m<module>\u001b[0;34m()\u001b[0m\n\u001b[0;32m----> 1\u001b[0;31m \u001b[0mfinal_df\u001b[0m \u001b[0;34m=\u001b[0m \u001b[0msliced_df\u001b[0m\u001b[0;34m.\u001b[0m\u001b[0mapply\u001b[0m\u001b[0;34m(\u001b[0m\u001b[0;32mlambda\u001b[0m \u001b[0mx\u001b[0m\u001b[0;34m:\u001b[0m \u001b[0mfilter_data\u001b[0m\u001b[0;34m(\u001b[0m\u001b[0mx\u001b[0m\u001b[0;34m)\u001b[0m\u001b[0;34m,\u001b[0m \u001b[0maxis\u001b[0m\u001b[0;34m=\u001b[0m\u001b[0;36m1\u001b[0m\u001b[0;34m,\u001b[0m \u001b[0mresult_type\u001b[0m\u001b[0;34m=\u001b[0m\u001b[0;34m'expand'\u001b[0m\u001b[0;34m)\u001b[0m\u001b[0;34m\u001b[0m\u001b[0;34m\u001b[0m\u001b[0m\n\u001b[0m",
      "\u001b[0;32m/anaconda3/lib/python3.6/site-packages/pandas/core/frame.py\u001b[0m in \u001b[0;36mapply\u001b[0;34m(self, func, axis, broadcast, raw, reduce, result_type, args, **kwds)\u001b[0m\n\u001b[1;32m   6002\u001b[0m                          \u001b[0margs\u001b[0m\u001b[0;34m=\u001b[0m\u001b[0margs\u001b[0m\u001b[0;34m,\u001b[0m\u001b[0;34m\u001b[0m\u001b[0;34m\u001b[0m\u001b[0m\n\u001b[1;32m   6003\u001b[0m                          kwds=kwds)\n\u001b[0;32m-> 6004\u001b[0;31m         \u001b[0;32mreturn\u001b[0m \u001b[0mop\u001b[0m\u001b[0;34m.\u001b[0m\u001b[0mget_result\u001b[0m\u001b[0;34m(\u001b[0m\u001b[0;34m)\u001b[0m\u001b[0;34m\u001b[0m\u001b[0;34m\u001b[0m\u001b[0m\n\u001b[0m\u001b[1;32m   6005\u001b[0m \u001b[0;34m\u001b[0m\u001b[0m\n\u001b[1;32m   6006\u001b[0m     \u001b[0;32mdef\u001b[0m \u001b[0mapplymap\u001b[0m\u001b[0;34m(\u001b[0m\u001b[0mself\u001b[0m\u001b[0;34m,\u001b[0m \u001b[0mfunc\u001b[0m\u001b[0;34m)\u001b[0m\u001b[0;34m:\u001b[0m\u001b[0;34m\u001b[0m\u001b[0;34m\u001b[0m\u001b[0m\n",
      "\u001b[0;32m/anaconda3/lib/python3.6/site-packages/pandas/core/apply.py\u001b[0m in \u001b[0;36mget_result\u001b[0;34m(self)\u001b[0m\n\u001b[1;32m    140\u001b[0m             \u001b[0;32mreturn\u001b[0m \u001b[0mself\u001b[0m\u001b[0;34m.\u001b[0m\u001b[0mapply_raw\u001b[0m\u001b[0;34m(\u001b[0m\u001b[0;34m)\u001b[0m\u001b[0;34m\u001b[0m\u001b[0;34m\u001b[0m\u001b[0m\n\u001b[1;32m    141\u001b[0m \u001b[0;34m\u001b[0m\u001b[0m\n\u001b[0;32m--> 142\u001b[0;31m         \u001b[0;32mreturn\u001b[0m \u001b[0mself\u001b[0m\u001b[0;34m.\u001b[0m\u001b[0mapply_standard\u001b[0m\u001b[0;34m(\u001b[0m\u001b[0;34m)\u001b[0m\u001b[0;34m\u001b[0m\u001b[0;34m\u001b[0m\u001b[0m\n\u001b[0m\u001b[1;32m    143\u001b[0m \u001b[0;34m\u001b[0m\u001b[0m\n\u001b[1;32m    144\u001b[0m     \u001b[0;32mdef\u001b[0m \u001b[0mapply_empty_result\u001b[0m\u001b[0;34m(\u001b[0m\u001b[0mself\u001b[0m\u001b[0;34m)\u001b[0m\u001b[0;34m:\u001b[0m\u001b[0;34m\u001b[0m\u001b[0;34m\u001b[0m\u001b[0m\n",
      "\u001b[0;32m/anaconda3/lib/python3.6/site-packages/pandas/core/apply.py\u001b[0m in \u001b[0;36mapply_standard\u001b[0;34m(self)\u001b[0m\n\u001b[1;32m    246\u001b[0m \u001b[0;34m\u001b[0m\u001b[0m\n\u001b[1;32m    247\u001b[0m         \u001b[0;31m# compute the result using the series generator\u001b[0m\u001b[0;34m\u001b[0m\u001b[0;34m\u001b[0m\u001b[0;34m\u001b[0m\u001b[0m\n\u001b[0;32m--> 248\u001b[0;31m         \u001b[0mself\u001b[0m\u001b[0;34m.\u001b[0m\u001b[0mapply_series_generator\u001b[0m\u001b[0;34m(\u001b[0m\u001b[0;34m)\u001b[0m\u001b[0;34m\u001b[0m\u001b[0;34m\u001b[0m\u001b[0m\n\u001b[0m\u001b[1;32m    249\u001b[0m \u001b[0;34m\u001b[0m\u001b[0m\n\u001b[1;32m    250\u001b[0m         \u001b[0;31m# wrap results\u001b[0m\u001b[0;34m\u001b[0m\u001b[0;34m\u001b[0m\u001b[0;34m\u001b[0m\u001b[0m\n",
      "\u001b[0;32m/anaconda3/lib/python3.6/site-packages/pandas/core/apply.py\u001b[0m in \u001b[0;36mapply_series_generator\u001b[0;34m(self)\u001b[0m\n\u001b[1;32m    275\u001b[0m             \u001b[0;32mtry\u001b[0m\u001b[0;34m:\u001b[0m\u001b[0;34m\u001b[0m\u001b[0;34m\u001b[0m\u001b[0m\n\u001b[1;32m    276\u001b[0m                 \u001b[0;32mfor\u001b[0m \u001b[0mi\u001b[0m\u001b[0;34m,\u001b[0m \u001b[0mv\u001b[0m \u001b[0;32min\u001b[0m \u001b[0menumerate\u001b[0m\u001b[0;34m(\u001b[0m\u001b[0mseries_gen\u001b[0m\u001b[0;34m)\u001b[0m\u001b[0;34m:\u001b[0m\u001b[0;34m\u001b[0m\u001b[0;34m\u001b[0m\u001b[0m\n\u001b[0;32m--> 277\u001b[0;31m                     \u001b[0mresults\u001b[0m\u001b[0;34m[\u001b[0m\u001b[0mi\u001b[0m\u001b[0;34m]\u001b[0m \u001b[0;34m=\u001b[0m \u001b[0mself\u001b[0m\u001b[0;34m.\u001b[0m\u001b[0mf\u001b[0m\u001b[0;34m(\u001b[0m\u001b[0mv\u001b[0m\u001b[0;34m)\u001b[0m\u001b[0;34m\u001b[0m\u001b[0;34m\u001b[0m\u001b[0m\n\u001b[0m\u001b[1;32m    278\u001b[0m                     \u001b[0mkeys\u001b[0m\u001b[0;34m.\u001b[0m\u001b[0mappend\u001b[0m\u001b[0;34m(\u001b[0m\u001b[0mv\u001b[0m\u001b[0;34m.\u001b[0m\u001b[0mname\u001b[0m\u001b[0;34m)\u001b[0m\u001b[0;34m\u001b[0m\u001b[0;34m\u001b[0m\u001b[0m\n\u001b[1;32m    279\u001b[0m             \u001b[0;32mexcept\u001b[0m \u001b[0mException\u001b[0m \u001b[0;32mas\u001b[0m \u001b[0me\u001b[0m\u001b[0;34m:\u001b[0m\u001b[0;34m\u001b[0m\u001b[0;34m\u001b[0m\u001b[0m\n",
      "\u001b[0;32m<ipython-input-19-dc780354085f>\u001b[0m in \u001b[0;36m<lambda>\u001b[0;34m(x)\u001b[0m\n\u001b[0;32m----> 1\u001b[0;31m \u001b[0mfinal_df\u001b[0m \u001b[0;34m=\u001b[0m \u001b[0msliced_df\u001b[0m\u001b[0;34m.\u001b[0m\u001b[0mapply\u001b[0m\u001b[0;34m(\u001b[0m\u001b[0;32mlambda\u001b[0m \u001b[0mx\u001b[0m\u001b[0;34m:\u001b[0m \u001b[0mfilter_data\u001b[0m\u001b[0;34m(\u001b[0m\u001b[0mx\u001b[0m\u001b[0;34m)\u001b[0m\u001b[0;34m,\u001b[0m \u001b[0maxis\u001b[0m\u001b[0;34m=\u001b[0m\u001b[0;36m1\u001b[0m\u001b[0;34m,\u001b[0m \u001b[0mresult_type\u001b[0m\u001b[0;34m=\u001b[0m\u001b[0;34m'expand'\u001b[0m\u001b[0;34m)\u001b[0m\u001b[0;34m\u001b[0m\u001b[0;34m\u001b[0m\u001b[0m\n\u001b[0m",
      "\u001b[0;32m<ipython-input-17-0f28836dfa91>\u001b[0m in \u001b[0;36mfilter_data\u001b[0;34m(x)\u001b[0m\n\u001b[1;32m     17\u001b[0m             \u001b[0;34m\"popularity\"\u001b[0m \u001b[0;34m:\u001b[0m \u001b[0mpop\u001b[0m\u001b[0;34m,\u001b[0m\u001b[0;34m\u001b[0m\u001b[0;34m\u001b[0m\u001b[0m\n\u001b[1;32m     18\u001b[0m             \u001b[0;34m'explicit'\u001b[0m \u001b[0;34m:\u001b[0m \u001b[0mexplic\u001b[0m\u001b[0;34m,\u001b[0m\u001b[0;34m\u001b[0m\u001b[0;34m\u001b[0m\u001b[0m\n\u001b[0;32m---> 19\u001b[0;31m             **features[0]}\n\u001b[0m",
      "\u001b[0;31mTypeError\u001b[0m: (\"'NoneType' object is not a mapping\", 'occurred at index 6516')"
     ]
    }
   ],
   "source": [
    "final_df = sliced_df.apply(lambda x: filter_data(x), axis=1, result_type='expand')"
   ]
  },
  {
   "cell_type": "code",
   "execution_count": null,
   "metadata": {},
   "outputs": [],
   "source": [
    "#makes a csv with the final dataset\n",
    "final_df.to_csv(\"tracks_list.csv\",)"
   ]
  },
  {
   "cell_type": "code",
   "execution_count": null,
   "metadata": {},
   "outputs": [],
   "source": [
    "#creating the 2019 data\n",
    "tracks_2019 = []\n",
    "uri = 'spotify:playlist:37i9dQZF1DXcz8eC5kMSWZ'\n",
    "    \n",
    "length = sp.playlist_tracks(uri)['total']\n",
    "playlist_data = sp.playlist_tracks(uri, limit=50)\n",
    "\n",
    "for k in playlist_data['items']:\n",
    "    tracks_2019.append(k['track'][\"uri\"])"
   ]
  },
  {
   "cell_type": "code",
   "execution_count": null,
   "metadata": {},
   "outputs": [],
   "source": [
    "df_2019 = pd.DataFrame.from_dict(Counter(tracks_2019), orient='index').reset_index().rename(columns={\"index\":\"uri\", 0:\"count\"})"
   ]
  },
  {
   "cell_type": "code",
   "execution_count": null,
   "metadata": {},
   "outputs": [],
   "source": [
    "final_2019 = df_2019.apply(lambda x: filter_data(x), axis=1, result_type='expand')"
   ]
  },
  {
   "cell_type": "code",
   "execution_count": null,
   "metadata": {},
   "outputs": [],
   "source": [
    "final_2019.to_csv(\"final_top50_2019.csv\")"
   ]
  },
  {
   "cell_type": "code",
   "execution_count": null,
   "metadata": {},
   "outputs": [],
   "source": [
    "terms = [\"2019\"]\n",
    "for term in terms:\n",
    "    playlists = sp.search('q=\"{}\"'.format(term), type='playlist')\n",
    "    number_playlists = playlists['playlists']['total']\n",
    "    print(number_playlists)"
   ]
  },
  {
   "cell_type": "code",
   "execution_count": null,
   "metadata": {},
   "outputs": [],
   "source": [
    "def extract_playlist(x,list_):\n",
    "    for i in x['playlists']['items']:\n",
    "        list_.append({\"name\" : i['name'], \"total\":i[\"tracks\"]['total'], \"uri\":i[\"uri\"]})"
   ]
  },
  {
   "cell_type": "code",
   "execution_count": null,
   "metadata": {},
   "outputs": [],
   "source": [
    "list_of_playlists = []\n",
    "for term in terms:\n",
    "    for i in range(0,2000,50):\n",
    "        try:\n",
    "            playlist_data = sp.search('q=\"{}\"'.format(term), type='playlist', limit=50, offset=i)\n",
    "            extract_playlist(playlist_data,list_of_playlists)\n",
    "        except:\n",
    "            print(\"Error\")"
   ]
  },
  {
   "cell_type": "code",
   "execution_count": null,
   "metadata": {},
   "outputs": [],
   "source": [
    "#dataset is length 2000 --> sample of 40 playlists, from each playlist, sample of 50 songs\n",
    "len(list_of_playlists)"
   ]
  },
  {
   "cell_type": "code",
   "execution_count": null,
   "metadata": {},
   "outputs": [],
   "source": [
    "playlists2019 = pd.DataFrame(list_of_playlists).drop_duplicates().reset_index(drop=True)"
   ]
  },
  {
   "cell_type": "code",
   "execution_count": null,
   "metadata": {},
   "outputs": [],
   "source": [
    "#creates csv file from df\n",
    "playlists2019.to_csv(\"playlists2019.csv\")"
   ]
  },
  {
   "cell_type": "code",
   "execution_count": null,
   "metadata": {},
   "outputs": [],
   "source": [
    "tracks = []\n",
    "for uri in playlists2019['uri']:\n",
    "        length = sp.playlist_tracks(uri)['total']\n",
    "        for i in range(0,length, 50):\n",
    "            playlist_data = sp.playlist_tracks(uri, limit=50, offset=i)\n",
    "            try:\n",
    "                for k in playlist_data['items']:\n",
    "                    tracks.append(k['track'][\"uri\"])\n",
    "            except:\n",
    "                pass"
   ]
  },
  {
   "cell_type": "code",
   "execution_count": null,
   "metadata": {},
   "outputs": [],
   "source": [
    "len(tracks)"
   ]
  },
  {
   "cell_type": "code",
   "execution_count": null,
   "metadata": {},
   "outputs": [],
   "source": [
    "df = pd.DataFrame.from_dict(Counter(tracks), orient='index').reset_index().rename(columns={\"index\":\"uri\", 0:\"count\"})"
   ]
  },
  {
   "cell_type": "code",
   "execution_count": null,
   "metadata": {},
   "outputs": [],
   "source": [
    "df[(df['count']>4) & (df['count']<2000)].describe()"
   ]
  },
  {
   "cell_type": "code",
   "execution_count": null,
   "metadata": {},
   "outputs": [],
   "source": [
    "df.to_csv(\"tracks_list_2019_unfiltered.csv\")"
   ]
  },
  {
   "cell_type": "code",
   "execution_count": null,
   "metadata": {},
   "outputs": [],
   "source": [
    "sliced_df_2019 = df[df['count']>4]\n",
    "len(sliced_df_2019)"
   ]
  },
  {
   "cell_type": "code",
   "execution_count": null,
   "metadata": {},
   "outputs": [],
   "source": [
    "def filter_data(x):\n",
    "    data = sp.track(x['uri'])\n",
    "    name = data['name']\n",
    "    pop = data['popularity']\n",
    "    date = data['album']['release_date']\n",
    "    explic = data['explicit']\n",
    "    features = sp.audio_features(x['uri'])\n",
    "    return {**x, \n",
    "            \"name\" : name, \n",
    "            'release_date': date, \n",
    "            \"popularity\" : pop,\n",
    "            'explicit' : explic, \n",
    "            **features[0]}"
   ]
  },
  {
   "cell_type": "code",
   "execution_count": null,
   "metadata": {},
   "outputs": [],
   "source": [
    "final_df_2019 = sliced_df_2019.apply(lambda x: filter_data(x), axis=1, result_type='expand')"
   ]
  },
  {
   "cell_type": "code",
   "execution_count": null,
   "metadata": {},
   "outputs": [],
   "source": [
    "final_df_2019.to_csv(\"tracks_list_2019.csv\",)"
   ]
  }
 ],
 "metadata": {
  "kernelspec": {
   "display_name": "Python 3",
   "language": "python",
   "name": "python3"
  },
  "language_info": {
   "codemirror_mode": {
    "name": "ipython",
    "version": 3
   },
   "file_extension": ".py",
   "mimetype": "text/x-python",
   "name": "python",
   "nbconvert_exporter": "python",
   "pygments_lexer": "ipython3",
   "version": "3.6.8"
  }
 },
 "nbformat": 4,
 "nbformat_minor": 2
}
