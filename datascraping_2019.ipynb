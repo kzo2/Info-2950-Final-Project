{
 "cells": [
  {
   "cell_type": "code",
   "execution_count": 1,
   "metadata": {},
   "outputs": [
    {
     "name": "stdout",
     "output_type": "stream",
     "text": [
      "\n",
      "The following command must be run outside of the IPython shell:\n",
      "\n",
      "    $ pip install spotipy\n",
      "\n",
      "The Python package manager (pip) can only be used from outside of IPython.\n",
      "Please reissue the `pip` command in a separate terminal or command prompt.\n",
      "\n",
      "See the Python documentation for more information on how to install packages:\n",
      "\n",
      "    https://docs.python.org/3/installing/\n"
     ]
    }
   ],
   "source": [
    "pip install spotipy"
   ]
  },
  {
   "cell_type": "code",
   "execution_count": 12,
   "metadata": {},
   "outputs": [
    {
     "name": "stdout",
     "output_type": "stream",
     "text": [
      "env: SPOTIPY_CLIENT_ID=3543bc68b7a64fa4896cb0c1d2499e33\n",
      "env: SPOTIPY_CLIENT_SECRET=b711f5fe2e9a417c89247f7036c9c069\n"
     ]
    }
   ],
   "source": [
    "import spotipy\n",
    "from spotipy.oauth2 import SpotifyClientCredentials\n",
    "import pandas as pd\n",
    "import numpy as np\n",
    "from collections import Counter\n",
    "\n",
    "%env SPOTIPY_CLIENT_ID = 3543bc68b7a64fa4896cb0c1d2499e33\n",
    "%env SPOTIPY_CLIENT_SECRET = b711f5fe2e9a417c89247f7036c9c069\n",
    "\n",
    "sp = spotipy.Spotify(client_credentials_manager=SpotifyClientCredentials())"
   ]
  },
  {
   "cell_type": "code",
   "execution_count": 13,
   "metadata": {},
   "outputs": [
    {
     "name": "stdout",
     "output_type": "stream",
     "text": [
      "6129\n"
     ]
    }
   ],
   "source": [
    "#prints number of playlists with corona_terms in title/description\n",
    "#this is helpful bc it helps us see ahead of time how huge the dataset is\n",
    "\n",
    "terms = [\"2019\"]\n",
    "for term in terms:\n",
    "    playlists = sp.search('q=\"{}\"'.format(term), type='playlist')\n",
    "    number_playlists = playlists['playlists']['total']\n",
    "    print(number_playlists)"
   ]
  },
  {
   "cell_type": "code",
   "execution_count": 14,
   "metadata": {},
   "outputs": [],
   "source": [
    "#function that creates a list with the playlist name, URI & total number of tracks\n",
    "def extract_playlist(x,list_):\n",
    "    for i in x['playlists']['items']:\n",
    "        list_.append({\"name\" : i['name'], \"total\":i[\"tracks\"]['total'], \"uri\":i[\"uri\"]})"
   ]
  },
  {
   "cell_type": "code",
   "execution_count": 5,
   "metadata": {},
   "outputs": [],
   "source": [
    "#create a list of playlists\n",
    "list_of_playlists = []\n",
    "\n",
    "for term in terms:\n",
    "    \n",
    "    #use index (i) which are multiples of 50 -- random sample bc of search limitation\n",
    "    #spotify can only give you 2000 results at a time\n",
    "    #random sample of 40 playlists\n",
    "    for i in range(0,2000,50):\n",
    "        \n",
    "        try:\n",
    "            #create variable init_data that has random sample of playlists with terms\n",
    "            playlist_data = sp.search('q=\"{}\"'.format(term), type='playlist', limit=50, offset=i)\n",
    "                        #limit = 50, can only return up to 50 items, random sample of 50 songs\n",
    "                        #type = playlist, only return playlists\n",
    "                        #offset = i, the index of the first item to return\n",
    "            \n",
    "            extract_playlist(playlist_data,list_of_playlists)\n",
    "            #above function appends init_data to list_of_playlists\n",
    "        \n",
    "        except:\n",
    "            print(\"Error\")"
   ]
  },
  {
   "cell_type": "code",
   "execution_count": 15,
   "metadata": {},
   "outputs": [
    {
     "data": {
      "text/plain": [
       "2000"
      ]
     },
     "execution_count": 15,
     "metadata": {},
     "output_type": "execute_result"
    }
   ],
   "source": [
    "#dataset is length 2000 --> sample of 40 playlists, from each playlist, sample of 50 songs\n",
    "len(list_of_playlists)"
   ]
  },
  {
   "cell_type": "code",
   "execution_count": 16,
   "metadata": {},
   "outputs": [],
   "source": [
    "#creates dataframe with list of playlists, dropping duplicates & delete their index\n",
    "#only need to drop duplicates if you use multiple terms, i.e. Coronavirus AND Quarantine\n",
    "playlists2019 = pd.DataFrame(list_of_playlists).drop_duplicates().reset_index(drop=True)"
   ]
  },
  {
   "cell_type": "code",
   "execution_count": 17,
   "metadata": {},
   "outputs": [],
   "source": [
    "#creates csv file from df\n",
    "playlists2019.to_csv(\"playlists2019.csv\")"
   ]
  },
  {
   "cell_type": "code",
   "execution_count": null,
   "metadata": {},
   "outputs": [],
   "source": [
    "#for a random sample of playlists, takes random sample of tracks, creates a list of tracks and their uris\n",
    "tracks = []\n",
    "\n",
    "#using each uri code listed in the playlist.csv\n",
    "for uri in playlists2019['uri']:\n",
    "        \n",
    "        length = sp.playlist_tracks(uri)['total']\n",
    "        #playlist_tracks(parameter) is playlist id, aka uri\n",
    "        #length is the playlist length of each individual playlist\n",
    "    \n",
    "        for i in range(0,length, 50):\n",
    "            #from 0 to playlist length, take every other 50th index\n",
    "            \n",
    "            playlist_data = sp.playlist_tracks(uri, limit=50, offset=i)\n",
    "            #playlist_tracks get URI of tracks in playlists, input URI\n",
    "            #playlist_data now has playlist track data\n",
    "            #replacing old data\n",
    "            \n",
    "            try:\n",
    "                for k in playlist_data['items']:\n",
    "                    tracks.append(k['track'][\"uri\"])\n",
    "                    \n",
    "            except:\n",
    "                pass"
   ]
  },
  {
   "cell_type": "code",
   "execution_count": null,
   "metadata": {},
   "outputs": [],
   "source": [
    "len(tracks)"
   ]
  },
  {
   "cell_type": "code",
   "execution_count": null,
   "metadata": {},
   "outputs": [],
   "source": []
  }
 ],
 "metadata": {
  "kernelspec": {
   "display_name": "Python 3",
   "language": "python",
   "name": "python3"
  },
  "language_info": {
   "codemirror_mode": {
    "name": "ipython",
    "version": 3
   },
   "file_extension": ".py",
   "mimetype": "text/x-python",
   "name": "python",
   "nbconvert_exporter": "python",
   "pygments_lexer": "ipython3",
   "version": "3.6.8"
  }
 },
 "nbformat": 4,
 "nbformat_minor": 2
}
