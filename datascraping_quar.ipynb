{
 "cells": [
  {
   "cell_type": "code",
   "execution_count": 1,
   "metadata": {},
   "outputs": [],
   "source": [
    "# We used Spotipy's documentation\n",
    "# https://spotipy.readthedocs.io/en/2.12.0/"
   ]
  },
  {
   "cell_type": "code",
   "execution_count": 2,
   "metadata": {},
   "outputs": [
    {
     "name": "stdout",
     "output_type": "stream",
     "text": [
      "Requirement already satisfied: spotipy in /opt/anaconda3/lib/python3.7/site-packages (2.12.0)\n",
      "Requirement already satisfied: six>=1.10.0 in /opt/anaconda3/lib/python3.7/site-packages (from spotipy) (1.12.0)\n",
      "Requirement already satisfied: requests>=2.20.0 in /opt/anaconda3/lib/python3.7/site-packages (from spotipy) (2.22.0)\n",
      "Requirement already satisfied: urllib3!=1.25.0,!=1.25.1,<1.26,>=1.21.1 in /opt/anaconda3/lib/python3.7/site-packages (from requests>=2.20.0->spotipy) (1.24.2)\n",
      "Requirement already satisfied: chardet<3.1.0,>=3.0.2 in /opt/anaconda3/lib/python3.7/site-packages (from requests>=2.20.0->spotipy) (3.0.4)\n",
      "Requirement already satisfied: certifi>=2017.4.17 in /opt/anaconda3/lib/python3.7/site-packages (from requests>=2.20.0->spotipy) (2019.9.11)\n",
      "Requirement already satisfied: idna<2.9,>=2.5 in /opt/anaconda3/lib/python3.7/site-packages (from requests>=2.20.0->spotipy) (2.8)\n",
      "Note: you may need to restart the kernel to use updated packages.\n"
     ]
    }
   ],
   "source": [
    "pip install spotipy"
   ]
  },
  {
   "cell_type": "code",
   "execution_count": 3,
   "metadata": {},
   "outputs": [
    {
     "name": "stdout",
     "output_type": "stream",
     "text": [
      "env: SPOTIPY_CLIENT_ID=3543bc68b7a64fa4896cb0c1d2499e33\n",
      "env: SPOTIPY_CLIENT_SECRET=b711f5fe2e9a417c89247f7036c9c069\n"
     ]
    }
   ],
   "source": [
    "import spotipy\n",
    "from spotipy.oauth2 import SpotifyClientCredentials\n",
    "import pandas as pd\n",
    "import numpy as np\n",
    "from collections import Counter\n",
    "\n",
    "%env SPOTIPY_CLIENT_ID = 3543bc68b7a64fa4896cb0c1d2499e33\n",
    "%env SPOTIPY_CLIENT_SECRET = b711f5fe2e9a417c89247f7036c9c069\n",
    "\n",
    "sp = spotipy.Spotify(client_credentials_manager=SpotifyClientCredentials())"
   ]
  },
  {
   "cell_type": "code",
   "execution_count": 4,
   "metadata": {},
   "outputs": [
    {
     "name": "stdout",
     "output_type": "stream",
     "text": [
      "276763\n"
     ]
    }
   ],
   "source": [
    "#prints number of playlists with corona_terms in title/description\n",
    "#this is helpful bc it helps us see ahead of time how huge the dataset is\n",
    "\n",
    "terms = [\"Quarantine\"]\n",
    "for term in terms:\n",
    "    playlists = sp.search('q=\"{}\"'.format(term), type='playlist')\n",
    "    number_playlists = playlists['playlists']['total']\n",
    "    print(number_playlists)"
   ]
  },
  {
   "cell_type": "code",
   "execution_count": 5,
   "metadata": {},
   "outputs": [],
   "source": [
    "#function that creates a list with the playlist name, URI & total number of tracks\n",
    "def extract_playlist(x,list_):\n",
    "    for i in x['playlists']['items']:\n",
    "        list_.append({\"name\" : i['name'], \"total\":i[\"tracks\"]['total'], \"uri\":i[\"uri\"]})"
   ]
  },
  {
   "cell_type": "code",
   "execution_count": 6,
   "metadata": {},
   "outputs": [],
   "source": [
    "#create a list of playlists\n",
    "list_of_playlists = []\n",
    "\n",
    "for term in terms:\n",
    "    \n",
    "    #use index (i) which are multiples of 50 -- random sample bc of search limitation\n",
    "    #spotify can only give you 2000 results at a time\n",
    "    #random sample of 40 playlists\n",
    "    for i in range(0,2000,50):\n",
    "        \n",
    "        try:\n",
    "            #create variable init_data that has random sample of playlists with terms\n",
    "            playlist_data = sp.search('q=\"{}\"'.format(term), type='playlist', limit=50, offset=i)\n",
    "                        #limit = 50, can only return up to 50 items, random sample of 50 songs\n",
    "                        #type = playlist, only return playlists\n",
    "                        #offset = i, the index of the first item to return\n",
    "            \n",
    "            extract_playlist(playlist_data,list_of_playlists)\n",
    "            #above function appends init_data to list_of_playlists\n",
    "        \n",
    "        except:\n",
    "            print(\"Error\")"
   ]
  },
  {
   "cell_type": "code",
   "execution_count": 7,
   "metadata": {},
   "outputs": [
    {
     "data": {
      "text/plain": [
       "2000"
      ]
     },
     "execution_count": 7,
     "metadata": {},
     "output_type": "execute_result"
    }
   ],
   "source": [
    "#dataset is length 2000 --> sample of 40 playlists, from each playlist, sample of 50 songs\n",
    "len(list_of_playlists)"
   ]
  },
  {
   "cell_type": "code",
   "execution_count": 8,
   "metadata": {},
   "outputs": [],
   "source": [
    "#creates dataframe with list of playlists, dropping duplicates & delete their index\n",
    "#only need to drop duplicates if you use multiple terms, i.e. Coronavirus AND Quarantine\n",
    "playlists = pd.DataFrame(list_of_playlists).drop_duplicates().reset_index(drop=True)"
   ]
  },
  {
   "cell_type": "code",
   "execution_count": 9,
   "metadata": {},
   "outputs": [],
   "source": [
    "#creates csv file from df\n",
    "playlists.to_csv(\"playlists.csv\")"
   ]
  },
  {
   "cell_type": "code",
   "execution_count": 10,
   "metadata": {},
   "outputs": [],
   "source": [
    "#for a random sample of playlists, takes random sample of tracks, creates a list of tracks and their uris\n",
    "tracks = []\n",
    "\n",
    "#using each uri code listed in the playlist.csv\n",
    "for uri in playlists['uri']:\n",
    "        \n",
    "        length = sp.playlist_tracks(uri)['total']\n",
    "        #playlist_tracks(parameter) is playlist id, aka uri\n",
    "        #length is the playlist length of each individual playlist\n",
    "    \n",
    "        for i in range(0,length, 50):\n",
    "            #from 0 to playlist length, take every other 50th index\n",
    "            \n",
    "            playlist_data = sp.playlist_tracks(uri, limit=50, offset=i)\n",
    "            #playlist_tracks get URI of tracks in playlists, input URI\n",
    "            #playlist_data now has playlist track data\n",
    "            #replacing old data\n",
    "            \n",
    "            try:\n",
    "                for k in playlist_data['items']:\n",
    "                    tracks.append(k['track'][\"uri\"])\n",
    "                    \n",
    "            except:\n",
    "                pass"
   ]
  },
  {
   "cell_type": "code",
   "execution_count": 11,
   "metadata": {},
   "outputs": [
    {
     "data": {
      "text/plain": [
       "272962"
      ]
     },
     "execution_count": 11,
     "metadata": {},
     "output_type": "execute_result"
    }
   ],
   "source": [
    "len(tracks)"
   ]
  },
  {
   "cell_type": "code",
   "execution_count": 12,
   "metadata": {},
   "outputs": [],
   "source": [
    "#dataframe with individual track uri and count\n",
    "df = pd.DataFrame.from_dict(Counter(tracks), orient='index').reset_index().rename(columns={\"index\":\"uri\", 0:\"count\"})"
   ]
  },
  {
   "cell_type": "code",
   "execution_count": 13,
   "metadata": {},
   "outputs": [
    {
     "data": {
      "text/html": [
       "<div>\n",
       "<style scoped>\n",
       "    .dataframe tbody tr th:only-of-type {\n",
       "        vertical-align: middle;\n",
       "    }\n",
       "\n",
       "    .dataframe tbody tr th {\n",
       "        vertical-align: top;\n",
       "    }\n",
       "\n",
       "    .dataframe thead th {\n",
       "        text-align: right;\n",
       "    }\n",
       "</style>\n",
       "<table border=\"1\" class=\"dataframe\">\n",
       "  <thead>\n",
       "    <tr style=\"text-align: right;\">\n",
       "      <th></th>\n",
       "      <th>uri</th>\n",
       "      <th>count</th>\n",
       "    </tr>\n",
       "  </thead>\n",
       "  <tbody>\n",
       "    <tr>\n",
       "      <td>0</td>\n",
       "      <td>spotify:track:6I9VzXrHxO9rA9A5euc8Ak</td>\n",
       "      <td>104</td>\n",
       "    </tr>\n",
       "    <tr>\n",
       "      <td>1</td>\n",
       "      <td>spotify:track:0VgkVdmE4gld66l8iyGjgx</td>\n",
       "      <td>60</td>\n",
       "    </tr>\n",
       "    <tr>\n",
       "      <td>2</td>\n",
       "      <td>spotify:track:2NxIIb2OZ1DSbfWAH0W47B</td>\n",
       "      <td>3</td>\n",
       "    </tr>\n",
       "    <tr>\n",
       "      <td>3</td>\n",
       "      <td>spotify:track:2xLMifQCjDGFmkHkpNLD9h</td>\n",
       "      <td>123</td>\n",
       "    </tr>\n",
       "    <tr>\n",
       "      <td>4</td>\n",
       "      <td>spotify:track:66s45uMhk7Y4z0xUgESdm3</td>\n",
       "      <td>22</td>\n",
       "    </tr>\n",
       "    <tr>\n",
       "      <td>...</td>\n",
       "      <td>...</td>\n",
       "      <td>...</td>\n",
       "    </tr>\n",
       "    <tr>\n",
       "      <td>132866</td>\n",
       "      <td>spotify:track:3rBY6K8EM0MmKNniTZgRvx</td>\n",
       "      <td>1</td>\n",
       "    </tr>\n",
       "    <tr>\n",
       "      <td>132867</td>\n",
       "      <td>spotify:track:2rffKiXNuFZSFttrvWUWJC</td>\n",
       "      <td>1</td>\n",
       "    </tr>\n",
       "    <tr>\n",
       "      <td>132868</td>\n",
       "      <td>spotify:track:2z7MvlJJIlzcx5vS2bWMWn</td>\n",
       "      <td>1</td>\n",
       "    </tr>\n",
       "    <tr>\n",
       "      <td>132869</td>\n",
       "      <td>spotify:track:6kmhapLx51lmwhIIDFsUQU</td>\n",
       "      <td>1</td>\n",
       "    </tr>\n",
       "    <tr>\n",
       "      <td>132870</td>\n",
       "      <td>spotify:track:2Zxili8AmCuqiomg9HzTgH</td>\n",
       "      <td>1</td>\n",
       "    </tr>\n",
       "  </tbody>\n",
       "</table>\n",
       "<p>132871 rows × 2 columns</p>\n",
       "</div>"
      ],
      "text/plain": [
       "                                         uri  count\n",
       "0       spotify:track:6I9VzXrHxO9rA9A5euc8Ak    104\n",
       "1       spotify:track:0VgkVdmE4gld66l8iyGjgx     60\n",
       "2       spotify:track:2NxIIb2OZ1DSbfWAH0W47B      3\n",
       "3       spotify:track:2xLMifQCjDGFmkHkpNLD9h    123\n",
       "4       spotify:track:66s45uMhk7Y4z0xUgESdm3     22\n",
       "...                                      ...    ...\n",
       "132866  spotify:track:3rBY6K8EM0MmKNniTZgRvx      1\n",
       "132867  spotify:track:2rffKiXNuFZSFttrvWUWJC      1\n",
       "132868  spotify:track:2z7MvlJJIlzcx5vS2bWMWn      1\n",
       "132869  spotify:track:6kmhapLx51lmwhIIDFsUQU      1\n",
       "132870  spotify:track:2Zxili8AmCuqiomg9HzTgH      1\n",
       "\n",
       "[132871 rows x 2 columns]"
      ]
     },
     "execution_count": 13,
     "metadata": {},
     "output_type": "execute_result"
    }
   ],
   "source": [
    "df"
   ]
  },
  {
   "cell_type": "code",
   "execution_count": 14,
   "metadata": {},
   "outputs": [
    {
     "data": {
      "text/html": [
       "<div>\n",
       "<style scoped>\n",
       "    .dataframe tbody tr th:only-of-type {\n",
       "        vertical-align: middle;\n",
       "    }\n",
       "\n",
       "    .dataframe tbody tr th {\n",
       "        vertical-align: top;\n",
       "    }\n",
       "\n",
       "    .dataframe thead th {\n",
       "        text-align: right;\n",
       "    }\n",
       "</style>\n",
       "<table border=\"1\" class=\"dataframe\">\n",
       "  <thead>\n",
       "    <tr style=\"text-align: right;\">\n",
       "      <th></th>\n",
       "      <th>count</th>\n",
       "    </tr>\n",
       "  </thead>\n",
       "  <tbody>\n",
       "    <tr>\n",
       "      <td>count</td>\n",
       "      <td>9801.000000</td>\n",
       "    </tr>\n",
       "    <tr>\n",
       "      <td>mean</td>\n",
       "      <td>11.261708</td>\n",
       "    </tr>\n",
       "    <tr>\n",
       "      <td>std</td>\n",
       "      <td>11.013330</td>\n",
       "    </tr>\n",
       "    <tr>\n",
       "      <td>min</td>\n",
       "      <td>5.000000</td>\n",
       "    </tr>\n",
       "    <tr>\n",
       "      <td>25%</td>\n",
       "      <td>6.000000</td>\n",
       "    </tr>\n",
       "    <tr>\n",
       "      <td>50%</td>\n",
       "      <td>8.000000</td>\n",
       "    </tr>\n",
       "    <tr>\n",
       "      <td>75%</td>\n",
       "      <td>12.000000</td>\n",
       "    </tr>\n",
       "    <tr>\n",
       "      <td>max</td>\n",
       "      <td>201.000000</td>\n",
       "    </tr>\n",
       "  </tbody>\n",
       "</table>\n",
       "</div>"
      ],
      "text/plain": [
       "             count\n",
       "count  9801.000000\n",
       "mean     11.261708\n",
       "std      11.013330\n",
       "min       5.000000\n",
       "25%       6.000000\n",
       "50%       8.000000\n",
       "75%      12.000000\n",
       "max     201.000000"
      ]
     },
     "execution_count": 14,
     "metadata": {},
     "output_type": "execute_result"
    }
   ],
   "source": [
    "#useful stats to help us understand frequency of the popular tracks\n",
    "#to know when we should cut off our data/if necessary\n",
    "df[(df['count']>4) & (df['count']<2000)].describe()"
   ]
  },
  {
   "cell_type": "code",
   "execution_count": 15,
   "metadata": {},
   "outputs": [],
   "source": [
    "#creates a csv file of the unfiltered track data\n",
    "df.to_csv(\"tracks_list_unfiltered.csv\")"
   ]
  },
  {
   "cell_type": "code",
   "execution_count": 16,
   "metadata": {},
   "outputs": [
    {
     "data": {
      "text/plain": [
       "9801"
      ]
     },
     "execution_count": 16,
     "metadata": {},
     "output_type": "execute_result"
    }
   ],
   "source": [
    "#cuts off any tracks that appear less than twice (CAN CHANGE)\n",
    "#this is useful bc we don't want tracks that don't appear frequently\n",
    "sliced_df = df[df['count']>4]\n",
    "len(sliced_df)"
   ]
  },
  {
   "cell_type": "code",
   "execution_count": 1,
   "metadata": {},
   "outputs": [],
   "source": [
    "#filters important variables, makes the dataframe usable\n",
    "def filter_data(x):\n",
    "    data = sp.track(x['uri'])\n",
    "    #sets data variable for each track\n",
    "    \n",
    "    name = data['name']\n",
    "    pop = data['popularity']\n",
    "    date = data['album']['release_date']\n",
    "    explic = data['explicit']\n",
    "    \n",
    "    features = sp.audio_features(x['uri'])\n",
    "    #uses spotify function to access audio features\n",
    "    \n",
    "    return {**x, \n",
    "            \"name\" : name, \n",
    "            'release_date': date, \n",
    "            \"popularity\" : pop,\n",
    "            'explicit' : explic, \n",
    "            **features[0]\n",
    "           }"
   ]
  },
  {
   "cell_type": "code",
   "execution_count": 2,
   "metadata": {},
   "outputs": [],
   "source": [
    "final_df = sliced_df.apply(lambda x: filter_data(x), axis=1, result_type='expand')"
   ]
  },
  {
   "cell_type": "code",
   "execution_count": 3,
   "metadata": {},
   "outputs": [],
   "source": [
    "#makes a csv with the final dataset\n",
    "final_df.to_csv(\"tracks_list.csv\",)"
   ]
  }
 ],
 "metadata": {
  "kernelspec": {
   "display_name": "Python 3",
   "language": "python",
   "name": "python3"
  },
  "language_info": {
   "codemirror_mode": {
    "name": "ipython",
    "version": 3
   },
   "file_extension": ".py",
   "mimetype": "text/x-python",
   "name": "python",
   "nbconvert_exporter": "python",
   "pygments_lexer": "ipython3",
   "version": "3.6.8"
  }
 },
 "nbformat": 4,
 "nbformat_minor": 2
}
